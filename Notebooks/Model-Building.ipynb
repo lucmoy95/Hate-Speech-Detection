{
 "cells": [
  {
   "cell_type": "markdown",
   "metadata": {
    "gradient": {
     "editing": false,
     "id": "f383e061-b43f-403d-9aa7-b9b22c71a45c",
     "kernelId": "0c0438cc-8809-4072-a10a-acb706ba8551"
    },
    "id": "I0aL4fOVuWmj"
   },
   "source": [
    "# Importing datasets"
   ]
  },
  {
   "cell_type": "code",
   "execution_count": null,
   "metadata": {
    "collapsed": true,
    "gradient": {
     "editing": false,
     "id": "d55aa332-d985-473d-a4f8-370e571a3311",
     "kernelId": "0c0438cc-8809-4072-a10a-acb706ba8551",
     "source_hidden": false
    },
    "id": "Haj6uV5XLxKC",
    "jupyter": {
     "outputs_hidden": true
    },
    "outputId": "9d44278e-8b2b-42e7-db0a-cc901a301b28"
   },
   "outputs": [
    {
     "name": "stdout",
     "output_type": "stream",
     "text": [
      "Collecting pandas\n",
      "  Downloading pandas-1.1.5-cp36-cp36m-manylinux1_x86_64.whl (9.5 MB)\n",
      "\u001b[K     |################################| 9.5 MB 30.2 MB/s eta 0:00:01\n",
      "\u001b[?25hRequirement already satisfied: python-dateutil>=2.7.3 in /usr/local/lib/python3.6/dist-packages (from pandas) (2.8.1)\n",
      "Requirement already satisfied: numpy>=1.15.4 in /usr/local/lib/python3.6/dist-packages (from pandas) (1.18.5)\n",
      "Collecting pytz>=2017.2\n",
      "  Downloading pytz-2021.3-py2.py3-none-any.whl (503 kB)\n",
      "\u001b[K     |################################| 503 kB 25.6 MB/s eta 0:00:01\n",
      "\u001b[?25hRequirement already satisfied: six>=1.5 in /usr/local/lib/python3.6/dist-packages (from python-dateutil>=2.7.3->pandas) (1.15.0)\n",
      "Installing collected packages: pytz, pandas\n",
      "Successfully installed pandas-1.1.5 pytz-2021.3\n",
      "\u001b[33mWARNING: You are using pip version 20.2.4; however, version 21.3.1 is available.\n",
      "You should consider upgrading via the '/usr/bin/python3 -m pip install --upgrade pip' command.\u001b[0m\n"
     ]
    }
   ],
   "source": [
    "!pip install pandas\n"
   ]
  },
  {
   "cell_type": "code",
   "execution_count": null,
   "metadata": {
    "collapsed": true,
    "gradient": {
     "editing": false,
     "id": "cda8bb8f-3129-4698-9ce3-28905c8550c4",
     "kernelId": "0c0438cc-8809-4072-a10a-acb706ba8551",
     "source_hidden": false
    },
    "id": "2gBHn9vVLxKF",
    "jupyter": {
     "outputs_hidden": true
    }
   },
   "outputs": [],
   "source": [
    "!pip install matplotlib"
   ]
  },
  {
   "cell_type": "code",
   "execution_count": null,
   "metadata": {
    "gradient": {
     "editing": true,
     "id": "97a258dc-d300-4c14-ad98-8e0625756b09",
     "kernelId": "0c0438cc-8809-4072-a10a-acb706ba8551"
    },
    "id": "ME5cGcg67Qvi"
   },
   "outputs": [],
   "source": [
    "#Importing the relevant libraries\n",
    "import pandas as pd\n",
    "pd.set_option('display.max_colwidth', None)\n",
    "import numpy as np\n",
    "import matplotlib.pyplot as plt"
   ]
  },
  {
   "cell_type": "code",
   "execution_count": null,
   "metadata": {
    "gradient": {
     "editing": false,
     "id": "3b6f2e40-9bd1-498e-90e2-69bb5518b5e7",
     "kernelId": "0c0438cc-8809-4072-a10a-acb706ba8551"
    },
    "id": "fg363on0hZdx"
   },
   "outputs": [],
   "source": [
    "#Importing English tweets \n",
    "eng_twts_1 = pd.read_csv('English Data/labeled_data.csv')\n",
    "eng_twts_2 = pd.read_csv('English Data/data (2).csv', header = None)\n",
    "\n",
    "#Importing Malay Wikipedia comments \n",
    "malay_com_1 = pd.read_csv('Malay Data/convertcsv (1).csv')\n",
    "malay_com_2 = pd.read_csv('Malay Data/convertcsv (2).csv')\n",
    "malay_com_3 = pd.read_csv('Malay Data/convertcsv (3).csv')\n",
    "malay_com_4 = pd.read_csv('Malay Data/convertcsv (4).csv')\n",
    "malay_com_5 = pd.read_csv('Malay Data/convertcsv (5).csv')\n",
    "malay_com_6 = pd.read_csv('Malay Data/convertcsv (6).csv')\n",
    "malay_com_7 = pd.read_csv('Malay Data/convertcsv (7).csv')\n",
    "malay_com_8 = pd.read_csv('Malay Data/convertcsv.csv')\n"
   ]
  },
  {
   "cell_type": "markdown",
   "metadata": {
    "gradient": {
     "editing": false,
     "id": "eea1f19a-ed28-42e1-826b-f58470fad088",
     "kernelId": "0c0438cc-8809-4072-a10a-acb706ba8551"
    },
    "id": "iDs4r9Bi_UkD"
   },
   "source": [
    "## Preparing English dataset"
   ]
  },
  {
   "cell_type": "code",
   "execution_count": null,
   "metadata": {
    "colab": {
     "base_uri": "https://localhost:8080/",
     "height": 424
    },
    "executionInfo": {
     "elapsed": 518,
     "status": "ok",
     "timestamp": 1640237649437,
     "user": {
      "displayName": "Moy Tian Xiang",
      "photoUrl": "https://lh3.googleusercontent.com/a/default-user=s64",
      "userId": "17517672150917689324"
     },
     "user_tz": -480
    },
    "gradient": {
     "editing": false,
     "id": "9b9b08c4-0986-4e9a-b916-9a2a148ba6a2",
     "kernelId": "0c0438cc-8809-4072-a10a-acb706ba8551"
    },
    "id": "ht6s3EIKwV5u",
    "outputId": "0c9c8fd9-eba0-47c8-df7e-a9227405fac1"
   },
   "outputs": [
    {
     "data": {
      "text/html": [
       "<div>\n",
       "<style scoped>\n",
       "    .dataframe tbody tr th:only-of-type {\n",
       "        vertical-align: middle;\n",
       "    }\n",
       "\n",
       "    .dataframe tbody tr th {\n",
       "        vertical-align: top;\n",
       "    }\n",
       "\n",
       "    .dataframe thead th {\n",
       "        text-align: right;\n",
       "    }\n",
       "</style>\n",
       "<table border=\"1\" class=\"dataframe\">\n",
       "  <thead>\n",
       "    <tr style=\"text-align: right;\">\n",
       "      <th></th>\n",
       "      <th>tweet</th>\n",
       "      <th>class</th>\n",
       "    </tr>\n",
       "  </thead>\n",
       "  <tbody>\n",
       "    <tr>\n",
       "      <th>0</th>\n",
       "      <td>!!! RT @mayasolovely: As a woman you shouldn't complain about cleaning up your house. &amp;amp; as a man you should always take the trash out...</td>\n",
       "      <td>0</td>\n",
       "    </tr>\n",
       "    <tr>\n",
       "      <th>1</th>\n",
       "      <td>!!!!! RT @mleew17: boy dats cold...tyga dwn bad for cuffin dat hoe in the 1st place!!</td>\n",
       "      <td>0</td>\n",
       "    </tr>\n",
       "    <tr>\n",
       "      <th>2</th>\n",
       "      <td>!!!!!!! RT @UrKindOfBrand Dawg!!!! RT @80sbaby4life: You ever fuck a bitch and she start to cry? You be confused as shit</td>\n",
       "      <td>0</td>\n",
       "    </tr>\n",
       "    <tr>\n",
       "      <th>3</th>\n",
       "      <td>!!!!!!!!! RT @C_G_Anderson: @viva_based she look like a tranny</td>\n",
       "      <td>0</td>\n",
       "    </tr>\n",
       "    <tr>\n",
       "      <th>4</th>\n",
       "      <td>!!!!!!!!!!!!! RT @ShenikaRoberts: The shit you hear about me might be true or it might be faker than the bitch who told it to ya &amp;#57361;</td>\n",
       "      <td>0</td>\n",
       "    </tr>\n",
       "    <tr>\n",
       "      <th>...</th>\n",
       "      <td>...</td>\n",
       "      <td>...</td>\n",
       "    </tr>\n",
       "    <tr>\n",
       "      <th>24778</th>\n",
       "      <td>you's a muthaf***in lie &amp;#8220;@LifeAsKing: @20_Pearls @corey_emanuel right! His TL is trash &amp;#8230;. Now, mine? Bible scriptures and hymns&amp;#8221;</td>\n",
       "      <td>0</td>\n",
       "    </tr>\n",
       "    <tr>\n",
       "      <th>24779</th>\n",
       "      <td>you've gone and broke the wrong heart baby, and drove me redneck crazy</td>\n",
       "      <td>0</td>\n",
       "    </tr>\n",
       "    <tr>\n",
       "      <th>24780</th>\n",
       "      <td>young buck wanna eat!!.. dat nigguh like I aint fuckin dis up again</td>\n",
       "      <td>0</td>\n",
       "    </tr>\n",
       "    <tr>\n",
       "      <th>24781</th>\n",
       "      <td>youu got wild bitches tellin you lies</td>\n",
       "      <td>0</td>\n",
       "    </tr>\n",
       "    <tr>\n",
       "      <th>24782</th>\n",
       "      <td>~~Ruffled | Ntac Eileen Dahlia - Beautiful color combination of pink, orange, yellow &amp;amp; white. A Coll http://t.co/H0dYEBvnZB</td>\n",
       "      <td>0</td>\n",
       "    </tr>\n",
       "  </tbody>\n",
       "</table>\n",
       "<p>24783 rows × 2 columns</p>\n",
       "</div>"
      ],
      "text/plain": [
       "                                                                                                                                                    tweet  \\\n",
       "0            !!! RT @mayasolovely: As a woman you shouldn't complain about cleaning up your house. &amp; as a man you should always take the trash out...   \n",
       "1                                                                   !!!!! RT @mleew17: boy dats cold...tyga dwn bad for cuffin dat hoe in the 1st place!!   \n",
       "2                                !!!!!!! RT @UrKindOfBrand Dawg!!!! RT @80sbaby4life: You ever fuck a bitch and she start to cry? You be confused as shit   \n",
       "3                                                                                          !!!!!!!!! RT @C_G_Anderson: @viva_based she look like a tranny   \n",
       "4               !!!!!!!!!!!!! RT @ShenikaRoberts: The shit you hear about me might be true or it might be faker than the bitch who told it to ya &#57361;   \n",
       "...                                                                                                                                                   ...   \n",
       "24778  you's a muthaf***in lie &#8220;@LifeAsKing: @20_Pearls @corey_emanuel right! His TL is trash &#8230;. Now, mine? Bible scriptures and hymns&#8221;   \n",
       "24779                                                                              you've gone and broke the wrong heart baby, and drove me redneck crazy   \n",
       "24780                                                                                 young buck wanna eat!!.. dat nigguh like I aint fuckin dis up again   \n",
       "24781                                                                                                               youu got wild bitches tellin you lies   \n",
       "24782                     ~~Ruffled | Ntac Eileen Dahlia - Beautiful color combination of pink, orange, yellow &amp; white. A Coll http://t.co/H0dYEBvnZB   \n",
       "\n",
       "       class  \n",
       "0          0  \n",
       "1          0  \n",
       "2          0  \n",
       "3          0  \n",
       "4          0  \n",
       "...      ...  \n",
       "24778      0  \n",
       "24779      0  \n",
       "24780      0  \n",
       "24781      0  \n",
       "24782      0  \n",
       "\n",
       "[24783 rows x 2 columns]"
      ]
     },
     "execution_count": 84,
     "metadata": {},
     "output_type": "execute_result"
    }
   ],
   "source": [
    "#Sub-setting the necessary columns\n",
    "eng_ds_1 = eng_twts_1.iloc[:, 5:7]\n",
    "\n",
    "#Assimilating the \"offensive\" and \"neither\" categories\n",
    "conditions = (eng_ds_1['class'] == 2),(eng_ds_1['class'] == 1)\n",
    "choices = 0,0\n",
    "\n",
    "eng_ds_1['class'] = np.select(conditions, choices, default = 1)\n",
    "\n",
    "#Rearranging the order of the columns\n",
    "eng_ds_1 = eng_ds_1[['tweet','class']]\n",
    "\n",
    "eng_ds_1"
   ]
  },
  {
   "cell_type": "code",
   "execution_count": null,
   "metadata": {
    "colab": {
     "base_uri": "https://localhost:8080/"
    },
    "executionInfo": {
     "elapsed": 416,
     "status": "ok",
     "timestamp": 1640237663466,
     "user": {
      "displayName": "Moy Tian Xiang",
      "photoUrl": "https://lh3.googleusercontent.com/a/default-user=s64",
      "userId": "17517672150917689324"
     },
     "user_tz": -480
    },
    "gradient": {
     "editing": false,
     "id": "81b2a236-a01d-4d51-9cfe-1604d22ccbbd",
     "kernelId": "0c0438cc-8809-4072-a10a-acb706ba8551"
    },
    "id": "XALlt7y2_wlQ",
    "outputId": "e6139670-05f8-428f-ea75-7a3ea147a894"
   },
   "outputs": [
    {
     "data": {
      "text/plain": [
       "0    23353\n",
       "1     1430\n",
       "Name: class, dtype: int64"
      ]
     },
     "execution_count": 85,
     "metadata": {},
     "output_type": "execute_result"
    }
   ],
   "source": [
    "#Display the class count in first English dataset\n",
    "eng_ds_1['class'].value_counts()"
   ]
  },
  {
   "cell_type": "code",
   "execution_count": null,
   "metadata": {
    "collapsed": false,
    "gradient": {
     "editing": false,
     "id": "31035d7c-2d61-42f5-980a-46cc1224275c",
     "kernelId": "0c0438cc-8809-4072-a10a-acb706ba8551",
     "source_hidden": false
    },
    "id": "R8hRALjZLxKM",
    "jupyter": {
     "outputs_hidden": false
    },
    "outputId": "28aba9e0-f986-498b-d5ac-f8a5ab78078e"
   },
   "outputs": [
    {
     "data": {
      "text/plain": [
       "(array([0, 1]), [Text(0, 0, '0'), Text(1, 0, '1')])"
      ]
     },
     "execution_count": 86,
     "metadata": {},
     "output_type": "execute_result"
    },
    {
     "data": {
      "image/png": "[encoded data removed]",
      "text/plain": [
       "<Figure size 432x288 with 1 Axes>"
      ]
     },
     "metadata": {
      "needs_background": "light"
     },
     "output_type": "display_data"
    }
   ],
   "source": [
    "#Plotting class distribution of English dataset\n",
    "eng_ds_1['class'].value_counts().plot.bar()\n",
    "plt.title(\"Class Distribution of English Dataset\")\n",
    "plt.xticks(rotation = 360)"
   ]
  },
  {
   "cell_type": "code",
   "execution_count": null,
   "metadata": {
    "colab": {
     "base_uri": "https://localhost:8080/"
    },
    "executionInfo": {
     "elapsed": 6,
     "status": "ok",
     "timestamp": 1640237665412,
     "user": {
      "displayName": "Moy Tian Xiang",
      "photoUrl": "https://lh3.googleusercontent.com/a/default-user=s64",
      "userId": "17517672150917689324"
     },
     "user_tz": -480
    },
    "gradient": {
     "editing": false,
     "id": "3f9c9853-d816-4e02-8b98-31f96934d725",
     "kernelId": "0c0438cc-8809-4072-a10a-acb706ba8551"
    },
    "id": "ZYVuOtww2KW6",
    "outputId": "901bd69d-c3cf-477f-b715-f2e6b16e9536"
   },
   "outputs": [
    {
     "data": {
      "text/plain": [
       "0    94.229916\n",
       "1     5.770084\n",
       "Name: class, dtype: float64"
      ]
     },
     "execution_count": 87,
     "metadata": {},
     "output_type": "execute_result"
    }
   ],
   "source": [
    "#Display the percentage class count in first English dataset\n",
    "eng_ds_1['class'].value_counts(normalize = True)*100"
   ]
  },
  {
   "cell_type": "code",
   "execution_count": null,
   "metadata": {
    "colab": {
     "base_uri": "https://localhost:8080/",
     "height": 424
    },
    "executionInfo": {
     "elapsed": 5,
     "status": "ok",
     "timestamp": 1640237667283,
     "user": {
      "displayName": "Moy Tian Xiang",
      "photoUrl": "https://lh3.googleusercontent.com/a/default-user=s64",
      "userId": "17517672150917689324"
     },
     "user_tz": -480
    },
    "gradient": {
     "editing": false,
     "id": "5ecbdb34-6917-4455-98f2-25a494ac1983",
     "kernelId": "0c0438cc-8809-4072-a10a-acb706ba8551"
    },
    "id": "FLnWUtvx2hE8",
    "outputId": "9be613bd-0904-43d2-f649-e66cbf952cb6"
   },
   "outputs": [
    {
     "data": {
      "text/html": [
       "<div>\n",
       "<style scoped>\n",
       "    .dataframe tbody tr th:only-of-type {\n",
       "        vertical-align: middle;\n",
       "    }\n",
       "\n",
       "    .dataframe tbody tr th {\n",
       "        vertical-align: top;\n",
       "    }\n",
       "\n",
       "    .dataframe thead th {\n",
       "        text-align: right;\n",
       "    }\n",
       "</style>\n",
       "<table border=\"1\" class=\"dataframe\">\n",
       "  <thead>\n",
       "    <tr style=\"text-align: right;\">\n",
       "      <th></th>\n",
       "      <th>tweet</th>\n",
       "      <th>class</th>\n",
       "    </tr>\n",
       "  </thead>\n",
       "  <tbody>\n",
       "    <tr>\n",
       "      <th>0</th>\n",
       "      <td>@Holdup_ImMikey lmao forgot you a boojie hood nigga but it's different ways to handle it didn't have to kick the bitch</td>\n",
       "      <td>1</td>\n",
       "    </tr>\n",
       "    <tr>\n",
       "      <th>1</th>\n",
       "      <td>@NVervynck you gave me them boojie ass balls</td>\n",
       "      <td>1</td>\n",
       "    </tr>\n",
       "    <tr>\n",
       "      <th>2</th>\n",
       "      <td>@Forbes Hahahaha middle aged rednecks crying to Trumpet vise versa. F250 PUs and beer and ammo ate up your $. No Chinaman took it LMFAO !!!</td>\n",
       "      <td>1</td>\n",
       "    </tr>\n",
       "    <tr>\n",
       "      <th>3</th>\n",
       "      <td>@ForEverRiah @yafavvwhitegirl lol so you saying I look like a damn hillbilly bumpkin 😂😂😂😡🤔🤔🤔</td>\n",
       "      <td>1</td>\n",
       "    </tr>\n",
       "    <tr>\n",
       "      <th>4</th>\n",
       "      <td>@NBCSN you suck, I hope Bernie terminates your F1 contract. Bullshit hillbilly \"racing\"</td>\n",
       "      <td>1</td>\n",
       "    </tr>\n",
       "    <tr>\n",
       "      <th>...</th>\n",
       "      <td>...</td>\n",
       "      <td>...</td>\n",
       "    </tr>\n",
       "    <tr>\n",
       "      <th>10083</th>\n",
       "      <td>@parkourboy_123 bro take it down u are just a fake ass friend and an ungrateful piece of shit u should be thank faggot</td>\n",
       "      <td>1</td>\n",
       "    </tr>\n",
       "    <tr>\n",
       "      <th>10084</th>\n",
       "      <td>@ARitzka @reverbrony @ObabScribbler @StarryFlame everytime you suck a dick, you look like a faggot. Go figure :P</td>\n",
       "      <td>1</td>\n",
       "    </tr>\n",
       "    <tr>\n",
       "      <th>10085</th>\n",
       "      <td>@kessner_tara this is my pic u faggot</td>\n",
       "      <td>1</td>\n",
       "    </tr>\n",
       "    <tr>\n",
       "      <th>10086</th>\n",
       "      <td>@imreallyjai we need you in chat you dirty faggot. IT'S THE NUTSHACK</td>\n",
       "      <td>1</td>\n",
       "    </tr>\n",
       "    <tr>\n",
       "      <th>10087</th>\n",
       "      <td>@imurbabytonight i was talking to kylie you retarded faggot</td>\n",
       "      <td>1</td>\n",
       "    </tr>\n",
       "  </tbody>\n",
       "</table>\n",
       "<p>10088 rows × 2 columns</p>\n",
       "</div>"
      ],
      "text/plain": [
       "                                                                                                                                             tweet  \\\n",
       "0                           @Holdup_ImMikey lmao forgot you a boojie hood nigga but it's different ways to handle it didn't have to kick the bitch   \n",
       "1                                                                                                     @NVervynck you gave me them boojie ass balls   \n",
       "2      @Forbes Hahahaha middle aged rednecks crying to Trumpet vise versa. F250 PUs and beer and ammo ate up your $. No Chinaman took it LMFAO !!!   \n",
       "3                                                     @ForEverRiah @yafavvwhitegirl lol so you saying I look like a damn hillbilly bumpkin 😂😂😂😡🤔🤔🤔   \n",
       "4                                                          @NBCSN you suck, I hope Bernie terminates your F1 contract. Bullshit hillbilly \"racing\"   \n",
       "...                                                                                                                                            ...   \n",
       "10083                       @parkourboy_123 bro take it down u are just a fake ass friend and an ungrateful piece of shit u should be thank faggot   \n",
       "10084                             @ARitzka @reverbrony @ObabScribbler @StarryFlame everytime you suck a dick, you look like a faggot. Go figure :P   \n",
       "10085                                                                                                        @kessner_tara this is my pic u faggot   \n",
       "10086                                                                         @imreallyjai we need you in chat you dirty faggot. IT'S THE NUTSHACK   \n",
       "10087                                                                                  @imurbabytonight i was talking to kylie you retarded faggot   \n",
       "\n",
       "       class  \n",
       "0          1  \n",
       "1          1  \n",
       "2          1  \n",
       "3          1  \n",
       "4          1  \n",
       "...      ...  \n",
       "10083      1  \n",
       "10084      1  \n",
       "10085      1  \n",
       "10086      1  \n",
       "10087      1  \n",
       "\n",
       "[10088 rows x 2 columns]"
      ]
     },
     "execution_count": 88,
     "metadata": {},
     "output_type": "execute_result"
    }
   ],
   "source": [
    "#Adding 'Class' column to second English dataset \n",
    "eng_twts_2['class'] = 1\n",
    "\n",
    "#Subsetting the necessary columns in second English dataset\n",
    "eng_ds_2 = eng_twts_2.iloc[:,1:3]\n",
    "\n",
    "#Renaming the column of second English dataset\n",
    "eng_ds_2 = eng_ds_2.rename(columns = {1 : 'tweet'})\n",
    "\n",
    "eng_ds_2\n"
   ]
  },
  {
   "cell_type": "code",
   "execution_count": null,
   "metadata": {
    "colab": {
     "base_uri": "https://localhost:8080/"
    },
    "executionInfo": {
     "elapsed": 541,
     "status": "ok",
     "timestamp": 1640237670263,
     "user": {
      "displayName": "Moy Tian Xiang",
      "photoUrl": "https://lh3.googleusercontent.com/a/default-user=s64",
      "userId": "17517672150917689324"
     },
     "user_tz": -480
    },
    "gradient": {
     "editing": false,
     "id": "163d45c8-eea5-4543-862d-654f8751eaec",
     "kernelId": "0c0438cc-8809-4072-a10a-acb706ba8551"
    },
    "id": "raW8hN5T8Shc",
    "outputId": "64d60eb5-4922-4fd6-fce7-8d38fce887ff"
   },
   "outputs": [
    {
     "data": {
      "text/plain": [
       "tweet    34871\n",
       "class    34871\n",
       "dtype: int64"
      ]
     },
     "execution_count": 89,
     "metadata": {},
     "output_type": "execute_result"
    }
   ],
   "source": [
    "#Combining both the English datasets\n",
    "eng_ds = eng_ds_1.append(eng_ds_2)\n",
    "\n",
    "#Displaying total observations of final English dataset\n",
    "eng_ds.count()"
   ]
  },
  {
   "cell_type": "code",
   "execution_count": null,
   "metadata": {
    "colab": {
     "base_uri": "https://localhost:8080/"
    },
    "executionInfo": {
     "elapsed": 3,
     "status": "ok",
     "timestamp": 1640237673906,
     "user": {
      "displayName": "Moy Tian Xiang",
      "photoUrl": "https://lh3.googleusercontent.com/a/default-user=s64",
      "userId": "17517672150917689324"
     },
     "user_tz": -480
    },
    "gradient": {
     "editing": false,
     "id": "3d0306c1-679f-4ff0-ac43-b18ec2b3636b",
     "kernelId": "0c0438cc-8809-4072-a10a-acb706ba8551"
    },
    "id": "oM1XEf9W-yjL",
    "outputId": "72f50d60-52b2-4605-d492-8abf306c951e"
   },
   "outputs": [
    {
     "data": {
      "text/plain": [
       "0    23353\n",
       "1    11518\n",
       "Name: class, dtype: int64"
      ]
     },
     "execution_count": 90,
     "metadata": {},
     "output_type": "execute_result"
    }
   ],
   "source": [
    "#Display class count of final English dataset\n",
    "eng_ds['class'].value_counts()"
   ]
  },
  {
   "cell_type": "code",
   "execution_count": null,
   "metadata": {
    "collapsed": false,
    "gradient": {
     "editing": false,
     "id": "d621648a-99d9-42fa-88a2-78a2f4dae466",
     "kernelId": "0c0438cc-8809-4072-a10a-acb706ba8551",
     "source_hidden": false
    },
    "id": "NKmau3nsLxKP",
    "jupyter": {
     "outputs_hidden": false
    },
    "outputId": "407f2351-5258-4f60-9502-d6ef100e9952"
   },
   "outputs": [
    {
     "data": {
      "text/plain": [
       "(array([0, 1]), [Text(0, 0, '0'), Text(1, 0, '1')])"
      ]
     },
     "execution_count": 91,
     "metadata": {},
     "output_type": "execute_result"
    },
    {
     "data": {
      "image/png": "[encoded data removed]",
      "text/plain": [
       "<Figure size 432x288 with 1 Axes>"
      ]
     },
     "metadata": {
      "needs_background": "light"
     },
     "output_type": "display_data"
    }
   ],
   "source": [
    "#Plotting class distribution of upsampled English dataset\n",
    "eng_ds['class'].value_counts().plot.bar()\n",
    "plt.title(\"Class Distribution of Upsampled English Dataset\")\n",
    "plt.xticks(rotation = 360)"
   ]
  },
  {
   "cell_type": "code",
   "execution_count": null,
   "metadata": {
    "colab": {
     "base_uri": "https://localhost:8080/"
    },
    "executionInfo": {
     "elapsed": 5,
     "status": "ok",
     "timestamp": 1640237675390,
     "user": {
      "displayName": "Moy Tian Xiang",
      "photoUrl": "https://lh3.googleusercontent.com/a/default-user=s64",
      "userId": "17517672150917689324"
     },
     "user_tz": -480
    },
    "gradient": {
     "editing": false,
     "id": "1cf7b688-56e6-475e-a76c-568cf35caae0",
     "kernelId": "0c0438cc-8809-4072-a10a-acb706ba8551"
    },
    "id": "YLPciZMR_GGR",
    "outputId": "1e998e2f-186a-4ec3-914c-e3ce9a682d68"
   },
   "outputs": [
    {
     "data": {
      "text/plain": [
       "0    66.969688\n",
       "1    33.030312\n",
       "Name: class, dtype: float64"
      ]
     },
     "execution_count": 92,
     "metadata": {},
     "output_type": "execute_result"
    }
   ],
   "source": [
    "#Display percentage class count of final English dataset\n",
    "eng_ds['class'].value_counts(normalize = True)*100"
   ]
  },
  {
   "cell_type": "code",
   "execution_count": null,
   "metadata": {
    "colab": {
     "base_uri": "https://localhost:8080/"
    },
    "executionInfo": {
     "elapsed": 2,
     "status": "ok",
     "timestamp": 1640237672160,
     "user": {
      "displayName": "Moy Tian Xiang",
      "photoUrl": "https://lh3.googleusercontent.com/a/default-user=s64",
      "userId": "17517672150917689324"
     },
     "user_tz": -480
    },
    "gradient": {
     "editing": false,
     "id": "c0a0cdfc-1eac-4f3a-bd18-861d107e1f3f",
     "kernelId": "0c0438cc-8809-4072-a10a-acb706ba8551"
    },
    "id": "tYo55TpqGIe6",
    "outputId": "16c52e9d-1ae0-467b-91f4-c2c065b53a09"
   },
   "outputs": [
    {
     "data": {
      "text/plain": [
       "tweet    0\n",
       "class    0\n",
       "dtype: int64"
      ]
     },
     "execution_count": 93,
     "metadata": {},
     "output_type": "execute_result"
    }
   ],
   "source": [
    "#Check for missing values\n",
    "eng_ds.isna().sum()"
   ]
  },
  {
   "cell_type": "markdown",
   "metadata": {
    "gradient": {
     "editing": false,
     "id": "76865296-c10a-4b43-9fc1-241ee59df6fa",
     "kernelId": "0c0438cc-8809-4072-a10a-acb706ba8551"
    },
    "id": "FLaoUMAGNLu2"
   },
   "source": [
    "## Preparing Malay dataset"
   ]
  },
  {
   "cell_type": "code",
   "execution_count": null,
   "metadata": {
    "colab": {
     "base_uri": "https://localhost:8080/",
     "height": 424
    },
    "executionInfo": {
     "elapsed": 616,
     "status": "ok",
     "timestamp": 1640237691110,
     "user": {
      "displayName": "Moy Tian Xiang",
      "photoUrl": "https://lh3.googleusercontent.com/a/default-user=s64",
      "userId": "17517672150917689324"
     },
     "user_tz": -480
    },
    "gradient": {
     "editing": false,
     "id": "86ba9b5a-8583-40dd-b7cd-fb120fac9045",
     "kernelId": "0c0438cc-8809-4072-a10a-acb706ba8551"
    },
    "id": "zjIOtBobwc1m",
    "outputId": "83062448-561f-4c67-cb40-b02462a702b5"
   },
   "outputs": [
    {
     "data": {
      "text/html": [
       "<div>\n",
       "<style scoped>\n",
       "    .dataframe tbody tr th:only-of-type {\n",
       "        vertical-align: middle;\n",
       "    }\n",
       "\n",
       "    .dataframe tbody tr th {\n",
       "        vertical-align: top;\n",
       "    }\n",
       "\n",
       "    .dataframe thead th {\n",
       "        text-align: right;\n",
       "    }\n",
       "</style>\n",
       "<table border=\"1\" class=\"dataframe\">\n",
       "  <thead>\n",
       "    <tr style=\"text-align: right;\">\n",
       "      <th></th>\n",
       "      <th>0</th>\n",
       "      <th>1/0</th>\n",
       "      <th>1/1</th>\n",
       "      <th>1/2</th>\n",
       "      <th>1/3</th>\n",
       "      <th>1/4</th>\n",
       "      <th>1/5</th>\n",
       "    </tr>\n",
       "  </thead>\n",
       "  <tbody>\n",
       "    <tr>\n",
       "      <th>0</th>\n",
       "      <td>cocksucker sebelum anda kencing di atas kerja saya</td>\n",
       "      <td>1</td>\n",
       "      <td>1</td>\n",
       "      <td>1</td>\n",
       "      <td>0</td>\n",
       "      <td>1</td>\n",
       "      <td>0</td>\n",
       "    </tr>\n",
       "    <tr>\n",
       "      <th>1</th>\n",
       "      <td>Anda, tuan, adalah wira saya. ada peluang anda ingat apa halaman yang ada</td>\n",
       "      <td>0</td>\n",
       "      <td>0</td>\n",
       "      <td>0</td>\n",
       "      <td>0</td>\n",
       "      <td>0</td>\n",
       "      <td>0</td>\n",
       "    </tr>\n",
       "    <tr>\n",
       "      <th>2</th>\n",
       "      <td>tahniah dari saya juga, gunakan alat dengan baik. bercakap</td>\n",
       "      <td>0</td>\n",
       "      <td>0</td>\n",
       "      <td>0</td>\n",
       "      <td>0</td>\n",
       "      <td>0</td>\n",
       "      <td>0</td>\n",
       "    </tr>\n",
       "    <tr>\n",
       "      <th>3</th>\n",
       "      <td>penjajaran mengenai subjek ini dan yang bertentangan dengan orang-orang dulithgow</td>\n",
       "      <td>0</td>\n",
       "      <td>0</td>\n",
       "      <td>0</td>\n",
       "      <td>0</td>\n",
       "      <td>0</td>\n",
       "      <td>0</td>\n",
       "    </tr>\n",
       "    <tr>\n",
       "      <th>4</th>\n",
       "      <td>d'aww! dia sepadan dengan warna latar belakang saya seolah-olah terperangkap dengan. terima kasih. bercakap, januari, utc</td>\n",
       "      <td>0</td>\n",
       "      <td>0</td>\n",
       "      <td>0</td>\n",
       "      <td>0</td>\n",
       "      <td>0</td>\n",
       "      <td>0</td>\n",
       "    </tr>\n",
       "    <tr>\n",
       "      <th>...</th>\n",
       "      <td>...</td>\n",
       "      <td>...</td>\n",
       "      <td>...</td>\n",
       "      <td>...</td>\n",
       "      <td>...</td>\n",
       "      <td>...</td>\n",
       "      <td>...</td>\n",
       "    </tr>\n",
       "    <tr>\n",
       "      <th>17906</th>\n",
       "      <td>banjir! kota itu tenggelam! Berikut adalah beberapa pics yang besar kereta parade ucc terapung! mahkamah daerah kegemaran peribadi saya. kebanyakan bekalan air telah tercemar, dan penjaga itu akan habis dalam masa terdekat! hospital peminjam dan hotel kingsley terpaksa dipindahkan pada awal pagi. di sini adalah ringkasan ringkas pengisytiharan peristiwa. iaitu.</td>\n",
       "      <td>0</td>\n",
       "      <td>0</td>\n",
       "      <td>0</td>\n",
       "      <td>0</td>\n",
       "      <td>0</td>\n",
       "      <td>0</td>\n",
       "    </tr>\n",
       "    <tr>\n",
       "      <th>17907</th>\n",
       "      <td>iso suntikan rasionalitas yang tenang. dengan pemahaman yang sangat baik mengenai dasar dan garis panduan rasmi wikipedia, dan ditambah pula dengan rekod jejak anda untuk menyuntikkan rasionalitas yang tenang ke dalam perbincangan yang hangat, saya tertanya-tanya jika anda boleh mengambil gander di artikel kesatuan utara amerika dan menawarkan beberapa pandangan sebelum perubahan bir terima kasih,</td>\n",
       "      <td>0</td>\n",
       "      <td>0</td>\n",
       "      <td>0</td>\n",
       "      <td>0</td>\n",
       "      <td>0</td>\n",
       "      <td>0</td>\n",
       "    </tr>\n",
       "    <tr>\n",
       "      <th>17908</th>\n",
       "      <td>organisasi kiruv sebagai pendatang baru yang jelas kepada wikipedia, saya ingin mengucapkan terima kasih kepada jawatan anda yang matang dan peringkat di sini. ini hampir betul-betul jenis pendekatan dan pemikiran yang pada akhirnya seolah-olah pergi bersama dengan orang-orang yang akan menyunting usaha amal ini dengan baik, akan menikmati wikipedia, dan secara peribadi akan belajar dari usaha mereka dan melalui usaha yang sama akan memperbaiki halaman yang mereka edit untuk manfaat orang lain yang mereka tidak akan pernah tahu. Saya ingin mengatakan 'terima kasih', dan teruskan usaha yang sama! e-mel cakap kaki</td>\n",
       "      <td>0</td>\n",
       "      <td>0</td>\n",
       "      <td>0</td>\n",
       "      <td>0</td>\n",
       "      <td>0</td>\n",
       "      <td>0</td>\n",
       "    </tr>\n",
       "    <tr>\n",
       "      <th>17909</th>\n",
       "      <td>ya tidak ada yang dikategorikan sebagai wilayah hitam yang didiami, wilayah penghuni Yahudi, wilayah yang didiami putih dan lain-lain. hanya mengkategorikan new york berdasarkan etnik dengan mudah boleh menjadi mimpi ngeri. anda tahu soalan seperti berapa peratus yang layak menjadi bandar hitam dan sebagainya. . keluar juga berasa bebas untuk menyertai cakera diyarbakir dan modal kurdistan turkish. ini mungkin langkah pertama dalam orang lain memahami pemahaman saya. pertama kali bermula dengan kategori kurdistan yang cukup buruk sejauh yang saya peduli, maka kita mempunyai kurdistan turkish, maka kita telah diyarbakir menjadi kota dominan kurdish. . . . dan sekarang diyarbakir adalah ibu kota kurdistan turkish. keluar</td>\n",
       "      <td>0</td>\n",
       "      <td>0</td>\n",
       "      <td>0</td>\n",
       "      <td>0</td>\n",
       "      <td>0</td>\n",
       "      <td>0</td>\n",
       "    </tr>\n",
       "    <tr>\n",
       "      <th>17910</th>\n",
       "      <td>selamat datang! Halo,, dan selamat datang ke wikipedia! terima kasih atas sumbangan anda. Saya harap anda suka tempat dan memutuskan untuk tinggal. di sini adalah beberapa halaman yang mungkin anda dapati membantu lima pilar tutorial wikipedia cara mengedit halaman bagaimana menulis artikel artikel gaya yang hebat, saya harap anda suka mengedit di sini dan menjadi wikipedian! sila tandatangan mesej anda di laman perbincangan menggunakan empat tildes ini secara automatik akan memasukkan nama pengguna dan tarikh anda. jika anda memerlukan bantuan, periksa soalan wikipedia, tanya saya, atau tanyakan soalan anda di halaman ini dan kemudian letakkan bantuan sebelum soalan itu. lagi, selamat datang! parodi vs. agama pada monster spaghetti terbang sebagai komen dalam permintaan intro, sila jangan keluarkan parodi perkataan tanpa terlebih dahulu membincangkannya di halaman perbincangan. terima kasih.</td>\n",
       "      <td>0</td>\n",
       "      <td>0</td>\n",
       "      <td>0</td>\n",
       "      <td>0</td>\n",
       "      <td>0</td>\n",
       "      <td>0</td>\n",
       "    </tr>\n",
       "  </tbody>\n",
       "</table>\n",
       "<p>151118 rows × 7 columns</p>\n",
       "</div>"
      ],
      "text/plain": [
       "                                                                                                                                                                                                                                                                                                                                                                                                                                                                                                                                                                                                                                                                                                                                                                                                                                                                                                                                               0  \\\n",
       "0                                                                                                                                                                                                                                                                                                                                                                                                                                                                                                                                                                                                                                                                                                                                                                                                                                                                                             cocksucker sebelum anda kencing di atas kerja saya   \n",
       "1                                                                                                                                                                                                                                                                                                                                                                                                                                                                                                                                                                                                                                                                                                                                                                                                                                                                      Anda, tuan, adalah wira saya. ada peluang anda ingat apa halaman yang ada   \n",
       "2                                                                                                                                                                                                                                                                                                                                                                                                                                                                                                                                                                                                                                                                                                                                                                                                                                                                                     tahniah dari saya juga, gunakan alat dengan baik. bercakap   \n",
       "3                                                                                                                                                                                                                                                                                                                                                                                                                                                                                                                                                                                                                                                                                                                                                                                                                                                              penjajaran mengenai subjek ini dan yang bertentangan dengan orang-orang dulithgow   \n",
       "4                                                                                                                                                                                                                                                                                                                                                                                                                                                                                                                                                                                                                                                                                                                                                                                                                      d'aww! dia sepadan dengan warna latar belakang saya seolah-olah terperangkap dengan. terima kasih. bercakap, januari, utc   \n",
       "...                                                                                                                                                                                                                                                                                                                                                                                                                                                                                                                                                                                                                                                                                                                                                                                                                                                                                                                                          ...   \n",
       "17906                                                                                                                                                                                                                                                                                                                                                                                                                                                                                                                                                                banjir! kota itu tenggelam! Berikut adalah beberapa pics yang besar kereta parade ucc terapung! mahkamah daerah kegemaran peribadi saya. kebanyakan bekalan air telah tercemar, dan penjaga itu akan habis dalam masa terdekat! hospital peminjam dan hotel kingsley terpaksa dipindahkan pada awal pagi. di sini adalah ringkasan ringkas pengisytiharan peristiwa. iaitu.   \n",
       "17907                                                                                                                                                                                                                                                                                                                                                                                                                                                                                                                           iso suntikan rasionalitas yang tenang. dengan pemahaman yang sangat baik mengenai dasar dan garis panduan rasmi wikipedia, dan ditambah pula dengan rekod jejak anda untuk menyuntikkan rasionalitas yang tenang ke dalam perbincangan yang hangat, saya tertanya-tanya jika anda boleh mengambil gander di artikel kesatuan utara amerika dan menawarkan beberapa pandangan sebelum perubahan bir terima kasih,   \n",
       "17908                                                                                                                                                                                                                                                                                                organisasi kiruv sebagai pendatang baru yang jelas kepada wikipedia, saya ingin mengucapkan terima kasih kepada jawatan anda yang matang dan peringkat di sini. ini hampir betul-betul jenis pendekatan dan pemikiran yang pada akhirnya seolah-olah pergi bersama dengan orang-orang yang akan menyunting usaha amal ini dengan baik, akan menikmati wikipedia, dan secara peribadi akan belajar dari usaha mereka dan melalui usaha yang sama akan memperbaiki halaman yang mereka edit untuk manfaat orang lain yang mereka tidak akan pernah tahu. Saya ingin mengatakan 'terima kasih', dan teruskan usaha yang sama! e-mel cakap kaki   \n",
       "17909                                                                                                                                                                                   ya tidak ada yang dikategorikan sebagai wilayah hitam yang didiami, wilayah penghuni Yahudi, wilayah yang didiami putih dan lain-lain. hanya mengkategorikan new york berdasarkan etnik dengan mudah boleh menjadi mimpi ngeri. anda tahu soalan seperti berapa peratus yang layak menjadi bandar hitam dan sebagainya. . keluar juga berasa bebas untuk menyertai cakera diyarbakir dan modal kurdistan turkish. ini mungkin langkah pertama dalam orang lain memahami pemahaman saya. pertama kali bermula dengan kategori kurdistan yang cukup buruk sejauh yang saya peduli, maka kita mempunyai kurdistan turkish, maka kita telah diyarbakir menjadi kota dominan kurdish. . . . dan sekarang diyarbakir adalah ibu kota kurdistan turkish. keluar   \n",
       "17910  selamat datang! Halo,, dan selamat datang ke wikipedia! terima kasih atas sumbangan anda. Saya harap anda suka tempat dan memutuskan untuk tinggal. di sini adalah beberapa halaman yang mungkin anda dapati membantu lima pilar tutorial wikipedia cara mengedit halaman bagaimana menulis artikel artikel gaya yang hebat, saya harap anda suka mengedit di sini dan menjadi wikipedian! sila tandatangan mesej anda di laman perbincangan menggunakan empat tildes ini secara automatik akan memasukkan nama pengguna dan tarikh anda. jika anda memerlukan bantuan, periksa soalan wikipedia, tanya saya, atau tanyakan soalan anda di halaman ini dan kemudian letakkan bantuan sebelum soalan itu. lagi, selamat datang! parodi vs. agama pada monster spaghetti terbang sebagai komen dalam permintaan intro, sila jangan keluarkan parodi perkataan tanpa terlebih dahulu membincangkannya di halaman perbincangan. terima kasih.   \n",
       "\n",
       "       1/0  1/1  1/2  1/3  1/4  1/5  \n",
       "0        1    1    1    0    1    0  \n",
       "1        0    0    0    0    0    0  \n",
       "2        0    0    0    0    0    0  \n",
       "3        0    0    0    0    0    0  \n",
       "4        0    0    0    0    0    0  \n",
       "...    ...  ...  ...  ...  ...  ...  \n",
       "17906    0    0    0    0    0    0  \n",
       "17907    0    0    0    0    0    0  \n",
       "17908    0    0    0    0    0    0  \n",
       "17909    0    0    0    0    0    0  \n",
       "17910    0    0    0    0    0    0  \n",
       "\n",
       "[151118 rows x 7 columns]"
      ]
     },
     "execution_count": 94,
     "metadata": {},
     "output_type": "execute_result"
    }
   ],
   "source": [
    "#Append Malay Wikipedia comments\n",
    "\n",
    "malay_ds = malay_com_1.append((malay_com_2,\n",
    "                               malay_com_3,\n",
    "                               malay_com_4,\n",
    "                               malay_com_5,\n",
    "                               malay_com_6,\n",
    "                               malay_com_7,\n",
    "                               malay_com_8))\n",
    "\n",
    "malay_ds"
   ]
  },
  {
   "cell_type": "code",
   "execution_count": null,
   "metadata": {
    "gradient": {
     "editing": false,
     "id": "058f10c7-1715-4338-89a0-a52dad9a7b70",
     "kernelId": "0c0438cc-8809-4072-a10a-acb706ba8551"
    },
    "id": "EIPicyvXyFcO"
   },
   "outputs": [],
   "source": [
    "#Assimilation of six different class of toxic comments to two classes (toxic or not toxic)\n",
    "conditions = (malay_ds['1/0'] == 1),(malay_ds['1/1'] == 1), (malay_ds['1/2'] == 1),(malay_ds['1/3'] == 1),(malay_ds['1/4'] == 1),(malay_ds['1/5'] == 1)\n",
    "choices = 1,1,1,1,1,1\n",
    "\n",
    "malay_ds['toxic'] = np.select(conditions, choices, default = 0)"
   ]
  },
  {
   "cell_type": "code",
   "execution_count": null,
   "metadata": {
    "colab": {
     "base_uri": "https://localhost:8080/",
     "height": 424
    },
    "executionInfo": {
     "elapsed": 3,
     "status": "ok",
     "timestamp": 1640237699708,
     "user": {
      "displayName": "Moy Tian Xiang",
      "photoUrl": "https://lh3.googleusercontent.com/a/default-user=s64",
      "userId": "17517672150917689324"
     },
     "user_tz": -480
    },
    "gradient": {
     "editing": false,
     "id": "bd9e2de2-cf09-4e7a-a689-bdb8c173d938",
     "kernelId": "0c0438cc-8809-4072-a10a-acb706ba8551"
    },
    "id": "GN7VEbSa8SXu",
    "outputId": "0fa939d5-59fb-485d-f06e-84d45cf6e6b9"
   },
   "outputs": [
    {
     "data": {
      "text/html": [
       "<div>\n",
       "<style scoped>\n",
       "    .dataframe tbody tr th:only-of-type {\n",
       "        vertical-align: middle;\n",
       "    }\n",
       "\n",
       "    .dataframe tbody tr th {\n",
       "        vertical-align: top;\n",
       "    }\n",
       "\n",
       "    .dataframe thead th {\n",
       "        text-align: right;\n",
       "    }\n",
       "</style>\n",
       "<table border=\"1\" class=\"dataframe\">\n",
       "  <thead>\n",
       "    <tr style=\"text-align: right;\">\n",
       "      <th></th>\n",
       "      <th>0</th>\n",
       "      <th>toxic</th>\n",
       "    </tr>\n",
       "  </thead>\n",
       "  <tbody>\n",
       "    <tr>\n",
       "      <th>0</th>\n",
       "      <td>cocksucker sebelum anda kencing di atas kerja saya</td>\n",
       "      <td>1</td>\n",
       "    </tr>\n",
       "    <tr>\n",
       "      <th>1</th>\n",
       "      <td>Anda, tuan, adalah wira saya. ada peluang anda ingat apa halaman yang ada</td>\n",
       "      <td>0</td>\n",
       "    </tr>\n",
       "    <tr>\n",
       "      <th>2</th>\n",
       "      <td>tahniah dari saya juga, gunakan alat dengan baik. bercakap</td>\n",
       "      <td>0</td>\n",
       "    </tr>\n",
       "    <tr>\n",
       "      <th>3</th>\n",
       "      <td>penjajaran mengenai subjek ini dan yang bertentangan dengan orang-orang dulithgow</td>\n",
       "      <td>0</td>\n",
       "    </tr>\n",
       "    <tr>\n",
       "      <th>4</th>\n",
       "      <td>d'aww! dia sepadan dengan warna latar belakang saya seolah-olah terperangkap dengan. terima kasih. bercakap, januari, utc</td>\n",
       "      <td>0</td>\n",
       "    </tr>\n",
       "    <tr>\n",
       "      <th>...</th>\n",
       "      <td>...</td>\n",
       "      <td>...</td>\n",
       "    </tr>\n",
       "    <tr>\n",
       "      <th>17906</th>\n",
       "      <td>banjir! kota itu tenggelam! Berikut adalah beberapa pics yang besar kereta parade ucc terapung! mahkamah daerah kegemaran peribadi saya. kebanyakan bekalan air telah tercemar, dan penjaga itu akan habis dalam masa terdekat! hospital peminjam dan hotel kingsley terpaksa dipindahkan pada awal pagi. di sini adalah ringkasan ringkas pengisytiharan peristiwa. iaitu.</td>\n",
       "      <td>0</td>\n",
       "    </tr>\n",
       "    <tr>\n",
       "      <th>17907</th>\n",
       "      <td>iso suntikan rasionalitas yang tenang. dengan pemahaman yang sangat baik mengenai dasar dan garis panduan rasmi wikipedia, dan ditambah pula dengan rekod jejak anda untuk menyuntikkan rasionalitas yang tenang ke dalam perbincangan yang hangat, saya tertanya-tanya jika anda boleh mengambil gander di artikel kesatuan utara amerika dan menawarkan beberapa pandangan sebelum perubahan bir terima kasih,</td>\n",
       "      <td>0</td>\n",
       "    </tr>\n",
       "    <tr>\n",
       "      <th>17908</th>\n",
       "      <td>organisasi kiruv sebagai pendatang baru yang jelas kepada wikipedia, saya ingin mengucapkan terima kasih kepada jawatan anda yang matang dan peringkat di sini. ini hampir betul-betul jenis pendekatan dan pemikiran yang pada akhirnya seolah-olah pergi bersama dengan orang-orang yang akan menyunting usaha amal ini dengan baik, akan menikmati wikipedia, dan secara peribadi akan belajar dari usaha mereka dan melalui usaha yang sama akan memperbaiki halaman yang mereka edit untuk manfaat orang lain yang mereka tidak akan pernah tahu. Saya ingin mengatakan 'terima kasih', dan teruskan usaha yang sama! e-mel cakap kaki</td>\n",
       "      <td>0</td>\n",
       "    </tr>\n",
       "    <tr>\n",
       "      <th>17909</th>\n",
       "      <td>ya tidak ada yang dikategorikan sebagai wilayah hitam yang didiami, wilayah penghuni Yahudi, wilayah yang didiami putih dan lain-lain. hanya mengkategorikan new york berdasarkan etnik dengan mudah boleh menjadi mimpi ngeri. anda tahu soalan seperti berapa peratus yang layak menjadi bandar hitam dan sebagainya. . keluar juga berasa bebas untuk menyertai cakera diyarbakir dan modal kurdistan turkish. ini mungkin langkah pertama dalam orang lain memahami pemahaman saya. pertama kali bermula dengan kategori kurdistan yang cukup buruk sejauh yang saya peduli, maka kita mempunyai kurdistan turkish, maka kita telah diyarbakir menjadi kota dominan kurdish. . . . dan sekarang diyarbakir adalah ibu kota kurdistan turkish. keluar</td>\n",
       "      <td>0</td>\n",
       "    </tr>\n",
       "    <tr>\n",
       "      <th>17910</th>\n",
       "      <td>selamat datang! Halo,, dan selamat datang ke wikipedia! terima kasih atas sumbangan anda. Saya harap anda suka tempat dan memutuskan untuk tinggal. di sini adalah beberapa halaman yang mungkin anda dapati membantu lima pilar tutorial wikipedia cara mengedit halaman bagaimana menulis artikel artikel gaya yang hebat, saya harap anda suka mengedit di sini dan menjadi wikipedian! sila tandatangan mesej anda di laman perbincangan menggunakan empat tildes ini secara automatik akan memasukkan nama pengguna dan tarikh anda. jika anda memerlukan bantuan, periksa soalan wikipedia, tanya saya, atau tanyakan soalan anda di halaman ini dan kemudian letakkan bantuan sebelum soalan itu. lagi, selamat datang! parodi vs. agama pada monster spaghetti terbang sebagai komen dalam permintaan intro, sila jangan keluarkan parodi perkataan tanpa terlebih dahulu membincangkannya di halaman perbincangan. terima kasih.</td>\n",
       "      <td>0</td>\n",
       "    </tr>\n",
       "  </tbody>\n",
       "</table>\n",
       "<p>151118 rows × 2 columns</p>\n",
       "</div>"
      ],
      "text/plain": [
       "                                                                                                                                                                                                                                                                                                                                                                                                                                                                                                                                                                                                                                                                                                                                                                                                                                                                                                                                               0  \\\n",
       "0                                                                                                                                                                                                                                                                                                                                                                                                                                                                                                                                                                                                                                                                                                                                                                                                                                                                                             cocksucker sebelum anda kencing di atas kerja saya   \n",
       "1                                                                                                                                                                                                                                                                                                                                                                                                                                                                                                                                                                                                                                                                                                                                                                                                                                                                      Anda, tuan, adalah wira saya. ada peluang anda ingat apa halaman yang ada   \n",
       "2                                                                                                                                                                                                                                                                                                                                                                                                                                                                                                                                                                                                                                                                                                                                                                                                                                                                                     tahniah dari saya juga, gunakan alat dengan baik. bercakap   \n",
       "3                                                                                                                                                                                                                                                                                                                                                                                                                                                                                                                                                                                                                                                                                                                                                                                                                                                              penjajaran mengenai subjek ini dan yang bertentangan dengan orang-orang dulithgow   \n",
       "4                                                                                                                                                                                                                                                                                                                                                                                                                                                                                                                                                                                                                                                                                                                                                                                                                      d'aww! dia sepadan dengan warna latar belakang saya seolah-olah terperangkap dengan. terima kasih. bercakap, januari, utc   \n",
       "...                                                                                                                                                                                                                                                                                                                                                                                                                                                                                                                                                                                                                                                                                                                                                                                                                                                                                                                                          ...   \n",
       "17906                                                                                                                                                                                                                                                                                                                                                                                                                                                                                                                                                                banjir! kota itu tenggelam! Berikut adalah beberapa pics yang besar kereta parade ucc terapung! mahkamah daerah kegemaran peribadi saya. kebanyakan bekalan air telah tercemar, dan penjaga itu akan habis dalam masa terdekat! hospital peminjam dan hotel kingsley terpaksa dipindahkan pada awal pagi. di sini adalah ringkasan ringkas pengisytiharan peristiwa. iaitu.   \n",
       "17907                                                                                                                                                                                                                                                                                                                                                                                                                                                                                                                           iso suntikan rasionalitas yang tenang. dengan pemahaman yang sangat baik mengenai dasar dan garis panduan rasmi wikipedia, dan ditambah pula dengan rekod jejak anda untuk menyuntikkan rasionalitas yang tenang ke dalam perbincangan yang hangat, saya tertanya-tanya jika anda boleh mengambil gander di artikel kesatuan utara amerika dan menawarkan beberapa pandangan sebelum perubahan bir terima kasih,   \n",
       "17908                                                                                                                                                                                                                                                                                                organisasi kiruv sebagai pendatang baru yang jelas kepada wikipedia, saya ingin mengucapkan terima kasih kepada jawatan anda yang matang dan peringkat di sini. ini hampir betul-betul jenis pendekatan dan pemikiran yang pada akhirnya seolah-olah pergi bersama dengan orang-orang yang akan menyunting usaha amal ini dengan baik, akan menikmati wikipedia, dan secara peribadi akan belajar dari usaha mereka dan melalui usaha yang sama akan memperbaiki halaman yang mereka edit untuk manfaat orang lain yang mereka tidak akan pernah tahu. Saya ingin mengatakan 'terima kasih', dan teruskan usaha yang sama! e-mel cakap kaki   \n",
       "17909                                                                                                                                                                                   ya tidak ada yang dikategorikan sebagai wilayah hitam yang didiami, wilayah penghuni Yahudi, wilayah yang didiami putih dan lain-lain. hanya mengkategorikan new york berdasarkan etnik dengan mudah boleh menjadi mimpi ngeri. anda tahu soalan seperti berapa peratus yang layak menjadi bandar hitam dan sebagainya. . keluar juga berasa bebas untuk menyertai cakera diyarbakir dan modal kurdistan turkish. ini mungkin langkah pertama dalam orang lain memahami pemahaman saya. pertama kali bermula dengan kategori kurdistan yang cukup buruk sejauh yang saya peduli, maka kita mempunyai kurdistan turkish, maka kita telah diyarbakir menjadi kota dominan kurdish. . . . dan sekarang diyarbakir adalah ibu kota kurdistan turkish. keluar   \n",
       "17910  selamat datang! Halo,, dan selamat datang ke wikipedia! terima kasih atas sumbangan anda. Saya harap anda suka tempat dan memutuskan untuk tinggal. di sini adalah beberapa halaman yang mungkin anda dapati membantu lima pilar tutorial wikipedia cara mengedit halaman bagaimana menulis artikel artikel gaya yang hebat, saya harap anda suka mengedit di sini dan menjadi wikipedian! sila tandatangan mesej anda di laman perbincangan menggunakan empat tildes ini secara automatik akan memasukkan nama pengguna dan tarikh anda. jika anda memerlukan bantuan, periksa soalan wikipedia, tanya saya, atau tanyakan soalan anda di halaman ini dan kemudian letakkan bantuan sebelum soalan itu. lagi, selamat datang! parodi vs. agama pada monster spaghetti terbang sebagai komen dalam permintaan intro, sila jangan keluarkan parodi perkataan tanpa terlebih dahulu membincangkannya di halaman perbincangan. terima kasih.   \n",
       "\n",
       "       toxic  \n",
       "0          1  \n",
       "1          0  \n",
       "2          0  \n",
       "3          0  \n",
       "4          0  \n",
       "...      ...  \n",
       "17906      0  \n",
       "17907      0  \n",
       "17908      0  \n",
       "17909      0  \n",
       "17910      0  \n",
       "\n",
       "[151118 rows x 2 columns]"
      ]
     },
     "execution_count": 96,
     "metadata": {},
     "output_type": "execute_result"
    }
   ],
   "source": [
    "#Removing unwanted columns\n",
    "columns = ['0', 'toxic']\n",
    "malay_ds = pd.DataFrame(malay_ds, columns = columns)\n",
    "\n",
    "malay_ds"
   ]
  },
  {
   "cell_type": "code",
   "execution_count": null,
   "metadata": {
    "colab": {
     "base_uri": "https://localhost:8080/",
     "height": 424
    },
    "executionInfo": {
     "elapsed": 905,
     "status": "ok",
     "timestamp": 1640237702656,
     "user": {
      "displayName": "Moy Tian Xiang",
      "photoUrl": "https://lh3.googleusercontent.com/a/default-user=s64",
      "userId": "17517672150917689324"
     },
     "user_tz": -480
    },
    "gradient": {
     "editing": false,
     "id": "0525d1c9-b13a-4249-9254-6d421941408e",
     "kernelId": "0c0438cc-8809-4072-a10a-acb706ba8551"
    },
    "id": "PkBQaGv-92SK",
    "outputId": "4fc937e1-3ba3-4af6-fbe3-73e031ac86d9"
   },
   "outputs": [
    {
     "data": {
      "text/html": [
       "<div>\n",
       "<style scoped>\n",
       "    .dataframe tbody tr th:only-of-type {\n",
       "        vertical-align: middle;\n",
       "    }\n",
       "\n",
       "    .dataframe tbody tr th {\n",
       "        vertical-align: top;\n",
       "    }\n",
       "\n",
       "    .dataframe thead th {\n",
       "        text-align: right;\n",
       "    }\n",
       "</style>\n",
       "<table border=\"1\" class=\"dataframe\">\n",
       "  <thead>\n",
       "    <tr style=\"text-align: right;\">\n",
       "      <th></th>\n",
       "      <th>comments</th>\n",
       "      <th>class</th>\n",
       "    </tr>\n",
       "  </thead>\n",
       "  <tbody>\n",
       "    <tr>\n",
       "      <th>0</th>\n",
       "      <td>cocksucker sebelum anda kencing di atas kerja saya</td>\n",
       "      <td>1</td>\n",
       "    </tr>\n",
       "    <tr>\n",
       "      <th>1</th>\n",
       "      <td>Anda, tuan, adalah wira saya. ada peluang anda ingat apa halaman yang ada</td>\n",
       "      <td>0</td>\n",
       "    </tr>\n",
       "    <tr>\n",
       "      <th>2</th>\n",
       "      <td>tahniah dari saya juga, gunakan alat dengan baik. bercakap</td>\n",
       "      <td>0</td>\n",
       "    </tr>\n",
       "    <tr>\n",
       "      <th>3</th>\n",
       "      <td>penjajaran mengenai subjek ini dan yang bertentangan dengan orang-orang dulithgow</td>\n",
       "      <td>0</td>\n",
       "    </tr>\n",
       "    <tr>\n",
       "      <th>4</th>\n",
       "      <td>d'aww! dia sepadan dengan warna latar belakang saya seolah-olah terperangkap dengan. terima kasih. bercakap, januari, utc</td>\n",
       "      <td>0</td>\n",
       "    </tr>\n",
       "    <tr>\n",
       "      <th>...</th>\n",
       "      <td>...</td>\n",
       "      <td>...</td>\n",
       "    </tr>\n",
       "    <tr>\n",
       "      <th>17906</th>\n",
       "      <td>banjir! kota itu tenggelam! Berikut adalah beberapa pics yang besar kereta parade ucc terapung! mahkamah daerah kegemaran peribadi saya. kebanyakan bekalan air telah tercemar, dan penjaga itu akan habis dalam masa terdekat! hospital peminjam dan hotel kingsley terpaksa dipindahkan pada awal pagi. di sini adalah ringkasan ringkas pengisytiharan peristiwa. iaitu.</td>\n",
       "      <td>0</td>\n",
       "    </tr>\n",
       "    <tr>\n",
       "      <th>17907</th>\n",
       "      <td>iso suntikan rasionalitas yang tenang. dengan pemahaman yang sangat baik mengenai dasar dan garis panduan rasmi wikipedia, dan ditambah pula dengan rekod jejak anda untuk menyuntikkan rasionalitas yang tenang ke dalam perbincangan yang hangat, saya tertanya-tanya jika anda boleh mengambil gander di artikel kesatuan utara amerika dan menawarkan beberapa pandangan sebelum perubahan bir terima kasih,</td>\n",
       "      <td>0</td>\n",
       "    </tr>\n",
       "    <tr>\n",
       "      <th>17908</th>\n",
       "      <td>organisasi kiruv sebagai pendatang baru yang jelas kepada wikipedia, saya ingin mengucapkan terima kasih kepada jawatan anda yang matang dan peringkat di sini. ini hampir betul-betul jenis pendekatan dan pemikiran yang pada akhirnya seolah-olah pergi bersama dengan orang-orang yang akan menyunting usaha amal ini dengan baik, akan menikmati wikipedia, dan secara peribadi akan belajar dari usaha mereka dan melalui usaha yang sama akan memperbaiki halaman yang mereka edit untuk manfaat orang lain yang mereka tidak akan pernah tahu. Saya ingin mengatakan 'terima kasih', dan teruskan usaha yang sama! e-mel cakap kaki</td>\n",
       "      <td>0</td>\n",
       "    </tr>\n",
       "    <tr>\n",
       "      <th>17909</th>\n",
       "      <td>ya tidak ada yang dikategorikan sebagai wilayah hitam yang didiami, wilayah penghuni Yahudi, wilayah yang didiami putih dan lain-lain. hanya mengkategorikan new york berdasarkan etnik dengan mudah boleh menjadi mimpi ngeri. anda tahu soalan seperti berapa peratus yang layak menjadi bandar hitam dan sebagainya. . keluar juga berasa bebas untuk menyertai cakera diyarbakir dan modal kurdistan turkish. ini mungkin langkah pertama dalam orang lain memahami pemahaman saya. pertama kali bermula dengan kategori kurdistan yang cukup buruk sejauh yang saya peduli, maka kita mempunyai kurdistan turkish, maka kita telah diyarbakir menjadi kota dominan kurdish. . . . dan sekarang diyarbakir adalah ibu kota kurdistan turkish. keluar</td>\n",
       "      <td>0</td>\n",
       "    </tr>\n",
       "    <tr>\n",
       "      <th>17910</th>\n",
       "      <td>selamat datang! Halo,, dan selamat datang ke wikipedia! terima kasih atas sumbangan anda. Saya harap anda suka tempat dan memutuskan untuk tinggal. di sini adalah beberapa halaman yang mungkin anda dapati membantu lima pilar tutorial wikipedia cara mengedit halaman bagaimana menulis artikel artikel gaya yang hebat, saya harap anda suka mengedit di sini dan menjadi wikipedian! sila tandatangan mesej anda di laman perbincangan menggunakan empat tildes ini secara automatik akan memasukkan nama pengguna dan tarikh anda. jika anda memerlukan bantuan, periksa soalan wikipedia, tanya saya, atau tanyakan soalan anda di halaman ini dan kemudian letakkan bantuan sebelum soalan itu. lagi, selamat datang! parodi vs. agama pada monster spaghetti terbang sebagai komen dalam permintaan intro, sila jangan keluarkan parodi perkataan tanpa terlebih dahulu membincangkannya di halaman perbincangan. terima kasih.</td>\n",
       "      <td>0</td>\n",
       "    </tr>\n",
       "  </tbody>\n",
       "</table>\n",
       "<p>151118 rows × 2 columns</p>\n",
       "</div>"
      ],
      "text/plain": [
       "                                                                                                                                                                                                                                                                                                                                                                                                                                                                                                                                                                                                                                                                                                                                                                                                                                                                                                                                        comments  \\\n",
       "0                                                                                                                                                                                                                                                                                                                                                                                                                                                                                                                                                                                                                                                                                                                                                                                                                                                                                             cocksucker sebelum anda kencing di atas kerja saya   \n",
       "1                                                                                                                                                                                                                                                                                                                                                                                                                                                                                                                                                                                                                                                                                                                                                                                                                                                                      Anda, tuan, adalah wira saya. ada peluang anda ingat apa halaman yang ada   \n",
       "2                                                                                                                                                                                                                                                                                                                                                                                                                                                                                                                                                                                                                                                                                                                                                                                                                                                                                     tahniah dari saya juga, gunakan alat dengan baik. bercakap   \n",
       "3                                                                                                                                                                                                                                                                                                                                                                                                                                                                                                                                                                                                                                                                                                                                                                                                                                                              penjajaran mengenai subjek ini dan yang bertentangan dengan orang-orang dulithgow   \n",
       "4                                                                                                                                                                                                                                                                                                                                                                                                                                                                                                                                                                                                                                                                                                                                                                                                                      d'aww! dia sepadan dengan warna latar belakang saya seolah-olah terperangkap dengan. terima kasih. bercakap, januari, utc   \n",
       "...                                                                                                                                                                                                                                                                                                                                                                                                                                                                                                                                                                                                                                                                                                                                                                                                                                                                                                                                          ...   \n",
       "17906                                                                                                                                                                                                                                                                                                                                                                                                                                                                                                                                                                banjir! kota itu tenggelam! Berikut adalah beberapa pics yang besar kereta parade ucc terapung! mahkamah daerah kegemaran peribadi saya. kebanyakan bekalan air telah tercemar, dan penjaga itu akan habis dalam masa terdekat! hospital peminjam dan hotel kingsley terpaksa dipindahkan pada awal pagi. di sini adalah ringkasan ringkas pengisytiharan peristiwa. iaitu.   \n",
       "17907                                                                                                                                                                                                                                                                                                                                                                                                                                                                                                                           iso suntikan rasionalitas yang tenang. dengan pemahaman yang sangat baik mengenai dasar dan garis panduan rasmi wikipedia, dan ditambah pula dengan rekod jejak anda untuk menyuntikkan rasionalitas yang tenang ke dalam perbincangan yang hangat, saya tertanya-tanya jika anda boleh mengambil gander di artikel kesatuan utara amerika dan menawarkan beberapa pandangan sebelum perubahan bir terima kasih,   \n",
       "17908                                                                                                                                                                                                                                                                                                organisasi kiruv sebagai pendatang baru yang jelas kepada wikipedia, saya ingin mengucapkan terima kasih kepada jawatan anda yang matang dan peringkat di sini. ini hampir betul-betul jenis pendekatan dan pemikiran yang pada akhirnya seolah-olah pergi bersama dengan orang-orang yang akan menyunting usaha amal ini dengan baik, akan menikmati wikipedia, dan secara peribadi akan belajar dari usaha mereka dan melalui usaha yang sama akan memperbaiki halaman yang mereka edit untuk manfaat orang lain yang mereka tidak akan pernah tahu. Saya ingin mengatakan 'terima kasih', dan teruskan usaha yang sama! e-mel cakap kaki   \n",
       "17909                                                                                                                                                                                   ya tidak ada yang dikategorikan sebagai wilayah hitam yang didiami, wilayah penghuni Yahudi, wilayah yang didiami putih dan lain-lain. hanya mengkategorikan new york berdasarkan etnik dengan mudah boleh menjadi mimpi ngeri. anda tahu soalan seperti berapa peratus yang layak menjadi bandar hitam dan sebagainya. . keluar juga berasa bebas untuk menyertai cakera diyarbakir dan modal kurdistan turkish. ini mungkin langkah pertama dalam orang lain memahami pemahaman saya. pertama kali bermula dengan kategori kurdistan yang cukup buruk sejauh yang saya peduli, maka kita mempunyai kurdistan turkish, maka kita telah diyarbakir menjadi kota dominan kurdish. . . . dan sekarang diyarbakir adalah ibu kota kurdistan turkish. keluar   \n",
       "17910  selamat datang! Halo,, dan selamat datang ke wikipedia! terima kasih atas sumbangan anda. Saya harap anda suka tempat dan memutuskan untuk tinggal. di sini adalah beberapa halaman yang mungkin anda dapati membantu lima pilar tutorial wikipedia cara mengedit halaman bagaimana menulis artikel artikel gaya yang hebat, saya harap anda suka mengedit di sini dan menjadi wikipedian! sila tandatangan mesej anda di laman perbincangan menggunakan empat tildes ini secara automatik akan memasukkan nama pengguna dan tarikh anda. jika anda memerlukan bantuan, periksa soalan wikipedia, tanya saya, atau tanyakan soalan anda di halaman ini dan kemudian letakkan bantuan sebelum soalan itu. lagi, selamat datang! parodi vs. agama pada monster spaghetti terbang sebagai komen dalam permintaan intro, sila jangan keluarkan parodi perkataan tanpa terlebih dahulu membincangkannya di halaman perbincangan. terima kasih.   \n",
       "\n",
       "       class  \n",
       "0          1  \n",
       "1          0  \n",
       "2          0  \n",
       "3          0  \n",
       "4          0  \n",
       "...      ...  \n",
       "17906      0  \n",
       "17907      0  \n",
       "17908      0  \n",
       "17909      0  \n",
       "17910      0  \n",
       "\n",
       "[151118 rows x 2 columns]"
      ]
     },
     "execution_count": 97,
     "metadata": {},
     "output_type": "execute_result"
    }
   ],
   "source": [
    "#Renaming columns\n",
    "malay_ds = malay_ds.rename(columns = {'0' : 'comments', 'toxic' : 'class'})\n",
    "\n",
    "#Displaying malay dataset after renaming columns\n",
    "malay_ds"
   ]
  },
  {
   "cell_type": "code",
   "execution_count": null,
   "metadata": {
    "colab": {
     "base_uri": "https://localhost:8080/"
    },
    "executionInfo": {
     "elapsed": 411,
     "status": "ok",
     "timestamp": 1640237693769,
     "user": {
      "displayName": "Moy Tian Xiang",
      "photoUrl": "https://lh3.googleusercontent.com/a/default-user=s64",
      "userId": "17517672150917689324"
     },
     "user_tz": -480
    },
    "gradient": {
     "editing": false,
     "id": "b75aa1f0-95fb-41b7-895b-ebe5fbbef82d",
     "kernelId": "0c0438cc-8809-4072-a10a-acb706ba8551"
    },
    "id": "SgyP8NDXMGDg",
    "outputId": "4971e90f-22ff-40ee-fec5-f027528999a6"
   },
   "outputs": [
    {
     "data": {
      "text/plain": [
       "comments    261\n",
       "class         0\n",
       "dtype: int64"
      ]
     },
     "execution_count": 98,
     "metadata": {},
     "output_type": "execute_result"
    }
   ],
   "source": [
    "#Check if there is any missing values\n",
    "malay_ds.isna().sum()"
   ]
  },
  {
   "cell_type": "code",
   "execution_count": null,
   "metadata": {
    "colab": {
     "base_uri": "https://localhost:8080/"
    },
    "executionInfo": {
     "elapsed": 4,
     "status": "ok",
     "timestamp": 1640237695314,
     "user": {
      "displayName": "Moy Tian Xiang",
      "photoUrl": "https://lh3.googleusercontent.com/a/default-user=s64",
      "userId": "17517672150917689324"
     },
     "user_tz": -480
    },
    "gradient": {
     "editing": false,
     "id": "b04402f2-b71f-41ba-b045-26498efa5255",
     "kernelId": "0c0438cc-8809-4072-a10a-acb706ba8551"
    },
    "id": "KCyzYUqH-Rgf",
    "outputId": "d093f6fb-883e-46a3-fbad-fb3b00cd4a33"
   },
   "outputs": [
    {
     "data": {
      "text/plain": [
       "comments    0\n",
       "class       0\n",
       "dtype: int64"
      ]
     },
     "execution_count": 99,
     "metadata": {},
     "output_type": "execute_result"
    }
   ],
   "source": [
    "#Removing observations with missing values\n",
    "malay_ds = malay_ds[malay_ds['comments'].notna()]\n",
    "\n",
    "#Check for any missing values after removal\n",
    "malay_ds.isna().sum()\n"
   ]
  },
  {
   "cell_type": "code",
   "execution_count": null,
   "metadata": {
    "colab": {
     "base_uri": "https://localhost:8080/"
    },
    "executionInfo": {
     "elapsed": 458,
     "status": "ok",
     "timestamp": 1640237705346,
     "user": {
      "displayName": "Moy Tian Xiang",
      "photoUrl": "https://lh3.googleusercontent.com/a/default-user=s64",
      "userId": "17517672150917689324"
     },
     "user_tz": -480
    },
    "gradient": {
     "editing": false,
     "id": "40cdedf0-41a7-41c6-a348-805111634631",
     "kernelId": "0c0438cc-8809-4072-a10a-acb706ba8551"
    },
    "id": "CBVGPEmv6x17",
    "outputId": "5f5c90ff-4999-436a-8835-2825bc8e26a6"
   },
   "outputs": [
    {
     "data": {
      "text/plain": [
       "0    135466\n",
       "1     15391\n",
       "Name: class, dtype: int64"
      ]
     },
     "execution_count": 100,
     "metadata": {},
     "output_type": "execute_result"
    }
   ],
   "source": [
    "#Counting the number of instances in each class\n",
    "malay_ds['class'].value_counts()"
   ]
  },
  {
   "cell_type": "code",
   "execution_count": null,
   "metadata": {
    "collapsed": false,
    "gradient": {
     "editing": false,
     "id": "ff311fc1-508f-49bb-983c-cb781325be6c",
     "kernelId": "0c0438cc-8809-4072-a10a-acb706ba8551",
     "source_hidden": false
    },
    "id": "cWxmUdsYLxKU",
    "jupyter": {
     "outputs_hidden": false
    },
    "outputId": "44aa9562-5267-4d28-a905-521a042135bf"
   },
   "outputs": [
    {
     "data": {
      "text/plain": [
       "(array([0, 1]), [Text(0, 0, '0'), Text(1, 0, '1')])"
      ]
     },
     "execution_count": 101,
     "metadata": {},
     "output_type": "execute_result"
    },
    {
     "data": {
      "image/png": "[encoded data removed]",
      "text/plain": [
       "<Figure size 432x288 with 1 Axes>"
      ]
     },
     "metadata": {
      "needs_background": "light"
     },
     "output_type": "display_data"
    }
   ],
   "source": [
    "#Plotting the class distribution \n",
    "malay_ds['class'].value_counts().plot.bar()\n",
    "plt.title(\"Class Distribution of Malay Dataset\")\n",
    "plt.xticks(rotation = 360)"
   ]
  },
  {
   "cell_type": "code",
   "execution_count": null,
   "metadata": {
    "colab": {
     "base_uri": "https://localhost:8080/"
    },
    "executionInfo": {
     "elapsed": 5,
     "status": "ok",
     "timestamp": 1640237707208,
     "user": {
      "displayName": "Moy Tian Xiang",
      "photoUrl": "https://lh3.googleusercontent.com/a/default-user=s64",
      "userId": "17517672150917689324"
     },
     "user_tz": -480
    },
    "gradient": {
     "editing": false,
     "id": "626d5dcf-72cb-40ce-b85d-e49abe5f2beb",
     "kernelId": "0c0438cc-8809-4072-a10a-acb706ba8551"
    },
    "id": "keajTz_o_g6d",
    "outputId": "f9cf938e-0b69-4bc6-b485-d9c9ba55f1f9"
   },
   "outputs": [
    {
     "data": {
      "text/plain": [
       "0    89.797623\n",
       "1    10.202377\n",
       "Name: class, dtype: float64"
      ]
     },
     "execution_count": 102,
     "metadata": {},
     "output_type": "execute_result"
    }
   ],
   "source": [
    "#Finding the percentage of each class \n",
    "malay_ds['class'].value_counts(normalize= True)*100"
   ]
  },
  {
   "cell_type": "code",
   "execution_count": null,
   "metadata": {
    "collapsed": true,
    "gradient": {
     "editing": false,
     "id": "a68ddfb4-02e4-492a-a89c-0018445e12b5",
     "kernelId": "0c0438cc-8809-4072-a10a-acb706ba8551",
     "source_hidden": false
    },
    "id": "LUK_r-6nLxKU",
    "jupyter": {
     "outputs_hidden": true
    },
    "outputId": "0ee398bb-1e21-455d-9554-4ef03e8fff7f"
   },
   "outputs": [
    {
     "name": "stdout",
     "output_type": "stream",
     "text": [
      "Collecting sklearn\n",
      "  Downloading sklearn-0.0.tar.gz (1.1 kB)\n",
      "Collecting scikit-learn\n",
      "  Downloading scikit_learn-0.24.2-cp36-cp36m-manylinux2010_x86_64.whl (22.2 MB)\n",
      "\u001b[K     |################################| 22.2 MB 329 kB/s  eta 0:00:01    |##########                      | 7.1 MB 14.7 MB/s eta 0:00:02     |###########                     | 8.3 MB 14.7 MB/s eta 0:00:01\n",
      "\u001b[?25hCollecting scipy>=0.19.1\n",
      "  Downloading scipy-1.5.4-cp36-cp36m-manylinux1_x86_64.whl (25.9 MB)\n",
      "\u001b[K     |################################| 25.9 MB 24.3 MB/s eta 0:00:01\n",
      "\u001b[?25hRequirement already satisfied: joblib>=0.11 in /usr/local/lib/python3.6/dist-packages (from scikit-learn->sklearn) (0.17.0)\n",
      "Collecting threadpoolctl>=2.0.0\n",
      "  Downloading threadpoolctl-3.0.0-py3-none-any.whl (14 kB)\n",
      "Requirement already satisfied: numpy>=1.13.3 in /usr/local/lib/python3.6/dist-packages (from scikit-learn->sklearn) (1.18.5)\n",
      "Building wheels for collected packages: sklearn\n",
      "  Building wheel for sklearn (setup.py) ... \u001b[?25ldone\n",
      "\u001b[?25h  Created wheel for sklearn: filename=sklearn-0.0-py2.py3-none-any.whl size=2397 sha256=01f7d833d90bad9f587f0dbafaf00dfa4c5ce520fc5b3230e9c6bcfe5999bc70\n",
      "  Stored in directory: /root/.cache/pip/wheels/23/9d/42/5ec745cbbb17517000a53cecc49d6a865450d1f5cb16dc8a9c\n",
      "Successfully built sklearn\n",
      "Installing collected packages: scipy, threadpoolctl, scikit-learn, sklearn\n",
      "Successfully installed scikit-learn-0.24.2 scipy-1.5.4 sklearn-0.0 threadpoolctl-3.0.0\n",
      "\u001b[33mWARNING: You are using pip version 20.2.4; however, version 21.3.1 is available.\n",
      "You should consider upgrading via the '/usr/bin/python3 -m pip install --upgrade pip' command.\u001b[0m\n"
     ]
    }
   ],
   "source": [
    "#Installing sklearn\n",
    "!pip install sklearn"
   ]
  },
  {
   "cell_type": "code",
   "execution_count": null,
   "metadata": {
    "gradient": {
     "editing": false,
     "id": "73f43a30-0388-4943-97c4-c151c352f5ce",
     "kernelId": "0c0438cc-8809-4072-a10a-acb706ba8551"
    },
    "id": "iP26dXyFIqsq"
   },
   "outputs": [],
   "source": [
    "from sklearn.utils import resample\n",
    "\n",
    "# Separate toxic and non-toxic classes\n",
    "malay_ds_toxic = malay_ds.loc[malay_ds['class'] == 1]\n",
    "malay_ds_non_toxic = malay_ds.loc[malay_ds['class'] == 0]\n",
    "\n",
    " \n",
    "# Downsample non-toxic class\n",
    "malay_ds_non_toxic_downsampled = resample(malay_ds_non_toxic, \n",
    "                                 replace= False,    # sample without replacement\n",
    "                                 n_samples= 15391,   # to match minority class\n",
    "                                 random_state= 10)   # reproducible results\n",
    " \n",
    "# Combine toxic class with downsampled non-toxic class\n",
    "malay_ds = pd.concat([malay_ds_non_toxic_downsampled, malay_ds_toxic])"
   ]
  },
  {
   "cell_type": "code",
   "execution_count": null,
   "metadata": {
    "colab": {
     "base_uri": "https://localhost:8080/"
    },
    "executionInfo": {
     "elapsed": 528,
     "status": "ok",
     "timestamp": 1640237711710,
     "user": {
      "displayName": "Moy Tian Xiang",
      "photoUrl": "https://lh3.googleusercontent.com/a/default-user=s64",
      "userId": "17517672150917689324"
     },
     "user_tz": -480
    },
    "gradient": {
     "editing": false,
     "id": "50ef26e5-0de8-4271-8622-50574fdae7a4",
     "kernelId": "0c0438cc-8809-4072-a10a-acb706ba8551"
    },
    "id": "BnTXdJK_KGoW",
    "outputId": "c7e82288-d42c-4c13-dace-de0786ab6b61"
   },
   "outputs": [
    {
     "data": {
      "text/plain": [
       "1    15391\n",
       "0    15391\n",
       "Name: class, dtype: int64"
      ]
     },
     "execution_count": 105,
     "metadata": {},
     "output_type": "execute_result"
    }
   ],
   "source": [
    "#Display new class counts\n",
    "malay_ds['class'].value_counts()"
   ]
  },
  {
   "cell_type": "code",
   "execution_count": null,
   "metadata": {
    "collapsed": false,
    "gradient": {
     "editing": false,
     "id": "8d5197ed-7b03-4778-98e8-03381b93e6e5",
     "kernelId": "0c0438cc-8809-4072-a10a-acb706ba8551",
     "source_hidden": false
    },
    "id": "ovM0rkqALxKV",
    "jupyter": {
     "outputs_hidden": false
    },
    "outputId": "4520b9b2-41af-418c-c4a5-13efd88e1b8e"
   },
   "outputs": [
    {
     "data": {
      "text/plain": [
       "(array([0, 1]), [Text(0, 0, '1'), Text(1, 0, '0')])"
      ]
     },
     "execution_count": 106,
     "metadata": {},
     "output_type": "execute_result"
    },
    {
     "data": {
      "image/png": "[encoded data removed]",
      "text/plain": [
       "<Figure size 432x288 with 1 Axes>"
      ]
     },
     "metadata": {
      "needs_background": "light"
     },
     "output_type": "display_data"
    }
   ],
   "source": [
    "#Plotting class distribution of downsampled Malay dataset\n",
    "malay_ds['class'].value_counts().plot.bar()\n",
    "plt.title(\"Class Distribution of Downsampled Malay Dataset\")\n",
    "plt.xticks(rotation=360)"
   ]
  },
  {
   "cell_type": "code",
   "execution_count": null,
   "metadata": {
    "colab": {
     "base_uri": "https://localhost:8080/"
    },
    "executionInfo": {
     "elapsed": 3,
     "status": "ok",
     "timestamp": 1640237713672,
     "user": {
      "displayName": "Moy Tian Xiang",
      "photoUrl": "https://lh3.googleusercontent.com/a/default-user=s64",
      "userId": "17517672150917689324"
     },
     "user_tz": -480
    },
    "gradient": {
     "editing": false,
     "id": "eb296c22-28f4-4d1f-a7b4-3d0699d176ff",
     "kernelId": "0c0438cc-8809-4072-a10a-acb706ba8551"
    },
    "id": "odGfvXIhMwHE",
    "outputId": "da35d2d7-30d8-4a16-ec75-a1752d6f6cc1"
   },
   "outputs": [
    {
     "data": {
      "text/plain": [
       "1    50.0\n",
       "0    50.0\n",
       "Name: class, dtype: float64"
      ]
     },
     "execution_count": 107,
     "metadata": {},
     "output_type": "execute_result"
    }
   ],
   "source": [
    "#Display new percentage of classes\n",
    "malay_ds['class'].value_counts(normalize= True)*100"
   ]
  },
  {
   "cell_type": "markdown",
   "metadata": {
    "gradient": {
     "editing": false,
     "id": "8a9fd5ec-9540-40f8-9c57-035bef9de191",
     "kernelId": "0c0438cc-8809-4072-a10a-acb706ba8551"
    },
    "id": "Hf7tl8BsUhjf"
   },
   "source": [
    "# Preprocessing datasets"
   ]
  },
  {
   "cell_type": "code",
   "execution_count": null,
   "metadata": {
    "colab": {
     "base_uri": "https://localhost:8080/"
    },
    "collapsed": true,
    "executionInfo": {
     "elapsed": 4322,
     "status": "ok",
     "timestamp": 1640252038524,
     "user": {
      "displayName": "Moy Tian Xiang",
      "photoUrl": "https://lh3.googleusercontent.com/a/default-user=s64",
      "userId": "17517672150917689324"
     },
     "user_tz": -480
    },
    "gradient": {
     "editing": false,
     "id": "80d999e0-c720-416b-9946-8c8cfea1e0ef",
     "kernelId": "0c0438cc-8809-4072-a10a-acb706ba8551"
    },
    "id": "2cfLbeKPEVBq",
    "jupyter": {
     "outputs_hidden": true
    },
    "outputId": "582ce10e-4b79-4217-b92b-741bbf1ee848"
   },
   "outputs": [
    {
     "name": "stdout",
     "output_type": "stream",
     "text": [
      "Collecting tweet-preprocessor\n",
      "  Downloading tweet_preprocessor-0.6.0-py3-none-any.whl (27 kB)\n",
      "Installing collected packages: tweet-preprocessor\n",
      "Successfully installed tweet-preprocessor-0.6.0\n",
      "\u001b[33mWARNING: You are using pip version 20.2.4; however, version 21.3.1 is available.\n",
      "You should consider upgrading via the '/usr/bin/python3 -m pip install --upgrade pip' command.\u001b[0m\n"
     ]
    }
   ],
   "source": [
    "#Installing \"tweet-preprocessor\"\n",
    "!pip install tweet-preprocessor"
   ]
  },
  {
   "cell_type": "code",
   "execution_count": null,
   "metadata": {
    "collapsed": true,
    "gradient": {
     "editing": false,
     "id": "55bb182a-641e-4dd6-99c1-e80ad29fe885",
     "kernelId": "0c0438cc-8809-4072-a10a-acb706ba8551",
     "source_hidden": false
    },
    "id": "bYeF8a-gLxKW",
    "jupyter": {
     "outputs_hidden": true
    }
   },
   "outputs": [],
   "source": [
    "#Installing \"nltk\"\n",
    "!pip install nltk"
   ]
  },
  {
   "cell_type": "code",
   "execution_count": null,
   "metadata": {
    "colab": {
     "base_uri": "https://localhost:8080/"
    },
    "collapsed": true,
    "executionInfo": {
     "elapsed": 11268,
     "status": "ok",
     "timestamp": 1640252056683,
     "user": {
      "displayName": "Moy Tian Xiang",
      "photoUrl": "https://lh3.googleusercontent.com/a/default-user=s64",
      "userId": "17517672150917689324"
     },
     "user_tz": -480
    },
    "gradient": {
     "editing": false,
     "id": "645f069b-cc4e-4ba3-b33a-573f4cfdc2be",
     "kernelId": "0c0438cc-8809-4072-a10a-acb706ba8551"
    },
    "id": "u6sWhbYZj29x",
    "jupyter": {
     "outputs_hidden": true
    },
    "outputId": "3166a961-abd8-41f8-ff32-48eee8c78a04"
   },
   "outputs": [
    {
     "name": "stdout",
     "output_type": "stream",
     "text": [
      "Collecting nltk\n",
      "  Downloading nltk-3.6.7-py3-none-any.whl (1.5 MB)\n",
      "\u001b[K     |################################| 1.5 MB 12.4 MB/s eta 0:00:01\n",
      "\u001b[?25hRequirement already satisfied: click in /usr/local/lib/python3.6/dist-packages (from nltk) (7.1.2)\n",
      "Collecting regex>=2021.8.3\n",
      "  Downloading regex-2021.11.10-cp36-cp36m-manylinux_2_17_x86_64.manylinux2014_x86_64.whl (748 kB)\n",
      "\u001b[K     |################################| 748 kB 3.4 MB/s eta 0:00:01     |############                    | 296 kB 3.4 MB/s eta 0:00:01\n",
      "\u001b[?25hRequirement already satisfied: joblib in /usr/local/lib/python3.6/dist-packages (from nltk) (0.17.0)\n",
      "Requirement already satisfied: tqdm in /usr/local/lib/python3.6/dist-packages (from nltk) (4.51.0)\n",
      "Installing collected packages: regex, nltk\n",
      "  Attempting uninstall: regex\n",
      "    Found existing installation: regex 2020.11.13\n",
      "    Uninstalling regex-2020.11.13:\n",
      "      Successfully uninstalled regex-2020.11.13\n",
      "Successfully installed nltk-3.6.7 regex-2021.11.10\n",
      "\u001b[33mWARNING: You are using pip version 20.2.4; however, version 21.3.1 is available.\n",
      "You should consider upgrading via the '/usr/bin/python3 -m pip install --upgrade pip' command.\u001b[0m\n"
     ]
    }
   ],
   "source": [
    "#Installing \"emoji\"\n",
    "!pip install emoji"
   ]
  },
  {
   "cell_type": "markdown",
   "metadata": {
    "gradient": {
     "editing": false,
     "id": "ca33e97c-8eb1-405b-9765-c2d5720274c1",
     "kernelId": "0c0438cc-8809-4072-a10a-acb706ba8551"
    },
    "id": "bu6dAxygKepu"
   },
   "source": [
    "## Preprocessing English dataset"
   ]
  },
  {
   "cell_type": "code",
   "execution_count": null,
   "metadata": {
    "gradient": {
     "editing": true,
     "id": "85c48dc0-e62f-4ad9-80f8-0ca5a1100272",
     "kernelId": "0c0438cc-8809-4072-a10a-acb706ba8551"
    },
    "id": "xzK7RPdy8qP3"
   },
   "outputs": [],
   "source": [
    "#Importing relevant libraries\n",
    "import html\n",
    "import preprocessor as p\n",
    "import string\n",
    "import nltk\n",
    "from nltk.corpus import stopwords\n",
    "from nltk import TweetTokenizer\n",
    "import regex as re\n",
    "import emoji\n",
    "from sklearn.model_selection import train_test_split"
   ]
  },
  {
   "cell_type": "code",
   "execution_count": null,
   "metadata": {
    "colab": {
     "base_uri": "https://localhost:8080/",
     "height": 424
    },
    "executionInfo": {
     "elapsed": 631,
     "status": "ok",
     "timestamp": 1640237748322,
     "user": {
      "displayName": "Moy Tian Xiang",
      "photoUrl": "https://lh3.googleusercontent.com/a/default-user=s64",
      "userId": "17517672150917689324"
     },
     "user_tz": -480
    },
    "gradient": {
     "editing": false,
     "id": "60af9b0e-5d4b-4513-ad05-74d91f15c9cf",
     "kernelId": "0c0438cc-8809-4072-a10a-acb706ba8551"
    },
    "id": "tb5gF084aayG",
    "outputId": "2be79179-9d33-4200-d6e0-a2bb26598248"
   },
   "outputs": [
    {
     "data": {
      "text/html": [
       "<div>\n",
       "<style scoped>\n",
       "    .dataframe tbody tr th:only-of-type {\n",
       "        vertical-align: middle;\n",
       "    }\n",
       "\n",
       "    .dataframe tbody tr th {\n",
       "        vertical-align: top;\n",
       "    }\n",
       "\n",
       "    .dataframe thead th {\n",
       "        text-align: right;\n",
       "    }\n",
       "</style>\n",
       "<table border=\"1\" class=\"dataframe\">\n",
       "  <thead>\n",
       "    <tr style=\"text-align: right;\">\n",
       "      <th></th>\n",
       "      <th>tweet</th>\n",
       "      <th>class</th>\n",
       "    </tr>\n",
       "  </thead>\n",
       "  <tbody>\n",
       "    <tr>\n",
       "      <th>0</th>\n",
       "      <td>!!! RT @mayasolovely: As a woman you shouldn't complain about cleaning up your house. &amp; as a man you should always take the trash out...</td>\n",
       "      <td>0</td>\n",
       "    </tr>\n",
       "    <tr>\n",
       "      <th>1</th>\n",
       "      <td>!!!!! RT @mleew17: boy dats cold...tyga dwn bad for cuffin dat hoe in the 1st place!!</td>\n",
       "      <td>0</td>\n",
       "    </tr>\n",
       "    <tr>\n",
       "      <th>2</th>\n",
       "      <td>!!!!!!! RT @UrKindOfBrand Dawg!!!! RT @80sbaby4life: You ever fuck a bitch and she start to cry? You be confused as shit</td>\n",
       "      <td>0</td>\n",
       "    </tr>\n",
       "    <tr>\n",
       "      <th>3</th>\n",
       "      <td>!!!!!!!!! RT @C_G_Anderson: @viva_based she look like a tranny</td>\n",
       "      <td>0</td>\n",
       "    </tr>\n",
       "    <tr>\n",
       "      <th>4</th>\n",
       "      <td>!!!!!!!!!!!!! RT @ShenikaRoberts: The shit you hear about me might be true or it might be faker than the bitch who told it to ya </td>\n",
       "      <td>0</td>\n",
       "    </tr>\n",
       "    <tr>\n",
       "      <th>...</th>\n",
       "      <td>...</td>\n",
       "      <td>...</td>\n",
       "    </tr>\n",
       "    <tr>\n",
       "      <th>10083</th>\n",
       "      <td>@parkourboy_123 bro take it down u are just a fake ass friend and an ungrateful piece of shit u should be thank faggot</td>\n",
       "      <td>1</td>\n",
       "    </tr>\n",
       "    <tr>\n",
       "      <th>10084</th>\n",
       "      <td>@ARitzka @reverbrony @ObabScribbler @StarryFlame everytime you suck a dick, you look like a faggot. Go figure :P</td>\n",
       "      <td>1</td>\n",
       "    </tr>\n",
       "    <tr>\n",
       "      <th>10085</th>\n",
       "      <td>@kessner_tara this is my pic u faggot</td>\n",
       "      <td>1</td>\n",
       "    </tr>\n",
       "    <tr>\n",
       "      <th>10086</th>\n",
       "      <td>@imreallyjai we need you in chat you dirty faggot. IT'S THE NUTSHACK</td>\n",
       "      <td>1</td>\n",
       "    </tr>\n",
       "    <tr>\n",
       "      <th>10087</th>\n",
       "      <td>@imurbabytonight i was talking to kylie you retarded faggot</td>\n",
       "      <td>1</td>\n",
       "    </tr>\n",
       "  </tbody>\n",
       "</table>\n",
       "<p>34871 rows × 2 columns</p>\n",
       "</div>"
      ],
      "text/plain": [
       "                                                                                                                                          tweet  \\\n",
       "0      !!! RT @mayasolovely: As a woman you shouldn't complain about cleaning up your house. & as a man you should always take the trash out...   \n",
       "1                                                         !!!!! RT @mleew17: boy dats cold...tyga dwn bad for cuffin dat hoe in the 1st place!!   \n",
       "2                      !!!!!!! RT @UrKindOfBrand Dawg!!!! RT @80sbaby4life: You ever fuck a bitch and she start to cry? You be confused as shit   \n",
       "3                                                                                !!!!!!!!! RT @C_G_Anderson: @viva_based she look like a tranny   \n",
       "4            !!!!!!!!!!!!! RT @ShenikaRoberts: The shit you hear about me might be true or it might be faker than the bitch who told it to ya    \n",
       "...                                                                                                                                         ...   \n",
       "10083                    @parkourboy_123 bro take it down u are just a fake ass friend and an ungrateful piece of shit u should be thank faggot   \n",
       "10084                          @ARitzka @reverbrony @ObabScribbler @StarryFlame everytime you suck a dick, you look like a faggot. Go figure :P   \n",
       "10085                                                                                                     @kessner_tara this is my pic u faggot   \n",
       "10086                                                                      @imreallyjai we need you in chat you dirty faggot. IT'S THE NUTSHACK   \n",
       "10087                                                                               @imurbabytonight i was talking to kylie you retarded faggot   \n",
       "\n",
       "       class  \n",
       "0          0  \n",
       "1          0  \n",
       "2          0  \n",
       "3          0  \n",
       "4          0  \n",
       "...      ...  \n",
       "10083      1  \n",
       "10084      1  \n",
       "10085      1  \n",
       "10086      1  \n",
       "10087      1  \n",
       "\n",
       "[34871 rows x 2 columns]"
      ]
     },
     "execution_count": 112,
     "metadata": {},
     "output_type": "execute_result"
    }
   ],
   "source": [
    "#Decode the HTML entities to emojis\n",
    "eng_ds['tweet'] = eng_ds['tweet'].apply(lambda x: html.unescape(x))\n",
    "\n",
    "#Displaying english dataset after decoding emojis\n",
    "eng_ds"
   ]
  },
  {
   "cell_type": "code",
   "execution_count": null,
   "metadata": {
    "colab": {
     "base_uri": "https://localhost:8080/",
     "height": 424
    },
    "executionInfo": {
     "elapsed": 6648,
     "status": "ok",
     "timestamp": 1640237758287,
     "user": {
      "displayName": "Moy Tian Xiang",
      "photoUrl": "https://lh3.googleusercontent.com/a/default-user=s64",
      "userId": "17517672150917689324"
     },
     "user_tz": -480
    },
    "gradient": {
     "editing": false,
     "id": "8562ce6d-344c-4e32-bee4-8eccac9657bd",
     "kernelId": "0c0438cc-8809-4072-a10a-acb706ba8551"
    },
    "id": "7sw0D4-DDIB0",
    "outputId": "87b20ddd-c543-43f0-8703-cf7ea3994aa2"
   },
   "outputs": [
    {
     "data": {
      "text/html": [
       "<div>\n",
       "<style scoped>\n",
       "    .dataframe tbody tr th:only-of-type {\n",
       "        vertical-align: middle;\n",
       "    }\n",
       "\n",
       "    .dataframe tbody tr th {\n",
       "        vertical-align: top;\n",
       "    }\n",
       "\n",
       "    .dataframe thead th {\n",
       "        text-align: right;\n",
       "    }\n",
       "</style>\n",
       "<table border=\"1\" class=\"dataframe\">\n",
       "  <thead>\n",
       "    <tr style=\"text-align: right;\">\n",
       "      <th></th>\n",
       "      <th>tweet</th>\n",
       "      <th>class</th>\n",
       "      <th>text</th>\n",
       "    </tr>\n",
       "  </thead>\n",
       "  <tbody>\n",
       "    <tr>\n",
       "      <th>0</th>\n",
       "      <td>!!! RT @mayasolovely: As a woman you shouldn't complain about cleaning up your house. &amp; as a man you should always take the trash out...</td>\n",
       "      <td>0</td>\n",
       "      <td>!!! RT : As a woman you shouldn't complain about cleaning up your house. &amp; as a man you should always take the trash out...</td>\n",
       "    </tr>\n",
       "    <tr>\n",
       "      <th>1</th>\n",
       "      <td>!!!!! RT @mleew17: boy dats cold...tyga dwn bad for cuffin dat hoe in the 1st place!!</td>\n",
       "      <td>0</td>\n",
       "      <td>!!!!! RT : boy dats cold...tyga dwn bad for cuffin dat hoe in the 1st place!!</td>\n",
       "    </tr>\n",
       "    <tr>\n",
       "      <th>2</th>\n",
       "      <td>!!!!!!! RT @UrKindOfBrand Dawg!!!! RT @80sbaby4life: You ever fuck a bitch and she start to cry? You be confused as shit</td>\n",
       "      <td>0</td>\n",
       "      <td>!!!!!!! RT Dawg!!!! RT : You ever fuck a bitch and she start to cry? You be confused as shit</td>\n",
       "    </tr>\n",
       "    <tr>\n",
       "      <th>3</th>\n",
       "      <td>!!!!!!!!! RT @C_G_Anderson: @viva_based she look like a tranny</td>\n",
       "      <td>0</td>\n",
       "      <td>!!!!!!!!! RT : she look like a tranny</td>\n",
       "    </tr>\n",
       "    <tr>\n",
       "      <th>4</th>\n",
       "      <td>!!!!!!!!!!!!! RT @ShenikaRoberts: The shit you hear about me might be true or it might be faker than the bitch who told it to ya </td>\n",
       "      <td>0</td>\n",
       "      <td>!!!!!!!!!!!!! RT : The shit you hear about me might be true or it might be faker than the bitch who told it to ya </td>\n",
       "    </tr>\n",
       "    <tr>\n",
       "      <th>...</th>\n",
       "      <td>...</td>\n",
       "      <td>...</td>\n",
       "      <td>...</td>\n",
       "    </tr>\n",
       "    <tr>\n",
       "      <th>10083</th>\n",
       "      <td>@parkourboy_123 bro take it down u are just a fake ass friend and an ungrateful piece of shit u should be thank faggot</td>\n",
       "      <td>1</td>\n",
       "      <td>bro take it down u are just a fake ass friend and an ungrateful piece of shit u should be thank faggot</td>\n",
       "    </tr>\n",
       "    <tr>\n",
       "      <th>10084</th>\n",
       "      <td>@ARitzka @reverbrony @ObabScribbler @StarryFlame everytime you suck a dick, you look like a faggot. Go figure :P</td>\n",
       "      <td>1</td>\n",
       "      <td>everytime you suck a dick, you look like a faggot. Go figure :P</td>\n",
       "    </tr>\n",
       "    <tr>\n",
       "      <th>10085</th>\n",
       "      <td>@kessner_tara this is my pic u faggot</td>\n",
       "      <td>1</td>\n",
       "      <td>this is my pic u faggot</td>\n",
       "    </tr>\n",
       "    <tr>\n",
       "      <th>10086</th>\n",
       "      <td>@imreallyjai we need you in chat you dirty faggot. IT'S THE NUTSHACK</td>\n",
       "      <td>1</td>\n",
       "      <td>we need you in chat you dirty faggot. IT'S THE NUTSHACK</td>\n",
       "    </tr>\n",
       "    <tr>\n",
       "      <th>10087</th>\n",
       "      <td>@imurbabytonight i was talking to kylie you retarded faggot</td>\n",
       "      <td>1</td>\n",
       "      <td>i was talking to kylie you retarded faggot</td>\n",
       "    </tr>\n",
       "  </tbody>\n",
       "</table>\n",
       "<p>34871 rows × 3 columns</p>\n",
       "</div>"
      ],
      "text/plain": [
       "                                                                                                                                          tweet  \\\n",
       "0      !!! RT @mayasolovely: As a woman you shouldn't complain about cleaning up your house. & as a man you should always take the trash out...   \n",
       "1                                                         !!!!! RT @mleew17: boy dats cold...tyga dwn bad for cuffin dat hoe in the 1st place!!   \n",
       "2                      !!!!!!! RT @UrKindOfBrand Dawg!!!! RT @80sbaby4life: You ever fuck a bitch and she start to cry? You be confused as shit   \n",
       "3                                                                                !!!!!!!!! RT @C_G_Anderson: @viva_based she look like a tranny   \n",
       "4            !!!!!!!!!!!!! RT @ShenikaRoberts: The shit you hear about me might be true or it might be faker than the bitch who told it to ya    \n",
       "...                                                                                                                                         ...   \n",
       "10083                    @parkourboy_123 bro take it down u are just a fake ass friend and an ungrateful piece of shit u should be thank faggot   \n",
       "10084                          @ARitzka @reverbrony @ObabScribbler @StarryFlame everytime you suck a dick, you look like a faggot. Go figure :P   \n",
       "10085                                                                                                     @kessner_tara this is my pic u faggot   \n",
       "10086                                                                      @imreallyjai we need you in chat you dirty faggot. IT'S THE NUTSHACK   \n",
       "10087                                                                               @imurbabytonight i was talking to kylie you retarded faggot   \n",
       "\n",
       "       class  \\\n",
       "0          0   \n",
       "1          0   \n",
       "2          0   \n",
       "3          0   \n",
       "4          0   \n",
       "...      ...   \n",
       "10083      1   \n",
       "10084      1   \n",
       "10085      1   \n",
       "10086      1   \n",
       "10087      1   \n",
       "\n",
       "                                                                                                                              text  \n",
       "0      !!! RT : As a woman you shouldn't complain about cleaning up your house. & as a man you should always take the trash out...  \n",
       "1                                                    !!!!! RT : boy dats cold...tyga dwn bad for cuffin dat hoe in the 1st place!!  \n",
       "2                                     !!!!!!! RT Dawg!!!! RT : You ever fuck a bitch and she start to cry? You be confused as shit  \n",
       "3                                                                                            !!!!!!!!! RT : she look like a tranny  \n",
       "4              !!!!!!!!!!!!! RT : The shit you hear about me might be true or it might be faker than the bitch who told it to ya   \n",
       "...                                                                                                                            ...  \n",
       "10083                       bro take it down u are just a fake ass friend and an ungrateful piece of shit u should be thank faggot  \n",
       "10084                                                              everytime you suck a dick, you look like a faggot. Go figure :P  \n",
       "10085                                                                                                      this is my pic u faggot  \n",
       "10086                                                                      we need you in chat you dirty faggot. IT'S THE NUTSHACK  \n",
       "10087                                                                                   i was talking to kylie you retarded faggot  \n",
       "\n",
       "[34871 rows x 3 columns]"
      ]
     },
     "execution_count": 113,
     "metadata": {},
     "output_type": "execute_result"
    }
   ],
   "source": [
    "# Removing user mentions, and URLs\n",
    "def remove_mentions_url(text):\n",
    "  p.set_options(p.OPT.MENTION,  \n",
    "                p.OPT.URL)\n",
    "  cleaned_text = p.clean(text)\n",
    "  return(cleaned_text)\n",
    "\n",
    "#Creating a new column for cleaned text\n",
    "eng_ds['text'] = eng_ds['tweet'].apply(remove_mentions_url)\n",
    "\n",
    "#Displaying english dataset after removing user mentions and URLs\n",
    "eng_ds"
   ]
  },
  {
   "cell_type": "code",
   "execution_count": null,
   "metadata": {
    "colab": {
     "base_uri": "https://localhost:8080/",
     "height": 424
    },
    "executionInfo": {
     "elapsed": 1081,
     "status": "ok",
     "timestamp": 1640237761591,
     "user": {
      "displayName": "Moy Tian Xiang",
      "photoUrl": "https://lh3.googleusercontent.com/a/default-user=s64",
      "userId": "17517672150917689324"
     },
     "user_tz": -480
    },
    "gradient": {
     "editing": false,
     "id": "3e542b53-58c9-488d-b2ae-11d65f0998a3",
     "kernelId": "0c0438cc-8809-4072-a10a-acb706ba8551"
    },
    "id": "BtpClsbsLQiY",
    "outputId": "4a8b9f9b-d5b7-40fd-d2a7-763dc4f13577"
   },
   "outputs": [
    {
     "data": {
      "text/html": [
       "<div>\n",
       "<style scoped>\n",
       "    .dataframe tbody tr th:only-of-type {\n",
       "        vertical-align: middle;\n",
       "    }\n",
       "\n",
       "    .dataframe tbody tr th {\n",
       "        vertical-align: top;\n",
       "    }\n",
       "\n",
       "    .dataframe thead th {\n",
       "        text-align: right;\n",
       "    }\n",
       "</style>\n",
       "<table border=\"1\" class=\"dataframe\">\n",
       "  <thead>\n",
       "    <tr style=\"text-align: right;\">\n",
       "      <th></th>\n",
       "      <th>tweet</th>\n",
       "      <th>class</th>\n",
       "      <th>text</th>\n",
       "    </tr>\n",
       "  </thead>\n",
       "  <tbody>\n",
       "    <tr>\n",
       "      <th>0</th>\n",
       "      <td>!!! RT @mayasolovely: As a woman you shouldn't complain about cleaning up your house. &amp; as a man you should always take the trash out...</td>\n",
       "      <td>0</td>\n",
       "      <td>RT  As a woman you shouldnt complain about cleaning up your house  as a man you should always take the trash out</td>\n",
       "    </tr>\n",
       "    <tr>\n",
       "      <th>1</th>\n",
       "      <td>!!!!! RT @mleew17: boy dats cold...tyga dwn bad for cuffin dat hoe in the 1st place!!</td>\n",
       "      <td>0</td>\n",
       "      <td>RT  boy dats coldtyga dwn bad for cuffin dat hoe in the 1st place</td>\n",
       "    </tr>\n",
       "    <tr>\n",
       "      <th>2</th>\n",
       "      <td>!!!!!!! RT @UrKindOfBrand Dawg!!!! RT @80sbaby4life: You ever fuck a bitch and she start to cry? You be confused as shit</td>\n",
       "      <td>0</td>\n",
       "      <td>RT Dawg RT  You ever fuck a bitch and she start to cry You be confused as shit</td>\n",
       "    </tr>\n",
       "    <tr>\n",
       "      <th>3</th>\n",
       "      <td>!!!!!!!!! RT @C_G_Anderson: @viva_based she look like a tranny</td>\n",
       "      <td>0</td>\n",
       "      <td>RT  she look like a tranny</td>\n",
       "    </tr>\n",
       "    <tr>\n",
       "      <th>4</th>\n",
       "      <td>!!!!!!!!!!!!! RT @ShenikaRoberts: The shit you hear about me might be true or it might be faker than the bitch who told it to ya </td>\n",
       "      <td>0</td>\n",
       "      <td>RT  The shit you hear about me might be true or it might be faker than the bitch who told it to ya </td>\n",
       "    </tr>\n",
       "    <tr>\n",
       "      <th>...</th>\n",
       "      <td>...</td>\n",
       "      <td>...</td>\n",
       "      <td>...</td>\n",
       "    </tr>\n",
       "    <tr>\n",
       "      <th>10083</th>\n",
       "      <td>@parkourboy_123 bro take it down u are just a fake ass friend and an ungrateful piece of shit u should be thank faggot</td>\n",
       "      <td>1</td>\n",
       "      <td>bro take it down u are just a fake ass friend and an ungrateful piece of shit u should be thank faggot</td>\n",
       "    </tr>\n",
       "    <tr>\n",
       "      <th>10084</th>\n",
       "      <td>@ARitzka @reverbrony @ObabScribbler @StarryFlame everytime you suck a dick, you look like a faggot. Go figure :P</td>\n",
       "      <td>1</td>\n",
       "      <td>everytime you suck a dick you look like a faggot Go figure P</td>\n",
       "    </tr>\n",
       "    <tr>\n",
       "      <th>10085</th>\n",
       "      <td>@kessner_tara this is my pic u faggot</td>\n",
       "      <td>1</td>\n",
       "      <td>this is my pic u faggot</td>\n",
       "    </tr>\n",
       "    <tr>\n",
       "      <th>10086</th>\n",
       "      <td>@imreallyjai we need you in chat you dirty faggot. IT'S THE NUTSHACK</td>\n",
       "      <td>1</td>\n",
       "      <td>we need you in chat you dirty faggot ITS THE NUTSHACK</td>\n",
       "    </tr>\n",
       "    <tr>\n",
       "      <th>10087</th>\n",
       "      <td>@imurbabytonight i was talking to kylie you retarded faggot</td>\n",
       "      <td>1</td>\n",
       "      <td>i was talking to kylie you retarded faggot</td>\n",
       "    </tr>\n",
       "  </tbody>\n",
       "</table>\n",
       "<p>34871 rows × 3 columns</p>\n",
       "</div>"
      ],
      "text/plain": [
       "                                                                                                                                          tweet  \\\n",
       "0      !!! RT @mayasolovely: As a woman you shouldn't complain about cleaning up your house. & as a man you should always take the trash out...   \n",
       "1                                                         !!!!! RT @mleew17: boy dats cold...tyga dwn bad for cuffin dat hoe in the 1st place!!   \n",
       "2                      !!!!!!! RT @UrKindOfBrand Dawg!!!! RT @80sbaby4life: You ever fuck a bitch and she start to cry? You be confused as shit   \n",
       "3                                                                                !!!!!!!!! RT @C_G_Anderson: @viva_based she look like a tranny   \n",
       "4            !!!!!!!!!!!!! RT @ShenikaRoberts: The shit you hear about me might be true or it might be faker than the bitch who told it to ya    \n",
       "...                                                                                                                                         ...   \n",
       "10083                    @parkourboy_123 bro take it down u are just a fake ass friend and an ungrateful piece of shit u should be thank faggot   \n",
       "10084                          @ARitzka @reverbrony @ObabScribbler @StarryFlame everytime you suck a dick, you look like a faggot. Go figure :P   \n",
       "10085                                                                                                     @kessner_tara this is my pic u faggot   \n",
       "10086                                                                      @imreallyjai we need you in chat you dirty faggot. IT'S THE NUTSHACK   \n",
       "10087                                                                               @imurbabytonight i was talking to kylie you retarded faggot   \n",
       "\n",
       "       class  \\\n",
       "0          0   \n",
       "1          0   \n",
       "2          0   \n",
       "3          0   \n",
       "4          0   \n",
       "...      ...   \n",
       "10083      1   \n",
       "10084      1   \n",
       "10085      1   \n",
       "10086      1   \n",
       "10087      1   \n",
       "\n",
       "                                                                                                                    text  \n",
       "0       RT  As a woman you shouldnt complain about cleaning up your house  as a man you should always take the trash out  \n",
       "1                                                      RT  boy dats coldtyga dwn bad for cuffin dat hoe in the 1st place  \n",
       "2                                         RT Dawg RT  You ever fuck a bitch and she start to cry You be confused as shit  \n",
       "3                                                                                             RT  she look like a tranny  \n",
       "4                   RT  The shit you hear about me might be true or it might be faker than the bitch who told it to ya   \n",
       "...                                                                                                                  ...  \n",
       "10083             bro take it down u are just a fake ass friend and an ungrateful piece of shit u should be thank faggot  \n",
       "10084                                                       everytime you suck a dick you look like a faggot Go figure P  \n",
       "10085                                                                                            this is my pic u faggot  \n",
       "10086                                                              we need you in chat you dirty faggot ITS THE NUTSHACK  \n",
       "10087                                                                         i was talking to kylie you retarded faggot  \n",
       "\n",
       "[34871 rows x 3 columns]"
      ]
     },
     "execution_count": 114,
     "metadata": {},
     "output_type": "execute_result"
    }
   ],
   "source": [
    "#Defining a function to remove punctuations\n",
    "def remove_punctuation(text):\n",
    "  #Removing smart quotes\n",
    "  text = text.replace('“', '')\n",
    "  text = text.replace('”', '')\n",
    "  #Removing other punctuations\n",
    "  nopunc = [char for char in text if char not in string.punctuation]\n",
    "  nopunc = ''.join(nopunc)\n",
    "  return(nopunc)\n",
    "\n",
    "#Remove punctuations\n",
    "eng_ds['text'] = eng_ds['text'].apply(remove_punctuation)\n",
    "\n",
    "#Displaying english dataset after removing punctuations\n",
    "eng_ds"
   ]
  },
  {
   "cell_type": "code",
   "execution_count": null,
   "metadata": {
    "colab": {
     "base_uri": "https://localhost:8080/",
     "height": 424
    },
    "executionInfo": {
     "elapsed": 1105,
     "status": "ok",
     "timestamp": 1640237765601,
     "user": {
      "displayName": "Moy Tian Xiang",
      "photoUrl": "https://lh3.googleusercontent.com/a/default-user=s64",
      "userId": "17517672150917689324"
     },
     "user_tz": -480
    },
    "gradient": {
     "editing": false,
     "id": "69202940-bfc4-4967-90f8-17c1d3fbb6bf",
     "kernelId": "0c0438cc-8809-4072-a10a-acb706ba8551"
    },
    "id": "NA--FSHqdxJZ",
    "outputId": "b5a8f924-71fa-4ca1-bcac-d7f6fa4250bf"
   },
   "outputs": [
    {
     "data": {
      "text/html": [
       "<div>\n",
       "<style scoped>\n",
       "    .dataframe tbody tr th:only-of-type {\n",
       "        vertical-align: middle;\n",
       "    }\n",
       "\n",
       "    .dataframe tbody tr th {\n",
       "        vertical-align: top;\n",
       "    }\n",
       "\n",
       "    .dataframe thead th {\n",
       "        text-align: right;\n",
       "    }\n",
       "</style>\n",
       "<table border=\"1\" class=\"dataframe\">\n",
       "  <thead>\n",
       "    <tr style=\"text-align: right;\">\n",
       "      <th></th>\n",
       "      <th>tweet</th>\n",
       "      <th>class</th>\n",
       "      <th>text</th>\n",
       "    </tr>\n",
       "  </thead>\n",
       "  <tbody>\n",
       "    <tr>\n",
       "      <th>0</th>\n",
       "      <td>!!! RT @mayasolovely: As a woman you shouldn't complain about cleaning up your house. &amp; as a man you should always take the trash out...</td>\n",
       "      <td>0</td>\n",
       "      <td>RT As a woman you shouldnt complain about cleaning up your house as a man you should always take the trash out</td>\n",
       "    </tr>\n",
       "    <tr>\n",
       "      <th>1</th>\n",
       "      <td>!!!!! RT @mleew17: boy dats cold...tyga dwn bad for cuffin dat hoe in the 1st place!!</td>\n",
       "      <td>0</td>\n",
       "      <td>RT boy dats coldtyga dwn bad for cuffin dat hoe in the 1st place</td>\n",
       "    </tr>\n",
       "    <tr>\n",
       "      <th>2</th>\n",
       "      <td>!!!!!!! RT @UrKindOfBrand Dawg!!!! RT @80sbaby4life: You ever fuck a bitch and she start to cry? You be confused as shit</td>\n",
       "      <td>0</td>\n",
       "      <td>RT Dawg RT You ever fuck a bitch and she start to cry You be confused as shit</td>\n",
       "    </tr>\n",
       "    <tr>\n",
       "      <th>3</th>\n",
       "      <td>!!!!!!!!! RT @C_G_Anderson: @viva_based she look like a tranny</td>\n",
       "      <td>0</td>\n",
       "      <td>RT she look like a tranny</td>\n",
       "    </tr>\n",
       "    <tr>\n",
       "      <th>4</th>\n",
       "      <td>!!!!!!!!!!!!! RT @ShenikaRoberts: The shit you hear about me might be true or it might be faker than the bitch who told it to ya </td>\n",
       "      <td>0</td>\n",
       "      <td>RT The shit you hear about me might be true or it might be faker than the bitch who told it to ya </td>\n",
       "    </tr>\n",
       "    <tr>\n",
       "      <th>...</th>\n",
       "      <td>...</td>\n",
       "      <td>...</td>\n",
       "      <td>...</td>\n",
       "    </tr>\n",
       "    <tr>\n",
       "      <th>10083</th>\n",
       "      <td>@parkourboy_123 bro take it down u are just a fake ass friend and an ungrateful piece of shit u should be thank faggot</td>\n",
       "      <td>1</td>\n",
       "      <td>bro take it down u are just a fake ass friend and an ungrateful piece of shit u should be thank faggot</td>\n",
       "    </tr>\n",
       "    <tr>\n",
       "      <th>10084</th>\n",
       "      <td>@ARitzka @reverbrony @ObabScribbler @StarryFlame everytime you suck a dick, you look like a faggot. Go figure :P</td>\n",
       "      <td>1</td>\n",
       "      <td>everytime you suck a dick you look like a faggot Go figure P</td>\n",
       "    </tr>\n",
       "    <tr>\n",
       "      <th>10085</th>\n",
       "      <td>@kessner_tara this is my pic u faggot</td>\n",
       "      <td>1</td>\n",
       "      <td>this is my pic u faggot</td>\n",
       "    </tr>\n",
       "    <tr>\n",
       "      <th>10086</th>\n",
       "      <td>@imreallyjai we need you in chat you dirty faggot. IT'S THE NUTSHACK</td>\n",
       "      <td>1</td>\n",
       "      <td>we need you in chat you dirty faggot ITS THE NUTSHACK</td>\n",
       "    </tr>\n",
       "    <tr>\n",
       "      <th>10087</th>\n",
       "      <td>@imurbabytonight i was talking to kylie you retarded faggot</td>\n",
       "      <td>1</td>\n",
       "      <td>i was talking to kylie you retarded faggot</td>\n",
       "    </tr>\n",
       "  </tbody>\n",
       "</table>\n",
       "<p>34871 rows × 3 columns</p>\n",
       "</div>"
      ],
      "text/plain": [
       "                                                                                                                                          tweet  \\\n",
       "0      !!! RT @mayasolovely: As a woman you shouldn't complain about cleaning up your house. & as a man you should always take the trash out...   \n",
       "1                                                         !!!!! RT @mleew17: boy dats cold...tyga dwn bad for cuffin dat hoe in the 1st place!!   \n",
       "2                      !!!!!!! RT @UrKindOfBrand Dawg!!!! RT @80sbaby4life: You ever fuck a bitch and she start to cry? You be confused as shit   \n",
       "3                                                                                !!!!!!!!! RT @C_G_Anderson: @viva_based she look like a tranny   \n",
       "4            !!!!!!!!!!!!! RT @ShenikaRoberts: The shit you hear about me might be true or it might be faker than the bitch who told it to ya    \n",
       "...                                                                                                                                         ...   \n",
       "10083                    @parkourboy_123 bro take it down u are just a fake ass friend and an ungrateful piece of shit u should be thank faggot   \n",
       "10084                          @ARitzka @reverbrony @ObabScribbler @StarryFlame everytime you suck a dick, you look like a faggot. Go figure :P   \n",
       "10085                                                                                                     @kessner_tara this is my pic u faggot   \n",
       "10086                                                                      @imreallyjai we need you in chat you dirty faggot. IT'S THE NUTSHACK   \n",
       "10087                                                                               @imurbabytonight i was talking to kylie you retarded faggot   \n",
       "\n",
       "       class  \\\n",
       "0          0   \n",
       "1          0   \n",
       "2          0   \n",
       "3          0   \n",
       "4          0   \n",
       "...      ...   \n",
       "10083      1   \n",
       "10084      1   \n",
       "10085      1   \n",
       "10086      1   \n",
       "10087      1   \n",
       "\n",
       "                                                                                                                 text  \n",
       "0      RT As a woman you shouldnt complain about cleaning up your house as a man you should always take the trash out  \n",
       "1                                                    RT boy dats coldtyga dwn bad for cuffin dat hoe in the 1st place  \n",
       "2                                       RT Dawg RT You ever fuck a bitch and she start to cry You be confused as shit  \n",
       "3                                                                                           RT she look like a tranny  \n",
       "4                 RT The shit you hear about me might be true or it might be faker than the bitch who told it to ya   \n",
       "...                                                                                                               ...  \n",
       "10083          bro take it down u are just a fake ass friend and an ungrateful piece of shit u should be thank faggot  \n",
       "10084                                                    everytime you suck a dick you look like a faggot Go figure P  \n",
       "10085                                                                                         this is my pic u faggot  \n",
       "10086                                                           we need you in chat you dirty faggot ITS THE NUTSHACK  \n",
       "10087                                                                      i was talking to kylie you retarded faggot  \n",
       "\n",
       "[34871 rows x 3 columns]"
      ]
     },
     "execution_count": 115,
     "metadata": {},
     "output_type": "execute_result"
    }
   ],
   "source": [
    "#Defining a function to remove reserved words\n",
    "def remove_reserved_words(text):\n",
    "  p.set_options(p.OPT.RESERVED)\n",
    "  cleaned_text = p.clean(text)\n",
    "  return(cleaned_text)\n",
    "\n",
    "# Removing reserved words (RT and FAV)\n",
    "eng_ds['text'] = eng_ds['text'].apply(remove_reserved_words)\n",
    "\n",
    "#Displaying english dataset after removing reserved words\n",
    "eng_ds"
   ]
  },
  {
   "cell_type": "code",
   "execution_count": null,
   "metadata": {
    "colab": {
     "base_uri": "https://localhost:8080/",
     "height": 424
    },
    "executionInfo": {
     "elapsed": 502,
     "status": "ok",
     "timestamp": 1640237768830,
     "user": {
      "displayName": "Moy Tian Xiang",
      "photoUrl": "https://lh3.googleusercontent.com/a/default-user=s64",
      "userId": "17517672150917689324"
     },
     "user_tz": -480
    },
    "gradient": {
     "editing": false,
     "id": "af0e1b7e-e19e-4ea8-b82a-45a00b012e1a",
     "kernelId": "0c0438cc-8809-4072-a10a-acb706ba8551"
    },
    "id": "HArMoqz1N9Fw",
    "outputId": "c762db55-5f11-47a2-d43e-bcf346ae3aa0"
   },
   "outputs": [
    {
     "data": {
      "text/html": [
       "<div>\n",
       "<style scoped>\n",
       "    .dataframe tbody tr th:only-of-type {\n",
       "        vertical-align: middle;\n",
       "    }\n",
       "\n",
       "    .dataframe tbody tr th {\n",
       "        vertical-align: top;\n",
       "    }\n",
       "\n",
       "    .dataframe thead th {\n",
       "        text-align: right;\n",
       "    }\n",
       "</style>\n",
       "<table border=\"1\" class=\"dataframe\">\n",
       "  <thead>\n",
       "    <tr style=\"text-align: right;\">\n",
       "      <th></th>\n",
       "      <th>tweet</th>\n",
       "      <th>class</th>\n",
       "      <th>text</th>\n",
       "    </tr>\n",
       "  </thead>\n",
       "  <tbody>\n",
       "    <tr>\n",
       "      <th>0</th>\n",
       "      <td>!!! RT @mayasolovely: As a woman you shouldn't complain about cleaning up your house. &amp; as a man you should always take the trash out...</td>\n",
       "      <td>0</td>\n",
       "      <td>rt as a woman you shouldnt complain about cleaning up your house as a man you should always take the trash out</td>\n",
       "    </tr>\n",
       "    <tr>\n",
       "      <th>1</th>\n",
       "      <td>!!!!! RT @mleew17: boy dats cold...tyga dwn bad for cuffin dat hoe in the 1st place!!</td>\n",
       "      <td>0</td>\n",
       "      <td>rt boy dats coldtyga dwn bad for cuffin dat hoe in the 1st place</td>\n",
       "    </tr>\n",
       "    <tr>\n",
       "      <th>2</th>\n",
       "      <td>!!!!!!! RT @UrKindOfBrand Dawg!!!! RT @80sbaby4life: You ever fuck a bitch and she start to cry? You be confused as shit</td>\n",
       "      <td>0</td>\n",
       "      <td>rt dawg rt you ever fuck a bitch and she start to cry you be confused as shit</td>\n",
       "    </tr>\n",
       "    <tr>\n",
       "      <th>3</th>\n",
       "      <td>!!!!!!!!! RT @C_G_Anderson: @viva_based she look like a tranny</td>\n",
       "      <td>0</td>\n",
       "      <td>rt she look like a tranny</td>\n",
       "    </tr>\n",
       "    <tr>\n",
       "      <th>4</th>\n",
       "      <td>!!!!!!!!!!!!! RT @ShenikaRoberts: The shit you hear about me might be true or it might be faker than the bitch who told it to ya </td>\n",
       "      <td>0</td>\n",
       "      <td>rt the shit you hear about me might be true or it might be faker than the bitch who told it to ya </td>\n",
       "    </tr>\n",
       "    <tr>\n",
       "      <th>...</th>\n",
       "      <td>...</td>\n",
       "      <td>...</td>\n",
       "      <td>...</td>\n",
       "    </tr>\n",
       "    <tr>\n",
       "      <th>10083</th>\n",
       "      <td>@parkourboy_123 bro take it down u are just a fake ass friend and an ungrateful piece of shit u should be thank faggot</td>\n",
       "      <td>1</td>\n",
       "      <td>bro take it down u are just a fake ass friend and an ungrateful piece of shit u should be thank faggot</td>\n",
       "    </tr>\n",
       "    <tr>\n",
       "      <th>10084</th>\n",
       "      <td>@ARitzka @reverbrony @ObabScribbler @StarryFlame everytime you suck a dick, you look like a faggot. Go figure :P</td>\n",
       "      <td>1</td>\n",
       "      <td>everytime you suck a dick you look like a faggot go figure p</td>\n",
       "    </tr>\n",
       "    <tr>\n",
       "      <th>10085</th>\n",
       "      <td>@kessner_tara this is my pic u faggot</td>\n",
       "      <td>1</td>\n",
       "      <td>this is my pic u faggot</td>\n",
       "    </tr>\n",
       "    <tr>\n",
       "      <th>10086</th>\n",
       "      <td>@imreallyjai we need you in chat you dirty faggot. IT'S THE NUTSHACK</td>\n",
       "      <td>1</td>\n",
       "      <td>we need you in chat you dirty faggot its the nutshack</td>\n",
       "    </tr>\n",
       "    <tr>\n",
       "      <th>10087</th>\n",
       "      <td>@imurbabytonight i was talking to kylie you retarded faggot</td>\n",
       "      <td>1</td>\n",
       "      <td>i was talking to kylie you retarded faggot</td>\n",
       "    </tr>\n",
       "  </tbody>\n",
       "</table>\n",
       "<p>34871 rows × 3 columns</p>\n",
       "</div>"
      ],
      "text/plain": [
       "                                                                                                                                          tweet  \\\n",
       "0      !!! RT @mayasolovely: As a woman you shouldn't complain about cleaning up your house. & as a man you should always take the trash out...   \n",
       "1                                                         !!!!! RT @mleew17: boy dats cold...tyga dwn bad for cuffin dat hoe in the 1st place!!   \n",
       "2                      !!!!!!! RT @UrKindOfBrand Dawg!!!! RT @80sbaby4life: You ever fuck a bitch and she start to cry? You be confused as shit   \n",
       "3                                                                                !!!!!!!!! RT @C_G_Anderson: @viva_based she look like a tranny   \n",
       "4            !!!!!!!!!!!!! RT @ShenikaRoberts: The shit you hear about me might be true or it might be faker than the bitch who told it to ya    \n",
       "...                                                                                                                                         ...   \n",
       "10083                    @parkourboy_123 bro take it down u are just a fake ass friend and an ungrateful piece of shit u should be thank faggot   \n",
       "10084                          @ARitzka @reverbrony @ObabScribbler @StarryFlame everytime you suck a dick, you look like a faggot. Go figure :P   \n",
       "10085                                                                                                     @kessner_tara this is my pic u faggot   \n",
       "10086                                                                      @imreallyjai we need you in chat you dirty faggot. IT'S THE NUTSHACK   \n",
       "10087                                                                               @imurbabytonight i was talking to kylie you retarded faggot   \n",
       "\n",
       "       class  \\\n",
       "0          0   \n",
       "1          0   \n",
       "2          0   \n",
       "3          0   \n",
       "4          0   \n",
       "...      ...   \n",
       "10083      1   \n",
       "10084      1   \n",
       "10085      1   \n",
       "10086      1   \n",
       "10087      1   \n",
       "\n",
       "                                                                                                                 text  \n",
       "0      rt as a woman you shouldnt complain about cleaning up your house as a man you should always take the trash out  \n",
       "1                                                    rt boy dats coldtyga dwn bad for cuffin dat hoe in the 1st place  \n",
       "2                                       rt dawg rt you ever fuck a bitch and she start to cry you be confused as shit  \n",
       "3                                                                                           rt she look like a tranny  \n",
       "4                 rt the shit you hear about me might be true or it might be faker than the bitch who told it to ya   \n",
       "...                                                                                                               ...  \n",
       "10083          bro take it down u are just a fake ass friend and an ungrateful piece of shit u should be thank faggot  \n",
       "10084                                                    everytime you suck a dick you look like a faggot go figure p  \n",
       "10085                                                                                         this is my pic u faggot  \n",
       "10086                                                           we need you in chat you dirty faggot its the nutshack  \n",
       "10087                                                                      i was talking to kylie you retarded faggot  \n",
       "\n",
       "[34871 rows x 3 columns]"
      ]
     },
     "execution_count": 116,
     "metadata": {},
     "output_type": "execute_result"
    }
   ],
   "source": [
    "#Lowercasing all text\n",
    "eng_ds['text'] = eng_ds['text'].str.lower()\n",
    "\n",
    "#Displaying english dataset after lowercasing text\n",
    "eng_ds"
   ]
  },
  {
   "cell_type": "code",
   "execution_count": null,
   "metadata": {
    "colab": {
     "base_uri": "https://localhost:8080/",
     "height": 424
    },
    "executionInfo": {
     "elapsed": 11278,
     "status": "ok",
     "timestamp": 1640237783280,
     "user": {
      "displayName": "Moy Tian Xiang",
      "photoUrl": "https://lh3.googleusercontent.com/a/default-user=s64",
      "userId": "17517672150917689324"
     },
     "user_tz": -480
    },
    "gradient": {
     "editing": false,
     "id": "93016d82-1108-49b5-8224-bf03b34c6dfe",
     "kernelId": "0c0438cc-8809-4072-a10a-acb706ba8551"
    },
    "id": "Rxsqts8Hjvmg",
    "outputId": "345d73b7-3a1e-42c1-ac2a-acace904d68e"
   },
   "outputs": [
    {
     "data": {
      "text/html": [
       "<div>\n",
       "<style scoped>\n",
       "    .dataframe tbody tr th:only-of-type {\n",
       "        vertical-align: middle;\n",
       "    }\n",
       "\n",
       "    .dataframe tbody tr th {\n",
       "        vertical-align: top;\n",
       "    }\n",
       "\n",
       "    .dataframe thead th {\n",
       "        text-align: right;\n",
       "    }\n",
       "</style>\n",
       "<table border=\"1\" class=\"dataframe\">\n",
       "  <thead>\n",
       "    <tr style=\"text-align: right;\">\n",
       "      <th></th>\n",
       "      <th>tweet</th>\n",
       "      <th>class</th>\n",
       "      <th>text</th>\n",
       "    </tr>\n",
       "  </thead>\n",
       "  <tbody>\n",
       "    <tr>\n",
       "      <th>0</th>\n",
       "      <td>!!! RT @mayasolovely: As a woman you shouldn't complain about cleaning up your house. &amp; as a man you should always take the trash out...</td>\n",
       "      <td>0</td>\n",
       "      <td>rt as a woman you shouldnt complain about cleaning up your house as a man you should always take the trash out</td>\n",
       "    </tr>\n",
       "    <tr>\n",
       "      <th>1</th>\n",
       "      <td>!!!!! RT @mleew17: boy dats cold...tyga dwn bad for cuffin dat hoe in the 1st place!!</td>\n",
       "      <td>0</td>\n",
       "      <td>rt boy dats coldtyga dwn bad for cuffin dat hoe in the 1st place</td>\n",
       "    </tr>\n",
       "    <tr>\n",
       "      <th>2</th>\n",
       "      <td>!!!!!!! RT @UrKindOfBrand Dawg!!!! RT @80sbaby4life: You ever fuck a bitch and she start to cry? You be confused as shit</td>\n",
       "      <td>0</td>\n",
       "      <td>rt dawg rt you ever fuck a bitch and she start to cry you be confused as shit</td>\n",
       "    </tr>\n",
       "    <tr>\n",
       "      <th>3</th>\n",
       "      <td>!!!!!!!!! RT @C_G_Anderson: @viva_based she look like a tranny</td>\n",
       "      <td>0</td>\n",
       "      <td>rt she look like a tranny</td>\n",
       "    </tr>\n",
       "    <tr>\n",
       "      <th>4</th>\n",
       "      <td>!!!!!!!!!!!!! RT @ShenikaRoberts: The shit you hear about me might be true or it might be faker than the bitch who told it to ya </td>\n",
       "      <td>0</td>\n",
       "      <td>rt the shit you hear about me might be true or it might be faker than the bitch who told it to ya </td>\n",
       "    </tr>\n",
       "    <tr>\n",
       "      <th>...</th>\n",
       "      <td>...</td>\n",
       "      <td>...</td>\n",
       "      <td>...</td>\n",
       "    </tr>\n",
       "    <tr>\n",
       "      <th>10083</th>\n",
       "      <td>@parkourboy_123 bro take it down u are just a fake ass friend and an ungrateful piece of shit u should be thank faggot</td>\n",
       "      <td>1</td>\n",
       "      <td>bro take it down u are just a fake ass friend and an ungrateful piece of shit u should be thank faggot</td>\n",
       "    </tr>\n",
       "    <tr>\n",
       "      <th>10084</th>\n",
       "      <td>@ARitzka @reverbrony @ObabScribbler @StarryFlame everytime you suck a dick, you look like a faggot. Go figure :P</td>\n",
       "      <td>1</td>\n",
       "      <td>everytime you suck a dick you look like a faggot go figure p</td>\n",
       "    </tr>\n",
       "    <tr>\n",
       "      <th>10085</th>\n",
       "      <td>@kessner_tara this is my pic u faggot</td>\n",
       "      <td>1</td>\n",
       "      <td>this is my pic u faggot</td>\n",
       "    </tr>\n",
       "    <tr>\n",
       "      <th>10086</th>\n",
       "      <td>@imreallyjai we need you in chat you dirty faggot. IT'S THE NUTSHACK</td>\n",
       "      <td>1</td>\n",
       "      <td>we need you in chat you dirty faggot its the nutshack</td>\n",
       "    </tr>\n",
       "    <tr>\n",
       "      <th>10087</th>\n",
       "      <td>@imurbabytonight i was talking to kylie you retarded faggot</td>\n",
       "      <td>1</td>\n",
       "      <td>i was talking to kylie you retarded faggot</td>\n",
       "    </tr>\n",
       "  </tbody>\n",
       "</table>\n",
       "<p>34871 rows × 3 columns</p>\n",
       "</div>"
      ],
      "text/plain": [
       "                                                                                                                                          tweet  \\\n",
       "0      !!! RT @mayasolovely: As a woman you shouldn't complain about cleaning up your house. & as a man you should always take the trash out...   \n",
       "1                                                         !!!!! RT @mleew17: boy dats cold...tyga dwn bad for cuffin dat hoe in the 1st place!!   \n",
       "2                      !!!!!!! RT @UrKindOfBrand Dawg!!!! RT @80sbaby4life: You ever fuck a bitch and she start to cry? You be confused as shit   \n",
       "3                                                                                !!!!!!!!! RT @C_G_Anderson: @viva_based she look like a tranny   \n",
       "4            !!!!!!!!!!!!! RT @ShenikaRoberts: The shit you hear about me might be true or it might be faker than the bitch who told it to ya    \n",
       "...                                                                                                                                         ...   \n",
       "10083                    @parkourboy_123 bro take it down u are just a fake ass friend and an ungrateful piece of shit u should be thank faggot   \n",
       "10084                          @ARitzka @reverbrony @ObabScribbler @StarryFlame everytime you suck a dick, you look like a faggot. Go figure :P   \n",
       "10085                                                                                                     @kessner_tara this is my pic u faggot   \n",
       "10086                                                                      @imreallyjai we need you in chat you dirty faggot. IT'S THE NUTSHACK   \n",
       "10087                                                                               @imurbabytonight i was talking to kylie you retarded faggot   \n",
       "\n",
       "       class  \\\n",
       "0          0   \n",
       "1          0   \n",
       "2          0   \n",
       "3          0   \n",
       "4          0   \n",
       "...      ...   \n",
       "10083      1   \n",
       "10084      1   \n",
       "10085      1   \n",
       "10086      1   \n",
       "10087      1   \n",
       "\n",
       "                                                                                                                 text  \n",
       "0      rt as a woman you shouldnt complain about cleaning up your house as a man you should always take the trash out  \n",
       "1                                                    rt boy dats coldtyga dwn bad for cuffin dat hoe in the 1st place  \n",
       "2                                       rt dawg rt you ever fuck a bitch and she start to cry you be confused as shit  \n",
       "3                                                                                           rt she look like a tranny  \n",
       "4                 rt the shit you hear about me might be true or it might be faker than the bitch who told it to ya   \n",
       "...                                                                                                               ...  \n",
       "10083          bro take it down u are just a fake ass friend and an ungrateful piece of shit u should be thank faggot  \n",
       "10084                                                    everytime you suck a dick you look like a faggot go figure p  \n",
       "10085                                                                                         this is my pic u faggot  \n",
       "10086                                                           we need you in chat you dirty faggot its the nutshack  \n",
       "10087                                                                      i was talking to kylie you retarded faggot  \n",
       "\n",
       "[34871 rows x 3 columns]"
      ]
     },
     "execution_count": 117,
     "metadata": {},
     "output_type": "execute_result"
    }
   ],
   "source": [
    "#Demojize all emojis into words\n",
    "eng_ds['text'] = eng_ds['text'].apply(lambda text: emoji.demojize(text, delimiters=(\" \", \" \")))\n",
    "\n",
    "#Displaying english dataset after demojization\n",
    "eng_ds"
   ]
  },
  {
   "cell_type": "code",
   "execution_count": null,
   "metadata": {
    "colab": {
     "base_uri": "https://localhost:8080/"
    },
    "executionInfo": {
     "elapsed": 506,
     "status": "ok",
     "timestamp": 1640237786442,
     "user": {
      "displayName": "Moy Tian Xiang",
      "photoUrl": "https://lh3.googleusercontent.com/a/default-user=s64",
      "userId": "17517672150917689324"
     },
     "user_tz": -480
    },
    "gradient": {
     "editing": false,
     "id": "a994eba2-bf51-4120-9f5a-1c9baa473be9",
     "kernelId": "0c0438cc-8809-4072-a10a-acb706ba8551"
    },
    "id": "tC0Koypt95XU",
    "outputId": "cbb42658-6369-4fd9-8af6-5a5e0401285d"
   },
   "outputs": [
    {
     "name": "stderr",
     "output_type": "stream",
     "text": [
      "[nltk_data] Downloading package stopwords to /root/nltk_data...\n",
      "[nltk_data]   Package stopwords is already up-to-date!\n"
     ]
    },
    {
     "data": {
      "text/plain": [
       "['i',\n",
       " 'me',\n",
       " 'my',\n",
       " 'myself',\n",
       " 'we',\n",
       " 'our',\n",
       " 'ours',\n",
       " 'ourselves',\n",
       " 'you',\n",
       " \"you're\",\n",
       " \"you've\",\n",
       " \"you'll\",\n",
       " \"you'd\",\n",
       " 'your',\n",
       " 'yours',\n",
       " 'yourself',\n",
       " 'yourselves',\n",
       " 'he',\n",
       " 'him',\n",
       " 'his',\n",
       " 'himself',\n",
       " 'she',\n",
       " \"she's\",\n",
       " 'her',\n",
       " 'hers',\n",
       " 'herself',\n",
       " 'it',\n",
       " \"it's\",\n",
       " 'its',\n",
       " 'itself',\n",
       " 'they',\n",
       " 'them',\n",
       " 'their',\n",
       " 'theirs',\n",
       " 'themselves',\n",
       " 'what',\n",
       " 'which',\n",
       " 'who',\n",
       " 'whom',\n",
       " 'this',\n",
       " 'that',\n",
       " \"that'll\",\n",
       " 'these',\n",
       " 'those',\n",
       " 'am',\n",
       " 'is',\n",
       " 'are',\n",
       " 'was',\n",
       " 'were',\n",
       " 'be',\n",
       " 'been',\n",
       " 'being',\n",
       " 'have',\n",
       " 'has',\n",
       " 'had',\n",
       " 'having',\n",
       " 'do',\n",
       " 'does',\n",
       " 'did',\n",
       " 'doing',\n",
       " 'a',\n",
       " 'an',\n",
       " 'the',\n",
       " 'and',\n",
       " 'but',\n",
       " 'if',\n",
       " 'or',\n",
       " 'because',\n",
       " 'as',\n",
       " 'until',\n",
       " 'while',\n",
       " 'of',\n",
       " 'at',\n",
       " 'by',\n",
       " 'for',\n",
       " 'with',\n",
       " 'about',\n",
       " 'against',\n",
       " 'between',\n",
       " 'into',\n",
       " 'through',\n",
       " 'during',\n",
       " 'before',\n",
       " 'after',\n",
       " 'above',\n",
       " 'below',\n",
       " 'to',\n",
       " 'from',\n",
       " 'up',\n",
       " 'down',\n",
       " 'in',\n",
       " 'out',\n",
       " 'on',\n",
       " 'off',\n",
       " 'over',\n",
       " 'under',\n",
       " 'again',\n",
       " 'further',\n",
       " 'then',\n",
       " 'once',\n",
       " 'here',\n",
       " 'there',\n",
       " 'when',\n",
       " 'where',\n",
       " 'why',\n",
       " 'how',\n",
       " 'all',\n",
       " 'any',\n",
       " 'both',\n",
       " 'each',\n",
       " 'few',\n",
       " 'more',\n",
       " 'most',\n",
       " 'other',\n",
       " 'some',\n",
       " 'such',\n",
       " 'no',\n",
       " 'nor',\n",
       " 'not',\n",
       " 'only',\n",
       " 'own',\n",
       " 'same',\n",
       " 'so',\n",
       " 'than',\n",
       " 'too',\n",
       " 'very',\n",
       " 's',\n",
       " 't',\n",
       " 'can',\n",
       " 'will',\n",
       " 'just',\n",
       " 'don',\n",
       " \"don't\",\n",
       " 'should',\n",
       " \"should've\",\n",
       " 'now',\n",
       " 'd',\n",
       " 'll',\n",
       " 'm',\n",
       " 'o',\n",
       " 're',\n",
       " 've',\n",
       " 'y',\n",
       " 'ain',\n",
       " 'aren',\n",
       " \"aren't\",\n",
       " 'couldn',\n",
       " \"couldn't\",\n",
       " 'didn',\n",
       " \"didn't\",\n",
       " 'doesn',\n",
       " \"doesn't\",\n",
       " 'hadn',\n",
       " \"hadn't\",\n",
       " 'hasn',\n",
       " \"hasn't\",\n",
       " 'haven',\n",
       " \"haven't\",\n",
       " 'isn',\n",
       " \"isn't\",\n",
       " 'ma',\n",
       " 'mightn',\n",
       " \"mightn't\",\n",
       " 'mustn',\n",
       " \"mustn't\",\n",
       " 'needn',\n",
       " \"needn't\",\n",
       " 'shan',\n",
       " \"shan't\",\n",
       " 'shouldn',\n",
       " \"shouldn't\",\n",
       " 'wasn',\n",
       " \"wasn't\",\n",
       " 'weren',\n",
       " \"weren't\",\n",
       " 'won',\n",
       " \"won't\",\n",
       " 'wouldn',\n",
       " \"wouldn't\"]"
      ]
     },
     "execution_count": 118,
     "metadata": {},
     "output_type": "execute_result"
    }
   ],
   "source": [
    "#Displaying stopwords\n",
    "nltk.download('stopwords')\n",
    "\n",
    "stopwords.words('english')"
   ]
  },
  {
   "cell_type": "code",
   "execution_count": null,
   "metadata": {
    "colab": {
     "base_uri": "https://localhost:8080/"
    },
    "executionInfo": {
     "elapsed": 422,
     "status": "ok",
     "timestamp": 1640237789729,
     "user": {
      "displayName": "Moy Tian Xiang",
      "photoUrl": "https://lh3.googleusercontent.com/a/default-user=s64",
      "userId": "17517672150917689324"
     },
     "user_tz": -480
    },
    "gradient": {
     "editing": false,
     "id": "cd4ae0ee-e736-46d1-9397-7e77ae31e1f6",
     "kernelId": "0c0438cc-8809-4072-a10a-acb706ba8551"
    },
    "id": "wvTSVDCePtpq",
    "outputId": "22cee3f3-0c21-49c2-b742-7033f63f6dac"
   },
   "outputs": [
    {
     "data": {
      "text/plain": [
       "{'a',\n",
       " 'about',\n",
       " 'above',\n",
       " 'after',\n",
       " 'again',\n",
       " 'against',\n",
       " 'ain',\n",
       " 'all',\n",
       " 'am',\n",
       " 'an',\n",
       " 'and',\n",
       " 'any',\n",
       " 'are',\n",
       " 'aren',\n",
       " \"aren't\",\n",
       " 'as',\n",
       " 'at',\n",
       " 'be',\n",
       " 'because',\n",
       " 'been',\n",
       " 'before',\n",
       " 'being',\n",
       " 'below',\n",
       " 'between',\n",
       " 'both',\n",
       " 'but',\n",
       " 'by',\n",
       " 'can',\n",
       " 'couldn',\n",
       " \"couldn't\",\n",
       " 'd',\n",
       " 'did',\n",
       " 'didn',\n",
       " \"didn't\",\n",
       " 'do',\n",
       " 'does',\n",
       " 'doesn',\n",
       " \"doesn't\",\n",
       " 'doing',\n",
       " 'don',\n",
       " \"don't\",\n",
       " 'down',\n",
       " 'during',\n",
       " 'each',\n",
       " 'fav',\n",
       " 'few',\n",
       " 'for',\n",
       " 'from',\n",
       " 'further',\n",
       " 'had',\n",
       " 'hadn',\n",
       " \"hadn't\",\n",
       " 'has',\n",
       " 'hasn',\n",
       " \"hasn't\",\n",
       " 'have',\n",
       " 'haven',\n",
       " \"haven't\",\n",
       " 'having',\n",
       " 'he',\n",
       " 'her',\n",
       " 'here',\n",
       " 'hers',\n",
       " 'herself',\n",
       " 'him',\n",
       " 'himself',\n",
       " 'his',\n",
       " 'how',\n",
       " 'i',\n",
       " 'if',\n",
       " 'in',\n",
       " 'into',\n",
       " 'is',\n",
       " 'isn',\n",
       " \"isn't\",\n",
       " 'it',\n",
       " \"it's\",\n",
       " 'its',\n",
       " 'itself',\n",
       " 'just',\n",
       " 'll',\n",
       " 'm',\n",
       " 'ma',\n",
       " 'me',\n",
       " 'mightn',\n",
       " \"mightn't\",\n",
       " 'more',\n",
       " 'most',\n",
       " 'mustn',\n",
       " \"mustn't\",\n",
       " 'my',\n",
       " 'myself',\n",
       " 'needn',\n",
       " \"needn't\",\n",
       " 'no',\n",
       " 'nor',\n",
       " 'not',\n",
       " 'now',\n",
       " 'o',\n",
       " 'of',\n",
       " 'off',\n",
       " 'on',\n",
       " 'once',\n",
       " 'only',\n",
       " 'or',\n",
       " 'other',\n",
       " 'our',\n",
       " 'ours',\n",
       " 'ourselves',\n",
       " 'out',\n",
       " 'over',\n",
       " 'own',\n",
       " 're',\n",
       " 'rt',\n",
       " 's',\n",
       " 'same',\n",
       " 'shan',\n",
       " \"shan't\",\n",
       " 'she',\n",
       " \"she's\",\n",
       " 'should',\n",
       " \"should've\",\n",
       " 'shouldn',\n",
       " \"shouldn't\",\n",
       " 'so',\n",
       " 'some',\n",
       " 'such',\n",
       " 't',\n",
       " 'than',\n",
       " 'that',\n",
       " \"that'll\",\n",
       " 'the',\n",
       " 'their',\n",
       " 'theirs',\n",
       " 'them',\n",
       " 'themselves',\n",
       " 'then',\n",
       " 'there',\n",
       " 'these',\n",
       " 'they',\n",
       " 'this',\n",
       " 'those',\n",
       " 'through',\n",
       " 'to',\n",
       " 'too',\n",
       " 'under',\n",
       " 'until',\n",
       " 'up',\n",
       " 've',\n",
       " 'very',\n",
       " 'was',\n",
       " 'wasn',\n",
       " \"wasn't\",\n",
       " 'we',\n",
       " 'were',\n",
       " 'weren',\n",
       " \"weren't\",\n",
       " 'what',\n",
       " 'when',\n",
       " 'where',\n",
       " 'which',\n",
       " 'while',\n",
       " 'who',\n",
       " 'whom',\n",
       " 'why',\n",
       " 'will',\n",
       " 'with',\n",
       " 'won',\n",
       " \"won't\",\n",
       " 'wouldn',\n",
       " \"wouldn't\",\n",
       " 'y',\n",
       " 'you',\n",
       " \"you'd\",\n",
       " \"you'll\",\n",
       " \"you're\",\n",
       " \"you've\",\n",
       " 'your',\n",
       " 'yours',\n",
       " 'yourself',\n",
       " 'yourselves'}"
      ]
     },
     "execution_count": 119,
     "metadata": {},
     "output_type": "execute_result"
    }
   ],
   "source": [
    "#Adding rt and fav in stopwords \n",
    "additional = ['rt', 'fav']\n",
    "stopword = set().union(stopwords.words('english'), additional)\n",
    "\n",
    "#Displaying new list\n",
    "stopword"
   ]
  },
  {
   "cell_type": "code",
   "execution_count": null,
   "metadata": {
    "colab": {
     "base_uri": "https://localhost:8080/"
    },
    "executionInfo": {
     "elapsed": 505,
     "status": "ok",
     "timestamp": 1640237793275,
     "user": {
      "displayName": "Moy Tian Xiang",
      "photoUrl": "https://lh3.googleusercontent.com/a/default-user=s64",
      "userId": "17517672150917689324"
     },
     "user_tz": -480
    },
    "gradient": {
     "editing": false,
     "id": "810a1837-da59-43fb-bd16-26ec3ee1a39b",
     "kernelId": "0c0438cc-8809-4072-a10a-acb706ba8551"
    },
    "id": "Jqv98wO1AeTx",
    "outputId": "a91f4349-4e7b-456b-f8e8-969778795971"
   },
   "outputs": [
    {
     "data": {
      "text/plain": [
       "['a',\n",
       " 'about',\n",
       " 'above',\n",
       " 'after',\n",
       " 'again',\n",
       " 'against',\n",
       " 'all',\n",
       " 'am',\n",
       " 'an',\n",
       " 'and',\n",
       " 'any',\n",
       " 'are',\n",
       " 'as',\n",
       " 'at',\n",
       " 'be',\n",
       " 'because',\n",
       " 'been',\n",
       " 'before',\n",
       " 'being',\n",
       " 'below',\n",
       " 'between',\n",
       " 'both',\n",
       " 'but',\n",
       " 'by',\n",
       " 'can',\n",
       " 'd',\n",
       " 'did',\n",
       " 'do',\n",
       " 'does',\n",
       " 'doing',\n",
       " 'down',\n",
       " 'during',\n",
       " 'each',\n",
       " 'fav',\n",
       " 'few',\n",
       " 'for',\n",
       " 'from',\n",
       " 'further',\n",
       " 'had',\n",
       " 'has',\n",
       " 'have',\n",
       " 'having',\n",
       " 'he',\n",
       " 'her',\n",
       " 'here',\n",
       " 'hers',\n",
       " 'herself',\n",
       " 'him',\n",
       " 'himself',\n",
       " 'his',\n",
       " 'how',\n",
       " 'i',\n",
       " 'if',\n",
       " 'in',\n",
       " 'into',\n",
       " 'is',\n",
       " 'it',\n",
       " \"it's\",\n",
       " 'its',\n",
       " 'itself',\n",
       " 'just',\n",
       " 'll',\n",
       " 'm',\n",
       " 'ma',\n",
       " 'me',\n",
       " 'more',\n",
       " 'most',\n",
       " 'my',\n",
       " 'myself',\n",
       " 'now',\n",
       " 'o',\n",
       " 'of',\n",
       " 'off',\n",
       " 'on',\n",
       " 'once',\n",
       " 'only',\n",
       " 'or',\n",
       " 'other',\n",
       " 'our',\n",
       " 'ours',\n",
       " 'ourselves',\n",
       " 'out',\n",
       " 'over',\n",
       " 'own',\n",
       " 're',\n",
       " 'rt',\n",
       " 's',\n",
       " 'same',\n",
       " 'she',\n",
       " \"she's\",\n",
       " 'should',\n",
       " \"should've\",\n",
       " 'so',\n",
       " 'some',\n",
       " 'such',\n",
       " 't',\n",
       " 'than',\n",
       " 'that',\n",
       " \"that'll\",\n",
       " 'the',\n",
       " 'their',\n",
       " 'theirs',\n",
       " 'them',\n",
       " 'themselves',\n",
       " 'then',\n",
       " 'there',\n",
       " 'these',\n",
       " 'they',\n",
       " 'this',\n",
       " 'those',\n",
       " 'through',\n",
       " 'to',\n",
       " 'too',\n",
       " 'under',\n",
       " 'until',\n",
       " 'up',\n",
       " 've',\n",
       " 'very',\n",
       " 'was',\n",
       " 'we',\n",
       " 'were',\n",
       " 'what',\n",
       " 'when',\n",
       " 'where',\n",
       " 'which',\n",
       " 'while',\n",
       " 'who',\n",
       " 'whom',\n",
       " 'why',\n",
       " 'will',\n",
       " 'with',\n",
       " 'y',\n",
       " 'you',\n",
       " \"you'd\",\n",
       " \"you'll\",\n",
       " \"you're\",\n",
       " \"you've\",\n",
       " 'your',\n",
       " 'yours',\n",
       " 'yourself',\n",
       " 'yourselves']"
      ]
     },
     "execution_count": 120,
     "metadata": {},
     "output_type": "execute_result"
    }
   ],
   "source": [
    "#Defining negation stop words\n",
    "negation_words = ['no', 'nor', 'not', 'don', \"don't\", 'ain', 'aren', \"aren't\", 'couldn', \"couldn't\", 'didn',\n",
    "                  \"didn't\", 'doesn', \"doesn't\", 'hadn', \"hadn't\", 'hasn', \"hasn't\", 'haven', \"haven't\", 'isn', \n",
    "                  \"isn't\", 'mightn', \"mightn't\", 'mustn', \"mustn't\", 'needn', \"needn't\", 'shan', \"shan't\", \n",
    "                  'shouldn', \"shouldn't\", 'wasn', \"wasn't\", 'weren', \"weren't\", 'won', \"won't\", 'wouldn', \"wouldn't\"]\n",
    "\n",
    "#Creating a new list without negation stop words\n",
    "new_stopwords = [word for word in stopword if word not in negation_words]\n",
    "\n",
    "#Arrange new list in alphabetical order\n",
    "new_stopwords = sorted(new_stopwords)\n",
    "\n",
    "#Display new list \n",
    "new_stopwords"
   ]
  },
  {
   "cell_type": "code",
   "execution_count": null,
   "metadata": {
    "colab": {
     "base_uri": "https://localhost:8080/",
     "height": 424
    },
    "executionInfo": {
     "elapsed": 2681,
     "status": "ok",
     "timestamp": 1640237799355,
     "user": {
      "displayName": "Moy Tian Xiang",
      "photoUrl": "https://lh3.googleusercontent.com/a/default-user=s64",
      "userId": "17517672150917689324"
     },
     "user_tz": -480
    },
    "gradient": {
     "editing": false,
     "id": "1415d9b2-2c0a-4641-8850-5a0f3ca9d11c",
     "kernelId": "0c0438cc-8809-4072-a10a-acb706ba8551"
    },
    "id": "Di97aWDCSoG2",
    "outputId": "d97883ba-684e-4dc6-c2cd-d6bb0d796e6a"
   },
   "outputs": [
    {
     "data": {
      "text/html": [
       "<div>\n",
       "<style scoped>\n",
       "    .dataframe tbody tr th:only-of-type {\n",
       "        vertical-align: middle;\n",
       "    }\n",
       "\n",
       "    .dataframe tbody tr th {\n",
       "        vertical-align: top;\n",
       "    }\n",
       "\n",
       "    .dataframe thead th {\n",
       "        text-align: right;\n",
       "    }\n",
       "</style>\n",
       "<table border=\"1\" class=\"dataframe\">\n",
       "  <thead>\n",
       "    <tr style=\"text-align: right;\">\n",
       "      <th></th>\n",
       "      <th>tweet</th>\n",
       "      <th>class</th>\n",
       "      <th>text</th>\n",
       "    </tr>\n",
       "  </thead>\n",
       "  <tbody>\n",
       "    <tr>\n",
       "      <th>0</th>\n",
       "      <td>!!! RT @mayasolovely: As a woman you shouldn't complain about cleaning up your house. &amp; as a man you should always take the trash out...</td>\n",
       "      <td>0</td>\n",
       "      <td>[woman, shouldnt, complain, cleaning, house, man, always, take, trash]</td>\n",
       "    </tr>\n",
       "    <tr>\n",
       "      <th>1</th>\n",
       "      <td>!!!!! RT @mleew17: boy dats cold...tyga dwn bad for cuffin dat hoe in the 1st place!!</td>\n",
       "      <td>0</td>\n",
       "      <td>[boy, dats, coldtyga, dwn, bad, cuffin, dat, hoe, 1st, place]</td>\n",
       "    </tr>\n",
       "    <tr>\n",
       "      <th>2</th>\n",
       "      <td>!!!!!!! RT @UrKindOfBrand Dawg!!!! RT @80sbaby4life: You ever fuck a bitch and she start to cry? You be confused as shit</td>\n",
       "      <td>0</td>\n",
       "      <td>[dawg, ever, fuck, bitch, start, cry, confused, shit]</td>\n",
       "    </tr>\n",
       "    <tr>\n",
       "      <th>3</th>\n",
       "      <td>!!!!!!!!! RT @C_G_Anderson: @viva_based she look like a tranny</td>\n",
       "      <td>0</td>\n",
       "      <td>[look, like, tranny]</td>\n",
       "    </tr>\n",
       "    <tr>\n",
       "      <th>4</th>\n",
       "      <td>!!!!!!!!!!!!! RT @ShenikaRoberts: The shit you hear about me might be true or it might be faker than the bitch who told it to ya </td>\n",
       "      <td>0</td>\n",
       "      <td>[shit, hear, might, true, might, faker, bitch, told, ya, ]</td>\n",
       "    </tr>\n",
       "    <tr>\n",
       "      <th>...</th>\n",
       "      <td>...</td>\n",
       "      <td>...</td>\n",
       "      <td>...</td>\n",
       "    </tr>\n",
       "    <tr>\n",
       "      <th>10083</th>\n",
       "      <td>@parkourboy_123 bro take it down u are just a fake ass friend and an ungrateful piece of shit u should be thank faggot</td>\n",
       "      <td>1</td>\n",
       "      <td>[bro, take, u, fake, ass, friend, ungrateful, piece, shit, u, thank, faggot]</td>\n",
       "    </tr>\n",
       "    <tr>\n",
       "      <th>10084</th>\n",
       "      <td>@ARitzka @reverbrony @ObabScribbler @StarryFlame everytime you suck a dick, you look like a faggot. Go figure :P</td>\n",
       "      <td>1</td>\n",
       "      <td>[everytime, suck, dick, look, like, faggot, go, figure, p]</td>\n",
       "    </tr>\n",
       "    <tr>\n",
       "      <th>10085</th>\n",
       "      <td>@kessner_tara this is my pic u faggot</td>\n",
       "      <td>1</td>\n",
       "      <td>[pic, u, faggot]</td>\n",
       "    </tr>\n",
       "    <tr>\n",
       "      <th>10086</th>\n",
       "      <td>@imreallyjai we need you in chat you dirty faggot. IT'S THE NUTSHACK</td>\n",
       "      <td>1</td>\n",
       "      <td>[need, chat, dirty, faggot, nutshack]</td>\n",
       "    </tr>\n",
       "    <tr>\n",
       "      <th>10087</th>\n",
       "      <td>@imurbabytonight i was talking to kylie you retarded faggot</td>\n",
       "      <td>1</td>\n",
       "      <td>[talking, kylie, retarded, faggot]</td>\n",
       "    </tr>\n",
       "  </tbody>\n",
       "</table>\n",
       "<p>34871 rows × 3 columns</p>\n",
       "</div>"
      ],
      "text/plain": [
       "                                                                                                                                          tweet  \\\n",
       "0      !!! RT @mayasolovely: As a woman you shouldn't complain about cleaning up your house. & as a man you should always take the trash out...   \n",
       "1                                                         !!!!! RT @mleew17: boy dats cold...tyga dwn bad for cuffin dat hoe in the 1st place!!   \n",
       "2                      !!!!!!! RT @UrKindOfBrand Dawg!!!! RT @80sbaby4life: You ever fuck a bitch and she start to cry? You be confused as shit   \n",
       "3                                                                                !!!!!!!!! RT @C_G_Anderson: @viva_based she look like a tranny   \n",
       "4            !!!!!!!!!!!!! RT @ShenikaRoberts: The shit you hear about me might be true or it might be faker than the bitch who told it to ya    \n",
       "...                                                                                                                                         ...   \n",
       "10083                    @parkourboy_123 bro take it down u are just a fake ass friend and an ungrateful piece of shit u should be thank faggot   \n",
       "10084                          @ARitzka @reverbrony @ObabScribbler @StarryFlame everytime you suck a dick, you look like a faggot. Go figure :P   \n",
       "10085                                                                                                     @kessner_tara this is my pic u faggot   \n",
       "10086                                                                      @imreallyjai we need you in chat you dirty faggot. IT'S THE NUTSHACK   \n",
       "10087                                                                               @imurbabytonight i was talking to kylie you retarded faggot   \n",
       "\n",
       "       class  \\\n",
       "0          0   \n",
       "1          0   \n",
       "2          0   \n",
       "3          0   \n",
       "4          0   \n",
       "...      ...   \n",
       "10083      1   \n",
       "10084      1   \n",
       "10085      1   \n",
       "10086      1   \n",
       "10087      1   \n",
       "\n",
       "                                                                               text  \n",
       "0            [woman, shouldnt, complain, cleaning, house, man, always, take, trash]  \n",
       "1                     [boy, dats, coldtyga, dwn, bad, cuffin, dat, hoe, 1st, place]  \n",
       "2                             [dawg, ever, fuck, bitch, start, cry, confused, shit]  \n",
       "3                                                              [look, like, tranny]  \n",
       "4                       [shit, hear, might, true, might, faker, bitch, told, ya, ]  \n",
       "...                                                                             ...  \n",
       "10083  [bro, take, u, fake, ass, friend, ungrateful, piece, shit, u, thank, faggot]  \n",
       "10084                    [everytime, suck, dick, look, like, faggot, go, figure, p]  \n",
       "10085                                                              [pic, u, faggot]  \n",
       "10086                                         [need, chat, dirty, faggot, nutshack]  \n",
       "10087                                            [talking, kylie, retarded, faggot]  \n",
       "\n",
       "[34871 rows x 3 columns]"
      ]
     },
     "execution_count": 121,
     "metadata": {},
     "output_type": "execute_result"
    }
   ],
   "source": [
    "#Defining tokenizer\n",
    "tokenizer = TweetTokenizer()\n",
    "\n",
    "#Removing stopwords\n",
    "eng_ds['text'] = eng_ds['text'].apply(lambda text: [word for word in tokenizer.tokenize(text) if not word in new_stopwords])\n",
    "\n",
    "#Displaying english dataset after removing stopwords\n",
    "eng_ds"
   ]
  },
  {
   "cell_type": "code",
   "execution_count": null,
   "metadata": {
    "colab": {
     "base_uri": "https://localhost:8080/",
     "height": 424
    },
    "executionInfo": {
     "elapsed": 466,
     "status": "ok",
     "timestamp": 1640237803284,
     "user": {
      "displayName": "Moy Tian Xiang",
      "photoUrl": "https://lh3.googleusercontent.com/a/default-user=s64",
      "userId": "17517672150917689324"
     },
     "user_tz": -480
    },
    "gradient": {
     "editing": false,
     "id": "a4e852c5-4a3f-41e2-a079-d77426f80f16",
     "kernelId": "0c0438cc-8809-4072-a10a-acb706ba8551"
    },
    "id": "4y4Lw2nQgLNC",
    "outputId": "a53cf1cd-5fb3-49cd-f3ef-731766e9ee68"
   },
   "outputs": [
    {
     "data": {
      "text/html": [
       "<div>\n",
       "<style scoped>\n",
       "    .dataframe tbody tr th:only-of-type {\n",
       "        vertical-align: middle;\n",
       "    }\n",
       "\n",
       "    .dataframe tbody tr th {\n",
       "        vertical-align: top;\n",
       "    }\n",
       "\n",
       "    .dataframe thead th {\n",
       "        text-align: right;\n",
       "    }\n",
       "</style>\n",
       "<table border=\"1\" class=\"dataframe\">\n",
       "  <thead>\n",
       "    <tr style=\"text-align: right;\">\n",
       "      <th></th>\n",
       "      <th>tweet</th>\n",
       "      <th>class</th>\n",
       "      <th>text</th>\n",
       "    </tr>\n",
       "  </thead>\n",
       "  <tbody>\n",
       "    <tr>\n",
       "      <th>0</th>\n",
       "      <td>!!! RT @mayasolovely: As a woman you shouldn't complain about cleaning up your house. &amp; as a man you should always take the trash out...</td>\n",
       "      <td>0</td>\n",
       "      <td>woman shouldnt complain cleaning house man always take trash</td>\n",
       "    </tr>\n",
       "    <tr>\n",
       "      <th>1</th>\n",
       "      <td>!!!!! RT @mleew17: boy dats cold...tyga dwn bad for cuffin dat hoe in the 1st place!!</td>\n",
       "      <td>0</td>\n",
       "      <td>boy dats coldtyga dwn bad cuffin dat hoe 1st place</td>\n",
       "    </tr>\n",
       "    <tr>\n",
       "      <th>2</th>\n",
       "      <td>!!!!!!! RT @UrKindOfBrand Dawg!!!! RT @80sbaby4life: You ever fuck a bitch and she start to cry? You be confused as shit</td>\n",
       "      <td>0</td>\n",
       "      <td>dawg ever fuck bitch start cry confused shit</td>\n",
       "    </tr>\n",
       "    <tr>\n",
       "      <th>3</th>\n",
       "      <td>!!!!!!!!! RT @C_G_Anderson: @viva_based she look like a tranny</td>\n",
       "      <td>0</td>\n",
       "      <td>look like tranny</td>\n",
       "    </tr>\n",
       "    <tr>\n",
       "      <th>4</th>\n",
       "      <td>!!!!!!!!!!!!! RT @ShenikaRoberts: The shit you hear about me might be true or it might be faker than the bitch who told it to ya </td>\n",
       "      <td>0</td>\n",
       "      <td>shit hear might true might faker bitch told ya </td>\n",
       "    </tr>\n",
       "    <tr>\n",
       "      <th>...</th>\n",
       "      <td>...</td>\n",
       "      <td>...</td>\n",
       "      <td>...</td>\n",
       "    </tr>\n",
       "    <tr>\n",
       "      <th>10083</th>\n",
       "      <td>@parkourboy_123 bro take it down u are just a fake ass friend and an ungrateful piece of shit u should be thank faggot</td>\n",
       "      <td>1</td>\n",
       "      <td>bro take u fake ass friend ungrateful piece shit u thank faggot</td>\n",
       "    </tr>\n",
       "    <tr>\n",
       "      <th>10084</th>\n",
       "      <td>@ARitzka @reverbrony @ObabScribbler @StarryFlame everytime you suck a dick, you look like a faggot. Go figure :P</td>\n",
       "      <td>1</td>\n",
       "      <td>everytime suck dick look like faggot go figure p</td>\n",
       "    </tr>\n",
       "    <tr>\n",
       "      <th>10085</th>\n",
       "      <td>@kessner_tara this is my pic u faggot</td>\n",
       "      <td>1</td>\n",
       "      <td>pic u faggot</td>\n",
       "    </tr>\n",
       "    <tr>\n",
       "      <th>10086</th>\n",
       "      <td>@imreallyjai we need you in chat you dirty faggot. IT'S THE NUTSHACK</td>\n",
       "      <td>1</td>\n",
       "      <td>need chat dirty faggot nutshack</td>\n",
       "    </tr>\n",
       "    <tr>\n",
       "      <th>10087</th>\n",
       "      <td>@imurbabytonight i was talking to kylie you retarded faggot</td>\n",
       "      <td>1</td>\n",
       "      <td>talking kylie retarded faggot</td>\n",
       "    </tr>\n",
       "  </tbody>\n",
       "</table>\n",
       "<p>34871 rows × 3 columns</p>\n",
       "</div>"
      ],
      "text/plain": [
       "                                                                                                                                          tweet  \\\n",
       "0      !!! RT @mayasolovely: As a woman you shouldn't complain about cleaning up your house. & as a man you should always take the trash out...   \n",
       "1                                                         !!!!! RT @mleew17: boy dats cold...tyga dwn bad for cuffin dat hoe in the 1st place!!   \n",
       "2                      !!!!!!! RT @UrKindOfBrand Dawg!!!! RT @80sbaby4life: You ever fuck a bitch and she start to cry? You be confused as shit   \n",
       "3                                                                                !!!!!!!!! RT @C_G_Anderson: @viva_based she look like a tranny   \n",
       "4            !!!!!!!!!!!!! RT @ShenikaRoberts: The shit you hear about me might be true or it might be faker than the bitch who told it to ya    \n",
       "...                                                                                                                                         ...   \n",
       "10083                    @parkourboy_123 bro take it down u are just a fake ass friend and an ungrateful piece of shit u should be thank faggot   \n",
       "10084                          @ARitzka @reverbrony @ObabScribbler @StarryFlame everytime you suck a dick, you look like a faggot. Go figure :P   \n",
       "10085                                                                                                     @kessner_tara this is my pic u faggot   \n",
       "10086                                                                      @imreallyjai we need you in chat you dirty faggot. IT'S THE NUTSHACK   \n",
       "10087                                                                               @imurbabytonight i was talking to kylie you retarded faggot   \n",
       "\n",
       "       class                                                             text  \n",
       "0          0     woman shouldnt complain cleaning house man always take trash  \n",
       "1          0               boy dats coldtyga dwn bad cuffin dat hoe 1st place  \n",
       "2          0                     dawg ever fuck bitch start cry confused shit  \n",
       "3          0                                                 look like tranny  \n",
       "4          0                 shit hear might true might faker bitch told ya   \n",
       "...      ...                                                              ...  \n",
       "10083      1  bro take u fake ass friend ungrateful piece shit u thank faggot  \n",
       "10084      1                 everytime suck dick look like faggot go figure p  \n",
       "10085      1                                                     pic u faggot  \n",
       "10086      1                                  need chat dirty faggot nutshack  \n",
       "10087      1                                    talking kylie retarded faggot  \n",
       "\n",
       "[34871 rows x 3 columns]"
      ]
     },
     "execution_count": 122,
     "metadata": {},
     "output_type": "execute_result"
    }
   ],
   "source": [
    "#Joining lists of words back into sentence\n",
    "eng_ds['text'] = eng_ds['text'].apply(lambda text: ' '.join(text))\n",
    "\n",
    "#Displaying english dataset after joining \n",
    "eng_ds"
   ]
  },
  {
   "cell_type": "code",
   "execution_count": null,
   "metadata": {
    "colab": {
     "base_uri": "https://localhost:8080/",
     "height": 424
    },
    "executionInfo": {
     "elapsed": 501,
     "status": "ok",
     "timestamp": 1640237808050,
     "user": {
      "displayName": "Moy Tian Xiang",
      "photoUrl": "https://lh3.googleusercontent.com/a/default-user=s64",
      "userId": "17517672150917689324"
     },
     "user_tz": -480
    },
    "gradient": {
     "editing": false,
     "id": "50094c15-221f-4ddc-8461-115181a11e74",
     "kernelId": "0c0438cc-8809-4072-a10a-acb706ba8551"
    },
    "id": "G8hWJ4JVSPMq",
    "outputId": "ebdbefaa-8965-45fd-a43a-3910d265e76e"
   },
   "outputs": [
    {
     "data": {
      "text/html": [
       "<div>\n",
       "<style scoped>\n",
       "    .dataframe tbody tr th:only-of-type {\n",
       "        vertical-align: middle;\n",
       "    }\n",
       "\n",
       "    .dataframe tbody tr th {\n",
       "        vertical-align: top;\n",
       "    }\n",
       "\n",
       "    .dataframe thead th {\n",
       "        text-align: right;\n",
       "    }\n",
       "</style>\n",
       "<table border=\"1\" class=\"dataframe\">\n",
       "  <thead>\n",
       "    <tr style=\"text-align: right;\">\n",
       "      <th></th>\n",
       "      <th>text</th>\n",
       "      <th>class</th>\n",
       "    </tr>\n",
       "  </thead>\n",
       "  <tbody>\n",
       "    <tr>\n",
       "      <th>0</th>\n",
       "      <td>woman shouldnt complain cleaning house man always take trash</td>\n",
       "      <td>0</td>\n",
       "    </tr>\n",
       "    <tr>\n",
       "      <th>1</th>\n",
       "      <td>boy dats coldtyga dwn bad cuffin dat hoe 1st place</td>\n",
       "      <td>0</td>\n",
       "    </tr>\n",
       "    <tr>\n",
       "      <th>2</th>\n",
       "      <td>dawg ever fuck bitch start cry confused shit</td>\n",
       "      <td>0</td>\n",
       "    </tr>\n",
       "    <tr>\n",
       "      <th>3</th>\n",
       "      <td>look like tranny</td>\n",
       "      <td>0</td>\n",
       "    </tr>\n",
       "    <tr>\n",
       "      <th>4</th>\n",
       "      <td>shit hear might true might faker bitch told ya </td>\n",
       "      <td>0</td>\n",
       "    </tr>\n",
       "    <tr>\n",
       "      <th>...</th>\n",
       "      <td>...</td>\n",
       "      <td>...</td>\n",
       "    </tr>\n",
       "    <tr>\n",
       "      <th>10083</th>\n",
       "      <td>bro take u fake ass friend ungrateful piece shit u thank faggot</td>\n",
       "      <td>1</td>\n",
       "    </tr>\n",
       "    <tr>\n",
       "      <th>10084</th>\n",
       "      <td>everytime suck dick look like faggot go figure p</td>\n",
       "      <td>1</td>\n",
       "    </tr>\n",
       "    <tr>\n",
       "      <th>10085</th>\n",
       "      <td>pic u faggot</td>\n",
       "      <td>1</td>\n",
       "    </tr>\n",
       "    <tr>\n",
       "      <th>10086</th>\n",
       "      <td>need chat dirty faggot nutshack</td>\n",
       "      <td>1</td>\n",
       "    </tr>\n",
       "    <tr>\n",
       "      <th>10087</th>\n",
       "      <td>talking kylie retarded faggot</td>\n",
       "      <td>1</td>\n",
       "    </tr>\n",
       "  </tbody>\n",
       "</table>\n",
       "<p>34871 rows × 2 columns</p>\n",
       "</div>"
      ],
      "text/plain": [
       "                                                                  text  class\n",
       "0         woman shouldnt complain cleaning house man always take trash      0\n",
       "1                   boy dats coldtyga dwn bad cuffin dat hoe 1st place      0\n",
       "2                         dawg ever fuck bitch start cry confused shit      0\n",
       "3                                                     look like tranny      0\n",
       "4                     shit hear might true might faker bitch told ya       0\n",
       "...                                                                ...    ...\n",
       "10083  bro take u fake ass friend ungrateful piece shit u thank faggot      1\n",
       "10084                 everytime suck dick look like faggot go figure p      1\n",
       "10085                                                     pic u faggot      1\n",
       "10086                                  need chat dirty faggot nutshack      1\n",
       "10087                                    talking kylie retarded faggot      1\n",
       "\n",
       "[34871 rows x 2 columns]"
      ]
     },
     "execution_count": 123,
     "metadata": {},
     "output_type": "execute_result"
    }
   ],
   "source": [
    "#Subsetting columns required for training\n",
    "eng_ds = eng_ds[['text', 'class']]\n",
    "\n",
    "#Displaying english dataset after subsetting\n",
    "eng_ds"
   ]
  },
  {
   "cell_type": "code",
   "execution_count": null,
   "metadata": {
    "gradient": {
     "editing": false,
     "id": "7c84c9dd-36d1-4c3e-936b-bbb2bc7aaeeb",
     "kernelId": "0c0438cc-8809-4072-a10a-acb706ba8551"
    },
    "id": "vdCLXfnxhk74"
   },
   "outputs": [],
   "source": [
    "#Train test and validation split with ratio of 60:20:20\n",
    "train_eng, test_eng = train_test_split(eng_ds, train_size = 0.8, test_size = 0.2,  stratify = eng_ds[\"class\"], random_state = 7)\n",
    "\n",
    "train_eng, val_eng = train_test_split(train_eng, train_size = 0.75, test_size = 0.25, stratify = train_eng[\"class\"], random_state = 7)"
   ]
  },
  {
   "cell_type": "code",
   "execution_count": null,
   "metadata": {
    "gradient": {
     "editing": false,
     "id": "aab16474-e35a-48d2-8edd-e6c352142330",
     "kernelId": "0c0438cc-8809-4072-a10a-acb706ba8551"
    },
    "id": "OyvDx7FjdcBo"
   },
   "outputs": [],
   "source": [
    "#Separating features and target variable in train, test and validation datasets\n",
    "x_train_eng = list(train_eng['text'])\n",
    "y_train_eng = list(train_eng['class'])\n",
    "\n",
    "x_val_eng = list(val_eng['text'])\n",
    "y_val_eng = list(val_eng['class'])\n",
    "\n",
    "x_test_eng = list(test_eng['text'])\n",
    "y_test_eng = list(test_eng['class'])"
   ]
  },
  {
   "cell_type": "markdown",
   "metadata": {
    "gradient": {
     "editing": false,
     "id": "1f083deb-f95d-4117-b293-6d79eae83d51",
     "kernelId": "0c0438cc-8809-4072-a10a-acb706ba8551"
    },
    "id": "hzX9FtueLulZ"
   },
   "source": [
    "## Saving pre-processed eng_ds (with spell-check)"
   ]
  },
  {
   "cell_type": "code",
   "execution_count": null,
   "metadata": {
    "gradient": {
     "editing": false,
     "id": "56e252f1-b47b-4e93-963a-ca6291eb9e71",
     "kernelId": "0c0438cc-8809-4072-a10a-acb706ba8551"
    },
    "id": "qcgQOdTH7j1O"
   },
   "outputs": [],
   "source": [
    "import pickle"
   ]
  },
  {
   "cell_type": "code",
   "execution_count": null,
   "metadata": {
    "gradient": {
     "editing": false,
     "id": "df2888ae-d105-4f18-9fa9-2684546c0d2b",
     "kernelId": "0c0438cc-8809-4072-a10a-acb706ba8551"
    },
    "id": "ks9DcdEdLqEh"
   },
   "outputs": [],
   "source": [
    "object = eng_ds\n",
    "filehandler = open('pre-processed_eng_ds', 'wb')\n",
    "pickle.dump(object, filehandler)"
   ]
  },
  {
   "cell_type": "code",
   "execution_count": null,
   "metadata": {
    "gradient": {
     "editing": false,
     "id": "b352fcda-d74b-4947-8b77-eea16eba9ee6",
     "kernelId": "0c0438cc-8809-4072-a10a-acb706ba8551"
    },
    "id": "32ROsscL7Tfb"
   },
   "outputs": [],
   "source": [
    "filehandler = open('pre-processed_eng_ds', 'rb')\n",
    "eng_ds = pickle.load(filehandler)"
   ]
  },
  {
   "cell_type": "markdown",
   "metadata": {
    "gradient": {
     "editing": false,
     "id": "853c44f1-2d21-4c89-a487-547ddff5f1fb",
     "kernelId": "0c0438cc-8809-4072-a10a-acb706ba8551"
    },
    "id": "jRXnLsG1KZcb"
   },
   "source": [
    "## Preprocessing Malay dataset"
   ]
  },
  {
   "cell_type": "code",
   "execution_count": null,
   "metadata": {
    "collapsed": true,
    "gradient": {
     "editing": true,
     "id": "0c36e8a7-40fb-4261-90d2-874f05916527",
     "kernelId": "0c0438cc-8809-4072-a10a-acb706ba8551",
     "source_hidden": false
    },
    "id": "ujK0f3ksLxKZ",
    "jupyter": {
     "outputs_hidden": true
    },
    "outputId": "4f615fa0-9909-4d86-d66c-edeaae23e702"
   },
   "outputs": [
    {
     "name": "stdout",
     "output_type": "stream",
     "text": [
      "Collecting malaya\n",
      "  Downloading malaya-4.7.1-py3-none-any.whl (2.2 MB)\n",
      "\u001b[K     |################################| 2.2 MB 11.1 MB/s eta 0:00:01\n",
      "\u001b[?25hRequirement already satisfied: tensorflow>=1.15 in /usr/local/lib/python3.6/dist-packages (from malaya) (2.3.1)\n",
      "Requirement already satisfied: scikit-learn in /usr/local/lib/python3.6/dist-packages (from malaya) (0.24.2)\n",
      "Requirement already satisfied: scipy in /usr/local/lib/python3.6/dist-packages (from malaya) (1.5.4)\n",
      "Requirement already satisfied: numpy in /usr/local/lib/python3.6/dist-packages (from malaya) (1.18.5)\n",
      "Collecting networkx<=2.5.1\n",
      "  Downloading networkx-2.5.1-py3-none-any.whl (1.6 MB)\n",
      "\u001b[K     |################################| 1.6 MB 30.9 MB/s eta 0:00:01\n",
      "\u001b[?25hRequirement already satisfied: regex in /usr/local/lib/python3.6/dist-packages (from malaya) (2021.11.10)\n",
      "Requirement already satisfied: sentencepiece in /usr/local/lib/python3.6/dist-packages (from malaya) (0.1.91)\n",
      "Collecting dateparser\n",
      "  Downloading dateparser-1.1.0-py2.py3-none-any.whl (288 kB)\n",
      "\u001b[K     |################################| 288 kB 31.1 MB/s eta 0:00:01\n",
      "\u001b[?25hRequirement already satisfied: requests in /usr/local/lib/python3.6/dist-packages (from malaya) (2.25.0)\n",
      "Collecting ftfy\n",
      "  Downloading ftfy-6.0.3.tar.gz (64 kB)\n",
      "\u001b[K     |################################| 64 kB 1.6 MB/s eta 0:00:011\n",
      "\u001b[?25hRequirement already satisfied: tqdm in /usr/local/lib/python3.6/dist-packages (from malaya) (4.51.0)\n",
      "Collecting unidecode\n",
      "  Downloading Unidecode-1.3.2-py3-none-any.whl (235 kB)\n",
      "\u001b[K     |################################| 235 kB 33.5 MB/s eta 0:00:01\n",
      "\u001b[?25hCollecting malaya-boilerplate>=0.0.10\n",
      "  Downloading malaya_boilerplate-0.0.15-py3-none-any.whl (11 kB)\n",
      "Collecting herpetologist\n",
      "  Downloading herpetologist-0.0.9-py3-none-any.whl (2.4 kB)\n",
      "Requirement already satisfied: keras-preprocessing<1.2,>=1.1.1 in /usr/local/lib/python3.6/dist-packages (from tensorflow>=1.15->malaya) (1.1.2)\n",
      "Requirement already satisfied: tensorboard<3,>=2.3.0 in /usr/local/lib/python3.6/dist-packages (from tensorflow>=1.15->malaya) (2.4.0)\n",
      "Requirement already satisfied: gast==0.3.3 in /usr/local/lib/python3.6/dist-packages (from tensorflow>=1.15->malaya) (0.3.3)\n",
      "Requirement already satisfied: absl-py>=0.7.0 in /usr/local/lib/python3.6/dist-packages (from tensorflow>=1.15->malaya) (0.11.0)\n",
      "Requirement already satisfied: astunparse==1.6.3 in /usr/local/lib/python3.6/dist-packages (from tensorflow>=1.15->malaya) (1.6.3)\n",
      "Requirement already satisfied: tensorflow-estimator<2.4.0,>=2.3.0 in /usr/local/lib/python3.6/dist-packages (from tensorflow>=1.15->malaya) (2.3.0)\n",
      "Requirement already satisfied: google-pasta>=0.1.8 in /usr/local/lib/python3.6/dist-packages (from tensorflow>=1.15->malaya) (0.2.0)\n",
      "Requirement already satisfied: termcolor>=1.1.0 in /usr/local/lib/python3.6/dist-packages (from tensorflow>=1.15->malaya) (1.1.0)\n",
      "Requirement already satisfied: wrapt>=1.11.1 in /usr/local/lib/python3.6/dist-packages (from tensorflow>=1.15->malaya) (1.12.1)\n",
      "Requirement already satisfied: six>=1.12.0 in /usr/local/lib/python3.6/dist-packages (from tensorflow>=1.15->malaya) (1.15.0)\n",
      "Requirement already satisfied: wheel>=0.26 in /usr/lib/python3/dist-packages (from tensorflow>=1.15->malaya) (0.30.0)\n",
      "Requirement already satisfied: h5py<2.11.0,>=2.10.0 in /usr/local/lib/python3.6/dist-packages (from tensorflow>=1.15->malaya) (2.10.0)\n",
      "Requirement already satisfied: opt-einsum>=2.3.2 in /usr/local/lib/python3.6/dist-packages (from tensorflow>=1.15->malaya) (3.3.0)\n",
      "Requirement already satisfied: protobuf>=3.9.2 in /usr/local/lib/python3.6/dist-packages (from tensorflow>=1.15->malaya) (3.13.0)\n",
      "Requirement already satisfied: grpcio>=1.8.6 in /usr/local/lib/python3.6/dist-packages (from tensorflow>=1.15->malaya) (1.33.2)\n",
      "Requirement already satisfied: joblib>=0.11 in /usr/local/lib/python3.6/dist-packages (from scikit-learn->malaya) (0.17.0)\n",
      "Requirement already satisfied: threadpoolctl>=2.0.0 in /usr/local/lib/python3.6/dist-packages (from scikit-learn->malaya) (3.0.0)\n",
      "Requirement already satisfied: decorator<5,>=4.3 in /usr/local/lib/python3.6/dist-packages (from networkx<=2.5.1->malaya) (4.4.2)\n",
      "Requirement already satisfied: python-dateutil in /usr/local/lib/python3.6/dist-packages (from dateparser->malaya) (2.8.1)\n",
      "Requirement already satisfied: pytz in /usr/local/lib/python3.6/dist-packages (from dateparser->malaya) (2021.3)\n",
      "Collecting tzlocal\n",
      "  Downloading tzlocal-4.1-py3-none-any.whl (19 kB)\n",
      "Requirement already satisfied: idna<3,>=2.5 in /usr/lib/python3/dist-packages (from requests->malaya) (2.6)\n",
      "Requirement already satisfied: urllib3<1.27,>=1.21.1 in /usr/local/lib/python3.6/dist-packages (from requests->malaya) (1.26.2)\n",
      "Requirement already satisfied: certifi>=2017.4.17 in /usr/local/lib/python3.6/dist-packages (from requests->malaya) (2020.11.8)\n",
      "Requirement already satisfied: chardet<4,>=3.0.2 in /usr/local/lib/python3.6/dist-packages (from requests->malaya) (3.0.4)\n",
      "Requirement already satisfied: wcwidth in /usr/local/lib/python3.6/dist-packages (from ftfy->malaya) (0.2.5)\n",
      "Collecting memoization\n",
      "  Downloading memoization-0.4.0.tar.gz (41 kB)\n",
      "\u001b[K     |################################| 41 kB 524 kB/s  eta 0:00:01\n",
      "\u001b[?25hRequirement already satisfied: werkzeug>=0.11.15 in /usr/local/lib/python3.6/dist-packages (from tensorboard<3,>=2.3.0->tensorflow>=1.15->malaya) (1.0.1)\n",
      "Requirement already satisfied: tensorboard-plugin-wit>=1.6.0 in /usr/local/lib/python3.6/dist-packages (from tensorboard<3,>=2.3.0->tensorflow>=1.15->malaya) (1.7.0)\n",
      "Requirement already satisfied: google-auth-oauthlib<0.5,>=0.4.1 in /usr/local/lib/python3.6/dist-packages (from tensorboard<3,>=2.3.0->tensorflow>=1.15->malaya) (0.4.2)\n",
      "Requirement already satisfied: google-auth<2,>=1.6.3 in /usr/local/lib/python3.6/dist-packages (from tensorboard<3,>=2.3.0->tensorflow>=1.15->malaya) (1.23.0)\n",
      "Requirement already satisfied: markdown>=2.6.8 in /usr/local/lib/python3.6/dist-packages (from tensorboard<3,>=2.3.0->tensorflow>=1.15->malaya) (3.3.3)\n",
      "Requirement already satisfied: setuptools>=41.0.0 in /usr/local/lib/python3.6/dist-packages (from tensorboard<3,>=2.3.0->tensorflow>=1.15->malaya) (50.3.2)\n",
      "Collecting pytz-deprecation-shim\n",
      "  Downloading pytz_deprecation_shim-0.1.0.post0-py2.py3-none-any.whl (15 kB)\n",
      "Collecting backports.zoneinfo; python_version < \"3.9\"\n",
      "  Downloading backports.zoneinfo-0.2.1-cp36-cp36m-manylinux1_x86_64.whl (70 kB)\n",
      "\u001b[K     |################################| 70 kB 16.0 MB/s eta 0:00:01\n",
      "\u001b[?25hRequirement already satisfied: requests-oauthlib>=0.7.0 in /usr/local/lib/python3.6/dist-packages (from google-auth-oauthlib<0.5,>=0.4.1->tensorboard<3,>=2.3.0->tensorflow>=1.15->malaya) (1.3.0)\n",
      "Requirement already satisfied: cachetools<5.0,>=2.0.0 in /usr/local/lib/python3.6/dist-packages (from google-auth<2,>=1.6.3->tensorboard<3,>=2.3.0->tensorflow>=1.15->malaya) (4.1.1)\n",
      "Requirement already satisfied: rsa<5,>=3.1.4; python_version >= \"3.5\" in /usr/local/lib/python3.6/dist-packages (from google-auth<2,>=1.6.3->tensorboard<3,>=2.3.0->tensorflow>=1.15->malaya) (4.6)\n",
      "Requirement already satisfied: pyasn1-modules>=0.2.1 in /usr/local/lib/python3.6/dist-packages (from google-auth<2,>=1.6.3->tensorboard<3,>=2.3.0->tensorflow>=1.15->malaya) (0.2.8)\n",
      "Requirement already satisfied: importlib-metadata; python_version < \"3.8\" in /usr/local/lib/python3.6/dist-packages (from markdown>=2.6.8->tensorboard<3,>=2.3.0->tensorflow>=1.15->malaya) (2.0.0)\n",
      "Collecting tzdata; python_version >= \"3.6\"\n",
      "  Downloading tzdata-2021.5-py2.py3-none-any.whl (339 kB)\n",
      "\u001b[K     |################################| 339 kB 24.2 MB/s eta 0:00:01\n",
      "\u001b[?25hCollecting importlib-resources; python_version < \"3.7\"\n",
      "  Downloading importlib_resources-5.4.0-py3-none-any.whl (28 kB)\n",
      "Requirement already satisfied: oauthlib>=3.0.0 in /usr/local/lib/python3.6/dist-packages (from requests-oauthlib>=0.7.0->google-auth-oauthlib<0.5,>=0.4.1->tensorboard<3,>=2.3.0->tensorflow>=1.15->malaya) (3.1.0)\n",
      "Requirement already satisfied: pyasn1>=0.1.3 in /usr/local/lib/python3.6/dist-packages (from rsa<5,>=3.1.4; python_version >= \"3.5\"->google-auth<2,>=1.6.3->tensorboard<3,>=2.3.0->tensorflow>=1.15->malaya) (0.4.8)\n",
      "Requirement already satisfied: zipp>=0.5 in /usr/local/lib/python3.6/dist-packages (from importlib-metadata; python_version < \"3.8\"->markdown>=2.6.8->tensorboard<3,>=2.3.0->tensorflow>=1.15->malaya) (3.4.0)\n",
      "Building wheels for collected packages: ftfy, memoization\n",
      "  Building wheel for ftfy (setup.py) ... \u001b[?25ldone\n",
      "\u001b[?25h  Created wheel for ftfy: filename=ftfy-6.0.3-py3-none-any.whl size=44518 sha256=7d196b51d4350ae2c11e9e534888722be660745f0fcfaeace81bb30a6d61092a\n",
      "  Stored in directory: /root/.cache/pip/wheels/ff/2a/24/75041425faf3347ab146a4a3d0484f723b2c44a7966a06e3f0\n",
      "  Building wheel for memoization (setup.py) ... \u001b[?25ldone\n",
      "\u001b[?25h  Created wheel for memoization: filename=memoization-0.4.0-py3-none-any.whl size=56392 sha256=908b8d80ee12dab7e05d729e33f8ad246fff85436865642b96c3c792ff6cd83e\n",
      "  Stored in directory: /root/.cache/pip/wheels/0a/44/0a/197850ded28de8872a3e4091bb41c108f653593259029f975e\n",
      "Successfully built ftfy memoization\n",
      "Installing collected packages: networkx, tzdata, importlib-resources, backports.zoneinfo, pytz-deprecation-shim, tzlocal, dateparser, ftfy, unidecode, malaya-boilerplate, memoization, herpetologist, malaya\n",
      "Successfully installed backports.zoneinfo-0.2.1 dateparser-1.1.0 ftfy-6.0.3 herpetologist-0.0.9 importlib-resources-5.4.0 malaya-4.7.1 malaya-boilerplate-0.0.15 memoization-0.4.0 networkx-2.5.1 pytz-deprecation-shim-0.1.0.post0 tzdata-2021.5 tzlocal-4.1 unidecode-1.3.2\n",
      "\u001b[33mWARNING: You are using pip version 20.2.4; however, version 21.3.1 is available.\n",
      "You should consider upgrading via the '/usr/bin/python3 -m pip install --upgrade pip' command.\u001b[0m\n"
     ]
    }
   ],
   "source": [
    "#Installing 'malaya'\n",
    "!pip install malaya"
   ]
  },
  {
   "cell_type": "code",
   "execution_count": null,
   "metadata": {
    "colab": {
     "base_uri": "https://localhost:8080/",
     "height": 424
    },
    "executionInfo": {
     "elapsed": 4897,
     "status": "ok",
     "timestamp": 1640237908333,
     "user": {
      "displayName": "Moy Tian Xiang",
      "photoUrl": "https://lh3.googleusercontent.com/a/default-user=s64",
      "userId": "17517672150917689324"
     },
     "user_tz": -480
    },
    "gradient": {
     "editing": false,
     "id": "88539a44-3a5c-4494-b2a3-b31e87e579f6",
     "kernelId": "0c0438cc-8809-4072-a10a-acb706ba8551"
    },
    "id": "zYW1uvqemJZX",
    "outputId": "5bc050cd-dc55-4ce1-80c5-bfc28307dd0b"
   },
   "outputs": [
    {
     "data": {
      "text/html": [
       "<div>\n",
       "<style scoped>\n",
       "    .dataframe tbody tr th:only-of-type {\n",
       "        vertical-align: middle;\n",
       "    }\n",
       "\n",
       "    .dataframe tbody tr th {\n",
       "        vertical-align: top;\n",
       "    }\n",
       "\n",
       "    .dataframe thead th {\n",
       "        text-align: right;\n",
       "    }\n",
       "</style>\n",
       "<table border=\"1\" class=\"dataframe\">\n",
       "  <thead>\n",
       "    <tr style=\"text-align: right;\">\n",
       "      <th></th>\n",
       "      <th>comments</th>\n",
       "      <th>class</th>\n",
       "      <th>text</th>\n",
       "    </tr>\n",
       "  </thead>\n",
       "  <tbody>\n",
       "    <tr>\n",
       "      <th>1765</th>\n",
       "      <td>selamat datang, dan selamat datang ke wikipedia! terima kasih atas sumbangan anda. Saya harap anda suka tempat dan memutuskan untuk tinggal. di sini adalah beberapa halaman yang anda mungkin ingin melihat lima tiang wikipedia cara mengedit laman bantuan halaman tutorial bagaimana menulis manual artikel gaya yang bagus yang anda dialu-alukan untuk terus menyunting artikel tanpa mendaftar, tetapi anda mungkin ingin membuat akaun . melakukan yang penting adalah percuma, tidak memerlukan maklumat peribadi, dan menyediakan beberapa manfaat. jika anda mengedit tanpa nama pengguna, alamat ip anda digunakan untuk mengenal pasti anda. dalam apa jua keadaan, saya harap anda suka mengedit di sini dan menjadi wikipedian! sila tandakan komen anda pada halaman perbincangan menggunakan empat tildes ini secara automatik akan menghasilkan alamat ip atau nama pengguna anda secara automatik jika anda log masuk dan tarikh. jika anda memerlukan bantuan, periksa soalan wikipedia, tanya saya, atau tanyakan soalan anda dan kemudian letakkan bantuan sebelum soalan di halaman ini. lagi, selamat datang!</td>\n",
       "      <td>0</td>\n",
       "      <td>selamat datang, dan selamat datang ke wikipedia! terima kasih atas sumbangan anda. Saya harap anda suka tempat dan memutuskan untuk tinggal. di sini adalah beberapa halaman yang anda mungkin ingin melihat lima tiang wikipedia cara mengedit laman bantuan halaman tutorial bagaimana menulis manual artikel gaya yang bagus yang anda dialu-alukan untuk terus menyunting artikel tanpa mendaftar, tetapi anda mungkin ingin membuat akaun . melakukan yang penting adalah percuma, tidak memerlukan maklumat peribadi, dan menyediakan beberapa manfaat. jika anda mengedit tanpa nama pengguna, alamat ip anda digunakan untuk mengenal pasti anda. dalam apa jua keadaan, saya harap anda suka mengedit di sini dan menjadi wikipedian! sila tandakan komen anda pada halaman perbincangan menggunakan empat tildes ini secara automatik akan menghasilkan alamat ip atau nama pengguna anda secara automatik jika anda log masuk dan tarikh. jika anda memerlukan bantuan, periksa soalan wikipedia, tanya saya, atau tanyakan soalan anda dan kemudian letakkan bantuan sebelum soalan di halaman ini. lagi, selamat datang!</td>\n",
       "    </tr>\n",
       "    <tr>\n",
       "      <th>12559</th>\n",
       "      <td>pasti ada penggabungan, sekali lagi saya mempunyai masa untuk menulis semula halaman. masyarakat adalah salah, sekali lagi. kualiti dan ketepatan artikel itu tidak akan dikorbankan untuk menghilangkan 5 atau lebih penyunting yang salah dengan pendapat. sumber dan kepincangan ketepatan sebarang konsensus yang salah.</td>\n",
       "      <td>0</td>\n",
       "      <td>pasti ada penggabungan, sekali lagi saya mempunyai masa untuk menulis semula halaman. masyarakat adalah salah, sekali lagi. kualiti dan ketepatan artikel itu tidak akan dikorbankan untuk menghilangkan 5 atau lebih penyunting yang salah dengan pendapat. sumber dan kepincangan ketepatan sebarang konsensus yang salah.</td>\n",
       "    </tr>\n",
       "    <tr>\n",
       "      <th>7038</th>\n",
       "      <td>selamat hari Krismas dan selamat tahun baru !</td>\n",
       "      <td>0</td>\n",
       "      <td>selamat hari Krismas dan selamat tahun baru !</td>\n",
       "    </tr>\n",
       "    <tr>\n",
       "      <th>13729</th>\n",
       "      <td>gangguan anda terhadap saya akan anda berhenti berhenti mengikuti saya dan membalikkan setiap pengeditan yang saya buat, saya menyedari bahawa kita mempunyai perselisihan, tetapi sekarang semakin konyol. anda memulangkan setiap perubahan yang saya buat dan jika ia berterusan saya akan melaporkan anda untuk gangguan.</td>\n",
       "      <td>0</td>\n",
       "      <td>gangguan anda terhadap saya akan anda berhenti berhenti mengikuti saya dan membalikkan setiap pengeditan yang saya buat, saya menyedari bahawa kita mempunyai perselisihan, tetapi sekarang semakin konyol. anda memulangkan setiap perubahan yang saya buat dan jika ia berterusan saya akan melaporkan anda untuk gangguan.</td>\n",
       "    </tr>\n",
       "    <tr>\n",
       "      <th>4209</th>\n",
       "      <td>pencalonan untuk status artikel yang baik ditahan\\r\\n\\r\\nartikel itu boleh menggunakan lebih banyak imej, memandangkan panjang dan perkara. peta akan membantu untuk mengikat dalam senarai ahli pasukan. Selain dari beberapa perbaikan gramatikal minor, bahagian utama memerlukan pengembangan dan penambahbaikan; pada dasarnya ia harus menjadi versi ringkas artikel itu sendiri jadi cuba menyebutkan pasukan, beberapa eksperimen / eksplorasi tertentu, roald amundsen, dan lain-lain juga. ini juga terpakai kepada faktor-faktor yang menyumbang kepada kegagalan, yang sepatutnya disebutkan dan bukannya merujuk kepada artikel lain. jika artikel itu sangat dekat, jadi saya meletakkan ini terus.</td>\n",
       "      <td>0</td>\n",
       "      <td>pencalonan untuk status artikel yang baik ditahan artikel itu boleh menggunakan lebih banyak imej, memandangkan panjang dan perkara. peta akan membantu untuk mengikat dalam senarai ahli pasukan. Selain dari beberapa perbaikan gramatikal minor, bahagian utama memerlukan pengembangan dan penambahbaikan; pada dasarnya ia harus menjadi versi ringkas artikel itu sendiri jadi cuba menyebutkan pasukan, beberapa eksperimen / eksplorasi tertentu, roald amundsen, dan lain-lain juga. ini juga terpakai kepada faktor-faktor yang menyumbang kepada kegagalan, yang sepatutnya disebutkan dan bukannya merujuk kepada artikel lain. jika artikel itu sangat dekat, jadi saya meletakkan ini terus.</td>\n",
       "    </tr>\n",
       "    <tr>\n",
       "      <th>...</th>\n",
       "      <td>...</td>\n",
       "      <td>...</td>\n",
       "      <td>...</td>\n",
       "    </tr>\n",
       "    <tr>\n",
       "      <th>17885</th>\n",
       "      <td>oops, saya tidak sengaja menyunting halaman anda, bodoh! jatuh mati</td>\n",
       "      <td>1</td>\n",
       "      <td>oops, saya tidak sengaja menyunting halaman anda, bodoh! jatuh mati</td>\n",
       "    </tr>\n",
       "    <tr>\n",
       "      <th>17887</th>\n",
       "      <td>saya akan menyogok dia dengan komoditi yang paling berharga di internet banyak lucah kuda! dia akan gembira.</td>\n",
       "      <td>1</td>\n",
       "      <td>saya akan menyogok dia dengan komoditi yang paling berharga di internet banyak lucah kuda! dia akan gembira.</td>\n",
       "    </tr>\n",
       "    <tr>\n",
       "      <th>17888</th>\n",
       "      <td>tiada masalah robot yang anda tak kenal pasti. saya kembali semula. robot adalah seperti bodoh seperti ikan emas yang menjadikan mereka dua kali pintar sebagai pentadbir manusia di wikipedia. saya akan bertaruh tidak ada penulis yang diterbitkan di kalangan mereka. Saya telah diterbitkan dan laman web ini adalah jenaka.</td>\n",
       "      <td>1</td>\n",
       "      <td>tiada masalah robot yang anda tak kenal pasti. saya kembali semula. robot adalah seperti bodoh seperti ikan emas yang menjadikan mereka dua kali pintar sebagai pentadbir manusia di wikipedia. saya akan bertaruh tidak ada penulis yang diterbitkan di kalangan mereka. Saya telah diterbitkan dan laman web ini adalah jenaka.</td>\n",
       "    </tr>\n",
       "    <tr>\n",
       "      <th>17893</th>\n",
       "      <td>fuck you london. kamu sekeping kotoran</td>\n",
       "      <td>1</td>\n",
       "      <td>fuck you london. kamu sekeping kotoran</td>\n",
       "    </tr>\n",
       "    <tr>\n",
       "      <th>17902</th>\n",
       "      <td>asscrack saya. . . dan saya sangat menyukainya. gunakan</td>\n",
       "      <td>1</td>\n",
       "      <td>asscrack saya. . . dan saya sangat menyukainya. gunakan</td>\n",
       "    </tr>\n",
       "  </tbody>\n",
       "</table>\n",
       "<p>30782 rows × 3 columns</p>\n",
       "</div>"
      ],
      "text/plain": [
       "                                                                                                                                                                                                                                                                                                                                                                                                                                                                                                                                                                                                                                                                                                                                                                                                                                                                                                                                                                                                                                                                                                                                    comments  \\\n",
       "1765   selamat datang, dan selamat datang ke wikipedia! terima kasih atas sumbangan anda. Saya harap anda suka tempat dan memutuskan untuk tinggal. di sini adalah beberapa halaman yang anda mungkin ingin melihat lima tiang wikipedia cara mengedit laman bantuan halaman tutorial bagaimana menulis manual artikel gaya yang bagus yang anda dialu-alukan untuk terus menyunting artikel tanpa mendaftar, tetapi anda mungkin ingin membuat akaun . melakukan yang penting adalah percuma, tidak memerlukan maklumat peribadi, dan menyediakan beberapa manfaat. jika anda mengedit tanpa nama pengguna, alamat ip anda digunakan untuk mengenal pasti anda. dalam apa jua keadaan, saya harap anda suka mengedit di sini dan menjadi wikipedian! sila tandakan komen anda pada halaman perbincangan menggunakan empat tildes ini secara automatik akan menghasilkan alamat ip atau nama pengguna anda secara automatik jika anda log masuk dan tarikh. jika anda memerlukan bantuan, periksa soalan wikipedia, tanya saya, atau tanyakan soalan anda dan kemudian letakkan bantuan sebelum soalan di halaman ini. lagi, selamat datang!   \n",
       "12559                                                                                                                                                                                                                                                                                                                                                                                                                                                                                                                                                                                                                                                                                                                                                                                                           pasti ada penggabungan, sekali lagi saya mempunyai masa untuk menulis semula halaman. masyarakat adalah salah, sekali lagi. kualiti dan ketepatan artikel itu tidak akan dikorbankan untuk menghilangkan 5 atau lebih penyunting yang salah dengan pendapat. sumber dan kepincangan ketepatan sebarang konsensus yang salah.   \n",
       "7038                                                                                                                                                                                                                                                                                                                                                                                                                                                                                                                                                                                                                                                                                                                                                                                                                                                                                                                                                                                                                                                                                           selamat hari Krismas dan selamat tahun baru !   \n",
       "13729                                                                                                                                                                                                                                                                                                                                                                                                                                                                                                                                                                                                                                                                                                                                                                                                          gangguan anda terhadap saya akan anda berhenti berhenti mengikuti saya dan membalikkan setiap pengeditan yang saya buat, saya menyedari bahawa kita mempunyai perselisihan, tetapi sekarang semakin konyol. anda memulangkan setiap perubahan yang saya buat dan jika ia berterusan saya akan melaporkan anda untuk gangguan.   \n",
       "4209                                                                                                                                                                                                                                                                                                                                                                                                                       pencalonan untuk status artikel yang baik ditahan\\r\\n\\r\\nartikel itu boleh menggunakan lebih banyak imej, memandangkan panjang dan perkara. peta akan membantu untuk mengikat dalam senarai ahli pasukan. Selain dari beberapa perbaikan gramatikal minor, bahagian utama memerlukan pengembangan dan penambahbaikan; pada dasarnya ia harus menjadi versi ringkas artikel itu sendiri jadi cuba menyebutkan pasukan, beberapa eksperimen / eksplorasi tertentu, roald amundsen, dan lain-lain juga. ini juga terpakai kepada faktor-faktor yang menyumbang kepada kegagalan, yang sepatutnya disebutkan dan bukannya merujuk kepada artikel lain. jika artikel itu sangat dekat, jadi saya meletakkan ini terus.   \n",
       "...                                                                                                                                                                                                                                                                                                                                                                                                                                                                                                                                                                                                                                                                                                                                                                                                                                                                                                                                                                                                                                                                                                                                      ...   \n",
       "17885                                                                                                                                                                                                                                                                                                                                                                                                                                                                                                                                                                                                                                                                                                                                                                                                                                                                                                                                                                                                                                                                    oops, saya tidak sengaja menyunting halaman anda, bodoh! jatuh mati   \n",
       "17887                                                                                                                                                                                                                                                                                                                                                                                                                                                                                                                                                                                                                                                                                                                                                                                                                                                                                                                                                                                                                           saya akan menyogok dia dengan komoditi yang paling berharga di internet banyak lucah kuda! dia akan gembira.   \n",
       "17888                                                                                                                                                                                                                                                                                                                                                                                                                                                                                                                                                                                                                                                                                                                                                                                                      tiada masalah robot yang anda tak kenal pasti. saya kembali semula. robot adalah seperti bodoh seperti ikan emas yang menjadikan mereka dua kali pintar sebagai pentadbir manusia di wikipedia. saya akan bertaruh tidak ada penulis yang diterbitkan di kalangan mereka. Saya telah diterbitkan dan laman web ini adalah jenaka.   \n",
       "17893                                                                                                                                                                                                                                                                                                                                                                                                                                                                                                                                                                                                                                                                                                                                                                                                                                                                                                                                                                                                                                                                                                 fuck you london. kamu sekeping kotoran   \n",
       "17902                                                                                                                                                                                                                                                                                                                                                                                                                                                                                                                                                                                                                                                                                                                                                                                                                                                                                                                                                                                                                                                                                asscrack saya. . . dan saya sangat menyukainya. gunakan   \n",
       "\n",
       "       class  \\\n",
       "1765       0   \n",
       "12559      0   \n",
       "7038       0   \n",
       "13729      0   \n",
       "4209       0   \n",
       "...      ...   \n",
       "17885      1   \n",
       "17887      1   \n",
       "17888      1   \n",
       "17893      1   \n",
       "17902      1   \n",
       "\n",
       "                                                                                                                                                                                                                                                                                                                                                                                                                                                                                                                                                                                                                                                                                                                                                                                                                                                                                                                                                                                                                                                                                                                                        text  \n",
       "1765   selamat datang, dan selamat datang ke wikipedia! terima kasih atas sumbangan anda. Saya harap anda suka tempat dan memutuskan untuk tinggal. di sini adalah beberapa halaman yang anda mungkin ingin melihat lima tiang wikipedia cara mengedit laman bantuan halaman tutorial bagaimana menulis manual artikel gaya yang bagus yang anda dialu-alukan untuk terus menyunting artikel tanpa mendaftar, tetapi anda mungkin ingin membuat akaun . melakukan yang penting adalah percuma, tidak memerlukan maklumat peribadi, dan menyediakan beberapa manfaat. jika anda mengedit tanpa nama pengguna, alamat ip anda digunakan untuk mengenal pasti anda. dalam apa jua keadaan, saya harap anda suka mengedit di sini dan menjadi wikipedian! sila tandakan komen anda pada halaman perbincangan menggunakan empat tildes ini secara automatik akan menghasilkan alamat ip atau nama pengguna anda secara automatik jika anda log masuk dan tarikh. jika anda memerlukan bantuan, periksa soalan wikipedia, tanya saya, atau tanyakan soalan anda dan kemudian letakkan bantuan sebelum soalan di halaman ini. lagi, selamat datang!  \n",
       "12559                                                                                                                                                                                                                                                                                                                                                                                                                                                                                                                                                                                                                                                                                                                                                                                                           pasti ada penggabungan, sekali lagi saya mempunyai masa untuk menulis semula halaman. masyarakat adalah salah, sekali lagi. kualiti dan ketepatan artikel itu tidak akan dikorbankan untuk menghilangkan 5 atau lebih penyunting yang salah dengan pendapat. sumber dan kepincangan ketepatan sebarang konsensus yang salah.  \n",
       "7038                                                                                                                                                                                                                                                                                                                                                                                                                                                                                                                                                                                                                                                                                                                                                                                                                                                                                                                                                                                                                                                                                           selamat hari Krismas dan selamat tahun baru !  \n",
       "13729                                                                                                                                                                                                                                                                                                                                                                                                                                                                                                                                                                                                                                                                                                                                                                                                          gangguan anda terhadap saya akan anda berhenti berhenti mengikuti saya dan membalikkan setiap pengeditan yang saya buat, saya menyedari bahawa kita mempunyai perselisihan, tetapi sekarang semakin konyol. anda memulangkan setiap perubahan yang saya buat dan jika ia berterusan saya akan melaporkan anda untuk gangguan.  \n",
       "4209                                                                                                                                                                                                                                                                                                                                                                                                                              pencalonan untuk status artikel yang baik ditahan artikel itu boleh menggunakan lebih banyak imej, memandangkan panjang dan perkara. peta akan membantu untuk mengikat dalam senarai ahli pasukan. Selain dari beberapa perbaikan gramatikal minor, bahagian utama memerlukan pengembangan dan penambahbaikan; pada dasarnya ia harus menjadi versi ringkas artikel itu sendiri jadi cuba menyebutkan pasukan, beberapa eksperimen / eksplorasi tertentu, roald amundsen, dan lain-lain juga. ini juga terpakai kepada faktor-faktor yang menyumbang kepada kegagalan, yang sepatutnya disebutkan dan bukannya merujuk kepada artikel lain. jika artikel itu sangat dekat, jadi saya meletakkan ini terus.  \n",
       "...                                                                                                                                                                                                                                                                                                                                                                                                                                                                                                                                                                                                                                                                                                                                                                                                                                                                                                                                                                                                                                                                                                                                      ...  \n",
       "17885                                                                                                                                                                                                                                                                                                                                                                                                                                                                                                                                                                                                                                                                                                                                                                                                                                                                                                                                                                                                                                                                    oops, saya tidak sengaja menyunting halaman anda, bodoh! jatuh mati  \n",
       "17887                                                                                                                                                                                                                                                                                                                                                                                                                                                                                                                                                                                                                                                                                                                                                                                                                                                                                                                                                                                                                           saya akan menyogok dia dengan komoditi yang paling berharga di internet banyak lucah kuda! dia akan gembira.  \n",
       "17888                                                                                                                                                                                                                                                                                                                                                                                                                                                                                                                                                                                                                                                                                                                                                                                                      tiada masalah robot yang anda tak kenal pasti. saya kembali semula. robot adalah seperti bodoh seperti ikan emas yang menjadikan mereka dua kali pintar sebagai pentadbir manusia di wikipedia. saya akan bertaruh tidak ada penulis yang diterbitkan di kalangan mereka. Saya telah diterbitkan dan laman web ini adalah jenaka.  \n",
       "17893                                                                                                                                                                                                                                                                                                                                                                                                                                                                                                                                                                                                                                                                                                                                                                                                                                                                                                                                                                                                                                                                                                 fuck you london. kamu sekeping kotoran  \n",
       "17902                                                                                                                                                                                                                                                                                                                                                                                                                                                                                                                                                                                                                                                                                                                                                                                                                                                                                                                                                                                                                                                                                asscrack saya. . . dan saya sangat menyukainya. gunakan  \n",
       "\n",
       "[30782 rows x 3 columns]"
      ]
     },
     "execution_count": 127,
     "metadata": {},
     "output_type": "execute_result"
    }
   ],
   "source": [
    "#Defining a function to remove URLs\n",
    "def remove_url(text):\n",
    "  p.set_options(p.OPT.URL)\n",
    "  cleaned_text = p.clean(text)\n",
    "  return(cleaned_text)\n",
    "\n",
    "#Creating a new column with URLs removed\n",
    "malay_ds['text'] = malay_ds['comments'].apply(remove_url)\n",
    "\n",
    "#Displaying malay dataset after removing URLs\n",
    "malay_ds"
   ]
  },
  {
   "cell_type": "code",
   "execution_count": null,
   "metadata": {
    "colab": {
     "base_uri": "https://localhost:8080/",
     "height": 424
    },
    "executionInfo": {
     "elapsed": 1234,
     "status": "ok",
     "timestamp": 1640237914142,
     "user": {
      "displayName": "Moy Tian Xiang",
      "photoUrl": "https://lh3.googleusercontent.com/a/default-user=s64",
      "userId": "17517672150917689324"
     },
     "user_tz": -480
    },
    "gradient": {
     "editing": false,
     "id": "0aebee10-0ae9-4087-b00b-4ab95bda9242",
     "kernelId": "0c0438cc-8809-4072-a10a-acb706ba8551"
    },
    "id": "OAerTVqjm6ae",
    "outputId": "bca95f07-1be8-4992-b318-3a5e09a7fcb1"
   },
   "outputs": [
    {
     "data": {
      "text/html": [
       "<div>\n",
       "<style scoped>\n",
       "    .dataframe tbody tr th:only-of-type {\n",
       "        vertical-align: middle;\n",
       "    }\n",
       "\n",
       "    .dataframe tbody tr th {\n",
       "        vertical-align: top;\n",
       "    }\n",
       "\n",
       "    .dataframe thead th {\n",
       "        text-align: right;\n",
       "    }\n",
       "</style>\n",
       "<table border=\"1\" class=\"dataframe\">\n",
       "  <thead>\n",
       "    <tr style=\"text-align: right;\">\n",
       "      <th></th>\n",
       "      <th>comments</th>\n",
       "      <th>class</th>\n",
       "      <th>text</th>\n",
       "    </tr>\n",
       "  </thead>\n",
       "  <tbody>\n",
       "    <tr>\n",
       "      <th>1765</th>\n",
       "      <td>selamat datang, dan selamat datang ke wikipedia! terima kasih atas sumbangan anda. Saya harap anda suka tempat dan memutuskan untuk tinggal. di sini adalah beberapa halaman yang anda mungkin ingin melihat lima tiang wikipedia cara mengedit laman bantuan halaman tutorial bagaimana menulis manual artikel gaya yang bagus yang anda dialu-alukan untuk terus menyunting artikel tanpa mendaftar, tetapi anda mungkin ingin membuat akaun . melakukan yang penting adalah percuma, tidak memerlukan maklumat peribadi, dan menyediakan beberapa manfaat. jika anda mengedit tanpa nama pengguna, alamat ip anda digunakan untuk mengenal pasti anda. dalam apa jua keadaan, saya harap anda suka mengedit di sini dan menjadi wikipedian! sila tandakan komen anda pada halaman perbincangan menggunakan empat tildes ini secara automatik akan menghasilkan alamat ip atau nama pengguna anda secara automatik jika anda log masuk dan tarikh. jika anda memerlukan bantuan, periksa soalan wikipedia, tanya saya, atau tanyakan soalan anda dan kemudian letakkan bantuan sebelum soalan di halaman ini. lagi, selamat datang!</td>\n",
       "      <td>0</td>\n",
       "      <td>selamat datang dan selamat datang ke wikipedia terima kasih atas sumbangan anda Saya harap anda suka tempat dan memutuskan untuk tinggal di sini adalah beberapa halaman yang anda mungkin ingin melihat lima tiang wikipedia cara mengedit laman bantuan halaman tutorial bagaimana menulis manual artikel gaya yang bagus yang anda dialualukan untuk terus menyunting artikel tanpa mendaftar tetapi anda mungkin ingin membuat akaun  melakukan yang penting adalah percuma tidak memerlukan maklumat peribadi dan menyediakan beberapa manfaat jika anda mengedit tanpa nama pengguna alamat ip anda digunakan untuk mengenal pasti anda dalam apa jua keadaan saya harap anda suka mengedit di sini dan menjadi wikipedian sila tandakan komen anda pada halaman perbincangan menggunakan empat tildes ini secara automatik akan menghasilkan alamat ip atau nama pengguna anda secara automatik jika anda log masuk dan tarikh jika anda memerlukan bantuan periksa soalan wikipedia tanya saya atau tanyakan soalan anda dan kemudian letakkan bantuan sebelum soalan di halaman ini lagi selamat datang</td>\n",
       "    </tr>\n",
       "    <tr>\n",
       "      <th>12559</th>\n",
       "      <td>pasti ada penggabungan, sekali lagi saya mempunyai masa untuk menulis semula halaman. masyarakat adalah salah, sekali lagi. kualiti dan ketepatan artikel itu tidak akan dikorbankan untuk menghilangkan 5 atau lebih penyunting yang salah dengan pendapat. sumber dan kepincangan ketepatan sebarang konsensus yang salah.</td>\n",
       "      <td>0</td>\n",
       "      <td>pasti ada penggabungan sekali lagi saya mempunyai masa untuk menulis semula halaman masyarakat adalah salah sekali lagi kualiti dan ketepatan artikel itu tidak akan dikorbankan untuk menghilangkan 5 atau lebih penyunting yang salah dengan pendapat sumber dan kepincangan ketepatan sebarang konsensus yang salah</td>\n",
       "    </tr>\n",
       "    <tr>\n",
       "      <th>7038</th>\n",
       "      <td>selamat hari Krismas dan selamat tahun baru !</td>\n",
       "      <td>0</td>\n",
       "      <td>selamat hari Krismas dan selamat tahun baru</td>\n",
       "    </tr>\n",
       "    <tr>\n",
       "      <th>13729</th>\n",
       "      <td>gangguan anda terhadap saya akan anda berhenti berhenti mengikuti saya dan membalikkan setiap pengeditan yang saya buat, saya menyedari bahawa kita mempunyai perselisihan, tetapi sekarang semakin konyol. anda memulangkan setiap perubahan yang saya buat dan jika ia berterusan saya akan melaporkan anda untuk gangguan.</td>\n",
       "      <td>0</td>\n",
       "      <td>gangguan anda terhadap saya akan anda berhenti berhenti mengikuti saya dan membalikkan setiap pengeditan yang saya buat saya menyedari bahawa kita mempunyai perselisihan tetapi sekarang semakin konyol anda memulangkan setiap perubahan yang saya buat dan jika ia berterusan saya akan melaporkan anda untuk gangguan</td>\n",
       "    </tr>\n",
       "    <tr>\n",
       "      <th>4209</th>\n",
       "      <td>pencalonan untuk status artikel yang baik ditahan\\r\\n\\r\\nartikel itu boleh menggunakan lebih banyak imej, memandangkan panjang dan perkara. peta akan membantu untuk mengikat dalam senarai ahli pasukan. Selain dari beberapa perbaikan gramatikal minor, bahagian utama memerlukan pengembangan dan penambahbaikan; pada dasarnya ia harus menjadi versi ringkas artikel itu sendiri jadi cuba menyebutkan pasukan, beberapa eksperimen / eksplorasi tertentu, roald amundsen, dan lain-lain juga. ini juga terpakai kepada faktor-faktor yang menyumbang kepada kegagalan, yang sepatutnya disebutkan dan bukannya merujuk kepada artikel lain. jika artikel itu sangat dekat, jadi saya meletakkan ini terus.</td>\n",
       "      <td>0</td>\n",
       "      <td>pencalonan untuk status artikel yang baik ditahan artikel itu boleh menggunakan lebih banyak imej memandangkan panjang dan perkara peta akan membantu untuk mengikat dalam senarai ahli pasukan Selain dari beberapa perbaikan gramatikal minor bahagian utama memerlukan pengembangan dan penambahbaikan pada dasarnya ia harus menjadi versi ringkas artikel itu sendiri jadi cuba menyebutkan pasukan beberapa eksperimen  eksplorasi tertentu roald amundsen dan lainlain juga ini juga terpakai kepada faktorfaktor yang menyumbang kepada kegagalan yang sepatutnya disebutkan dan bukannya merujuk kepada artikel lain jika artikel itu sangat dekat jadi saya meletakkan ini terus</td>\n",
       "    </tr>\n",
       "    <tr>\n",
       "      <th>...</th>\n",
       "      <td>...</td>\n",
       "      <td>...</td>\n",
       "      <td>...</td>\n",
       "    </tr>\n",
       "    <tr>\n",
       "      <th>17885</th>\n",
       "      <td>oops, saya tidak sengaja menyunting halaman anda, bodoh! jatuh mati</td>\n",
       "      <td>1</td>\n",
       "      <td>oops saya tidak sengaja menyunting halaman anda bodoh jatuh mati</td>\n",
       "    </tr>\n",
       "    <tr>\n",
       "      <th>17887</th>\n",
       "      <td>saya akan menyogok dia dengan komoditi yang paling berharga di internet banyak lucah kuda! dia akan gembira.</td>\n",
       "      <td>1</td>\n",
       "      <td>saya akan menyogok dia dengan komoditi yang paling berharga di internet banyak lucah kuda dia akan gembira</td>\n",
       "    </tr>\n",
       "    <tr>\n",
       "      <th>17888</th>\n",
       "      <td>tiada masalah robot yang anda tak kenal pasti. saya kembali semula. robot adalah seperti bodoh seperti ikan emas yang menjadikan mereka dua kali pintar sebagai pentadbir manusia di wikipedia. saya akan bertaruh tidak ada penulis yang diterbitkan di kalangan mereka. Saya telah diterbitkan dan laman web ini adalah jenaka.</td>\n",
       "      <td>1</td>\n",
       "      <td>tiada masalah robot yang anda tak kenal pasti saya kembali semula robot adalah seperti bodoh seperti ikan emas yang menjadikan mereka dua kali pintar sebagai pentadbir manusia di wikipedia saya akan bertaruh tidak ada penulis yang diterbitkan di kalangan mereka Saya telah diterbitkan dan laman web ini adalah jenaka</td>\n",
       "    </tr>\n",
       "    <tr>\n",
       "      <th>17893</th>\n",
       "      <td>fuck you london. kamu sekeping kotoran</td>\n",
       "      <td>1</td>\n",
       "      <td>fuck you london kamu sekeping kotoran</td>\n",
       "    </tr>\n",
       "    <tr>\n",
       "      <th>17902</th>\n",
       "      <td>asscrack saya. . . dan saya sangat menyukainya. gunakan</td>\n",
       "      <td>1</td>\n",
       "      <td>asscrack saya   dan saya sangat menyukainya gunakan</td>\n",
       "    </tr>\n",
       "  </tbody>\n",
       "</table>\n",
       "<p>30782 rows × 3 columns</p>\n",
       "</div>"
      ],
      "text/plain": [
       "                                                                                                                                                                                                                                                                                                                                                                                                                                                                                                                                                                                                                                                                                                                                                                                                                                                                                                                                                                                                                                                                                                                                    comments  \\\n",
       "1765   selamat datang, dan selamat datang ke wikipedia! terima kasih atas sumbangan anda. Saya harap anda suka tempat dan memutuskan untuk tinggal. di sini adalah beberapa halaman yang anda mungkin ingin melihat lima tiang wikipedia cara mengedit laman bantuan halaman tutorial bagaimana menulis manual artikel gaya yang bagus yang anda dialu-alukan untuk terus menyunting artikel tanpa mendaftar, tetapi anda mungkin ingin membuat akaun . melakukan yang penting adalah percuma, tidak memerlukan maklumat peribadi, dan menyediakan beberapa manfaat. jika anda mengedit tanpa nama pengguna, alamat ip anda digunakan untuk mengenal pasti anda. dalam apa jua keadaan, saya harap anda suka mengedit di sini dan menjadi wikipedian! sila tandakan komen anda pada halaman perbincangan menggunakan empat tildes ini secara automatik akan menghasilkan alamat ip atau nama pengguna anda secara automatik jika anda log masuk dan tarikh. jika anda memerlukan bantuan, periksa soalan wikipedia, tanya saya, atau tanyakan soalan anda dan kemudian letakkan bantuan sebelum soalan di halaman ini. lagi, selamat datang!   \n",
       "12559                                                                                                                                                                                                                                                                                                                                                                                                                                                                                                                                                                                                                                                                                                                                                                                                           pasti ada penggabungan, sekali lagi saya mempunyai masa untuk menulis semula halaman. masyarakat adalah salah, sekali lagi. kualiti dan ketepatan artikel itu tidak akan dikorbankan untuk menghilangkan 5 atau lebih penyunting yang salah dengan pendapat. sumber dan kepincangan ketepatan sebarang konsensus yang salah.   \n",
       "7038                                                                                                                                                                                                                                                                                                                                                                                                                                                                                                                                                                                                                                                                                                                                                                                                                                                                                                                                                                                                                                                                                           selamat hari Krismas dan selamat tahun baru !   \n",
       "13729                                                                                                                                                                                                                                                                                                                                                                                                                                                                                                                                                                                                                                                                                                                                                                                                          gangguan anda terhadap saya akan anda berhenti berhenti mengikuti saya dan membalikkan setiap pengeditan yang saya buat, saya menyedari bahawa kita mempunyai perselisihan, tetapi sekarang semakin konyol. anda memulangkan setiap perubahan yang saya buat dan jika ia berterusan saya akan melaporkan anda untuk gangguan.   \n",
       "4209                                                                                                                                                                                                                                                                                                                                                                                                                       pencalonan untuk status artikel yang baik ditahan\\r\\n\\r\\nartikel itu boleh menggunakan lebih banyak imej, memandangkan panjang dan perkara. peta akan membantu untuk mengikat dalam senarai ahli pasukan. Selain dari beberapa perbaikan gramatikal minor, bahagian utama memerlukan pengembangan dan penambahbaikan; pada dasarnya ia harus menjadi versi ringkas artikel itu sendiri jadi cuba menyebutkan pasukan, beberapa eksperimen / eksplorasi tertentu, roald amundsen, dan lain-lain juga. ini juga terpakai kepada faktor-faktor yang menyumbang kepada kegagalan, yang sepatutnya disebutkan dan bukannya merujuk kepada artikel lain. jika artikel itu sangat dekat, jadi saya meletakkan ini terus.   \n",
       "...                                                                                                                                                                                                                                                                                                                                                                                                                                                                                                                                                                                                                                                                                                                                                                                                                                                                                                                                                                                                                                                                                                                                      ...   \n",
       "17885                                                                                                                                                                                                                                                                                                                                                                                                                                                                                                                                                                                                                                                                                                                                                                                                                                                                                                                                                                                                                                                                    oops, saya tidak sengaja menyunting halaman anda, bodoh! jatuh mati   \n",
       "17887                                                                                                                                                                                                                                                                                                                                                                                                                                                                                                                                                                                                                                                                                                                                                                                                                                                                                                                                                                                                                           saya akan menyogok dia dengan komoditi yang paling berharga di internet banyak lucah kuda! dia akan gembira.   \n",
       "17888                                                                                                                                                                                                                                                                                                                                                                                                                                                                                                                                                                                                                                                                                                                                                                                                      tiada masalah robot yang anda tak kenal pasti. saya kembali semula. robot adalah seperti bodoh seperti ikan emas yang menjadikan mereka dua kali pintar sebagai pentadbir manusia di wikipedia. saya akan bertaruh tidak ada penulis yang diterbitkan di kalangan mereka. Saya telah diterbitkan dan laman web ini adalah jenaka.   \n",
       "17893                                                                                                                                                                                                                                                                                                                                                                                                                                                                                                                                                                                                                                                                                                                                                                                                                                                                                                                                                                                                                                                                                                 fuck you london. kamu sekeping kotoran   \n",
       "17902                                                                                                                                                                                                                                                                                                                                                                                                                                                                                                                                                                                                                                                                                                                                                                                                                                                                                                                                                                                                                                                                                asscrack saya. . . dan saya sangat menyukainya. gunakan   \n",
       "\n",
       "       class  \\\n",
       "1765       0   \n",
       "12559      0   \n",
       "7038       0   \n",
       "13729      0   \n",
       "4209       0   \n",
       "...      ...   \n",
       "17885      1   \n",
       "17887      1   \n",
       "17888      1   \n",
       "17893      1   \n",
       "17902      1   \n",
       "\n",
       "                                                                                                                                                                                                                                                                                                                                                                                                                                                                                                                                                                                                                                                                                                                                                                                                                                                                                                                                                                                                                                                                                                                   text  \n",
       "1765   selamat datang dan selamat datang ke wikipedia terima kasih atas sumbangan anda Saya harap anda suka tempat dan memutuskan untuk tinggal di sini adalah beberapa halaman yang anda mungkin ingin melihat lima tiang wikipedia cara mengedit laman bantuan halaman tutorial bagaimana menulis manual artikel gaya yang bagus yang anda dialualukan untuk terus menyunting artikel tanpa mendaftar tetapi anda mungkin ingin membuat akaun  melakukan yang penting adalah percuma tidak memerlukan maklumat peribadi dan menyediakan beberapa manfaat jika anda mengedit tanpa nama pengguna alamat ip anda digunakan untuk mengenal pasti anda dalam apa jua keadaan saya harap anda suka mengedit di sini dan menjadi wikipedian sila tandakan komen anda pada halaman perbincangan menggunakan empat tildes ini secara automatik akan menghasilkan alamat ip atau nama pengguna anda secara automatik jika anda log masuk dan tarikh jika anda memerlukan bantuan periksa soalan wikipedia tanya saya atau tanyakan soalan anda dan kemudian letakkan bantuan sebelum soalan di halaman ini lagi selamat datang  \n",
       "12559                                                                                                                                                                                                                                                                                                                                                                                                                                                                                                                                                                                                                                                                                                                                                                                            pasti ada penggabungan sekali lagi saya mempunyai masa untuk menulis semula halaman masyarakat adalah salah sekali lagi kualiti dan ketepatan artikel itu tidak akan dikorbankan untuk menghilangkan 5 atau lebih penyunting yang salah dengan pendapat sumber dan kepincangan ketepatan sebarang konsensus yang salah  \n",
       "7038                                                                                                                                                                                                                                                                                                                                                                                                                                                                                                                                                                                                                                                                                                                                                                                                                                                                                                                                                                                                                                                                       selamat hari Krismas dan selamat tahun baru   \n",
       "13729                                                                                                                                                                                                                                                                                                                                                                                                                                                                                                                                                                                                                                                                                                                                                                                         gangguan anda terhadap saya akan anda berhenti berhenti mengikuti saya dan membalikkan setiap pengeditan yang saya buat saya menyedari bahawa kita mempunyai perselisihan tetapi sekarang semakin konyol anda memulangkan setiap perubahan yang saya buat dan jika ia berterusan saya akan melaporkan anda untuk gangguan  \n",
       "4209                                                                                                                                                                                                                                                                                                                                                                                                                         pencalonan untuk status artikel yang baik ditahan artikel itu boleh menggunakan lebih banyak imej memandangkan panjang dan perkara peta akan membantu untuk mengikat dalam senarai ahli pasukan Selain dari beberapa perbaikan gramatikal minor bahagian utama memerlukan pengembangan dan penambahbaikan pada dasarnya ia harus menjadi versi ringkas artikel itu sendiri jadi cuba menyebutkan pasukan beberapa eksperimen  eksplorasi tertentu roald amundsen dan lainlain juga ini juga terpakai kepada faktorfaktor yang menyumbang kepada kegagalan yang sepatutnya disebutkan dan bukannya merujuk kepada artikel lain jika artikel itu sangat dekat jadi saya meletakkan ini terus  \n",
       "...                                                                                                                                                                                                                                                                                                                                                                                                                                                                                                                                                                                                                                                                                                                                                                                                                                                                                                                                                                                                                                                                                                                 ...  \n",
       "17885                                                                                                                                                                                                                                                                                                                                                                                                                                                                                                                                                                                                                                                                                                                                                                                                                                                                                                                                                                                                                                                  oops saya tidak sengaja menyunting halaman anda bodoh jatuh mati  \n",
       "17887                                                                                                                                                                                                                                                                                                                                                                                                                                                                                                                                                                                                                                                                                                                                                                                                                                                                                                                                                                                                        saya akan menyogok dia dengan komoditi yang paling berharga di internet banyak lucah kuda dia akan gembira  \n",
       "17888                                                                                                                                                                                                                                                                                                                                                                                                                                                                                                                                                                                                                                                                                                                                                                                      tiada masalah robot yang anda tak kenal pasti saya kembali semula robot adalah seperti bodoh seperti ikan emas yang menjadikan mereka dua kali pintar sebagai pentadbir manusia di wikipedia saya akan bertaruh tidak ada penulis yang diterbitkan di kalangan mereka Saya telah diterbitkan dan laman web ini adalah jenaka  \n",
       "17893                                                                                                                                                                                                                                                                                                                                                                                                                                                                                                                                                                                                                                                                                                                                                                                                                                                                                                                                                                                                                                                                             fuck you london kamu sekeping kotoran  \n",
       "17902                                                                                                                                                                                                                                                                                                                                                                                                                                                                                                                                                                                                                                                                                                                                                                                                                                                                                                                                                                                                                                                               asscrack saya   dan saya sangat menyukainya gunakan  \n",
       "\n",
       "[30782 rows x 3 columns]"
      ]
     },
     "execution_count": 128,
     "metadata": {},
     "output_type": "execute_result"
    }
   ],
   "source": [
    "#Removing punctuations\n",
    "malay_ds['text'] = malay_ds['text'].apply(remove_punctuation)\n",
    "\n",
    "#Displaying malay dataset after removing punctuations\n",
    "malay_ds"
   ]
  },
  {
   "cell_type": "code",
   "execution_count": null,
   "metadata": {
    "colab": {
     "base_uri": "https://localhost:8080/",
     "height": 424
    },
    "executionInfo": {
     "elapsed": 421,
     "status": "ok",
     "timestamp": 1640237917307,
     "user": {
      "displayName": "Moy Tian Xiang",
      "photoUrl": "https://lh3.googleusercontent.com/a/default-user=s64",
      "userId": "17517672150917689324"
     },
     "user_tz": -480
    },
    "gradient": {
     "editing": false,
     "id": "76c67da5-71f3-4737-ad0c-4c3b4d12b77d",
     "kernelId": "0c0438cc-8809-4072-a10a-acb706ba8551"
    },
    "id": "LqB2nZyBnxHx",
    "outputId": "bbb3941a-5f02-4005-da92-54a08106e56f"
   },
   "outputs": [
    {
     "data": {
      "text/html": [
       "<div>\n",
       "<style scoped>\n",
       "    .dataframe tbody tr th:only-of-type {\n",
       "        vertical-align: middle;\n",
       "    }\n",
       "\n",
       "    .dataframe tbody tr th {\n",
       "        vertical-align: top;\n",
       "    }\n",
       "\n",
       "    .dataframe thead th {\n",
       "        text-align: right;\n",
       "    }\n",
       "</style>\n",
       "<table border=\"1\" class=\"dataframe\">\n",
       "  <thead>\n",
       "    <tr style=\"text-align: right;\">\n",
       "      <th></th>\n",
       "      <th>comments</th>\n",
       "      <th>class</th>\n",
       "      <th>text</th>\n",
       "    </tr>\n",
       "  </thead>\n",
       "  <tbody>\n",
       "    <tr>\n",
       "      <th>1765</th>\n",
       "      <td>selamat datang, dan selamat datang ke wikipedia! terima kasih atas sumbangan anda. Saya harap anda suka tempat dan memutuskan untuk tinggal. di sini adalah beberapa halaman yang anda mungkin ingin melihat lima tiang wikipedia cara mengedit laman bantuan halaman tutorial bagaimana menulis manual artikel gaya yang bagus yang anda dialu-alukan untuk terus menyunting artikel tanpa mendaftar, tetapi anda mungkin ingin membuat akaun . melakukan yang penting adalah percuma, tidak memerlukan maklumat peribadi, dan menyediakan beberapa manfaat. jika anda mengedit tanpa nama pengguna, alamat ip anda digunakan untuk mengenal pasti anda. dalam apa jua keadaan, saya harap anda suka mengedit di sini dan menjadi wikipedian! sila tandakan komen anda pada halaman perbincangan menggunakan empat tildes ini secara automatik akan menghasilkan alamat ip atau nama pengguna anda secara automatik jika anda log masuk dan tarikh. jika anda memerlukan bantuan, periksa soalan wikipedia, tanya saya, atau tanyakan soalan anda dan kemudian letakkan bantuan sebelum soalan di halaman ini. lagi, selamat datang!</td>\n",
       "      <td>0</td>\n",
       "      <td>selamat datang dan selamat datang ke wikipedia terima kasih atas sumbangan anda saya harap anda suka tempat dan memutuskan untuk tinggal di sini adalah beberapa halaman yang anda mungkin ingin melihat lima tiang wikipedia cara mengedit laman bantuan halaman tutorial bagaimana menulis manual artikel gaya yang bagus yang anda dialualukan untuk terus menyunting artikel tanpa mendaftar tetapi anda mungkin ingin membuat akaun  melakukan yang penting adalah percuma tidak memerlukan maklumat peribadi dan menyediakan beberapa manfaat jika anda mengedit tanpa nama pengguna alamat ip anda digunakan untuk mengenal pasti anda dalam apa jua keadaan saya harap anda suka mengedit di sini dan menjadi wikipedian sila tandakan komen anda pada halaman perbincangan menggunakan empat tildes ini secara automatik akan menghasilkan alamat ip atau nama pengguna anda secara automatik jika anda log masuk dan tarikh jika anda memerlukan bantuan periksa soalan wikipedia tanya saya atau tanyakan soalan anda dan kemudian letakkan bantuan sebelum soalan di halaman ini lagi selamat datang</td>\n",
       "    </tr>\n",
       "    <tr>\n",
       "      <th>12559</th>\n",
       "      <td>pasti ada penggabungan, sekali lagi saya mempunyai masa untuk menulis semula halaman. masyarakat adalah salah, sekali lagi. kualiti dan ketepatan artikel itu tidak akan dikorbankan untuk menghilangkan 5 atau lebih penyunting yang salah dengan pendapat. sumber dan kepincangan ketepatan sebarang konsensus yang salah.</td>\n",
       "      <td>0</td>\n",
       "      <td>pasti ada penggabungan sekali lagi saya mempunyai masa untuk menulis semula halaman masyarakat adalah salah sekali lagi kualiti dan ketepatan artikel itu tidak akan dikorbankan untuk menghilangkan 5 atau lebih penyunting yang salah dengan pendapat sumber dan kepincangan ketepatan sebarang konsensus yang salah</td>\n",
       "    </tr>\n",
       "    <tr>\n",
       "      <th>7038</th>\n",
       "      <td>selamat hari Krismas dan selamat tahun baru !</td>\n",
       "      <td>0</td>\n",
       "      <td>selamat hari krismas dan selamat tahun baru</td>\n",
       "    </tr>\n",
       "    <tr>\n",
       "      <th>13729</th>\n",
       "      <td>gangguan anda terhadap saya akan anda berhenti berhenti mengikuti saya dan membalikkan setiap pengeditan yang saya buat, saya menyedari bahawa kita mempunyai perselisihan, tetapi sekarang semakin konyol. anda memulangkan setiap perubahan yang saya buat dan jika ia berterusan saya akan melaporkan anda untuk gangguan.</td>\n",
       "      <td>0</td>\n",
       "      <td>gangguan anda terhadap saya akan anda berhenti berhenti mengikuti saya dan membalikkan setiap pengeditan yang saya buat saya menyedari bahawa kita mempunyai perselisihan tetapi sekarang semakin konyol anda memulangkan setiap perubahan yang saya buat dan jika ia berterusan saya akan melaporkan anda untuk gangguan</td>\n",
       "    </tr>\n",
       "    <tr>\n",
       "      <th>4209</th>\n",
       "      <td>pencalonan untuk status artikel yang baik ditahan\\r\\n\\r\\nartikel itu boleh menggunakan lebih banyak imej, memandangkan panjang dan perkara. peta akan membantu untuk mengikat dalam senarai ahli pasukan. Selain dari beberapa perbaikan gramatikal minor, bahagian utama memerlukan pengembangan dan penambahbaikan; pada dasarnya ia harus menjadi versi ringkas artikel itu sendiri jadi cuba menyebutkan pasukan, beberapa eksperimen / eksplorasi tertentu, roald amundsen, dan lain-lain juga. ini juga terpakai kepada faktor-faktor yang menyumbang kepada kegagalan, yang sepatutnya disebutkan dan bukannya merujuk kepada artikel lain. jika artikel itu sangat dekat, jadi saya meletakkan ini terus.</td>\n",
       "      <td>0</td>\n",
       "      <td>pencalonan untuk status artikel yang baik ditahan artikel itu boleh menggunakan lebih banyak imej memandangkan panjang dan perkara peta akan membantu untuk mengikat dalam senarai ahli pasukan selain dari beberapa perbaikan gramatikal minor bahagian utama memerlukan pengembangan dan penambahbaikan pada dasarnya ia harus menjadi versi ringkas artikel itu sendiri jadi cuba menyebutkan pasukan beberapa eksperimen  eksplorasi tertentu roald amundsen dan lainlain juga ini juga terpakai kepada faktorfaktor yang menyumbang kepada kegagalan yang sepatutnya disebutkan dan bukannya merujuk kepada artikel lain jika artikel itu sangat dekat jadi saya meletakkan ini terus</td>\n",
       "    </tr>\n",
       "    <tr>\n",
       "      <th>...</th>\n",
       "      <td>...</td>\n",
       "      <td>...</td>\n",
       "      <td>...</td>\n",
       "    </tr>\n",
       "    <tr>\n",
       "      <th>17885</th>\n",
       "      <td>oops, saya tidak sengaja menyunting halaman anda, bodoh! jatuh mati</td>\n",
       "      <td>1</td>\n",
       "      <td>oops saya tidak sengaja menyunting halaman anda bodoh jatuh mati</td>\n",
       "    </tr>\n",
       "    <tr>\n",
       "      <th>17887</th>\n",
       "      <td>saya akan menyogok dia dengan komoditi yang paling berharga di internet banyak lucah kuda! dia akan gembira.</td>\n",
       "      <td>1</td>\n",
       "      <td>saya akan menyogok dia dengan komoditi yang paling berharga di internet banyak lucah kuda dia akan gembira</td>\n",
       "    </tr>\n",
       "    <tr>\n",
       "      <th>17888</th>\n",
       "      <td>tiada masalah robot yang anda tak kenal pasti. saya kembali semula. robot adalah seperti bodoh seperti ikan emas yang menjadikan mereka dua kali pintar sebagai pentadbir manusia di wikipedia. saya akan bertaruh tidak ada penulis yang diterbitkan di kalangan mereka. Saya telah diterbitkan dan laman web ini adalah jenaka.</td>\n",
       "      <td>1</td>\n",
       "      <td>tiada masalah robot yang anda tak kenal pasti saya kembali semula robot adalah seperti bodoh seperti ikan emas yang menjadikan mereka dua kali pintar sebagai pentadbir manusia di wikipedia saya akan bertaruh tidak ada penulis yang diterbitkan di kalangan mereka saya telah diterbitkan dan laman web ini adalah jenaka</td>\n",
       "    </tr>\n",
       "    <tr>\n",
       "      <th>17893</th>\n",
       "      <td>fuck you london. kamu sekeping kotoran</td>\n",
       "      <td>1</td>\n",
       "      <td>fuck you london kamu sekeping kotoran</td>\n",
       "    </tr>\n",
       "    <tr>\n",
       "      <th>17902</th>\n",
       "      <td>asscrack saya. . . dan saya sangat menyukainya. gunakan</td>\n",
       "      <td>1</td>\n",
       "      <td>asscrack saya   dan saya sangat menyukainya gunakan</td>\n",
       "    </tr>\n",
       "  </tbody>\n",
       "</table>\n",
       "<p>30782 rows × 3 columns</p>\n",
       "</div>"
      ],
      "text/plain": [
       "                                                                                                                                                                                                                                                                                                                                                                                                                                                                                                                                                                                                                                                                                                                                                                                                                                                                                                                                                                                                                                                                                                                                    comments  \\\n",
       "1765   selamat datang, dan selamat datang ke wikipedia! terima kasih atas sumbangan anda. Saya harap anda suka tempat dan memutuskan untuk tinggal. di sini adalah beberapa halaman yang anda mungkin ingin melihat lima tiang wikipedia cara mengedit laman bantuan halaman tutorial bagaimana menulis manual artikel gaya yang bagus yang anda dialu-alukan untuk terus menyunting artikel tanpa mendaftar, tetapi anda mungkin ingin membuat akaun . melakukan yang penting adalah percuma, tidak memerlukan maklumat peribadi, dan menyediakan beberapa manfaat. jika anda mengedit tanpa nama pengguna, alamat ip anda digunakan untuk mengenal pasti anda. dalam apa jua keadaan, saya harap anda suka mengedit di sini dan menjadi wikipedian! sila tandakan komen anda pada halaman perbincangan menggunakan empat tildes ini secara automatik akan menghasilkan alamat ip atau nama pengguna anda secara automatik jika anda log masuk dan tarikh. jika anda memerlukan bantuan, periksa soalan wikipedia, tanya saya, atau tanyakan soalan anda dan kemudian letakkan bantuan sebelum soalan di halaman ini. lagi, selamat datang!   \n",
       "12559                                                                                                                                                                                                                                                                                                                                                                                                                                                                                                                                                                                                                                                                                                                                                                                                           pasti ada penggabungan, sekali lagi saya mempunyai masa untuk menulis semula halaman. masyarakat adalah salah, sekali lagi. kualiti dan ketepatan artikel itu tidak akan dikorbankan untuk menghilangkan 5 atau lebih penyunting yang salah dengan pendapat. sumber dan kepincangan ketepatan sebarang konsensus yang salah.   \n",
       "7038                                                                                                                                                                                                                                                                                                                                                                                                                                                                                                                                                                                                                                                                                                                                                                                                                                                                                                                                                                                                                                                                                           selamat hari Krismas dan selamat tahun baru !   \n",
       "13729                                                                                                                                                                                                                                                                                                                                                                                                                                                                                                                                                                                                                                                                                                                                                                                                          gangguan anda terhadap saya akan anda berhenti berhenti mengikuti saya dan membalikkan setiap pengeditan yang saya buat, saya menyedari bahawa kita mempunyai perselisihan, tetapi sekarang semakin konyol. anda memulangkan setiap perubahan yang saya buat dan jika ia berterusan saya akan melaporkan anda untuk gangguan.   \n",
       "4209                                                                                                                                                                                                                                                                                                                                                                                                                       pencalonan untuk status artikel yang baik ditahan\\r\\n\\r\\nartikel itu boleh menggunakan lebih banyak imej, memandangkan panjang dan perkara. peta akan membantu untuk mengikat dalam senarai ahli pasukan. Selain dari beberapa perbaikan gramatikal minor, bahagian utama memerlukan pengembangan dan penambahbaikan; pada dasarnya ia harus menjadi versi ringkas artikel itu sendiri jadi cuba menyebutkan pasukan, beberapa eksperimen / eksplorasi tertentu, roald amundsen, dan lain-lain juga. ini juga terpakai kepada faktor-faktor yang menyumbang kepada kegagalan, yang sepatutnya disebutkan dan bukannya merujuk kepada artikel lain. jika artikel itu sangat dekat, jadi saya meletakkan ini terus.   \n",
       "...                                                                                                                                                                                                                                                                                                                                                                                                                                                                                                                                                                                                                                                                                                                                                                                                                                                                                                                                                                                                                                                                                                                                      ...   \n",
       "17885                                                                                                                                                                                                                                                                                                                                                                                                                                                                                                                                                                                                                                                                                                                                                                                                                                                                                                                                                                                                                                                                    oops, saya tidak sengaja menyunting halaman anda, bodoh! jatuh mati   \n",
       "17887                                                                                                                                                                                                                                                                                                                                                                                                                                                                                                                                                                                                                                                                                                                                                                                                                                                                                                                                                                                                                           saya akan menyogok dia dengan komoditi yang paling berharga di internet banyak lucah kuda! dia akan gembira.   \n",
       "17888                                                                                                                                                                                                                                                                                                                                                                                                                                                                                                                                                                                                                                                                                                                                                                                                      tiada masalah robot yang anda tak kenal pasti. saya kembali semula. robot adalah seperti bodoh seperti ikan emas yang menjadikan mereka dua kali pintar sebagai pentadbir manusia di wikipedia. saya akan bertaruh tidak ada penulis yang diterbitkan di kalangan mereka. Saya telah diterbitkan dan laman web ini adalah jenaka.   \n",
       "17893                                                                                                                                                                                                                                                                                                                                                                                                                                                                                                                                                                                                                                                                                                                                                                                                                                                                                                                                                                                                                                                                                                 fuck you london. kamu sekeping kotoran   \n",
       "17902                                                                                                                                                                                                                                                                                                                                                                                                                                                                                                                                                                                                                                                                                                                                                                                                                                                                                                                                                                                                                                                                                asscrack saya. . . dan saya sangat menyukainya. gunakan   \n",
       "\n",
       "       class  \\\n",
       "1765       0   \n",
       "12559      0   \n",
       "7038       0   \n",
       "13729      0   \n",
       "4209       0   \n",
       "...      ...   \n",
       "17885      1   \n",
       "17887      1   \n",
       "17888      1   \n",
       "17893      1   \n",
       "17902      1   \n",
       "\n",
       "                                                                                                                                                                                                                                                                                                                                                                                                                                                                                                                                                                                                                                                                                                                                                                                                                                                                                                                                                                                                                                                                                                                   text  \n",
       "1765   selamat datang dan selamat datang ke wikipedia terima kasih atas sumbangan anda saya harap anda suka tempat dan memutuskan untuk tinggal di sini adalah beberapa halaman yang anda mungkin ingin melihat lima tiang wikipedia cara mengedit laman bantuan halaman tutorial bagaimana menulis manual artikel gaya yang bagus yang anda dialualukan untuk terus menyunting artikel tanpa mendaftar tetapi anda mungkin ingin membuat akaun  melakukan yang penting adalah percuma tidak memerlukan maklumat peribadi dan menyediakan beberapa manfaat jika anda mengedit tanpa nama pengguna alamat ip anda digunakan untuk mengenal pasti anda dalam apa jua keadaan saya harap anda suka mengedit di sini dan menjadi wikipedian sila tandakan komen anda pada halaman perbincangan menggunakan empat tildes ini secara automatik akan menghasilkan alamat ip atau nama pengguna anda secara automatik jika anda log masuk dan tarikh jika anda memerlukan bantuan periksa soalan wikipedia tanya saya atau tanyakan soalan anda dan kemudian letakkan bantuan sebelum soalan di halaman ini lagi selamat datang  \n",
       "12559                                                                                                                                                                                                                                                                                                                                                                                                                                                                                                                                                                                                                                                                                                                                                                                            pasti ada penggabungan sekali lagi saya mempunyai masa untuk menulis semula halaman masyarakat adalah salah sekali lagi kualiti dan ketepatan artikel itu tidak akan dikorbankan untuk menghilangkan 5 atau lebih penyunting yang salah dengan pendapat sumber dan kepincangan ketepatan sebarang konsensus yang salah  \n",
       "7038                                                                                                                                                                                                                                                                                                                                                                                                                                                                                                                                                                                                                                                                                                                                                                                                                                                                                                                                                                                                                                                                       selamat hari krismas dan selamat tahun baru   \n",
       "13729                                                                                                                                                                                                                                                                                                                                                                                                                                                                                                                                                                                                                                                                                                                                                                                         gangguan anda terhadap saya akan anda berhenti berhenti mengikuti saya dan membalikkan setiap pengeditan yang saya buat saya menyedari bahawa kita mempunyai perselisihan tetapi sekarang semakin konyol anda memulangkan setiap perubahan yang saya buat dan jika ia berterusan saya akan melaporkan anda untuk gangguan  \n",
       "4209                                                                                                                                                                                                                                                                                                                                                                                                                         pencalonan untuk status artikel yang baik ditahan artikel itu boleh menggunakan lebih banyak imej memandangkan panjang dan perkara peta akan membantu untuk mengikat dalam senarai ahli pasukan selain dari beberapa perbaikan gramatikal minor bahagian utama memerlukan pengembangan dan penambahbaikan pada dasarnya ia harus menjadi versi ringkas artikel itu sendiri jadi cuba menyebutkan pasukan beberapa eksperimen  eksplorasi tertentu roald amundsen dan lainlain juga ini juga terpakai kepada faktorfaktor yang menyumbang kepada kegagalan yang sepatutnya disebutkan dan bukannya merujuk kepada artikel lain jika artikel itu sangat dekat jadi saya meletakkan ini terus  \n",
       "...                                                                                                                                                                                                                                                                                                                                                                                                                                                                                                                                                                                                                                                                                                                                                                                                                                                                                                                                                                                                                                                                                                                 ...  \n",
       "17885                                                                                                                                                                                                                                                                                                                                                                                                                                                                                                                                                                                                                                                                                                                                                                                                                                                                                                                                                                                                                                                  oops saya tidak sengaja menyunting halaman anda bodoh jatuh mati  \n",
       "17887                                                                                                                                                                                                                                                                                                                                                                                                                                                                                                                                                                                                                                                                                                                                                                                                                                                                                                                                                                                                        saya akan menyogok dia dengan komoditi yang paling berharga di internet banyak lucah kuda dia akan gembira  \n",
       "17888                                                                                                                                                                                                                                                                                                                                                                                                                                                                                                                                                                                                                                                                                                                                                                                      tiada masalah robot yang anda tak kenal pasti saya kembali semula robot adalah seperti bodoh seperti ikan emas yang menjadikan mereka dua kali pintar sebagai pentadbir manusia di wikipedia saya akan bertaruh tidak ada penulis yang diterbitkan di kalangan mereka saya telah diterbitkan dan laman web ini adalah jenaka  \n",
       "17893                                                                                                                                                                                                                                                                                                                                                                                                                                                                                                                                                                                                                                                                                                                                                                                                                                                                                                                                                                                                                                                                             fuck you london kamu sekeping kotoran  \n",
       "17902                                                                                                                                                                                                                                                                                                                                                                                                                                                                                                                                                                                                                                                                                                                                                                                                                                                                                                                                                                                                                                                               asscrack saya   dan saya sangat menyukainya gunakan  \n",
       "\n",
       "[30782 rows x 3 columns]"
      ]
     },
     "execution_count": 129,
     "metadata": {},
     "output_type": "execute_result"
    }
   ],
   "source": [
    "#Lowercasing all text\n",
    "malay_ds['text'] = malay_ds['text'].str.lower()\n",
    "\n",
    "#Displaying malay dataset after lowercasing text\n",
    "malay_ds"
   ]
  },
  {
   "cell_type": "code",
   "execution_count": null,
   "metadata": {
    "colab": {
     "base_uri": "https://localhost:8080/",
     "height": 424
    },
    "executionInfo": {
     "elapsed": 522,
     "status": "ok",
     "timestamp": 1640237922624,
     "user": {
      "displayName": "Moy Tian Xiang",
      "photoUrl": "https://lh3.googleusercontent.com/a/default-user=s64",
      "userId": "17517672150917689324"
     },
     "user_tz": -480
    },
    "gradient": {
     "editing": false,
     "id": "267819fa-a446-4c4a-babe-8dc60e924e78",
     "kernelId": "0c0438cc-8809-4072-a10a-acb706ba8551"
    },
    "id": "-9056KviSiL0",
    "outputId": "5860fe30-7510-44c5-f4b9-b2c7fa7d50a3"
   },
   "outputs": [
    {
     "data": {
      "text/html": [
       "<div>\n",
       "<style scoped>\n",
       "    .dataframe tbody tr th:only-of-type {\n",
       "        vertical-align: middle;\n",
       "    }\n",
       "\n",
       "    .dataframe tbody tr th {\n",
       "        vertical-align: top;\n",
       "    }\n",
       "\n",
       "    .dataframe thead th {\n",
       "        text-align: right;\n",
       "    }\n",
       "</style>\n",
       "<table border=\"1\" class=\"dataframe\">\n",
       "  <thead>\n",
       "    <tr style=\"text-align: right;\">\n",
       "      <th></th>\n",
       "      <th>text</th>\n",
       "      <th>class</th>\n",
       "    </tr>\n",
       "  </thead>\n",
       "  <tbody>\n",
       "    <tr>\n",
       "      <th>1765</th>\n",
       "      <td>selamat datang dan selamat datang ke wikipedia terima kasih atas sumbangan anda saya harap anda suka tempat dan memutuskan untuk tinggal di sini adalah beberapa halaman yang anda mungkin ingin melihat lima tiang wikipedia cara mengedit laman bantuan halaman tutorial bagaimana menulis manual artikel gaya yang bagus yang anda dialualukan untuk terus menyunting artikel tanpa mendaftar tetapi anda mungkin ingin membuat akaun  melakukan yang penting adalah percuma tidak memerlukan maklumat peribadi dan menyediakan beberapa manfaat jika anda mengedit tanpa nama pengguna alamat ip anda digunakan untuk mengenal pasti anda dalam apa jua keadaan saya harap anda suka mengedit di sini dan menjadi wikipedian sila tandakan komen anda pada halaman perbincangan menggunakan empat tildes ini secara automatik akan menghasilkan alamat ip atau nama pengguna anda secara automatik jika anda log masuk dan tarikh jika anda memerlukan bantuan periksa soalan wikipedia tanya saya atau tanyakan soalan anda dan kemudian letakkan bantuan sebelum soalan di halaman ini lagi selamat datang</td>\n",
       "      <td>0</td>\n",
       "    </tr>\n",
       "    <tr>\n",
       "      <th>12559</th>\n",
       "      <td>pasti ada penggabungan sekali lagi saya mempunyai masa untuk menulis semula halaman masyarakat adalah salah sekali lagi kualiti dan ketepatan artikel itu tidak akan dikorbankan untuk menghilangkan 5 atau lebih penyunting yang salah dengan pendapat sumber dan kepincangan ketepatan sebarang konsensus yang salah</td>\n",
       "      <td>0</td>\n",
       "    </tr>\n",
       "    <tr>\n",
       "      <th>7038</th>\n",
       "      <td>selamat hari krismas dan selamat tahun baru</td>\n",
       "      <td>0</td>\n",
       "    </tr>\n",
       "    <tr>\n",
       "      <th>13729</th>\n",
       "      <td>gangguan anda terhadap saya akan anda berhenti berhenti mengikuti saya dan membalikkan setiap pengeditan yang saya buat saya menyedari bahawa kita mempunyai perselisihan tetapi sekarang semakin konyol anda memulangkan setiap perubahan yang saya buat dan jika ia berterusan saya akan melaporkan anda untuk gangguan</td>\n",
       "      <td>0</td>\n",
       "    </tr>\n",
       "    <tr>\n",
       "      <th>4209</th>\n",
       "      <td>pencalonan untuk status artikel yang baik ditahan artikel itu boleh menggunakan lebih banyak imej memandangkan panjang dan perkara peta akan membantu untuk mengikat dalam senarai ahli pasukan selain dari beberapa perbaikan gramatikal minor bahagian utama memerlukan pengembangan dan penambahbaikan pada dasarnya ia harus menjadi versi ringkas artikel itu sendiri jadi cuba menyebutkan pasukan beberapa eksperimen  eksplorasi tertentu roald amundsen dan lainlain juga ini juga terpakai kepada faktorfaktor yang menyumbang kepada kegagalan yang sepatutnya disebutkan dan bukannya merujuk kepada artikel lain jika artikel itu sangat dekat jadi saya meletakkan ini terus</td>\n",
       "      <td>0</td>\n",
       "    </tr>\n",
       "    <tr>\n",
       "      <th>...</th>\n",
       "      <td>...</td>\n",
       "      <td>...</td>\n",
       "    </tr>\n",
       "    <tr>\n",
       "      <th>17885</th>\n",
       "      <td>oops saya tidak sengaja menyunting halaman anda bodoh jatuh mati</td>\n",
       "      <td>1</td>\n",
       "    </tr>\n",
       "    <tr>\n",
       "      <th>17887</th>\n",
       "      <td>saya akan menyogok dia dengan komoditi yang paling berharga di internet banyak lucah kuda dia akan gembira</td>\n",
       "      <td>1</td>\n",
       "    </tr>\n",
       "    <tr>\n",
       "      <th>17888</th>\n",
       "      <td>tiada masalah robot yang anda tak kenal pasti saya kembali semula robot adalah seperti bodoh seperti ikan emas yang menjadikan mereka dua kali pintar sebagai pentadbir manusia di wikipedia saya akan bertaruh tidak ada penulis yang diterbitkan di kalangan mereka saya telah diterbitkan dan laman web ini adalah jenaka</td>\n",
       "      <td>1</td>\n",
       "    </tr>\n",
       "    <tr>\n",
       "      <th>17893</th>\n",
       "      <td>fuck you london kamu sekeping kotoran</td>\n",
       "      <td>1</td>\n",
       "    </tr>\n",
       "    <tr>\n",
       "      <th>17902</th>\n",
       "      <td>asscrack saya   dan saya sangat menyukainya gunakan</td>\n",
       "      <td>1</td>\n",
       "    </tr>\n",
       "  </tbody>\n",
       "</table>\n",
       "<p>30782 rows × 2 columns</p>\n",
       "</div>"
      ],
      "text/plain": [
       "                                                                                                                                                                                                                                                                                                                                                                                                                                                                                                                                                                                                                                                                                                                                                                                                                                                                                                                                                                                                                                                                                                                   text  \\\n",
       "1765   selamat datang dan selamat datang ke wikipedia terima kasih atas sumbangan anda saya harap anda suka tempat dan memutuskan untuk tinggal di sini adalah beberapa halaman yang anda mungkin ingin melihat lima tiang wikipedia cara mengedit laman bantuan halaman tutorial bagaimana menulis manual artikel gaya yang bagus yang anda dialualukan untuk terus menyunting artikel tanpa mendaftar tetapi anda mungkin ingin membuat akaun  melakukan yang penting adalah percuma tidak memerlukan maklumat peribadi dan menyediakan beberapa manfaat jika anda mengedit tanpa nama pengguna alamat ip anda digunakan untuk mengenal pasti anda dalam apa jua keadaan saya harap anda suka mengedit di sini dan menjadi wikipedian sila tandakan komen anda pada halaman perbincangan menggunakan empat tildes ini secara automatik akan menghasilkan alamat ip atau nama pengguna anda secara automatik jika anda log masuk dan tarikh jika anda memerlukan bantuan periksa soalan wikipedia tanya saya atau tanyakan soalan anda dan kemudian letakkan bantuan sebelum soalan di halaman ini lagi selamat datang   \n",
       "12559                                                                                                                                                                                                                                                                                                                                                                                                                                                                                                                                                                                                                                                                                                                                                                                            pasti ada penggabungan sekali lagi saya mempunyai masa untuk menulis semula halaman masyarakat adalah salah sekali lagi kualiti dan ketepatan artikel itu tidak akan dikorbankan untuk menghilangkan 5 atau lebih penyunting yang salah dengan pendapat sumber dan kepincangan ketepatan sebarang konsensus yang salah   \n",
       "7038                                                                                                                                                                                                                                                                                                                                                                                                                                                                                                                                                                                                                                                                                                                                                                                                                                                                                                                                                                                                                                                                       selamat hari krismas dan selamat tahun baru    \n",
       "13729                                                                                                                                                                                                                                                                                                                                                                                                                                                                                                                                                                                                                                                                                                                                                                                         gangguan anda terhadap saya akan anda berhenti berhenti mengikuti saya dan membalikkan setiap pengeditan yang saya buat saya menyedari bahawa kita mempunyai perselisihan tetapi sekarang semakin konyol anda memulangkan setiap perubahan yang saya buat dan jika ia berterusan saya akan melaporkan anda untuk gangguan   \n",
       "4209                                                                                                                                                                                                                                                                                                                                                                                                                         pencalonan untuk status artikel yang baik ditahan artikel itu boleh menggunakan lebih banyak imej memandangkan panjang dan perkara peta akan membantu untuk mengikat dalam senarai ahli pasukan selain dari beberapa perbaikan gramatikal minor bahagian utama memerlukan pengembangan dan penambahbaikan pada dasarnya ia harus menjadi versi ringkas artikel itu sendiri jadi cuba menyebutkan pasukan beberapa eksperimen  eksplorasi tertentu roald amundsen dan lainlain juga ini juga terpakai kepada faktorfaktor yang menyumbang kepada kegagalan yang sepatutnya disebutkan dan bukannya merujuk kepada artikel lain jika artikel itu sangat dekat jadi saya meletakkan ini terus   \n",
       "...                                                                                                                                                                                                                                                                                                                                                                                                                                                                                                                                                                                                                                                                                                                                                                                                                                                                                                                                                                                                                                                                                                                 ...   \n",
       "17885                                                                                                                                                                                                                                                                                                                                                                                                                                                                                                                                                                                                                                                                                                                                                                                                                                                                                                                                                                                                                                                  oops saya tidak sengaja menyunting halaman anda bodoh jatuh mati   \n",
       "17887                                                                                                                                                                                                                                                                                                                                                                                                                                                                                                                                                                                                                                                                                                                                                                                                                                                                                                                                                                                                        saya akan menyogok dia dengan komoditi yang paling berharga di internet banyak lucah kuda dia akan gembira   \n",
       "17888                                                                                                                                                                                                                                                                                                                                                                                                                                                                                                                                                                                                                                                                                                                                                                                      tiada masalah robot yang anda tak kenal pasti saya kembali semula robot adalah seperti bodoh seperti ikan emas yang menjadikan mereka dua kali pintar sebagai pentadbir manusia di wikipedia saya akan bertaruh tidak ada penulis yang diterbitkan di kalangan mereka saya telah diterbitkan dan laman web ini adalah jenaka   \n",
       "17893                                                                                                                                                                                                                                                                                                                                                                                                                                                                                                                                                                                                                                                                                                                                                                                                                                                                                                                                                                                                                                                                             fuck you london kamu sekeping kotoran   \n",
       "17902                                                                                                                                                                                                                                                                                                                                                                                                                                                                                                                                                                                                                                                                                                                                                                                                                                                                                                                                                                                                                                                               asscrack saya   dan saya sangat menyukainya gunakan   \n",
       "\n",
       "       class  \n",
       "1765       0  \n",
       "12559      0  \n",
       "7038       0  \n",
       "13729      0  \n",
       "4209       0  \n",
       "...      ...  \n",
       "17885      1  \n",
       "17887      1  \n",
       "17888      1  \n",
       "17893      1  \n",
       "17902      1  \n",
       "\n",
       "[30782 rows x 2 columns]"
      ]
     },
     "execution_count": 130,
     "metadata": {},
     "output_type": "execute_result"
    }
   ],
   "source": [
    "#Subsetting required columns for training\n",
    "malay_ds = malay_ds[['text', 'class']]\n",
    "                    \n",
    "#Displaying malay dataset after subsetting\n",
    "malay_ds"
   ]
  },
  {
   "cell_type": "code",
   "execution_count": null,
   "metadata": {
    "gradient": {
     "editing": false,
     "id": "b12a3064-275f-4375-898c-8cb1d9e8ccb3",
     "kernelId": "0c0438cc-8809-4072-a10a-acb706ba8551",
     "source_hidden": false
    },
    "id": "82ho0fLmLxKa",
    "outputId": "113b247b-120d-44dc-ff99-54b3b14c1709"
   },
   "outputs": [
    {
     "data": {
      "text/plain": [
       "[\"'s\",\n",
       " \"'ve\",\n",
       " 'abang',\n",
       " 'acapkali',\n",
       " 'ada',\n",
       " 'adakah',\n",
       " 'adakan',\n",
       " 'adalah',\n",
       " 'adanya',\n",
       " 'adapun',\n",
       " 'agak',\n",
       " 'agaknya',\n",
       " 'agar',\n",
       " 'akan',\n",
       " 'akankah',\n",
       " 'akhir',\n",
       " 'akhiri',\n",
       " 'akhirnya',\n",
       " 'aku',\n",
       " 'akulah',\n",
       " 'akupun',\n",
       " 'al',\n",
       " 'alangkah',\n",
       " 'alkisah',\n",
       " 'allah',\n",
       " 'amat',\n",
       " 'amatlah',\n",
       " 'anda',\n",
       " 'andalah',\n",
       " 'antar',\n",
       " 'antara',\n",
       " 'antaramu',\n",
       " 'antaranya',\n",
       " 'apa',\n",
       " 'apa-apa',\n",
       " 'apaan',\n",
       " 'apabila',\n",
       " 'apakah',\n",
       " 'apalagi',\n",
       " 'apapun',\n",
       " 'apatah',\n",
       " 'arakian',\n",
       " 'artinya',\n",
       " 'as',\n",
       " 'asal',\n",
       " 'asalam',\n",
       " 'asalkan',\n",
       " 'assalam',\n",
       " 'assalamualaikum',\n",
       " 'atas',\n",
       " 'atasmu',\n",
       " 'atasnya',\n",
       " 'atau',\n",
       " 'ataukah',\n",
       " 'ataupun',\n",
       " 'atuk',\n",
       " 'awak',\n",
       " 'awal',\n",
       " 'awalnya',\n",
       " 'ayah',\n",
       " 'baba',\n",
       " 'bagai',\n",
       " 'bagaikan',\n",
       " 'bagaimana',\n",
       " 'bagaimanakah',\n",
       " 'bagaimanapun',\n",
       " 'bagi',\n",
       " 'bagian',\n",
       " 'bagimu',\n",
       " 'baginda',\n",
       " 'baginya',\n",
       " 'bahawa',\n",
       " 'bahawasanya',\n",
       " 'bahkan',\n",
       " 'bahwa',\n",
       " 'bahwasanya',\n",
       " 'baik',\n",
       " 'bak',\n",
       " 'bakal',\n",
       " 'bakalan',\n",
       " 'balik',\n",
       " 'bang',\n",
       " 'banyak',\n",
       " 'banyaknya',\n",
       " 'bapak',\n",
       " 'bar',\n",
       " 'barangkali',\n",
       " 'barangsiapa',\n",
       " 'baru',\n",
       " 'bawah',\n",
       " 'beberapa',\n",
       " 'begini',\n",
       " 'beginian',\n",
       " 'beginikah',\n",
       " 'beginilah',\n",
       " 'begitu',\n",
       " 'begitukah',\n",
       " 'begitulah',\n",
       " 'begitupun',\n",
       " 'bekerja',\n",
       " 'belaka',\n",
       " 'belakang',\n",
       " 'belakangan',\n",
       " 'belas',\n",
       " 'beliau',\n",
       " 'belum',\n",
       " 'belumkah',\n",
       " 'belumlah',\n",
       " 'benar',\n",
       " 'benarkah',\n",
       " 'benarlah',\n",
       " 'berada',\n",
       " 'berakhir',\n",
       " 'berakhirlah',\n",
       " 'berakhirnya',\n",
       " 'berapa',\n",
       " 'berapakah',\n",
       " 'berapalah',\n",
       " 'berapapun',\n",
       " 'berarti',\n",
       " 'berawal',\n",
       " 'berbagai',\n",
       " 'berdatangan',\n",
       " 'beri',\n",
       " 'berikan',\n",
       " 'berikut',\n",
       " 'berikutnya',\n",
       " 'beriman',\n",
       " 'berjumlah',\n",
       " 'berkali-kali',\n",
       " 'berkata',\n",
       " 'berkehendak',\n",
       " 'berkeinginan',\n",
       " 'berkenaan',\n",
       " 'berkenan',\n",
       " 'berlainan',\n",
       " 'berlalu',\n",
       " 'berlangsung',\n",
       " 'berlebihan',\n",
       " 'bermacam',\n",
       " 'bermacam-macam',\n",
       " 'bermaksud',\n",
       " 'bermula',\n",
       " 'bersama',\n",
       " 'bersama-sama',\n",
       " 'bersiap',\n",
       " 'bersiap-siap',\n",
       " 'bertanya',\n",
       " 'bertanya-tanya',\n",
       " 'berturut',\n",
       " 'berturut-turut',\n",
       " 'bertutur',\n",
       " 'berujar',\n",
       " 'berupa',\n",
       " 'besar',\n",
       " 'beserta',\n",
       " 'beta',\n",
       " 'betul',\n",
       " 'betulkah',\n",
       " 'biar',\n",
       " 'biarpun',\n",
       " 'biasa',\n",
       " 'biasanya',\n",
       " 'bila',\n",
       " 'bilakah',\n",
       " 'bilamana',\n",
       " 'bin',\n",
       " 'binti',\n",
       " 'bir',\n",
       " 'bisa',\n",
       " 'bisakah',\n",
       " 'blum',\n",
       " 'bn',\n",
       " 'bnt',\n",
       " 'bole',\n",
       " 'boleh',\n",
       " 'bolehkah',\n",
       " 'bolehlah',\n",
       " 'bt',\n",
       " 'buat',\n",
       " 'bukan',\n",
       " 'bukankah',\n",
       " 'bukanlah',\n",
       " 'bukannya',\n",
       " 'bul',\n",
       " 'bulan',\n",
       " 'bung',\n",
       " 'byk',\n",
       " 'cara',\n",
       " 'caranya',\n",
       " 'cepat',\n",
       " 'cer',\n",
       " 'cikgu',\n",
       " 'ckp',\n",
       " 'cuba',\n",
       " 'cukup',\n",
       " 'cukupkah',\n",
       " 'cukuplah',\n",
       " 'cuma',\n",
       " 'dah',\n",
       " 'dahulu',\n",
       " 'dalam',\n",
       " 'dalamnya',\n",
       " 'dan',\n",
       " 'dapat',\n",
       " 'dapati',\n",
       " 'dapatkah',\n",
       " 'dapatlah',\n",
       " 'dari',\n",
       " 'daripada',\n",
       " 'daripadaku',\n",
       " 'daripadamu',\n",
       " 'daripadanya',\n",
       " 'datang',\n",
       " 'dato',\n",
       " 'datuk',\n",
       " 'dekat',\n",
       " 'demi',\n",
       " 'demikian',\n",
       " 'demikianlah',\n",
       " 'den',\n",
       " 'dengan',\n",
       " 'dengannya',\n",
       " 'depan',\n",
       " 'dew',\n",
       " 'dgn',\n",
       " 'di',\n",
       " 'dia',\n",
       " 'diakhiri',\n",
       " 'diakhirinya',\n",
       " 'dialah',\n",
       " 'diantara',\n",
       " 'diantaranya',\n",
       " 'diberi',\n",
       " 'diberikan',\n",
       " 'diberikannya',\n",
       " 'dibuat',\n",
       " 'dibuatnya',\n",
       " 'didapat',\n",
       " 'didapati',\n",
       " 'didatangkan',\n",
       " 'digunakan',\n",
       " 'diibaratkan',\n",
       " 'diibaratkannya',\n",
       " 'diingat',\n",
       " 'diingatkan',\n",
       " 'diinginkan',\n",
       " 'dijawab',\n",
       " 'dijelaskan',\n",
       " 'dijelaskannya',\n",
       " 'dikarenakan',\n",
       " 'dikatakan',\n",
       " 'dikatakannya',\n",
       " 'dikerjakan',\n",
       " 'diketahui',\n",
       " 'diketahuinya',\n",
       " 'dikira',\n",
       " 'dilakukan',\n",
       " 'dilalui',\n",
       " 'dilihat',\n",
       " 'dimaksud',\n",
       " 'dimaksudkan',\n",
       " 'dimaksudkannya',\n",
       " 'dimaksudnya',\n",
       " 'dimanakah',\n",
       " 'diminta',\n",
       " 'dimintai',\n",
       " 'dimisalkan',\n",
       " 'dimulai',\n",
       " 'dimulailah',\n",
       " 'dimulainya',\n",
       " 'dimungkinkan',\n",
       " 'dini',\n",
       " 'dipastikan',\n",
       " 'diperbuat',\n",
       " 'diperbuatnya',\n",
       " 'dipergunakan',\n",
       " 'diperkirakan',\n",
       " 'diperlihatkan',\n",
       " 'diperlukan',\n",
       " 'diperlukannya',\n",
       " 'dipersoalkan',\n",
       " 'dipertanyakan',\n",
       " 'dipunyai',\n",
       " 'diri',\n",
       " 'dirinya',\n",
       " 'disampaikan',\n",
       " 'disebabkan',\n",
       " 'disebut',\n",
       " 'disebutkan',\n",
       " 'disebutkannya',\n",
       " 'disini',\n",
       " 'disinilah',\n",
       " 'ditambahkan',\n",
       " 'ditandaskan',\n",
       " 'ditanya',\n",
       " 'ditanyai',\n",
       " 'ditanyakan',\n",
       " 'ditegaskan',\n",
       " 'ditujukan',\n",
       " 'ditunjuk',\n",
       " 'ditunjuki',\n",
       " 'ditunjukkan',\n",
       " 'ditunjukkannya',\n",
       " 'ditunjuknya',\n",
       " 'dituturkan',\n",
       " 'dituturkannya',\n",
       " 'diucapkan',\n",
       " 'diucapkannya',\n",
       " 'diungkapkan',\n",
       " 'dlm',\n",
       " 'dong',\n",
       " 'dont',\n",
       " 'dorang',\n",
       " 'dpt',\n",
       " 'dr',\n",
       " 'dsp',\n",
       " 'dua',\n",
       " 'dulu',\n",
       " 'ehh',\n",
       " 'empat',\n",
       " 'enam',\n",
       " 'eng',\n",
       " 'enggak',\n",
       " 'enggaknya',\n",
       " 'engkau',\n",
       " 'engkaukah',\n",
       " 'engkaulah',\n",
       " 'engkaupun',\n",
       " 'entah',\n",
       " 'entahlah',\n",
       " 'even',\n",
       " 'ever',\n",
       " 'gg',\n",
       " 'got',\n",
       " 'guna',\n",
       " 'gunakan',\n",
       " 'hadapan',\n",
       " 'hai',\n",
       " 'haji',\n",
       " 'hal',\n",
       " 'hamba',\n",
       " 'hampir',\n",
       " 'hampir-hampir',\n",
       " 'hanya',\n",
       " 'hanyalah',\n",
       " 'haram',\n",
       " 'haramm',\n",
       " 'harap',\n",
       " 'harem',\n",
       " 'haremm',\n",
       " 'hari',\n",
       " 'harus',\n",
       " 'haruslah',\n",
       " 'harusnya',\n",
       " 'helai',\n",
       " 'hendak',\n",
       " 'hendaklah',\n",
       " 'hendaknya',\n",
       " 'hingga',\n",
       " 'hj',\n",
       " 'hoi',\n",
       " 'huih',\n",
       " 'ia',\n",
       " 'iaitu',\n",
       " 'ialah',\n",
       " 'ianya',\n",
       " 'ibarat',\n",
       " 'ibaratkan',\n",
       " 'ibaratnya',\n",
       " 'ibu',\n",
       " 'ikut',\n",
       " 'ingat',\n",
       " 'ingat-ingat',\n",
       " 'ingin',\n",
       " 'inginkah',\n",
       " 'inginkan',\n",
       " 'ini',\n",
       " 'inikah',\n",
       " 'inilah',\n",
       " 'int',\n",
       " 'ir',\n",
       " 'itu',\n",
       " 'itukah',\n",
       " 'itulah',\n",
       " 'jadi',\n",
       " 'jadilah',\n",
       " 'jadinya',\n",
       " 'jangan',\n",
       " 'jangankan',\n",
       " 'janganlah',\n",
       " 'jauh',\n",
       " 'jawab',\n",
       " 'jawaban',\n",
       " 'jawabnya',\n",
       " 'jd',\n",
       " 'jelas',\n",
       " 'jelaskan',\n",
       " 'jelaslah',\n",
       " 'jelasnya',\n",
       " 'jemput',\n",
       " 'jgn',\n",
       " 'jika',\n",
       " 'jikalau',\n",
       " 'jom',\n",
       " 'joom',\n",
       " 'jua',\n",
       " 'juapun',\n",
       " 'juga',\n",
       " 'jumlah',\n",
       " 'jumlahnya',\n",
       " 'justeru',\n",
       " 'justru',\n",
       " 'juta',\n",
       " 'kadang',\n",
       " 'kak',\n",
       " 'kakak',\n",
       " 'kala',\n",
       " 'kalakian',\n",
       " 'kalau',\n",
       " 'kalaulah',\n",
       " 'kalaupun',\n",
       " 'kalian',\n",
       " 'kami',\n",
       " 'kamikah',\n",
       " 'kamilah',\n",
       " 'kamipun',\n",
       " 'kamu',\n",
       " 'kamukah',\n",
       " 'kamulah',\n",
       " 'kamupun',\n",
       " 'kan',\n",
       " 'kanan',\n",
       " 'kapan',\n",
       " 'kapankah',\n",
       " 'kapanpun',\n",
       " 'karena',\n",
       " 'karenanya',\n",
       " 'kasus',\n",
       " 'kat',\n",
       " 'kata',\n",
       " 'katakan',\n",
       " 'katakanlah',\n",
       " 'katanya',\n",
       " 'kau',\n",
       " 'ke',\n",
       " 'keadaan',\n",
       " 'keb',\n",
       " 'kebetulan',\n",
       " 'kecil',\n",
       " 'kecuali',\n",
       " 'kedua',\n",
       " 'keduanya',\n",
       " 'keinginan',\n",
       " 'keja',\n",
       " 'keje',\n",
       " 'kelak',\n",
       " 'kelamaan',\n",
       " 'kelihatan',\n",
       " 'kelihatannya',\n",
       " 'kelima',\n",
       " 'keluar',\n",
       " 'kembali',\n",
       " 'kemudian',\n",
       " 'kemungkinan',\n",
       " 'kemungkinannya',\n",
       " 'kenapa',\n",
       " 'kepada',\n",
       " 'kepadaku',\n",
       " 'kepadakulah',\n",
       " 'kepadamu',\n",
       " 'kepadanya',\n",
       " 'kepadanyalah',\n",
       " 'kerana',\n",
       " 'kerananya',\n",
       " 'kesampaian',\n",
       " 'kesan',\n",
       " 'keseluruhan',\n",
       " 'keseluruhannya',\n",
       " 'keterlaluan',\n",
       " 'ketika',\n",
       " 'ketul',\n",
       " 'khususnya',\n",
       " 'kini',\n",
       " 'kinilah',\n",
       " 'kira',\n",
       " 'kira-kira',\n",
       " 'kiranya',\n",
       " 'kiri',\n",
       " 'kita',\n",
       " 'kitalah',\n",
       " 'kok',\n",
       " 'kosong',\n",
       " 'kpd',\n",
       " 'ku',\n",
       " 'kurang',\n",
       " 'lagi',\n",
       " 'lagian',\n",
       " 'lah',\n",
       " 'lain',\n",
       " 'lainnya',\n",
       " 'laksanabagai',\n",
       " 'lalu',\n",
       " 'lama',\n",
       " 'lamanya',\n",
       " 'langsung',\n",
       " 'lanjut',\n",
       " 'lanjutnya',\n",
       " 'lapan',\n",
       " 'last',\n",
       " 'lebih',\n",
       " 'leh',\n",
       " 'lena',\n",
       " 'lepas',\n",
       " 'let',\n",
       " 'lewat',\n",
       " 'lima',\n",
       " 'lol',\n",
       " 'luar',\n",
       " 'macam',\n",
       " 'maha',\n",
       " 'mahu',\n",
       " 'mahukah',\n",
       " 'mahupun',\n",
       " 'mak',\n",
       " 'maka',\n",
       " 'makanya',\n",
       " 'makin',\n",
       " 'malah',\n",
       " 'malahan',\n",
       " 'malam',\n",
       " 'mama',\n",
       " 'mampu',\n",
       " 'mampukah',\n",
       " 'mana',\n",
       " 'manakah',\n",
       " 'manakala',\n",
       " 'manalagi',\n",
       " 'manapun',\n",
       " 'masa',\n",
       " 'masalah',\n",
       " 'masalahnya',\n",
       " 'masih',\n",
       " 'masihkah',\n",
       " 'masing',\n",
       " 'masing-masing',\n",
       " 'mau',\n",
       " 'maupun',\n",
       " 'mcm',\n",
       " 'md',\n",
       " 'meh',\n",
       " 'mejar',\n",
       " 'melainkan',\n",
       " 'melakukan',\n",
       " 'melalui',\n",
       " 'melihat',\n",
       " 'melihatnya',\n",
       " 'memang',\n",
       " 'memastikan',\n",
       " 'memberi',\n",
       " 'memberikan',\n",
       " 'membuat',\n",
       " 'memerlukan',\n",
       " 'memihak',\n",
       " 'meminta',\n",
       " 'memintakan',\n",
       " 'memisalkan',\n",
       " 'memperbuat',\n",
       " 'mempergunakan',\n",
       " 'memperkirakan',\n",
       " 'memperlihatkan',\n",
       " 'mempersiapkan',\n",
       " 'mempersoalkan',\n",
       " 'mempertanyakan',\n",
       " 'mempunyai',\n",
       " 'memulai',\n",
       " 'memungkinkan',\n",
       " 'menaiki',\n",
       " 'menambahkan',\n",
       " 'menandaskan',\n",
       " 'menanti',\n",
       " 'menanti-nanti',\n",
       " 'menantikan',\n",
       " 'menanya',\n",
       " 'menanyai',\n",
       " 'menanyakan',\n",
       " 'mendapat',\n",
       " 'mendapati',\n",
       " 'mendapatkan',\n",
       " 'mendatang',\n",
       " 'mendatangi',\n",
       " 'mendatangkan',\n",
       " 'menegaskan',\n",
       " 'mengadakan',\n",
       " 'mengakhiri',\n",
       " 'mengapa',\n",
       " 'mengapakah',\n",
       " 'mengatakan',\n",
       " 'mengatakannya',\n",
       " 'mengenai',\n",
       " 'mengerjakan',\n",
       " 'mengetahui',\n",
       " 'menggunakan',\n",
       " 'menghendaki',\n",
       " 'mengibaratkan',\n",
       " 'mengibaratkannya',\n",
       " 'mengingat',\n",
       " 'mengingatkan',\n",
       " 'menginginkan',\n",
       " 'mengira',\n",
       " 'mengucapkan',\n",
       " 'mengucapkannya',\n",
       " 'mengungkapkan',\n",
       " 'menjadi',\n",
       " 'menjawab',\n",
       " 'menjelaskan',\n",
       " 'menuju',\n",
       " 'menunjuk',\n",
       " 'menunjuki',\n",
       " 'menunjukkan',\n",
       " 'menunjuknya',\n",
       " 'menurut',\n",
       " 'menuturkan',\n",
       " 'menyampaikan',\n",
       " 'menyangkut',\n",
       " 'menyatakan',\n",
       " 'menyebabkan',\n",
       " 'menyebabkannya',\n",
       " 'menyebutkan',\n",
       " 'menyeluruh',\n",
       " 'menyiapkan',\n",
       " 'merasa',\n",
       " 'mereka',\n",
       " 'merekalah',\n",
       " 'merekapun',\n",
       " 'merupakan',\n",
       " 'meski',\n",
       " 'meskipun',\n",
       " 'mesti',\n",
       " 'met',\n",
       " 'meyakini',\n",
       " 'meyakinkan',\n",
       " 'minta',\n",
       " 'mirip',\n",
       " 'misal',\n",
       " 'misalkan',\n",
       " 'misalnya',\n",
       " 'mmg',\n",
       " 'mu',\n",
       " 'mula',\n",
       " 'mulai',\n",
       " 'mulailah',\n",
       " 'mulanya',\n",
       " 'mungkin',\n",
       " 'mungkinkah',\n",
       " 'nah',\n",
       " 'naik',\n",
       " 'nak',\n",
       " 'namun',\n",
       " 'nanti',\n",
       " 'nantinya',\n",
       " 'nenek',\n",
       " 'nescaya',\n",
       " 'nian',\n",
       " 'niscaya',\n",
       " 'nk',\n",
       " 'not',\n",
       " 'nya',\n",
       " 'nyaris',\n",
       " 'nyatanya',\n",
       " 'olah',\n",
       " 'oleh',\n",
       " 'olehnya',\n",
       " 'orang',\n",
       " 'org',\n",
       " 'pada',\n",
       " 'padahal',\n",
       " 'padamu',\n",
       " 'padanya',\n",
       " 'pagi',\n",
       " 'pak',\n",
       " 'paling',\n",
       " 'panjang',\n",
       " 'pantas',\n",
       " 'para',\n",
       " 'pasti',\n",
       " 'pastilah',\n",
       " 'pastu',\n",
       " 'patik',\n",
       " 'patut',\n",
       " 'patutkah',\n",
       " 'penting',\n",
       " 'pentingnya',\n",
       " 'per',\n",
       " 'percuma',\n",
       " 'pergh',\n",
       " 'perghh',\n",
       " 'pergilah',\n",
       " 'perkara',\n",
       " 'perkaranya',\n",
       " 'perlahan',\n",
       " 'perlu',\n",
       " 'perlukah',\n",
       " 'perlunya',\n",
       " 'pernah',\n",
       " 'persoalan',\n",
       " 'pertama',\n",
       " 'pertama-tama',\n",
       " 'pertanyaan',\n",
       " 'pertanyakan',\n",
       " 'petang',\n",
       " 'photo',\n",
       " 'pihak',\n",
       " 'pihaknya',\n",
       " 'pon',\n",
       " 'prof',\n",
       " 'puan',\n",
       " 'pukul',\n",
       " 'pula',\n",
       " 'puluh',\n",
       " 'pun',\n",
       " 'punya',\n",
       " 'rasa',\n",
       " 'rasanya',\n",
       " 'rata',\n",
       " 'ratus',\n",
       " 'rupanya',\n",
       " 'saat',\n",
       " 'saatnya',\n",
       " 'sahaja',\n",
       " 'sajalah',\n",
       " 'saje',\n",
       " 'salam',\n",
       " 'saling',\n",
       " 'sama',\n",
       " 'sama-sama',\n",
       " 'samakah',\n",
       " 'sambil',\n",
       " 'sampai',\n",
       " 'sampai-sampai',\n",
       " 'sampaikan',\n",
       " 'sana',\n",
       " 'sane',\n",
       " 'sangat',\n",
       " 'sangatlah',\n",
       " 'satu',\n",
       " 'saya',\n",
       " 'sayalah',\n",
       " 'se',\n",
       " 'seandainya',\n",
       " 'sebab',\n",
       " 'sebabnya',\n",
       " 'sebagai',\n",
       " 'sebagaimana',\n",
       " 'sebagainya',\n",
       " 'sebagian',\n",
       " 'sebaik',\n",
       " 'sebaik-baiknya',\n",
       " 'sebaiknya',\n",
       " 'sebaliknya',\n",
       " 'sebanyak',\n",
       " 'sebegini',\n",
       " 'sebegitu',\n",
       " 'sebelas',\n",
       " 'sebelum',\n",
       " 'sebelummu',\n",
       " 'sebelumnya',\n",
       " 'sebenarnya',\n",
       " 'sebentar',\n",
       " 'seberapa',\n",
       " 'sebesar',\n",
       " 'sebetulnya',\n",
       " 'sebilan',\n",
       " 'sebisanya',\n",
       " 'sebuah',\n",
       " 'sebut',\n",
       " 'sebutlah',\n",
       " 'sebutnya',\n",
       " 'secara',\n",
       " 'secukupnya',\n",
       " 'sedang',\n",
       " 'sedangkan',\n",
       " 'sedemikian',\n",
       " 'sedikit',\n",
       " 'sedikitnya',\n",
       " 'sedikitpun',\n",
       " 'seenaknya',\n",
       " 'segala',\n",
       " 'segalanya',\n",
       " 'segera',\n",
       " 'seharusnya',\n",
       " 'sehingga',\n",
       " 'seingat',\n",
       " 'sejak',\n",
       " 'sejauh',\n",
       " 'sejenak',\n",
       " 'sejumlah',\n",
       " 'sejuta',\n",
       " 'sekadar',\n",
       " 'sekadarnya',\n",
       " 'sekali',\n",
       " 'sekali-kali',\n",
       " 'sekalian',\n",
       " 'sekaligus',\n",
       " 'sekalipun',\n",
       " 'sekarang',\n",
       " 'sekecil',\n",
       " 'seketika',\n",
       " 'sekiranya',\n",
       " 'sekitar',\n",
       " 'sekitarnya',\n",
       " 'sekurang-kurangnya',\n",
       " 'sekurangnya',\n",
       " 'sela',\n",
       " 'selain',\n",
       " 'selaku',\n",
       " 'selalu',\n",
       " 'selama',\n",
       " 'selama-lamanya',\n",
       " 'selamanya',\n",
       " 'selanjutnya',\n",
       " 'selepas',\n",
       " 'seluruh',\n",
       " 'seluruhnya',\n",
       " 'semacam',\n",
       " 'semakin',\n",
       " 'semalam',\n",
       " 'semampu',\n",
       " 'semampunya',\n",
       " 'semasa',\n",
       " 'semasih',\n",
       " 'semata',\n",
       " 'semata-mata',\n",
       " 'semaunya',\n",
       " 'sembilan',\n",
       " 'semenjak',\n",
       " 'sementara',\n",
       " 'semisal',\n",
       " 'semisalnya',\n",
       " 'sempat',\n",
       " 'semua',\n",
       " 'semuanya',\n",
       " 'semula',\n",
       " 'senantiasa',\n",
       " 'sendiri',\n",
       " 'sendirian',\n",
       " 'sendirinya',\n",
       " 'sentiasa',\n",
       " 'seolah',\n",
       " 'seolah-olah',\n",
       " 'seorang',\n",
       " 'seorangpun',\n",
       " 'sepanjang',\n",
       " 'sepantasnya',\n",
       " 'sepantasnyalah',\n",
       " 'separuh',\n",
       " 'sepatutnya',\n",
       " 'seperlunya',\n",
       " 'seperti',\n",
       " 'sepertinya',\n",
       " 'sepihak',\n",
       " 'sepuluh',\n",
       " 'seratus',\n",
       " 'seraya',\n",
       " 'seribu',\n",
       " 'sering',\n",
       " 'seringnya',\n",
       " 'serta',\n",
       " 'serupa',\n",
       " 'sesaat',\n",
       " 'sesama',\n",
       " 'sesampai',\n",
       " 'sesegera',\n",
       " 'sesekali',\n",
       " 'seseorang',\n",
       " 'sesiapa',\n",
       " 'sesuatu',\n",
       " 'sesuatunya',\n",
       " 'sesudah',\n",
       " 'sesudahnya',\n",
       " 'sesungguhnya',\n",
       " 'sesungguhnyakah',\n",
       " 'setelah',\n",
       " 'setempat',\n",
       " 'setengah',\n",
       " 'seterusnya',\n",
       " 'setiap',\n",
       " 'setiba',\n",
       " 'setibanya',\n",
       " 'setidak-tidaknya',\n",
       " 'setidaknya',\n",
       " 'setinggi',\n",
       " 'seusai',\n",
       " 'sewaktu',\n",
       " 'shit',\n",
       " 'siang',\n",
       " 'siap',\n",
       " 'siapa',\n",
       " 'siapakah',\n",
       " 'siapapun',\n",
       " 'sila',\n",
       " 'sini',\n",
       " 'sinilah',\n",
       " 'sisi',\n",
       " 'situ',\n",
       " 'situlah',\n",
       " 'soal',\n",
       " 'soalnya',\n",
       " 'sri',\n",
       " 'suatu',\n",
       " 'sudah',\n",
       " 'sudahkah',\n",
       " 'sudahlah',\n",
       " 'suku',\n",
       " 'sungguh',\n",
       " 'sungguhpun',\n",
       " 'supaya',\n",
       " 'syahdah',\n",
       " 'tadi',\n",
       " 'tadinya',\n",
       " 'tahu',\n",
       " 'tahukah',\n",
       " 'tahun',\n",
       " 'tak',\n",
       " 'takda',\n",
       " 'takde',\n",
       " 'tambah',\n",
       " 'tambahnya',\n",
       " 'tampak',\n",
       " 'tampaknya',\n",
       " 'tan',\n",
       " 'tandas',\n",
       " 'tandasnya',\n",
       " 'tanpa',\n",
       " 'tanya',\n",
       " 'tanyakan',\n",
       " 'tanyakanlah',\n",
       " 'tanyanya',\n",
       " 'tapi',\n",
       " 'tegas',\n",
       " 'tegasnya',\n",
       " 'telah',\n",
       " 'tempat',\n",
       " 'tengah',\n",
       " 'tengku',\n",
       " 'tentang',\n",
       " 'tentu',\n",
       " 'tentulah',\n",
       " 'tentunya',\n",
       " 'tepat',\n",
       " 'tepi',\n",
       " 'terakhir',\n",
       " 'terasa',\n",
       " 'terbanyak',\n",
       " 'terdahulu',\n",
       " 'terdapat',\n",
       " 'terdiri',\n",
       " 'terhadap',\n",
       " 'terhadapmu',\n",
       " 'terhadapnya',\n",
       " 'teringat',\n",
       " 'teringat-ingat',\n",
       " 'terjadi',\n",
       " 'terjadilah',\n",
       " 'terjadinya',\n",
       " 'terkira',\n",
       " 'terlalu',\n",
       " 'terlebih',\n",
       " 'terlihat',\n",
       " 'termasuk',\n",
       " 'ternyata',\n",
       " 'terpaksa',\n",
       " 'tersampaikan',\n",
       " 'tersebut',\n",
       " 'tersebutlah',\n",
       " 'tertentu',\n",
       " 'tertuju',\n",
       " 'terus',\n",
       " 'terutama',\n",
       " 'tetap',\n",
       " 'tetapi',\n",
       " 'tgh',\n",
       " 'tiada',\n",
       " 'tiadakah',\n",
       " 'tiadalah',\n",
       " 'tiap',\n",
       " 'tiap-tiap',\n",
       " 'tiba',\n",
       " 'tiba-tiba',\n",
       " 'tidak',\n",
       " 'tidakkah',\n",
       " 'tidaklah',\n",
       " 'tiga',\n",
       " 'tiga suku',\n",
       " 'tinggi',\n",
       " 'toh',\n",
       " 'tok',\n",
       " 'tolong',\n",
       " 'tryna',\n",
       " 'tuan',\n",
       " ...]"
      ]
     },
     "execution_count": 131,
     "metadata": {},
     "output_type": "execute_result"
    }
   ],
   "source": [
    "#Import malaya library\n",
    "import malaya\n",
    "\n",
    "#Displaying malay stopwords\n",
    "malay_stopwords = sorted(malaya.text.function.get_stopwords())\n",
    "\n",
    "malay_stopwords"
   ]
  },
  {
   "cell_type": "code",
   "execution_count": null,
   "metadata": {
    "gradient": {
     "editing": false,
     "id": "ab31a360-6cd2-4763-9ae9-94ca67d29cb9",
     "kernelId": "0c0438cc-8809-4072-a10a-acb706ba8551",
     "source_hidden": false
    },
    "id": "3FSKiPMGLxKa",
    "outputId": "807f321e-5f9e-437e-ace5-2e8bafdefc0a"
   },
   "outputs": [
    {
     "data": {
      "text/plain": [
       "[\"'s\",\n",
       " \"'ve\",\n",
       " 'abang',\n",
       " 'acapkali',\n",
       " 'ada',\n",
       " 'adakah',\n",
       " 'adakan',\n",
       " 'adalah',\n",
       " 'adanya',\n",
       " 'adapun',\n",
       " 'agak',\n",
       " 'agaknya',\n",
       " 'agar',\n",
       " 'akan',\n",
       " 'akankah',\n",
       " 'akhir',\n",
       " 'akhiri',\n",
       " 'akhirnya',\n",
       " 'aku',\n",
       " 'akulah',\n",
       " 'akupun',\n",
       " 'al',\n",
       " 'alangkah',\n",
       " 'alkisah',\n",
       " 'allah',\n",
       " 'amat',\n",
       " 'amatlah',\n",
       " 'anda',\n",
       " 'andalah',\n",
       " 'antar',\n",
       " 'antara',\n",
       " 'antaramu',\n",
       " 'antaranya',\n",
       " 'apa',\n",
       " 'apa-apa',\n",
       " 'apaan',\n",
       " 'apabila',\n",
       " 'apakah',\n",
       " 'apalagi',\n",
       " 'apapun',\n",
       " 'apatah',\n",
       " 'arakian',\n",
       " 'artinya',\n",
       " 'as',\n",
       " 'asal',\n",
       " 'asalam',\n",
       " 'asalkan',\n",
       " 'assalam',\n",
       " 'assalamualaikum',\n",
       " 'atas',\n",
       " 'atasmu',\n",
       " 'atasnya',\n",
       " 'atau',\n",
       " 'ataukah',\n",
       " 'ataupun',\n",
       " 'atuk',\n",
       " 'awak',\n",
       " 'awal',\n",
       " 'awalnya',\n",
       " 'ayah',\n",
       " 'baba',\n",
       " 'bagai',\n",
       " 'bagaikan',\n",
       " 'bagaimana',\n",
       " 'bagaimanakah',\n",
       " 'bagaimanapun',\n",
       " 'bagi',\n",
       " 'bagian',\n",
       " 'bagimu',\n",
       " 'baginda',\n",
       " 'baginya',\n",
       " 'bahawa',\n",
       " 'bahawasanya',\n",
       " 'bahkan',\n",
       " 'bahwa',\n",
       " 'bahwasanya',\n",
       " 'baik',\n",
       " 'bak',\n",
       " 'bakal',\n",
       " 'bakalan',\n",
       " 'balik',\n",
       " 'bang',\n",
       " 'banyak',\n",
       " 'banyaknya',\n",
       " 'bapak',\n",
       " 'bar',\n",
       " 'barangkali',\n",
       " 'barangsiapa',\n",
       " 'baru',\n",
       " 'bawah',\n",
       " 'beberapa',\n",
       " 'begini',\n",
       " 'beginian',\n",
       " 'beginikah',\n",
       " 'beginilah',\n",
       " 'begitu',\n",
       " 'begitukah',\n",
       " 'begitulah',\n",
       " 'begitupun',\n",
       " 'bekerja',\n",
       " 'belaka',\n",
       " 'belakang',\n",
       " 'belakangan',\n",
       " 'belas',\n",
       " 'beliau',\n",
       " 'belum',\n",
       " 'belumkah',\n",
       " 'belumlah',\n",
       " 'benar',\n",
       " 'benarkah',\n",
       " 'benarlah',\n",
       " 'berada',\n",
       " 'berakhir',\n",
       " 'berakhirlah',\n",
       " 'berakhirnya',\n",
       " 'berapa',\n",
       " 'berapakah',\n",
       " 'berapalah',\n",
       " 'berapapun',\n",
       " 'berarti',\n",
       " 'berawal',\n",
       " 'berbagai',\n",
       " 'berdatangan',\n",
       " 'beri',\n",
       " 'berikan',\n",
       " 'berikut',\n",
       " 'berikutnya',\n",
       " 'beriman',\n",
       " 'berjumlah',\n",
       " 'berkali-kali',\n",
       " 'berkata',\n",
       " 'berkehendak',\n",
       " 'berkeinginan',\n",
       " 'berkenaan',\n",
       " 'berkenan',\n",
       " 'berlainan',\n",
       " 'berlalu',\n",
       " 'berlangsung',\n",
       " 'berlebihan',\n",
       " 'bermacam',\n",
       " 'bermacam-macam',\n",
       " 'bermaksud',\n",
       " 'bermula',\n",
       " 'bersama',\n",
       " 'bersama-sama',\n",
       " 'bersiap',\n",
       " 'bersiap-siap',\n",
       " 'bertanya',\n",
       " 'bertanya-tanya',\n",
       " 'berturut',\n",
       " 'berturut-turut',\n",
       " 'bertutur',\n",
       " 'berujar',\n",
       " 'berupa',\n",
       " 'besar',\n",
       " 'beserta',\n",
       " 'beta',\n",
       " 'betul',\n",
       " 'betulkah',\n",
       " 'biar',\n",
       " 'biarpun',\n",
       " 'biasa',\n",
       " 'biasanya',\n",
       " 'bila',\n",
       " 'bilakah',\n",
       " 'bilamana',\n",
       " 'bin',\n",
       " 'binti',\n",
       " 'bir',\n",
       " 'bisa',\n",
       " 'bisakah',\n",
       " 'blum',\n",
       " 'bn',\n",
       " 'bnt',\n",
       " 'bole',\n",
       " 'boleh',\n",
       " 'bolehkah',\n",
       " 'bolehlah',\n",
       " 'bt',\n",
       " 'buat',\n",
       " 'bul',\n",
       " 'bulan',\n",
       " 'bung',\n",
       " 'byk',\n",
       " 'cara',\n",
       " 'caranya',\n",
       " 'cepat',\n",
       " 'cer',\n",
       " 'cikgu',\n",
       " 'ckp',\n",
       " 'cuba',\n",
       " 'cukup',\n",
       " 'cukupkah',\n",
       " 'cukuplah',\n",
       " 'cuma',\n",
       " 'dah',\n",
       " 'dahulu',\n",
       " 'dalam',\n",
       " 'dalamnya',\n",
       " 'dan',\n",
       " 'dapat',\n",
       " 'dapati',\n",
       " 'dapatkah',\n",
       " 'dapatlah',\n",
       " 'dari',\n",
       " 'daripada',\n",
       " 'daripadaku',\n",
       " 'daripadamu',\n",
       " 'daripadanya',\n",
       " 'datang',\n",
       " 'dato',\n",
       " 'datuk',\n",
       " 'dekat',\n",
       " 'demi',\n",
       " 'demikian',\n",
       " 'demikianlah',\n",
       " 'den',\n",
       " 'dengan',\n",
       " 'dengannya',\n",
       " 'depan',\n",
       " 'dew',\n",
       " 'dgn',\n",
       " 'di',\n",
       " 'dia',\n",
       " 'diakhiri',\n",
       " 'diakhirinya',\n",
       " 'dialah',\n",
       " 'diantara',\n",
       " 'diantaranya',\n",
       " 'diberi',\n",
       " 'diberikan',\n",
       " 'diberikannya',\n",
       " 'dibuat',\n",
       " 'dibuatnya',\n",
       " 'didapat',\n",
       " 'didapati',\n",
       " 'didatangkan',\n",
       " 'digunakan',\n",
       " 'diibaratkan',\n",
       " 'diibaratkannya',\n",
       " 'diingat',\n",
       " 'diingatkan',\n",
       " 'diinginkan',\n",
       " 'dijawab',\n",
       " 'dijelaskan',\n",
       " 'dijelaskannya',\n",
       " 'dikarenakan',\n",
       " 'dikatakan',\n",
       " 'dikatakannya',\n",
       " 'dikerjakan',\n",
       " 'diketahui',\n",
       " 'diketahuinya',\n",
       " 'dikira',\n",
       " 'dilakukan',\n",
       " 'dilalui',\n",
       " 'dilihat',\n",
       " 'dimaksud',\n",
       " 'dimaksudkan',\n",
       " 'dimaksudkannya',\n",
       " 'dimaksudnya',\n",
       " 'dimanakah',\n",
       " 'diminta',\n",
       " 'dimintai',\n",
       " 'dimisalkan',\n",
       " 'dimulai',\n",
       " 'dimulailah',\n",
       " 'dimulainya',\n",
       " 'dimungkinkan',\n",
       " 'dini',\n",
       " 'dipastikan',\n",
       " 'diperbuat',\n",
       " 'diperbuatnya',\n",
       " 'dipergunakan',\n",
       " 'diperkirakan',\n",
       " 'diperlihatkan',\n",
       " 'diperlukan',\n",
       " 'diperlukannya',\n",
       " 'dipersoalkan',\n",
       " 'dipertanyakan',\n",
       " 'dipunyai',\n",
       " 'diri',\n",
       " 'dirinya',\n",
       " 'disampaikan',\n",
       " 'disebabkan',\n",
       " 'disebut',\n",
       " 'disebutkan',\n",
       " 'disebutkannya',\n",
       " 'disini',\n",
       " 'disinilah',\n",
       " 'ditambahkan',\n",
       " 'ditandaskan',\n",
       " 'ditanya',\n",
       " 'ditanyai',\n",
       " 'ditanyakan',\n",
       " 'ditegaskan',\n",
       " 'ditujukan',\n",
       " 'ditunjuk',\n",
       " 'ditunjuki',\n",
       " 'ditunjukkan',\n",
       " 'ditunjukkannya',\n",
       " 'ditunjuknya',\n",
       " 'dituturkan',\n",
       " 'dituturkannya',\n",
       " 'diucapkan',\n",
       " 'diucapkannya',\n",
       " 'diungkapkan',\n",
       " 'dlm',\n",
       " 'dong',\n",
       " 'dont',\n",
       " 'dorang',\n",
       " 'dpt',\n",
       " 'dr',\n",
       " 'dsp',\n",
       " 'dua',\n",
       " 'dulu',\n",
       " 'ehh',\n",
       " 'empat',\n",
       " 'enam',\n",
       " 'eng',\n",
       " 'enggak',\n",
       " 'enggaknya',\n",
       " 'engkau',\n",
       " 'engkaukah',\n",
       " 'engkaulah',\n",
       " 'engkaupun',\n",
       " 'entah',\n",
       " 'entahlah',\n",
       " 'even',\n",
       " 'ever',\n",
       " 'gg',\n",
       " 'got',\n",
       " 'guna',\n",
       " 'gunakan',\n",
       " 'hadapan',\n",
       " 'hai',\n",
       " 'haji',\n",
       " 'hal',\n",
       " 'hamba',\n",
       " 'hampir',\n",
       " 'hampir-hampir',\n",
       " 'hanya',\n",
       " 'hanyalah',\n",
       " 'haram',\n",
       " 'haramm',\n",
       " 'harap',\n",
       " 'harem',\n",
       " 'haremm',\n",
       " 'hari',\n",
       " 'harus',\n",
       " 'haruslah',\n",
       " 'harusnya',\n",
       " 'helai',\n",
       " 'hendak',\n",
       " 'hendaklah',\n",
       " 'hendaknya',\n",
       " 'hingga',\n",
       " 'hj',\n",
       " 'hoi',\n",
       " 'huih',\n",
       " 'ia',\n",
       " 'iaitu',\n",
       " 'ialah',\n",
       " 'ianya',\n",
       " 'ibarat',\n",
       " 'ibaratkan',\n",
       " 'ibaratnya',\n",
       " 'ibu',\n",
       " 'ikut',\n",
       " 'ingat',\n",
       " 'ingat-ingat',\n",
       " 'ingin',\n",
       " 'inginkah',\n",
       " 'inginkan',\n",
       " 'ini',\n",
       " 'inikah',\n",
       " 'inilah',\n",
       " 'int',\n",
       " 'ir',\n",
       " 'itu',\n",
       " 'itukah',\n",
       " 'itulah',\n",
       " 'jadi',\n",
       " 'jadilah',\n",
       " 'jadinya',\n",
       " 'jangan',\n",
       " 'jangankan',\n",
       " 'janganlah',\n",
       " 'jauh',\n",
       " 'jawab',\n",
       " 'jawaban',\n",
       " 'jawabnya',\n",
       " 'jd',\n",
       " 'jelas',\n",
       " 'jelaskan',\n",
       " 'jelaslah',\n",
       " 'jelasnya',\n",
       " 'jemput',\n",
       " 'jgn',\n",
       " 'jika',\n",
       " 'jikalau',\n",
       " 'jom',\n",
       " 'joom',\n",
       " 'jua',\n",
       " 'juapun',\n",
       " 'juga',\n",
       " 'jumlah',\n",
       " 'jumlahnya',\n",
       " 'justeru',\n",
       " 'justru',\n",
       " 'juta',\n",
       " 'kadang',\n",
       " 'kak',\n",
       " 'kakak',\n",
       " 'kala',\n",
       " 'kalakian',\n",
       " 'kalau',\n",
       " 'kalaulah',\n",
       " 'kalaupun',\n",
       " 'kalian',\n",
       " 'kami',\n",
       " 'kamikah',\n",
       " 'kamilah',\n",
       " 'kamipun',\n",
       " 'kamu',\n",
       " 'kamukah',\n",
       " 'kamulah',\n",
       " 'kamupun',\n",
       " 'kan',\n",
       " 'kanan',\n",
       " 'kapan',\n",
       " 'kapankah',\n",
       " 'kapanpun',\n",
       " 'karena',\n",
       " 'karenanya',\n",
       " 'kasus',\n",
       " 'kat',\n",
       " 'kata',\n",
       " 'katakan',\n",
       " 'katakanlah',\n",
       " 'katanya',\n",
       " 'kau',\n",
       " 'ke',\n",
       " 'keadaan',\n",
       " 'keb',\n",
       " 'kebetulan',\n",
       " 'kecil',\n",
       " 'kecuali',\n",
       " 'kedua',\n",
       " 'keduanya',\n",
       " 'keinginan',\n",
       " 'keja',\n",
       " 'keje',\n",
       " 'kelak',\n",
       " 'kelamaan',\n",
       " 'kelihatan',\n",
       " 'kelihatannya',\n",
       " 'kelima',\n",
       " 'keluar',\n",
       " 'kembali',\n",
       " 'kemudian',\n",
       " 'kemungkinan',\n",
       " 'kemungkinannya',\n",
       " 'kenapa',\n",
       " 'kepada',\n",
       " 'kepadaku',\n",
       " 'kepadakulah',\n",
       " 'kepadamu',\n",
       " 'kepadanya',\n",
       " 'kepadanyalah',\n",
       " 'kerana',\n",
       " 'kerananya',\n",
       " 'kesampaian',\n",
       " 'kesan',\n",
       " 'keseluruhan',\n",
       " 'keseluruhannya',\n",
       " 'keterlaluan',\n",
       " 'ketika',\n",
       " 'ketul',\n",
       " 'khususnya',\n",
       " 'kini',\n",
       " 'kinilah',\n",
       " 'kira',\n",
       " 'kira-kira',\n",
       " 'kiranya',\n",
       " 'kiri',\n",
       " 'kita',\n",
       " 'kitalah',\n",
       " 'kok',\n",
       " 'kosong',\n",
       " 'kpd',\n",
       " 'ku',\n",
       " 'kurang',\n",
       " 'lagi',\n",
       " 'lagian',\n",
       " 'lah',\n",
       " 'lain',\n",
       " 'lainnya',\n",
       " 'laksanabagai',\n",
       " 'lalu',\n",
       " 'lama',\n",
       " 'lamanya',\n",
       " 'langsung',\n",
       " 'lanjut',\n",
       " 'lanjutnya',\n",
       " 'lapan',\n",
       " 'last',\n",
       " 'lebih',\n",
       " 'leh',\n",
       " 'lena',\n",
       " 'lepas',\n",
       " 'let',\n",
       " 'lewat',\n",
       " 'lima',\n",
       " 'lol',\n",
       " 'luar',\n",
       " 'macam',\n",
       " 'maha',\n",
       " 'mahu',\n",
       " 'mahukah',\n",
       " 'mahupun',\n",
       " 'mak',\n",
       " 'maka',\n",
       " 'makanya',\n",
       " 'makin',\n",
       " 'malah',\n",
       " 'malahan',\n",
       " 'malam',\n",
       " 'mama',\n",
       " 'mampu',\n",
       " 'mampukah',\n",
       " 'mana',\n",
       " 'manakah',\n",
       " 'manakala',\n",
       " 'manalagi',\n",
       " 'manapun',\n",
       " 'masa',\n",
       " 'masalah',\n",
       " 'masalahnya',\n",
       " 'masih',\n",
       " 'masihkah',\n",
       " 'masing',\n",
       " 'masing-masing',\n",
       " 'mau',\n",
       " 'maupun',\n",
       " 'mcm',\n",
       " 'md',\n",
       " 'meh',\n",
       " 'mejar',\n",
       " 'melainkan',\n",
       " 'melakukan',\n",
       " 'melalui',\n",
       " 'melihat',\n",
       " 'melihatnya',\n",
       " 'memang',\n",
       " 'memastikan',\n",
       " 'memberi',\n",
       " 'memberikan',\n",
       " 'membuat',\n",
       " 'memerlukan',\n",
       " 'memihak',\n",
       " 'meminta',\n",
       " 'memintakan',\n",
       " 'memisalkan',\n",
       " 'memperbuat',\n",
       " 'mempergunakan',\n",
       " 'memperkirakan',\n",
       " 'memperlihatkan',\n",
       " 'mempersiapkan',\n",
       " 'mempersoalkan',\n",
       " 'mempertanyakan',\n",
       " 'mempunyai',\n",
       " 'memulai',\n",
       " 'memungkinkan',\n",
       " 'menaiki',\n",
       " 'menambahkan',\n",
       " 'menandaskan',\n",
       " 'menanti',\n",
       " 'menanti-nanti',\n",
       " 'menantikan',\n",
       " 'menanya',\n",
       " 'menanyai',\n",
       " 'menanyakan',\n",
       " 'mendapat',\n",
       " 'mendapati',\n",
       " 'mendapatkan',\n",
       " 'mendatang',\n",
       " 'mendatangi',\n",
       " 'mendatangkan',\n",
       " 'menegaskan',\n",
       " 'mengadakan',\n",
       " 'mengakhiri',\n",
       " 'mengapa',\n",
       " 'mengapakah',\n",
       " 'mengatakan',\n",
       " 'mengatakannya',\n",
       " 'mengenai',\n",
       " 'mengerjakan',\n",
       " 'mengetahui',\n",
       " 'menggunakan',\n",
       " 'menghendaki',\n",
       " 'mengibaratkan',\n",
       " 'mengibaratkannya',\n",
       " 'mengingat',\n",
       " 'mengingatkan',\n",
       " 'menginginkan',\n",
       " 'mengira',\n",
       " 'mengucapkan',\n",
       " 'mengucapkannya',\n",
       " 'mengungkapkan',\n",
       " 'menjadi',\n",
       " 'menjawab',\n",
       " 'menjelaskan',\n",
       " 'menuju',\n",
       " 'menunjuk',\n",
       " 'menunjuki',\n",
       " 'menunjukkan',\n",
       " 'menunjuknya',\n",
       " 'menurut',\n",
       " 'menuturkan',\n",
       " 'menyampaikan',\n",
       " 'menyangkut',\n",
       " 'menyatakan',\n",
       " 'menyebabkan',\n",
       " 'menyebabkannya',\n",
       " 'menyebutkan',\n",
       " 'menyeluruh',\n",
       " 'menyiapkan',\n",
       " 'merasa',\n",
       " 'mereka',\n",
       " 'merekalah',\n",
       " 'merekapun',\n",
       " 'merupakan',\n",
       " 'meski',\n",
       " 'meskipun',\n",
       " 'mesti',\n",
       " 'met',\n",
       " 'meyakini',\n",
       " 'meyakinkan',\n",
       " 'minta',\n",
       " 'mirip',\n",
       " 'misal',\n",
       " 'misalkan',\n",
       " 'misalnya',\n",
       " 'mmg',\n",
       " 'mu',\n",
       " 'mula',\n",
       " 'mulai',\n",
       " 'mulailah',\n",
       " 'mulanya',\n",
       " 'mungkin',\n",
       " 'mungkinkah',\n",
       " 'nah',\n",
       " 'naik',\n",
       " 'nak',\n",
       " 'namun',\n",
       " 'nanti',\n",
       " 'nantinya',\n",
       " 'nenek',\n",
       " 'nescaya',\n",
       " 'nian',\n",
       " 'niscaya',\n",
       " 'nk',\n",
       " 'not',\n",
       " 'nya',\n",
       " 'nyaris',\n",
       " 'nyatanya',\n",
       " 'olah',\n",
       " 'oleh',\n",
       " 'olehnya',\n",
       " 'orang',\n",
       " 'org',\n",
       " 'pada',\n",
       " 'padahal',\n",
       " 'padamu',\n",
       " 'padanya',\n",
       " 'pagi',\n",
       " 'pak',\n",
       " 'paling',\n",
       " 'panjang',\n",
       " 'pantas',\n",
       " 'para',\n",
       " 'pasti',\n",
       " 'pastilah',\n",
       " 'pastu',\n",
       " 'patik',\n",
       " 'patut',\n",
       " 'patutkah',\n",
       " 'penting',\n",
       " 'pentingnya',\n",
       " 'per',\n",
       " 'percuma',\n",
       " 'pergh',\n",
       " 'perghh',\n",
       " 'pergilah',\n",
       " 'perkara',\n",
       " 'perkaranya',\n",
       " 'perlahan',\n",
       " 'perlu',\n",
       " 'perlukah',\n",
       " 'perlunya',\n",
       " 'pernah',\n",
       " 'persoalan',\n",
       " 'pertama',\n",
       " 'pertama-tama',\n",
       " 'pertanyaan',\n",
       " 'pertanyakan',\n",
       " 'petang',\n",
       " 'photo',\n",
       " 'pihak',\n",
       " 'pihaknya',\n",
       " 'pon',\n",
       " 'prof',\n",
       " 'puan',\n",
       " 'pukul',\n",
       " 'pula',\n",
       " 'puluh',\n",
       " 'pun',\n",
       " 'punya',\n",
       " 'rasa',\n",
       " 'rasanya',\n",
       " 'rata',\n",
       " 'ratus',\n",
       " 'rupanya',\n",
       " 'saat',\n",
       " 'saatnya',\n",
       " 'sahaja',\n",
       " 'sajalah',\n",
       " 'saje',\n",
       " 'salam',\n",
       " 'saling',\n",
       " 'sama',\n",
       " 'sama-sama',\n",
       " 'samakah',\n",
       " 'sambil',\n",
       " 'sampai',\n",
       " 'sampai-sampai',\n",
       " 'sampaikan',\n",
       " 'sana',\n",
       " 'sane',\n",
       " 'sangat',\n",
       " 'sangatlah',\n",
       " 'satu',\n",
       " 'saya',\n",
       " 'sayalah',\n",
       " 'se',\n",
       " 'seandainya',\n",
       " 'sebab',\n",
       " 'sebabnya',\n",
       " 'sebagai',\n",
       " 'sebagaimana',\n",
       " 'sebagainya',\n",
       " 'sebagian',\n",
       " 'sebaik',\n",
       " 'sebaik-baiknya',\n",
       " 'sebaiknya',\n",
       " 'sebaliknya',\n",
       " 'sebanyak',\n",
       " 'sebegini',\n",
       " 'sebegitu',\n",
       " 'sebelas',\n",
       " 'sebelum',\n",
       " 'sebelummu',\n",
       " 'sebelumnya',\n",
       " 'sebenarnya',\n",
       " 'sebentar',\n",
       " 'seberapa',\n",
       " 'sebesar',\n",
       " 'sebetulnya',\n",
       " 'sebilan',\n",
       " 'sebisanya',\n",
       " 'sebuah',\n",
       " 'sebut',\n",
       " 'sebutlah',\n",
       " 'sebutnya',\n",
       " 'secara',\n",
       " 'secukupnya',\n",
       " 'sedang',\n",
       " 'sedangkan',\n",
       " 'sedemikian',\n",
       " 'sedikit',\n",
       " 'sedikitnya',\n",
       " 'sedikitpun',\n",
       " 'seenaknya',\n",
       " 'segala',\n",
       " 'segalanya',\n",
       " 'segera',\n",
       " 'seharusnya',\n",
       " 'sehingga',\n",
       " 'seingat',\n",
       " 'sejak',\n",
       " 'sejauh',\n",
       " 'sejenak',\n",
       " 'sejumlah',\n",
       " 'sejuta',\n",
       " 'sekadar',\n",
       " 'sekadarnya',\n",
       " 'sekali',\n",
       " 'sekali-kali',\n",
       " 'sekalian',\n",
       " 'sekaligus',\n",
       " 'sekalipun',\n",
       " 'sekarang',\n",
       " 'sekecil',\n",
       " 'seketika',\n",
       " 'sekiranya',\n",
       " 'sekitar',\n",
       " 'sekitarnya',\n",
       " 'sekurang-kurangnya',\n",
       " 'sekurangnya',\n",
       " 'sela',\n",
       " 'selain',\n",
       " 'selaku',\n",
       " 'selalu',\n",
       " 'selama',\n",
       " 'selama-lamanya',\n",
       " 'selamanya',\n",
       " 'selanjutnya',\n",
       " 'selepas',\n",
       " 'seluruh',\n",
       " 'seluruhnya',\n",
       " 'semacam',\n",
       " 'semakin',\n",
       " 'semalam',\n",
       " 'semampu',\n",
       " 'semampunya',\n",
       " 'semasa',\n",
       " 'semasih',\n",
       " 'semata',\n",
       " 'semata-mata',\n",
       " 'semaunya',\n",
       " 'sembilan',\n",
       " 'semenjak',\n",
       " 'sementara',\n",
       " 'semisal',\n",
       " 'semisalnya',\n",
       " 'sempat',\n",
       " 'semua',\n",
       " 'semuanya',\n",
       " 'semula',\n",
       " 'senantiasa',\n",
       " 'sendiri',\n",
       " 'sendirian',\n",
       " 'sendirinya',\n",
       " 'sentiasa',\n",
       " 'seolah',\n",
       " 'seolah-olah',\n",
       " 'seorang',\n",
       " 'seorangpun',\n",
       " 'sepanjang',\n",
       " 'sepantasnya',\n",
       " 'sepantasnyalah',\n",
       " 'separuh',\n",
       " 'sepatutnya',\n",
       " 'seperlunya',\n",
       " 'seperti',\n",
       " 'sepertinya',\n",
       " 'sepihak',\n",
       " 'sepuluh',\n",
       " 'seratus',\n",
       " 'seraya',\n",
       " 'seribu',\n",
       " 'sering',\n",
       " 'seringnya',\n",
       " 'serta',\n",
       " 'serupa',\n",
       " 'sesaat',\n",
       " 'sesama',\n",
       " 'sesampai',\n",
       " 'sesegera',\n",
       " 'sesekali',\n",
       " 'seseorang',\n",
       " 'sesiapa',\n",
       " 'sesuatu',\n",
       " 'sesuatunya',\n",
       " 'sesudah',\n",
       " 'sesudahnya',\n",
       " 'sesungguhnya',\n",
       " 'sesungguhnyakah',\n",
       " 'setelah',\n",
       " 'setempat',\n",
       " 'setengah',\n",
       " 'seterusnya',\n",
       " 'setiap',\n",
       " 'setiba',\n",
       " 'setibanya',\n",
       " 'setinggi',\n",
       " 'seusai',\n",
       " 'sewaktu',\n",
       " 'shit',\n",
       " 'siang',\n",
       " 'siap',\n",
       " 'siapa',\n",
       " 'siapakah',\n",
       " 'siapapun',\n",
       " 'sila',\n",
       " 'sini',\n",
       " 'sinilah',\n",
       " 'sisi',\n",
       " 'situ',\n",
       " 'situlah',\n",
       " 'soal',\n",
       " 'soalnya',\n",
       " 'sri',\n",
       " 'suatu',\n",
       " 'sudah',\n",
       " 'sudahkah',\n",
       " 'sudahlah',\n",
       " 'suku',\n",
       " 'sungguh',\n",
       " 'sungguhpun',\n",
       " 'supaya',\n",
       " 'syahdah',\n",
       " 'tadi',\n",
       " 'tadinya',\n",
       " 'tahu',\n",
       " 'tahukah',\n",
       " 'tahun',\n",
       " 'tambah',\n",
       " 'tambahnya',\n",
       " 'tampak',\n",
       " 'tampaknya',\n",
       " 'tan',\n",
       " 'tandas',\n",
       " 'tandasnya',\n",
       " 'tanpa',\n",
       " 'tanya',\n",
       " 'tanyakan',\n",
       " 'tanyakanlah',\n",
       " 'tanyanya',\n",
       " 'tapi',\n",
       " 'tegas',\n",
       " 'tegasnya',\n",
       " 'telah',\n",
       " 'tempat',\n",
       " 'tengah',\n",
       " 'tengku',\n",
       " 'tentang',\n",
       " 'tentu',\n",
       " 'tentulah',\n",
       " 'tentunya',\n",
       " 'tepat',\n",
       " 'tepi',\n",
       " 'terakhir',\n",
       " 'terasa',\n",
       " 'terbanyak',\n",
       " 'terdahulu',\n",
       " 'terdapat',\n",
       " 'terdiri',\n",
       " 'terhadap',\n",
       " 'terhadapmu',\n",
       " 'terhadapnya',\n",
       " 'teringat',\n",
       " 'teringat-ingat',\n",
       " 'terjadi',\n",
       " 'terjadilah',\n",
       " 'terjadinya',\n",
       " 'terkira',\n",
       " 'terlalu',\n",
       " 'terlebih',\n",
       " 'terlihat',\n",
       " 'termasuk',\n",
       " 'ternyata',\n",
       " 'terpaksa',\n",
       " 'tersampaikan',\n",
       " 'tersebut',\n",
       " 'tersebutlah',\n",
       " 'tertentu',\n",
       " 'tertuju',\n",
       " 'terus',\n",
       " 'terutama',\n",
       " 'tetap',\n",
       " 'tetapi',\n",
       " 'tgh',\n",
       " 'tiap',\n",
       " 'tiap-tiap',\n",
       " 'tiba',\n",
       " 'tiba-tiba',\n",
       " 'tiga',\n",
       " 'tiga suku',\n",
       " 'tinggi',\n",
       " 'toh',\n",
       " 'tok',\n",
       " 'tolong',\n",
       " 'tryna',\n",
       " 'tuan',\n",
       " 'tuanku',\n",
       " 'tujuh',\n",
       " 'tun',\n",
       " 'tunjuk',\n",
       " 'turut',\n",
       " 'tutur',\n",
       " 'tuturnya',\n",
       " 'ucap',\n",
       " 'ucapnya',\n",
       " 'ujar',\n",
       " 'ujarnya',\n",
       " 'umpama',\n",
       " 'umum',\n",
       " 'umumnya',\n",
       " 'ungkap',\n",
       " ...]"
      ]
     },
     "execution_count": 132,
     "metadata": {},
     "output_type": "execute_result"
    }
   ],
   "source": [
    "#Define negation stopwords in malay language\n",
    "negation_words = ['bukan', 'bukankah', 'bukanlah', 'bukannya', 'setidak-tidaknya', 'setidaknya', 'tak',\n",
    "                  'takda', 'takde', 'tiada', 'tiadakah', 'tiadalah', 'tidak', 'tidakkah', 'tidaklah',\n",
    "                  'usah', 'usahlah', 'xda', 'xde', 'xkan', 'xkira', 'xleh', 'xtahu']\n",
    "\n",
    "#Creating a new list without negation stop words\n",
    "new_malay_stopwords = [word for word in malay_stopwords if word not in negation_words]\n",
    "\n",
    "#Arrange new list in alphabetical order\n",
    "new_malay_stopwords = sorted(new_malay_stopwords)\n",
    "\n",
    "#Display new list \n",
    "new_malay_stopwords\n"
   ]
  },
  {
   "cell_type": "code",
   "execution_count": null,
   "metadata": {
    "collapsed": false,
    "gradient": {
     "editing": false,
     "id": "4f65c263-d2e0-47ed-9a8d-58ecf48e130e",
     "kernelId": "0c0438cc-8809-4072-a10a-acb706ba8551",
     "source_hidden": false
    },
    "id": "434f0GDELxKb",
    "jupyter": {
     "outputs_hidden": false
    },
    "outputId": "198b9928-e619-4a0f-db7b-3113d941fd82"
   },
   "outputs": [
    {
     "data": {
      "text/html": [
       "<div>\n",
       "<style scoped>\n",
       "    .dataframe tbody tr th:only-of-type {\n",
       "        vertical-align: middle;\n",
       "    }\n",
       "\n",
       "    .dataframe tbody tr th {\n",
       "        vertical-align: top;\n",
       "    }\n",
       "\n",
       "    .dataframe thead th {\n",
       "        text-align: right;\n",
       "    }\n",
       "</style>\n",
       "<table border=\"1\" class=\"dataframe\">\n",
       "  <thead>\n",
       "    <tr style=\"text-align: right;\">\n",
       "      <th></th>\n",
       "      <th>text</th>\n",
       "      <th>class</th>\n",
       "    </tr>\n",
       "  </thead>\n",
       "  <tbody>\n",
       "    <tr>\n",
       "      <th>1765</th>\n",
       "      <td>[selamat, selamat, wikipedia, terima, kasih, sumbangan, suka, memutuskan, tinggal, halaman, tiang, wikipedia, mengedit, laman, bantuan, halaman, tutorial, menulis, manual, artikel, gaya, bagus, dialualukan, menyunting, artikel, mendaftar, akaun, tidak, maklumat, peribadi, menyediakan, manfaat, mengedit, nama, pengguna, alamat, ip, mengenal, suka, mengedit, wikipedian, tandakan, komen, halaman, perbincangan, tildes, automatik, menghasilkan, alamat, ip, nama, pengguna, automatik, log, masuk, tarikh, bantuan, periksa, soalan, wikipedia, soalan, letakkan, bantuan, soalan, halaman, selamat]</td>\n",
       "      <td>0</td>\n",
       "    </tr>\n",
       "    <tr>\n",
       "      <th>12559</th>\n",
       "      <td>[penggabungan, menulis, halaman, masyarakat, salah, kualiti, ketepatan, artikel, tidak, dikorbankan, menghilangkan, 5, penyunting, salah, pendapat, sumber, kepincangan, ketepatan, sebarang, konsensus, salah]</td>\n",
       "      <td>0</td>\n",
       "    </tr>\n",
       "    <tr>\n",
       "      <th>7038</th>\n",
       "      <td>[selamat, krismas, selamat]</td>\n",
       "      <td>0</td>\n",
       "    </tr>\n",
       "    <tr>\n",
       "      <th>13729</th>\n",
       "      <td>[gangguan, berhenti, berhenti, mengikuti, membalikkan, pengeditan, menyedari, perselisihan, konyol, memulangkan, perubahan, berterusan, melaporkan, gangguan]</td>\n",
       "      <td>0</td>\n",
       "    </tr>\n",
       "    <tr>\n",
       "      <th>4209</th>\n",
       "      <td>[pencalonan, status, artikel, ditahan, artikel, imej, memandangkan, peta, membantu, mengikat, senarai, ahli, pasukan, perbaikan, gramatikal, minor, bahagian, utama, pengembangan, penambahbaikan, dasarnya, versi, ringkas, artikel, pasukan, eksperimen, eksplorasi, roald, amundsen, lainlain, terpakai, faktorfaktor, menyumbang, kegagalan, bukannya, merujuk, artikel, artikel, meletakkan]</td>\n",
       "      <td>0</td>\n",
       "    </tr>\n",
       "    <tr>\n",
       "      <th>...</th>\n",
       "      <td>...</td>\n",
       "      <td>...</td>\n",
       "    </tr>\n",
       "    <tr>\n",
       "      <th>17885</th>\n",
       "      <td>[oops, tidak, sengaja, menyunting, halaman, bodoh, jatuh, mati]</td>\n",
       "      <td>1</td>\n",
       "    </tr>\n",
       "    <tr>\n",
       "      <th>17887</th>\n",
       "      <td>[menyogok, komoditi, berharga, internet, lucah, kuda, gembira]</td>\n",
       "      <td>1</td>\n",
       "    </tr>\n",
       "    <tr>\n",
       "      <th>17888</th>\n",
       "      <td>[tiada, robot, tak, kenal, robot, bodoh, ikan, emas, menjadikan, kali, pintar, pentadbir, manusia, wikipedia, bertaruh, tidak, penulis, diterbitkan, kalangan, diterbitkan, laman, web, jenaka]</td>\n",
       "      <td>1</td>\n",
       "    </tr>\n",
       "    <tr>\n",
       "      <th>17893</th>\n",
       "      <td>[fuck, you, london, sekeping, kotoran]</td>\n",
       "      <td>1</td>\n",
       "    </tr>\n",
       "    <tr>\n",
       "      <th>17902</th>\n",
       "      <td>[asscrack, menyukainya]</td>\n",
       "      <td>1</td>\n",
       "    </tr>\n",
       "  </tbody>\n",
       "</table>\n",
       "<p>30782 rows × 2 columns</p>\n",
       "</div>"
      ],
      "text/plain": [
       "                                                                                                                                                                                                                                                                                                                                                                                                                                                                                                                                                                                                                   text  \\\n",
       "1765   [selamat, selamat, wikipedia, terima, kasih, sumbangan, suka, memutuskan, tinggal, halaman, tiang, wikipedia, mengedit, laman, bantuan, halaman, tutorial, menulis, manual, artikel, gaya, bagus, dialualukan, menyunting, artikel, mendaftar, akaun, tidak, maklumat, peribadi, menyediakan, manfaat, mengedit, nama, pengguna, alamat, ip, mengenal, suka, mengedit, wikipedian, tandakan, komen, halaman, perbincangan, tildes, automatik, menghasilkan, alamat, ip, nama, pengguna, automatik, log, masuk, tarikh, bantuan, periksa, soalan, wikipedia, soalan, letakkan, bantuan, soalan, halaman, selamat]   \n",
       "12559                                                                                                                                                                                                                                                                                                                                                                                                   [penggabungan, menulis, halaman, masyarakat, salah, kualiti, ketepatan, artikel, tidak, dikorbankan, menghilangkan, 5, penyunting, salah, pendapat, sumber, kepincangan, ketepatan, sebarang, konsensus, salah]   \n",
       "7038                                                                                                                                                                                                                                                                                                                                                                                                                                                                                                                                                                                        [selamat, krismas, selamat]   \n",
       "13729                                                                                                                                                                                                                                                                                                                                                                                                                                                     [gangguan, berhenti, berhenti, mengikuti, membalikkan, pengeditan, menyedari, perselisihan, konyol, memulangkan, perubahan, berterusan, melaporkan, gangguan]   \n",
       "4209                                                                                                                                                                                                                  [pencalonan, status, artikel, ditahan, artikel, imej, memandangkan, peta, membantu, mengikat, senarai, ahli, pasukan, perbaikan, gramatikal, minor, bahagian, utama, pengembangan, penambahbaikan, dasarnya, versi, ringkas, artikel, pasukan, eksperimen, eksplorasi, roald, amundsen, lainlain, terpakai, faktorfaktor, menyumbang, kegagalan, bukannya, merujuk, artikel, artikel, meletakkan]   \n",
       "...                                                                                                                                                                                                                                                                                                                                                                                                                                                                                                                                                                                                                 ...   \n",
       "17885                                                                                                                                                                                                                                                                                                                                                                                                                                                                                                                                                   [oops, tidak, sengaja, menyunting, halaman, bodoh, jatuh, mati]   \n",
       "17887                                                                                                                                                                                                                                                                                                                                                                                                                                                                                                                                                    [menyogok, komoditi, berharga, internet, lucah, kuda, gembira]   \n",
       "17888                                                                                                                                                                                                                                                                                                                                                                                                                   [tiada, robot, tak, kenal, robot, bodoh, ikan, emas, menjadikan, kali, pintar, pentadbir, manusia, wikipedia, bertaruh, tidak, penulis, diterbitkan, kalangan, diterbitkan, laman, web, jenaka]   \n",
       "17893                                                                                                                                                                                                                                                                                                                                                                                                                                                                                                                                                                            [fuck, you, london, sekeping, kotoran]   \n",
       "17902                                                                                                                                                                                                                                                                                                                                                                                                                                                                                                                                                                                           [asscrack, menyukainya]   \n",
       "\n",
       "       class  \n",
       "1765       0  \n",
       "12559      0  \n",
       "7038       0  \n",
       "13729      0  \n",
       "4209       0  \n",
       "...      ...  \n",
       "17885      1  \n",
       "17887      1  \n",
       "17888      1  \n",
       "17893      1  \n",
       "17902      1  \n",
       "\n",
       "[30782 rows x 2 columns]"
      ]
     },
     "execution_count": 133,
     "metadata": {},
     "output_type": "execute_result"
    }
   ],
   "source": [
    "#Defining tokenizer\n",
    "malay_tokenizer = malaya.preprocessing.Tokenizer()\n",
    "\n",
    "#Removing stopwords\n",
    "malay_ds['text'] = malay_ds['text'].apply(lambda text: [word for word in malay_tokenizer.tokenize(text) if not word in new_malay_stopwords])\n",
    "\n",
    "#Displaying malay dataset after removing stopwords\n",
    "malay_ds"
   ]
  },
  {
   "cell_type": "code",
   "execution_count": null,
   "metadata": {
    "collapsed": false,
    "gradient": {
     "editing": false,
     "id": "556f489e-a393-4d90-a540-1ca7442f48bb",
     "kernelId": "0c0438cc-8809-4072-a10a-acb706ba8551",
     "source_hidden": false
    },
    "id": "dLWKkm7NLxKb",
    "jupyter": {
     "outputs_hidden": false
    },
    "outputId": "f120a88e-9980-4a5a-d2af-d05addeb9680"
   },
   "outputs": [
    {
     "data": {
      "text/html": [
       "<div>\n",
       "<style scoped>\n",
       "    .dataframe tbody tr th:only-of-type {\n",
       "        vertical-align: middle;\n",
       "    }\n",
       "\n",
       "    .dataframe tbody tr th {\n",
       "        vertical-align: top;\n",
       "    }\n",
       "\n",
       "    .dataframe thead th {\n",
       "        text-align: right;\n",
       "    }\n",
       "</style>\n",
       "<table border=\"1\" class=\"dataframe\">\n",
       "  <thead>\n",
       "    <tr style=\"text-align: right;\">\n",
       "      <th></th>\n",
       "      <th>text</th>\n",
       "      <th>class</th>\n",
       "    </tr>\n",
       "  </thead>\n",
       "  <tbody>\n",
       "    <tr>\n",
       "      <th>1765</th>\n",
       "      <td>selamat selamat wikipedia terima kasih sumbangan suka memutuskan tinggal halaman tiang wikipedia mengedit laman bantuan halaman tutorial menulis manual artikel gaya bagus dialualukan menyunting artikel mendaftar akaun tidak maklumat peribadi menyediakan manfaat mengedit nama pengguna alamat ip mengenal suka mengedit wikipedian tandakan komen halaman perbincangan tildes automatik menghasilkan alamat ip nama pengguna automatik log masuk tarikh bantuan periksa soalan wikipedia soalan letakkan bantuan soalan halaman selamat</td>\n",
       "      <td>0</td>\n",
       "    </tr>\n",
       "    <tr>\n",
       "      <th>12559</th>\n",
       "      <td>penggabungan menulis halaman masyarakat salah kualiti ketepatan artikel tidak dikorbankan menghilangkan 5 penyunting salah pendapat sumber kepincangan ketepatan sebarang konsensus salah</td>\n",
       "      <td>0</td>\n",
       "    </tr>\n",
       "    <tr>\n",
       "      <th>7038</th>\n",
       "      <td>selamat krismas selamat</td>\n",
       "      <td>0</td>\n",
       "    </tr>\n",
       "    <tr>\n",
       "      <th>13729</th>\n",
       "      <td>gangguan berhenti berhenti mengikuti membalikkan pengeditan menyedari perselisihan konyol memulangkan perubahan berterusan melaporkan gangguan</td>\n",
       "      <td>0</td>\n",
       "    </tr>\n",
       "    <tr>\n",
       "      <th>4209</th>\n",
       "      <td>pencalonan status artikel ditahan artikel imej memandangkan peta membantu mengikat senarai ahli pasukan perbaikan gramatikal minor bahagian utama pengembangan penambahbaikan dasarnya versi ringkas artikel pasukan eksperimen eksplorasi roald amundsen lainlain terpakai faktorfaktor menyumbang kegagalan bukannya merujuk artikel artikel meletakkan</td>\n",
       "      <td>0</td>\n",
       "    </tr>\n",
       "    <tr>\n",
       "      <th>...</th>\n",
       "      <td>...</td>\n",
       "      <td>...</td>\n",
       "    </tr>\n",
       "    <tr>\n",
       "      <th>17885</th>\n",
       "      <td>oops tidak sengaja menyunting halaman bodoh jatuh mati</td>\n",
       "      <td>1</td>\n",
       "    </tr>\n",
       "    <tr>\n",
       "      <th>17887</th>\n",
       "      <td>menyogok komoditi berharga internet lucah kuda gembira</td>\n",
       "      <td>1</td>\n",
       "    </tr>\n",
       "    <tr>\n",
       "      <th>17888</th>\n",
       "      <td>tiada robot tak kenal robot bodoh ikan emas menjadikan kali pintar pentadbir manusia wikipedia bertaruh tidak penulis diterbitkan kalangan diterbitkan laman web jenaka</td>\n",
       "      <td>1</td>\n",
       "    </tr>\n",
       "    <tr>\n",
       "      <th>17893</th>\n",
       "      <td>fuck you london sekeping kotoran</td>\n",
       "      <td>1</td>\n",
       "    </tr>\n",
       "    <tr>\n",
       "      <th>17902</th>\n",
       "      <td>asscrack menyukainya</td>\n",
       "      <td>1</td>\n",
       "    </tr>\n",
       "  </tbody>\n",
       "</table>\n",
       "<p>30782 rows × 2 columns</p>\n",
       "</div>"
      ],
      "text/plain": [
       "                                                                                                                                                                                                                                                                                                                                                                                                                                                                                                                                                text  \\\n",
       "1765   selamat selamat wikipedia terima kasih sumbangan suka memutuskan tinggal halaman tiang wikipedia mengedit laman bantuan halaman tutorial menulis manual artikel gaya bagus dialualukan menyunting artikel mendaftar akaun tidak maklumat peribadi menyediakan manfaat mengedit nama pengguna alamat ip mengenal suka mengedit wikipedian tandakan komen halaman perbincangan tildes automatik menghasilkan alamat ip nama pengguna automatik log masuk tarikh bantuan periksa soalan wikipedia soalan letakkan bantuan soalan halaman selamat   \n",
       "12559                                                                                                                                                                                                                                                                                                                                                      penggabungan menulis halaman masyarakat salah kualiti ketepatan artikel tidak dikorbankan menghilangkan 5 penyunting salah pendapat sumber kepincangan ketepatan sebarang konsensus salah   \n",
       "7038                                                                                                                                                                                                                                                                                                                                                                                                                                                                                                                         selamat krismas selamat   \n",
       "13729                                                                                                                                                                                                                                                                                                                                                                                                 gangguan berhenti berhenti mengikuti membalikkan pengeditan menyedari perselisihan konyol memulangkan perubahan berterusan melaporkan gangguan   \n",
       "4209                                                                                                                                                                                       pencalonan status artikel ditahan artikel imej memandangkan peta membantu mengikat senarai ahli pasukan perbaikan gramatikal minor bahagian utama pengembangan penambahbaikan dasarnya versi ringkas artikel pasukan eksperimen eksplorasi roald amundsen lainlain terpakai faktorfaktor menyumbang kegagalan bukannya merujuk artikel artikel meletakkan   \n",
       "...                                                                                                                                                                                                                                                                                                                                                                                                                                                                                                                                              ...   \n",
       "17885                                                                                                                                                                                                                                                                                                                                                                                                                                                                                         oops tidak sengaja menyunting halaman bodoh jatuh mati   \n",
       "17887                                                                                                                                                                                                                                                                                                                                                                                                                                                                                         menyogok komoditi berharga internet lucah kuda gembira   \n",
       "17888                                                                                                                                                                                                                                                                                                                                                                        tiada robot tak kenal robot bodoh ikan emas menjadikan kali pintar pentadbir manusia wikipedia bertaruh tidak penulis diterbitkan kalangan diterbitkan laman web jenaka   \n",
       "17893                                                                                                                                                                                                                                                                                                                                                                                                                                                                                                               fuck you london sekeping kotoran   \n",
       "17902                                                                                                                                                                                                                                                                                                                                                                                                                                                                                                                           asscrack menyukainya   \n",
       "\n",
       "       class  \n",
       "1765       0  \n",
       "12559      0  \n",
       "7038       0  \n",
       "13729      0  \n",
       "4209       0  \n",
       "...      ...  \n",
       "17885      1  \n",
       "17887      1  \n",
       "17888      1  \n",
       "17893      1  \n",
       "17902      1  \n",
       "\n",
       "[30782 rows x 2 columns]"
      ]
     },
     "execution_count": 134,
     "metadata": {},
     "output_type": "execute_result"
    }
   ],
   "source": [
    "#Joining lists of words back into sentence\n",
    "malay_ds['text'] = malay_ds['text'].apply(lambda text: ' '.join(text))\n",
    "\n",
    "#Displaying malay dataset after joining \n",
    "malay_ds"
   ]
  },
  {
   "cell_type": "code",
   "execution_count": null,
   "metadata": {
    "gradient": {
     "editing": false,
     "id": "58849683-5613-41f5-a49d-fddb3ede9e94",
     "kernelId": "0c0438cc-8809-4072-a10a-acb706ba8551"
    },
    "id": "Umnz8drviPLd"
   },
   "outputs": [],
   "source": [
    "#Train test and validation split with a ratio of 60:20:20\n",
    "train_mal, test_mal = train_test_split(malay_ds, train_size = 0.8, test_size = 0.2, stratify = malay_ds[\"class\"], random_state = 7)\n",
    "\n",
    "train_mal, val_mal = train_test_split(train_mal, train_size = 0.75, test_size = 0.25, stratify = train_mal[\"class\"], random_state = 7)"
   ]
  },
  {
   "cell_type": "code",
   "execution_count": null,
   "metadata": {
    "gradient": {
     "editing": false,
     "id": "ce8830a7-6b77-42b6-a6ca-719dbec849a0",
     "kernelId": "0c0438cc-8809-4072-a10a-acb706ba8551"
    },
    "id": "eJ06sxVIzJIQ"
   },
   "outputs": [],
   "source": [
    "#Separating features and target variable in train, test and validation datasets\n",
    "x_train_mal = list(train_mal['text'])\n",
    "y_train_mal = list(train_mal['class'])\n",
    "\n",
    "x_val_mal = list(val_mal['text'])\n",
    "y_val_mal = list(val_mal['class'])\n",
    "\n",
    "x_test_mal = list(test_mal['text'])\n",
    "y_test_mal = list(test_mal['class'])\n"
   ]
  },
  {
   "cell_type": "markdown",
   "metadata": {
    "gradient": {
     "editing": false,
     "id": "d15548ca-ffd3-4ba3-92c7-683a66664c9c",
     "kernelId": "0c0438cc-8809-4072-a10a-acb706ba8551"
    },
    "id": "Z-XwWRhAah5F"
   },
   "source": [
    "## Saving pre-processed malay dataset"
   ]
  },
  {
   "cell_type": "code",
   "execution_count": null,
   "metadata": {
    "gradient": {
     "editing": false,
     "id": "dd8e576f-0094-4dd3-81fc-a12377429814",
     "kernelId": "0c0438cc-8809-4072-a10a-acb706ba8551"
    },
    "id": "NXtaSEVPaksY"
   },
   "outputs": [],
   "source": [
    "object = malay_ds\n",
    "filehandler = open('pre-processed_malay_ds', 'wb')\n",
    "pickle.dump(object, filehandler)"
   ]
  },
  {
   "cell_type": "code",
   "execution_count": null,
   "metadata": {
    "gradient": {
     "editing": false,
     "id": "6136ab0d-4bec-4da5-b212-a8990153e3ef",
     "kernelId": "0c0438cc-8809-4072-a10a-acb706ba8551"
    },
    "id": "v39Gf9rfarZA"
   },
   "outputs": [],
   "source": [
    "filehandler = open('pre-processed_malay_ds', 'rb')\n",
    "malay_ds = pickle.load(filehandler)"
   ]
  },
  {
   "cell_type": "markdown",
   "metadata": {
    "gradient": {
     "editing": false,
     "id": "6ebd639b-1bb9-4073-889c-9364d6491d7e",
     "kernelId": "0c0438cc-8809-4072-a10a-acb706ba8551"
    },
    "id": "1UGBvG8NioYG"
   },
   "source": [
    "# Building the classification model \n"
   ]
  },
  {
   "cell_type": "code",
   "execution_count": null,
   "metadata": {
    "colab": {
     "base_uri": "https://localhost:8080/"
    },
    "collapsed": true,
    "executionInfo": {
     "elapsed": 8150,
     "status": "ok",
     "timestamp": 1640252104646,
     "user": {
      "displayName": "Moy Tian Xiang",
      "photoUrl": "https://lh3.googleusercontent.com/a/default-user=s64",
      "userId": "17517672150917689324"
     },
     "user_tz": -480
    },
    "gradient": {
     "editing": false,
     "id": "77e9fc53-45dc-4248-a7df-1f04ae87ca24",
     "kernelId": "0c0438cc-8809-4072-a10a-acb706ba8551"
    },
    "id": "xMuLpldm4ieu",
    "jupyter": {
     "outputs_hidden": true
    },
    "outputId": "9c505ec7-c599-41c2-f653-ee09ed8e00c2"
   },
   "outputs": [
    {
     "name": "stdout",
     "output_type": "stream",
     "text": [
      "Requirement already satisfied: transformers in /usr/local/lib/python3.6/dist-packages (3.5.1)\n",
      "Requirement already satisfied: tqdm>=4.27 in /usr/local/lib/python3.6/dist-packages (from transformers) (4.51.0)\n",
      "Requirement already satisfied: regex!=2019.12.17 in /usr/local/lib/python3.6/dist-packages (from transformers) (2021.11.10)\n",
      "Requirement already satisfied: tokenizers==0.9.3 in /usr/local/lib/python3.6/dist-packages (from transformers) (0.9.3)\n",
      "Requirement already satisfied: filelock in /usr/local/lib/python3.6/dist-packages (from transformers) (3.0.12)\n",
      "Requirement already satisfied: numpy in /usr/local/lib/python3.6/dist-packages (from transformers) (1.18.5)\n",
      "Requirement already satisfied: sacremoses in /usr/local/lib/python3.6/dist-packages (from transformers) (0.0.43)\n",
      "Requirement already satisfied: dataclasses; python_version < \"3.7\" in /usr/local/lib/python3.6/dist-packages (from transformers) (0.8)\n",
      "Requirement already satisfied: protobuf in /usr/local/lib/python3.6/dist-packages (from transformers) (3.13.0)\n",
      "Requirement already satisfied: requests in /usr/local/lib/python3.6/dist-packages (from transformers) (2.25.0)\n",
      "Requirement already satisfied: packaging in /usr/local/lib/python3.6/dist-packages (from transformers) (20.4)\n",
      "Requirement already satisfied: sentencepiece==0.1.91 in /usr/local/lib/python3.6/dist-packages (from transformers) (0.1.91)\n",
      "Requirement already satisfied: joblib in /usr/local/lib/python3.6/dist-packages (from sacremoses->transformers) (0.17.0)\n",
      "Requirement already satisfied: click in /usr/local/lib/python3.6/dist-packages (from sacremoses->transformers) (7.1.2)\n",
      "Requirement already satisfied: six in /usr/local/lib/python3.6/dist-packages (from sacremoses->transformers) (1.15.0)\n",
      "Requirement already satisfied: setuptools in /usr/local/lib/python3.6/dist-packages (from protobuf->transformers) (50.3.2)\n",
      "Requirement already satisfied: chardet<4,>=3.0.2 in /usr/local/lib/python3.6/dist-packages (from requests->transformers) (3.0.4)\n",
      "Requirement already satisfied: urllib3<1.27,>=1.21.1 in /usr/local/lib/python3.6/dist-packages (from requests->transformers) (1.26.2)\n",
      "Requirement already satisfied: certifi>=2017.4.17 in /usr/local/lib/python3.6/dist-packages (from requests->transformers) (2020.11.8)\n",
      "Requirement already satisfied: idna<3,>=2.5 in /usr/lib/python3/dist-packages (from requests->transformers) (2.6)\n",
      "Requirement already satisfied: pyparsing>=2.0.2 in /usr/local/lib/python3.6/dist-packages (from packaging->transformers) (2.4.7)\n",
      "\u001b[33mWARNING: You are using pip version 20.2.4; however, version 21.3.1 is available.\n",
      "You should consider upgrading via the '/usr/bin/python3 -m pip install --upgrade pip' command.\u001b[0m\n"
     ]
    }
   ],
   "source": [
    "!pip install transformers"
   ]
  },
  {
   "cell_type": "code",
   "execution_count": null,
   "metadata": {
    "collapsed": true,
    "gradient": {
     "editing": false,
     "id": "77bd7ba4-e39c-4404-9bfd-4d413046de61",
     "kernelId": "0c0438cc-8809-4072-a10a-acb706ba8551",
     "source_hidden": false
    },
    "id": "HGApIAH7LxKc",
    "jupyter": {
     "outputs_hidden": true
    }
   },
   "outputs": [],
   "source": [
    "!pip install seaborn"
   ]
  },
  {
   "cell_type": "code",
   "execution_count": null,
   "metadata": {
    "collapsed": true,
    "executionInfo": {
     "elapsed": 9658,
     "status": "ok",
     "timestamp": 1640252117041,
     "user": {
      "displayName": "Moy Tian Xiang",
      "photoUrl": "https://lh3.googleusercontent.com/a/default-user=s64",
      "userId": "17517672150917689324"
     },
     "user_tz": -480
    },
    "gradient": {
     "editing": false,
     "id": "e06c8cc0-8ab9-4b1e-8e2d-bd2009cc45b7",
     "kernelId": "0c0438cc-8809-4072-a10a-acb706ba8551"
    },
    "id": "yrLc6gKFj0Wq",
    "jupyter": {
     "outputs_hidden": true
    },
    "outputId": "727d86d5-beb7-429a-f377-bd84afd3c640"
   },
   "outputs": [
    {
     "name": "stdout",
     "output_type": "stream",
     "text": [
      "Collecting seaborn\n",
      "  Downloading seaborn-0.11.2-py3-none-any.whl (292 kB)\n",
      "\u001b[K     |################################| 292 kB 23.6 MB/s eta 0:00:01\n",
      "\u001b[?25hRequirement already satisfied: numpy>=1.15 in /usr/local/lib/python3.6/dist-packages (from seaborn) (1.18.5)\n",
      "Requirement already satisfied: pandas>=0.23 in /usr/local/lib/python3.6/dist-packages (from seaborn) (1.1.5)\n",
      "Requirement already satisfied: scipy>=1.0 in /usr/local/lib/python3.6/dist-packages (from seaborn) (1.5.4)\n",
      "Requirement already satisfied: matplotlib>=2.2 in /usr/local/lib/python3.6/dist-packages (from seaborn) (3.3.4)\n",
      "Requirement already satisfied: python-dateutil>=2.7.3 in /usr/local/lib/python3.6/dist-packages (from pandas>=0.23->seaborn) (2.8.1)\n",
      "Requirement already satisfied: pytz>=2017.2 in /usr/local/lib/python3.6/dist-packages (from pandas>=0.23->seaborn) (2021.3)\n",
      "Requirement already satisfied: kiwisolver>=1.0.1 in /usr/local/lib/python3.6/dist-packages (from matplotlib>=2.2->seaborn) (1.3.1)\n",
      "Requirement already satisfied: pyparsing!=2.0.4,!=2.1.2,!=2.1.6,>=2.0.3 in /usr/local/lib/python3.6/dist-packages (from matplotlib>=2.2->seaborn) (2.4.7)\n",
      "Requirement already satisfied: pillow>=6.2.0 in /usr/local/lib/python3.6/dist-packages (from matplotlib>=2.2->seaborn) (8.4.0)\n",
      "Requirement already satisfied: cycler>=0.10 in /usr/local/lib/python3.6/dist-packages (from matplotlib>=2.2->seaborn) (0.11.0)\n",
      "Requirement already satisfied: six>=1.5 in /usr/local/lib/python3.6/dist-packages (from python-dateutil>=2.7.3->pandas>=0.23->seaborn) (1.15.0)\n",
      "Installing collected packages: seaborn\n",
      "Successfully installed seaborn-0.11.2\n",
      "\u001b[33mWARNING: You are using pip version 20.2.4; however, version 21.3.1 is available.\n",
      "You should consider upgrading via the '/usr/bin/python3 -m pip install --upgrade pip' command.\u001b[0m\n"
     ]
    }
   ],
   "source": [
    "import tensorflow as tf\n",
    "import random\n",
    "import torch\n",
    "from transformers import TrainingArguments, Trainer, BertTokenizer, BertForSequenceClassification\n",
    "from transformers.file_utils import is_tf_available, is_torch_available\n",
    "from sklearn.metrics import accuracy_score, recall_score, precision_score, f1_score, confusion_matrix\n",
    "import seaborn as sns"
   ]
  },
  {
   "cell_type": "markdown",
   "metadata": {
    "gradient": {
     "editing": false,
     "id": "c977a98e-7b4e-4fb5-b0e9-8fc6c302a52c",
     "kernelId": "0c0438cc-8809-4072-a10a-acb706ba8551"
    },
    "id": "HnKv43Kw6d6v"
   },
   "source": [
    "## English Model"
   ]
  },
  {
   "cell_type": "code",
   "execution_count": null,
   "metadata": {
    "collapsed": false,
    "gradient": {
     "editing": false,
     "id": "fc1d8f51-3f6a-48a3-8ff3-afb95c0d39a1",
     "kernelId": "0c0438cc-8809-4072-a10a-acb706ba8551",
     "source_hidden": false
    },
    "id": "EzBKlRNPLxKc",
    "jupyter": {
     "outputs_hidden": false
    }
   },
   "outputs": [],
   "source": [
    "#Set seed to ensure reproducibility\n",
    "def set_seed(seed: int):\n",
    "    random.seed(seed)\n",
    "    np.random.seed(seed)\n",
    "    if is_torch_available():\n",
    "        torch.manual_seed(seed)\n",
    "        torch.cuda.manual_seed_all(seed)\n",
    "    if is_tf_available():\n",
    "        import tensorflow as tf\n",
    "\n",
    "        tf.random.set_seed(seed)\n",
    "\n",
    "#Setting seed value as 7\n",
    "set_seed(7)"
   ]
  },
  {
   "cell_type": "code",
   "execution_count": null,
   "metadata": {
    "collapsed": false,
    "gradient": {
     "editing": false,
     "id": "c5c61890-4614-4716-8523-de43ddfb2b00",
     "kernelId": "0c0438cc-8809-4072-a10a-acb706ba8551",
     "source_hidden": false
    },
    "id": "TQMBJs3OLxKc",
    "jupyter": {
     "outputs_hidden": false
    },
    "outputId": "bf61028f-4fa4-4b82-f7c4-5094a4dbc401"
   },
   "outputs": [
    {
     "name": "stdout",
     "output_type": "stream",
     "text": [
      "Average word length for the English train dataset is 8.\n",
      "Maximum word length for the English train dataset is 75.\n",
      "\n",
      "Average word length for the English validation dataset is 8.\n",
      "Maximum word length for the English validation dataset is 83.\n"
     ]
    }
   ],
   "source": [
    "#Finding out the average and max word length for train english dataset\n",
    "print('Average word length for the English train dataset is {0:.0f}.'.format(np.mean(train_eng['text'].apply(lambda x: len(x.split())))))\n",
    "print('Maximum word length for the English train dataset is {0:.0f}.\\n'.format(np.max(train_eng['text'].apply(lambda x: len(x.split())))))\n",
    "\n",
    "#Finding out the average and max word length for validation english dataset\n",
    "print('Average word length for the English validation dataset is {0:.0f}.'.format(np.mean(val_eng['text'].apply(lambda x: len(x.split())))))\n",
    "print('Maximum word length for the English validation dataset is {0:.0f}.'.format(np.max(val_eng['text'].apply(lambda x: len(x.split())))))"
   ]
  },
  {
   "cell_type": "code",
   "execution_count": null,
   "metadata": {
    "collapsed": false,
    "gradient": {
     "editing": false,
     "id": "4b6039d7-3ee4-4bf4-b1b0-5c22a21d78e0",
     "kernelId": "0c0438cc-8809-4072-a10a-acb706ba8551",
     "source_hidden": false
    },
    "id": "5pl_Y6j1LxKc",
    "jupyter": {
     "outputs_hidden": false
    },
    "outputId": "4990891b-8a47-45b4-b37c-969c9ca3200a"
   },
   "outputs": [
    {
     "data": {
      "text/plain": [
       "Text(0.5, 1.0, 'Distribution of text length in words')"
      ]
     },
     "execution_count": 14,
     "metadata": {},
     "output_type": "execute_result"
    },
    {
     "data": {
      "image/png": "[encoded data removed]",
      "text/plain": [
       "<Figure size 432x288 with 1 Axes>"
      ]
     },
     "metadata": {
      "needs_background": "light"
     },
     "output_type": "display_data"
    }
   ],
   "source": [
    "#Plotting distribution of text length in words in training dataset\n",
    "train_eng['text'].apply(lambda x: len(x.split())).plot(kind='hist')\n",
    "plt.title('Distribution of text length in words (training dataset)')"
   ]
  },
  {
   "cell_type": "code",
   "execution_count": null,
   "metadata": {
    "collapsed": false,
    "gradient": {
     "editing": false,
     "id": "7d20cc01-85a8-4f7b-b100-d786db20f1b0",
     "kernelId": "0c0438cc-8809-4072-a10a-acb706ba8551",
     "source_hidden": false
    },
    "id": "V_ya_1T4LxKd",
    "jupyter": {
     "outputs_hidden": false
    },
    "outputId": "e9fe373f-25f2-44b4-ce53-19244f8e1645"
   },
   "outputs": [
    {
     "data": {
      "text/plain": [
       "Text(0.5, 1.0, 'Distribution of text length in words (validation dataset)')"
      ]
     },
     "execution_count": 64,
     "metadata": {},
     "output_type": "execute_result"
    },
    {
     "data": {
      "image/png": "[encoded data removed]",
      "text/plain": [
       "<Figure size 432x288 with 1 Axes>"
      ]
     },
     "metadata": {
      "needs_background": "light"
     },
     "output_type": "display_data"
    }
   ],
   "source": [
    "#Plotting distribution of text length in words in validation dataset\n",
    "val_eng['text'].apply(lambda x: len(x.split())).plot(kind='hist')\n",
    "plt.title('Distribution of text length in words (validation dataset)')"
   ]
  },
  {
   "cell_type": "code",
   "execution_count": null,
   "metadata": {
    "colab": {
     "referenced_widgets": [
      "5b277c1f37ca40fc81f679100dd931e6"
     ]
    },
    "collapsed": false,
    "gradient": {
     "editing": false,
     "id": "518bcd3c-cd5d-4278-a0d9-b1939034f4dc",
     "kernelId": "0c0438cc-8809-4072-a10a-acb706ba8551",
     "source_hidden": false
    },
    "id": "URNVuobBLxKd",
    "jupyter": {
     "outputs_hidden": false
    },
    "outputId": "0acadca6-52da-4180-e295-8cc2deabc7d3"
   },
   "outputs": [
    {
     "data": {
      "application/vnd.jupyter.widget-view+json": {
       "model_id": "5b277c1f37ca40fc81f679100dd931e6",
       "version_major": 2,
       "version_minor": 0
      },
      "text/plain": [
       "HBox(children=(HTML(value='Downloading'), FloatProgress(value=0.0, max=231508.0), HTML(value='')))"
      ]
     },
     "metadata": {},
     "output_type": "display_data"
    },
    {
     "name": "stdout",
     "output_type": "stream",
     "text": [
      "\n"
     ]
    }
   ],
   "source": [
    "#Choosing pre-trained language model \n",
    "eng_model_name = \"bert-base-uncased\"\n",
    "\n",
    "#Defining tokenizer \n",
    "eng_tokenizer = BertTokenizer.from_pretrained(eng_model_name)"
   ]
  },
  {
   "cell_type": "code",
   "execution_count": null,
   "metadata": {
    "colab": {
     "base_uri": "https://localhost:8080/",
     "height": 284,
     "referenced_widgets": [
      "f34a08768380470e9c0fbc94eb5be06f",
      "515416d4286142eaac169a55b5ca82e1",
      "0a7feee43c364d088f9abb274dc19f99",
      "82c489a0b7fb4d72ae66e3d8d0fe7ad3",
      "5408a19bac71498ebf60e088555ebc87",
      "dffc0adf19714692a2cb705a3c815b39",
      "0b281f9e867644ffaea00b91207b2028",
      "23ba22085f7a4fa3803db0b913655608",
      "a4ff5112000c40a9861a73909579e27e",
      "6cb4a57679d04499a0588bde64729a9e",
      "7a6cddfcc9a3410285d91da91a05550b",
      "8f07bc321fbb497abc9ace9167887d38",
      "0d7a14be0a8e4501a6c659a73208ef8f",
      "8456ef635c7d43d683a3bcda5e123279",
      "f689b32021a2485fa90005ca4bd1d179",
      "2bdc86cbf07143d2b4dce674b743c624",
      "b34481abbe034566b9eaca4191d31b0b",
      "3023f9f4150f4177b2495c2cb70d8e6e",
      "aa7e29cda5c84291885174177bcfc31e",
      "2447257908f24f51a4c42bf269436963",
      "731f7db9da0a4f2da266b7756169b1e6",
      "3d29f3208c454dacbc171bfc7d630f70",
      "97ac6fe886c24ddcb7686915fbbe45d0",
      "655b0d555cea46169621791c6bea13c4",
      "eed5324233244cb59b28866afe4369e4",
      "450b9e21cf9d4b76b7e2e7b3e6ccb004",
      "4bfe8e115fe5491693a25e48eb7669e8",
      "a4a73171c9724e2dac9b60e66b2578d9",
      "4fbe02aba63f4a2e98e9cb0779178b9b",
      "4ef7869da047486697743c0600b94c45",
      "3e82f1e6c48d482598e747c5e6fa26a9",
      "6a74f8fb69da43619c131f8cce42f6a9",
      "c2ac8506d0c242cab923f365645668a8",
      "75d613564afd40efb24bdeaff60d7651",
      "d0fcd606426846d4921d508b32781f1f",
      "86239246301d4be28d9b674c7951cef8",
      "6302dd9a19794ea092e75f504f91661e",
      "3793051877934987a8aeed7365613f91",
      "c3b12a3240eb47ff9751e2d316d8b85d",
      "21ca9ae37ff7429a85d8dfe41ced035c",
      "f681c8ac0f444b91be973066292af4ff",
      "ac81640e092645d69f5fa7df45d348b3",
      "f5840801697246feb4b8cb131cfa7ba7",
      "2b26bca0caa34675af067759bccd7ffc",
      "1c10bd8c990445289ee3085c9f418b0e",
      "57db8cceb9164532b57beff6cb452dd0",
      "d485fecc1f6c4b25ac59852f249a58b8",
      "aa2d3672b3084a34a70bfdbbf24aae28",
      "2f4534f16f7e4128af6765bd360eda91",
      "ae8b58e48b324fd5a1e87a441a8ac725",
      "2b7d8c7d103c4194b49c8b4522cb7538",
      "2ca5ebb99e1d4502aee95f9763c74edf",
      "8c6cb416f10e4df4b1b54f5d30d3149d",
      "e23a5fd9245f40bfa0aae8ed803edef1",
      "abca8d58a3dc4fd9b072fa7c521b0d0e"
     ]
    },
    "collapsed": true,
    "executionInfo": {
     "elapsed": 27206,
     "status": "ok",
     "timestamp": 1640252146786,
     "user": {
      "displayName": "Moy Tian Xiang",
      "photoUrl": "https://lh3.googleusercontent.com/a/default-user=s64",
      "userId": "17517672150917689324"
     },
     "user_tz": -480
    },
    "gradient": {
     "editing": false,
     "id": "0a2dde5b-1bf8-4b02-9404-e7fea61a84cb",
     "kernelId": "0c0438cc-8809-4072-a10a-acb706ba8551"
    },
    "id": "04ATFDJfc7ix",
    "jupyter": {
     "outputs_hidden": true
    },
    "outputId": "2ce16d41-4989-4ffb-fd84-073b46bef1a6"
   },
   "outputs": [
    {
     "name": "stderr",
     "output_type": "stream",
     "text": [
      "Some weights of the model checkpoint at bert-base-uncased were not used when initializing BertForSequenceClassification: ['cls.predictions.bias', 'cls.predictions.transform.dense.weight', 'cls.predictions.transform.dense.bias', 'cls.predictions.decoder.weight', 'cls.seq_relationship.weight', 'cls.seq_relationship.bias', 'cls.predictions.transform.LayerNorm.weight', 'cls.predictions.transform.LayerNorm.bias']\n",
      "- This IS expected if you are initializing BertForSequenceClassification from the checkpoint of a model trained on another task or with another architecture (e.g. initializing a BertForSequenceClassification model from a BertForPreTraining model).\n",
      "- This IS NOT expected if you are initializing BertForSequenceClassification from the checkpoint of a model that you expect to be exactly identical (initializing a BertForSequenceClassification model from a BertForSequenceClassification model).\n",
      "Some weights of BertForSequenceClassification were not initialized from the model checkpoint at bert-base-uncased and are newly initialized: ['classifier.weight', 'classifier.bias']\n",
      "You should probably TRAIN this model on a down-stream task to be able to use it for predictions and inference.\n",
      "Some weights of the model checkpoint at bert-base-uncased were not used when initializing BertForSequenceClassification: ['cls.predictions.bias', 'cls.predictions.transform.dense.weight', 'cls.predictions.transform.dense.bias', 'cls.predictions.decoder.weight', 'cls.seq_relationship.weight', 'cls.seq_relationship.bias', 'cls.predictions.transform.LayerNorm.weight', 'cls.predictions.transform.LayerNorm.bias']\n",
      "- This IS expected if you are initializing BertForSequenceClassification from the checkpoint of a model trained on another task or with another architecture (e.g. initializing a BertForSequenceClassification model from a BertForPreTraining model).\n",
      "- This IS NOT expected if you are initializing BertForSequenceClassification from the checkpoint of a model that you expect to be exactly identical (initializing a BertForSequenceClassification model from a BertForSequenceClassification model).\n",
      "Some weights of BertForSequenceClassification were not initialized from the model checkpoint at bert-base-uncased and are newly initialized: ['classifier.weight', 'classifier.bias']\n",
      "You should probably TRAIN this model on a down-stream task to be able to use it for predictions and inference.\n",
      "Some weights of the model checkpoint at bert-base-uncased were not used when initializing BertForSequenceClassification: ['cls.predictions.bias', 'cls.predictions.transform.dense.weight', 'cls.predictions.transform.dense.bias', 'cls.predictions.decoder.weight', 'cls.seq_relationship.weight', 'cls.seq_relationship.bias', 'cls.predictions.transform.LayerNorm.weight', 'cls.predictions.transform.LayerNorm.bias']\n",
      "- This IS expected if you are initializing BertForSequenceClassification from the checkpoint of a model trained on another task or with another architecture (e.g. initializing a BertForSequenceClassification model from a BertForPreTraining model).\n",
      "- This IS NOT expected if you are initializing BertForSequenceClassification from the checkpoint of a model that you expect to be exactly identical (initializing a BertForSequenceClassification model from a BertForSequenceClassification model).\n",
      "Some weights of BertForSequenceClassification were not initialized from the model checkpoint at bert-base-uncased and are newly initialized: ['classifier.weight', 'classifier.bias']\n",
      "You should probably TRAIN this model on a down-stream task to be able to use it for predictions and inference.\n",
      "Some weights of the model checkpoint at bert-base-uncased were not used when initializing BertForSequenceClassification: ['cls.predictions.bias', 'cls.predictions.transform.dense.weight', 'cls.predictions.transform.dense.bias', 'cls.predictions.decoder.weight', 'cls.seq_relationship.weight', 'cls.seq_relationship.bias', 'cls.predictions.transform.LayerNorm.weight', 'cls.predictions.transform.LayerNorm.bias']\n",
      "- This IS expected if you are initializing BertForSequenceClassification from the checkpoint of a model trained on another task or with another architecture (e.g. initializing a BertForSequenceClassification model from a BertForPreTraining model).\n",
      "- This IS NOT expected if you are initializing BertForSequenceClassification from the checkpoint of a model that you expect to be exactly identical (initializing a BertForSequenceClassification model from a BertForSequenceClassification model).\n",
      "Some weights of BertForSequenceClassification were not initialized from the model checkpoint at bert-base-uncased and are newly initialized: ['classifier.weight', 'classifier.bias']\n",
      "You should probably TRAIN this model on a down-stream task to be able to use it for predictions and inference.\n"
     ]
    }
   ],
   "source": [
    "#Building the English models\n",
    "eng_model_1 = BertForSequenceClassification.from_pretrained(eng_model_name)\n",
    "eng_model_2 = BertForSequenceClassification.from_pretrained(eng_model_name)\n",
    "eng_model_3 = BertForSequenceClassification.from_pretrained(eng_model_name)\n",
    "eng_model_4 = BertForSequenceClassification.from_pretrained(eng_model_name)"
   ]
  },
  {
   "cell_type": "code",
   "execution_count": null,
   "metadata": {
    "gradient": {
     "editing": false,
     "id": "cee0fdc5-bd97-44f7-b9d7-59442822854d",
     "kernelId": "0c0438cc-8809-4072-a10a-acb706ba8551"
    },
    "id": "MKYBpF4edR5y"
   },
   "outputs": [],
   "source": [
    "#Tokenizing text with defined bert tokenizer\n",
    "x_train_eng = eng_tokenizer(x_train_eng, padding=True, truncation=True, max_length=20)\n",
    "x_val_eng = eng_tokenizer(x_val_eng, padding=True, truncation=True, max_length=20)"
   ]
  },
  {
   "cell_type": "code",
   "execution_count": null,
   "metadata": {
    "gradient": {
     "editing": false,
     "id": "b2b9e640-e359-46fe-be00-1c492d76a98b",
     "kernelId": "0c0438cc-8809-4072-a10a-acb706ba8551"
    },
    "id": "GPnwdMEZeFv7"
   },
   "outputs": [],
   "source": [
    "#Defining function to convert dataset into torch dataset\n",
    "class Dataset(torch.utils.data.Dataset):\n",
    "    def __init__(self, encodings, labels=None):\n",
    "        self.encodings = encodings\n",
    "        self.labels = labels\n",
    "\n",
    "    def __getitem__(self, idx):\n",
    "        item = {key: torch.tensor(val[idx]) for key, val in self.encodings.items()}\n",
    "        if self.labels:\n",
    "            item[\"labels\"] = torch.tensor(self.labels[idx])\n",
    "        return item\n",
    "\n",
    "    def __len__(self):\n",
    "        return len(self.encodings[\"input_ids\"])"
   ]
  },
  {
   "cell_type": "code",
   "execution_count": null,
   "metadata": {
    "gradient": {
     "editing": false,
     "id": "1d4dfadb-70d1-4e72-a498-2a63113d9e3a",
     "kernelId": "0c0438cc-8809-4072-a10a-acb706ba8551"
    },
    "id": "lYvwNZ1jeH2c"
   },
   "outputs": [],
   "source": [
    "#Converting train and validation dataset to torch dataset\n",
    "train_eng_ds = Dataset(x_train_eng, y_train_eng)\n",
    "val_eng_ds = Dataset(x_val_eng, y_val_eng)"
   ]
  },
  {
   "cell_type": "code",
   "execution_count": null,
   "metadata": {
    "gradient": {
     "editing": true,
     "id": "03342b50-715a-4e09-b781-d02a432e606d",
     "kernelId": "0c0438cc-8809-4072-a10a-acb706ba8551"
    },
    "id": "xADj5M7KeWO2"
   },
   "outputs": [],
   "source": [
    "#Defining a function to compute evaluation metrics\n",
    "def compute_metrics(p):\n",
    "    pred, labels = p\n",
    "    pred = np.argmax(pred, axis=1)\n",
    "\n",
    "    accuracy = accuracy_score(y_true=labels, y_pred=pred)\n",
    "    recall = recall_score(y_true=labels, y_pred=pred)\n",
    "    precision = precision_score(y_true=labels, y_pred=pred)\n",
    "    f1 = f1_score(y_true=labels, y_pred=pred)\n",
    "\n",
    "    return {\"accuracy\": accuracy, \"precision\": precision, \"recall\": recall, \"f1\": f1}"
   ]
  },
  {
   "cell_type": "markdown",
   "metadata": {
    "gradient": {
     "editing": false,
     "id": "3c125631-7429-406e-92a6-18961a1cc7e2",
     "kernelId": "0c0438cc-8809-4072-a10a-acb706ba8551"
    },
    "id": "MHp_pF7sLxKd"
   },
   "source": [
    "### English Model 1 (learning rate = 2e-5, batch size = 16)"
   ]
  },
  {
   "cell_type": "code",
   "execution_count": null,
   "metadata": {
    "gradient": {
     "editing": false,
     "id": "58c759c7-16f4-405e-83ae-5996a20b3740",
     "kernelId": "0c0438cc-8809-4072-a10a-acb706ba8551"
    },
    "id": "xPqqpQMTeeO6"
   },
   "outputs": [],
   "source": [
    "#Defining arguments for training English model 1 using learning rate = 2e-5 and batch size = 16\n",
    "args_1 = TrainingArguments(\n",
    "    output_dir=\"Checkpoints/eng_model_1\",\n",
    "    evaluation_strategy=\"steps\",\n",
    "    eval_steps=500,\n",
    "    per_device_train_batch_size=16,\n",
    "    per_device_eval_batch_size=16,\n",
    "    learning_rate=2e-5,\n",
    "    num_train_epochs=3,\n",
    "    seed=7,\n",
    ")"
   ]
  },
  {
   "cell_type": "code",
   "execution_count": null,
   "metadata": {
    "gradient": {
     "editing": false,
     "id": "c566ffa5-4111-4027-868e-19e3f074b895",
     "kernelId": "0c0438cc-8809-4072-a10a-acb706ba8551"
    },
    "id": "TG72UaYZehjf"
   },
   "outputs": [],
   "source": [
    "#Defining trainer to train English model 1\n",
    "trainer_1 = Trainer(\n",
    "    model=eng_model_1,\n",
    "    args=args_1,\n",
    "    train_dataset=train_eng_ds,\n",
    "    eval_dataset=val_eng_ds,\n",
    "    compute_metrics=compute_metrics,\n",
    ")"
   ]
  },
  {
   "cell_type": "code",
   "execution_count": null,
   "metadata": {
    "collapsed": false,
    "gradient": {
     "editing": false,
     "id": "f77ee270-4baf-497e-8299-56f4c6e10e03",
     "kernelId": "0c0438cc-8809-4072-a10a-acb706ba8551",
     "source_hidden": false
    },
    "id": "3q7zPouhLxKe",
    "jupyter": {
     "outputs_hidden": false
    },
    "outputId": "fa4a0c57-4202-4ab3-8936-9a837c79ce01"
   },
   "outputs": [
    {
     "data": {
      "text/html": [
       "\n",
       "    <div>\n",
       "        <style>\n",
       "            /* Turns off some styling */\n",
       "            progress {\n",
       "                /* gets rid of default border in Firefox and Opera. */\n",
       "                border: none;\n",
       "                /* Needs to be in here for Safari polyfill so background images work as expected. */\n",
       "                background-size: auto;\n",
       "            }\n",
       "        </style>\n",
       "      \n",
       "      <progress value='3924' max='3924' style='width:300px; height:20px; vertical-align: middle;'></progress>\n",
       "      [3924/3924 07:05, Epoch 3/3]\n",
       "    </div>\n",
       "    <table border=\"1\" class=\"dataframe\">\n",
       "  <thead>\n",
       "    <tr style=\"text-align: left;\">\n",
       "      <th>Step</th>\n",
       "      <th>Training Loss</th>\n",
       "      <th>Validation Loss</th>\n",
       "      <th>Accuracy</th>\n",
       "      <th>Precision</th>\n",
       "      <th>Recall</th>\n",
       "      <th>F1</th>\n",
       "    </tr>\n",
       "  </thead>\n",
       "  <tbody>\n",
       "    <tr>\n",
       "      <td>500</td>\n",
       "      <td>0.303928</td>\n",
       "      <td>0.242327</td>\n",
       "      <td>0.929596</td>\n",
       "      <td>0.894645</td>\n",
       "      <td>0.891927</td>\n",
       "      <td>0.893284</td>\n",
       "    </tr>\n",
       "    <tr>\n",
       "      <td>1000</td>\n",
       "      <td>0.218494</td>\n",
       "      <td>0.211203</td>\n",
       "      <td>0.933037</td>\n",
       "      <td>0.892689</td>\n",
       "      <td>0.906250</td>\n",
       "      <td>0.899418</td>\n",
       "    </tr>\n",
       "    <tr>\n",
       "      <td>1500</td>\n",
       "      <td>0.212632</td>\n",
       "      <td>0.212954</td>\n",
       "      <td>0.932894</td>\n",
       "      <td>0.888654</td>\n",
       "      <td>0.911024</td>\n",
       "      <td>0.899700</td>\n",
       "    </tr>\n",
       "    <tr>\n",
       "      <td>2000</td>\n",
       "      <td>0.188132</td>\n",
       "      <td>0.235499</td>\n",
       "      <td>0.932607</td>\n",
       "      <td>0.882721</td>\n",
       "      <td>0.917969</td>\n",
       "      <td>0.900000</td>\n",
       "    </tr>\n",
       "    <tr>\n",
       "      <td>2500</td>\n",
       "      <td>0.182909</td>\n",
       "      <td>0.255274</td>\n",
       "      <td>0.920705</td>\n",
       "      <td>0.925206</td>\n",
       "      <td>0.826823</td>\n",
       "      <td>0.873252</td>\n",
       "    </tr>\n",
       "    <tr>\n",
       "      <td>3000</td>\n",
       "      <td>0.165815</td>\n",
       "      <td>0.236664</td>\n",
       "      <td>0.934041</td>\n",
       "      <td>0.889687</td>\n",
       "      <td>0.913628</td>\n",
       "      <td>0.901499</td>\n",
       "    </tr>\n",
       "    <tr>\n",
       "      <td>3500</td>\n",
       "      <td>0.145802</td>\n",
       "      <td>0.234158</td>\n",
       "      <td>0.935618</td>\n",
       "      <td>0.900648</td>\n",
       "      <td>0.904948</td>\n",
       "      <td>0.902793</td>\n",
       "    </tr>\n",
       "  </tbody>\n",
       "</table><p>"
      ],
      "text/plain": [
       "<IPython.core.display.HTML object>"
      ]
     },
     "metadata": {
      "display_id": "94ea0381d7200cab8bba0d69c3823a6c"
     },
     "output_type": "display_data"
    },
    {
     "data": {
      "text/plain": [
       "TrainOutput(global_step=3924, training_loss=0.19590465300673737)"
      ]
     },
     "execution_count": 66,
     "metadata": {},
     "output_type": "execute_result"
    }
   ],
   "source": [
    "trainer_1.train()"
   ]
  },
  {
   "cell_type": "code",
   "execution_count": null,
   "metadata": {
    "collapsed": false,
    "gradient": {
     "editing": false,
     "id": "b277762d-a5c4-4156-b66a-5df8216aff82",
     "kernelId": "0c0438cc-8809-4072-a10a-acb706ba8551",
     "source_hidden": false
    },
    "id": "zJ-XK9X4LxKe",
    "jupyter": {
     "outputs_hidden": false
    },
    "outputId": "c17847f7-b113-4329-ca82-7cf360a510f4"
   },
   "outputs": [
    {
     "data": {
      "text/html": [
       "\n",
       "    <div>\n",
       "        <style>\n",
       "            /* Turns off some styling */\n",
       "            progress {\n",
       "                /* gets rid of default border in Firefox and Opera. */\n",
       "                border: none;\n",
       "                /* Needs to be in here for Safari polyfill so background images work as expected. */\n",
       "                background-size: auto;\n",
       "            }\n",
       "        </style>\n",
       "      \n",
       "      <progress value='436' max='436' style='width:300px; height:20px; vertical-align: middle;'></progress>\n",
       "      [436/436 00:05]\n",
       "    </div>\n",
       "    "
      ],
      "text/plain": [
       "<IPython.core.display.HTML object>"
      ]
     },
     "metadata": {
      "display_id": "21c423dc28388fdda63e15fd139ea2be"
     },
     "output_type": "display_data"
    },
    {
     "data": {
      "text/plain": [
       "{'eval_loss': 0.24007520079612732,\n",
       " 'eval_accuracy': 0.9354746200172067,\n",
       " 'eval_precision': 0.9072934973637962,\n",
       " 'eval_recall': 0.8962673611111112,\n",
       " 'eval_f1': 0.9017467248908299,\n",
       " 'epoch': 3.0}"
      ]
     },
     "execution_count": 67,
     "metadata": {},
     "output_type": "execute_result"
    }
   ],
   "source": [
    "#Evaluate performance of English model 1\n",
    "trainer_1.evaluate()"
   ]
  },
  {
   "cell_type": "code",
   "execution_count": null,
   "metadata": {
    "collapsed": false,
    "gradient": {
     "editing": false,
     "id": "8c2ae594-7ee2-43ad-82bd-225bbb902211",
     "kernelId": "0c0438cc-8809-4072-a10a-acb706ba8551",
     "source_hidden": false
    },
    "id": "oF0OR-LvLxKe",
    "jupyter": {
     "outputs_hidden": false
    }
   },
   "outputs": [],
   "source": [
    "#Saving English model 1\n",
    "model_path = \"Models/English Model 1\"\n",
    "eng_model_1.save_pretrained(model_path)"
   ]
  },
  {
   "cell_type": "markdown",
   "metadata": {
    "gradient": {
     "editing": false,
     "id": "1b838c6e-3833-4003-8643-0c069890df90",
     "kernelId": "0c0438cc-8809-4072-a10a-acb706ba8551"
    },
    "id": "7xw8M0tvLxKe"
   },
   "source": [
    "### English Model 2 (learning rate = 3e-5, batch size = 16)"
   ]
  },
  {
   "cell_type": "code",
   "execution_count": null,
   "metadata": {
    "collapsed": false,
    "gradient": {
     "editing": false,
     "id": "06554fc1-30ad-4740-a141-7026742550c7",
     "kernelId": "0c0438cc-8809-4072-a10a-acb706ba8551",
     "source_hidden": false
    },
    "id": "b24lkYeBLxKe",
    "jupyter": {
     "outputs_hidden": false
    }
   },
   "outputs": [],
   "source": [
    "#Defining arguments for training English model 2 using learning rate = 3e-5 and batch size = 16\n",
    "args_2 = TrainingArguments(\n",
    "    output_dir=\"Checkpoints/eng_model_2\",\n",
    "    evaluation_strategy=\"steps\",\n",
    "    eval_steps=500,\n",
    "    per_device_train_batch_size=16,\n",
    "    per_device_eval_batch_size=16,\n",
    "    learning_rate=3e-5,\n",
    "    num_train_epochs=3,\n",
    "    seed=7,\n",
    ")"
   ]
  },
  {
   "cell_type": "code",
   "execution_count": null,
   "metadata": {
    "collapsed": false,
    "gradient": {
     "editing": false,
     "id": "b3831d8b-b09c-4d5a-b3ff-251998625c72",
     "kernelId": "0c0438cc-8809-4072-a10a-acb706ba8551",
     "source_hidden": false
    },
    "id": "hYKILV8YLxKe",
    "jupyter": {
     "outputs_hidden": false
    }
   },
   "outputs": [],
   "source": [
    "#Defining trainer to train English model 2\n",
    "trainer_2 = Trainer(\n",
    "    model=eng_model_2,\n",
    "    args=args_2,\n",
    "    train_dataset=train_eng_ds,\n",
    "    eval_dataset=val_eng_ds,\n",
    "    compute_metrics=compute_metrics,\n",
    ")"
   ]
  },
  {
   "cell_type": "code",
   "execution_count": null,
   "metadata": {
    "collapsed": false,
    "gradient": {
     "editing": false,
     "id": "fdfc2e82-9a74-4b97-9400-7faa272aed66",
     "kernelId": "0c0438cc-8809-4072-a10a-acb706ba8551",
     "source_hidden": false
    },
    "id": "ni_2d0CFLxKe",
    "jupyter": {
     "outputs_hidden": false
    },
    "outputId": "97e14272-687b-45a5-de4e-c9c8957d44a7"
   },
   "outputs": [
    {
     "data": {
      "text/html": [
       "\n",
       "    <div>\n",
       "        <style>\n",
       "            /* Turns off some styling */\n",
       "            progress {\n",
       "                /* gets rid of default border in Firefox and Opera. */\n",
       "                border: none;\n",
       "                /* Needs to be in here for Safari polyfill so background images work as expected. */\n",
       "                background-size: auto;\n",
       "            }\n",
       "        </style>\n",
       "      \n",
       "      <progress value='3924' max='3924' style='width:300px; height:20px; vertical-align: middle;'></progress>\n",
       "      [3924/3924 08:06, Epoch 3/3]\n",
       "    </div>\n",
       "    <table border=\"1\" class=\"dataframe\">\n",
       "  <thead>\n",
       "    <tr style=\"text-align: left;\">\n",
       "      <th>Step</th>\n",
       "      <th>Training Loss</th>\n",
       "      <th>Validation Loss</th>\n",
       "      <th>Accuracy</th>\n",
       "      <th>Precision</th>\n",
       "      <th>Recall</th>\n",
       "      <th>F1</th>\n",
       "    </tr>\n",
       "  </thead>\n",
       "  <tbody>\n",
       "    <tr>\n",
       "      <td>500</td>\n",
       "      <td>0.296711</td>\n",
       "      <td>0.266643</td>\n",
       "      <td>0.926011</td>\n",
       "      <td>0.911982</td>\n",
       "      <td>0.858941</td>\n",
       "      <td>0.884667</td>\n",
       "    </tr>\n",
       "    <tr>\n",
       "      <td>1000</td>\n",
       "      <td>0.218188</td>\n",
       "      <td>0.216555</td>\n",
       "      <td>0.932607</td>\n",
       "      <td>0.894578</td>\n",
       "      <td>0.902344</td>\n",
       "      <td>0.898444</td>\n",
       "    </tr>\n",
       "    <tr>\n",
       "      <td>1500</td>\n",
       "      <td>0.216106</td>\n",
       "      <td>0.202202</td>\n",
       "      <td>0.934184</td>\n",
       "      <td>0.897801</td>\n",
       "      <td>0.903646</td>\n",
       "      <td>0.900714</td>\n",
       "    </tr>\n",
       "    <tr>\n",
       "      <td>2000</td>\n",
       "      <td>0.189121</td>\n",
       "      <td>0.225774</td>\n",
       "      <td>0.933180</td>\n",
       "      <td>0.881328</td>\n",
       "      <td>0.921875</td>\n",
       "      <td>0.901146</td>\n",
       "    </tr>\n",
       "    <tr>\n",
       "      <td>2500</td>\n",
       "      <td>0.187634</td>\n",
       "      <td>0.215284</td>\n",
       "      <td>0.933180</td>\n",
       "      <td>0.909172</td>\n",
       "      <td>0.886285</td>\n",
       "      <td>0.897582</td>\n",
       "    </tr>\n",
       "    <tr>\n",
       "      <td>3000</td>\n",
       "      <td>0.166997</td>\n",
       "      <td>0.221336</td>\n",
       "      <td>0.934328</td>\n",
       "      <td>0.891433</td>\n",
       "      <td>0.912326</td>\n",
       "      <td>0.901759</td>\n",
       "    </tr>\n",
       "    <tr>\n",
       "      <td>3500</td>\n",
       "      <td>0.146279</td>\n",
       "      <td>0.237598</td>\n",
       "      <td>0.933037</td>\n",
       "      <td>0.897447</td>\n",
       "      <td>0.900174</td>\n",
       "      <td>0.898808</td>\n",
       "    </tr>\n",
       "  </tbody>\n",
       "</table><p>"
      ],
      "text/plain": [
       "<IPython.core.display.HTML object>"
      ]
     },
     "metadata": {
      "display_id": "c47aba7783bb266cc1c309889c389271"
     },
     "output_type": "display_data"
    },
    {
     "data": {
      "text/plain": [
       "TrainOutput(global_step=3924, training_loss=0.19638021082202473)"
      ]
     },
     "execution_count": 24,
     "metadata": {},
     "output_type": "execute_result"
    }
   ],
   "source": [
    "trainer_2.train()"
   ]
  },
  {
   "cell_type": "code",
   "execution_count": null,
   "metadata": {
    "collapsed": false,
    "gradient": {
     "editing": false,
     "id": "f9f15b0b-04bd-4020-9466-13182282eda4",
     "kernelId": "0c0438cc-8809-4072-a10a-acb706ba8551",
     "source_hidden": false
    },
    "id": "LmIl0iIWLxKe",
    "jupyter": {
     "outputs_hidden": false
    },
    "outputId": "6ede9aff-9e7b-46a6-9c8a-3d39df109433"
   },
   "outputs": [
    {
     "data": {
      "text/html": [
       "\n",
       "    <div>\n",
       "        <style>\n",
       "            /* Turns off some styling */\n",
       "            progress {\n",
       "                /* gets rid of default border in Firefox and Opera. */\n",
       "                border: none;\n",
       "                /* Needs to be in here for Safari polyfill so background images work as expected. */\n",
       "                background-size: auto;\n",
       "            }\n",
       "        </style>\n",
       "      \n",
       "      <progress value='436' max='436' style='width:300px; height:20px; vertical-align: middle;'></progress>\n",
       "      [436/436 00:05]\n",
       "    </div>\n",
       "    "
      ],
      "text/plain": [
       "<IPython.core.display.HTML object>"
      ]
     },
     "metadata": {
      "display_id": "455989d24cd1713fe36255cd5aa196c0"
     },
     "output_type": "display_data"
    },
    {
     "data": {
      "text/plain": [
       "{'eval_loss': 0.2440120428800583,\n",
       " 'eval_accuracy': 0.9328936048178951,\n",
       " 'eval_precision': 0.9001743679163035,\n",
       " 'eval_recall': 0.8962673611111112,\n",
       " 'eval_f1': 0.8982166159199653,\n",
       " 'epoch': 3.0}"
      ]
     },
     "execution_count": 25,
     "metadata": {},
     "output_type": "execute_result"
    }
   ],
   "source": [
    "#Evaluate performance of English model 2\n",
    "trainer_2.evaluate()"
   ]
  },
  {
   "cell_type": "code",
   "execution_count": null,
   "metadata": {
    "collapsed": false,
    "gradient": {
     "editing": false,
     "id": "f3673ed6-0017-4214-8ede-1cbc4770d786",
     "kernelId": "0c0438cc-8809-4072-a10a-acb706ba8551",
     "source_hidden": false
    },
    "id": "fMTJDmmOLxKf",
    "jupyter": {
     "outputs_hidden": false
    }
   },
   "outputs": [],
   "source": [
    "#Saving English model 2\n",
    "model_path = \"Models/English Model 2\"\n",
    "eng_model_2.save_pretrained(model_path)"
   ]
  },
  {
   "cell_type": "markdown",
   "metadata": {
    "gradient": {
     "editing": false,
     "id": "5d3c8cdf-5538-4b2b-82da-c0a9abeb69b0",
     "kernelId": "0c0438cc-8809-4072-a10a-acb706ba8551"
    },
    "id": "YrXtszjyLxKf"
   },
   "source": [
    "### English Model 3 (learning rate = 2e-5, batch size = 16)"
   ]
  },
  {
   "cell_type": "code",
   "execution_count": null,
   "metadata": {
    "collapsed": false,
    "gradient": {
     "editing": false,
     "id": "f02585cd-50ae-43ce-90ff-a5ec71ff0c80",
     "kernelId": "0c0438cc-8809-4072-a10a-acb706ba8551",
     "source_hidden": false
    },
    "id": "eAqqNwVWLxKf",
    "jupyter": {
     "outputs_hidden": false
    }
   },
   "outputs": [],
   "source": [
    "#Defining arguments for training English model 3 using learning rate = 2e-5 and batch size = 32\n",
    "args_3 = TrainingArguments(\n",
    "    output_dir=\"Checkpoints/eng_model_3\",\n",
    "    evaluation_strategy=\"steps\",\n",
    "    eval_steps=500,\n",
    "    per_device_train_batch_size=32,\n",
    "    per_device_eval_batch_size=32,\n",
    "    learning_rate=2e-5,\n",
    "    num_train_epochs=3,\n",
    "    seed=7,\n",
    ")"
   ]
  },
  {
   "cell_type": "code",
   "execution_count": null,
   "metadata": {
    "collapsed": false,
    "gradient": {
     "editing": false,
     "id": "f586752f-16df-4808-bcce-648297e4b4a1",
     "kernelId": "0c0438cc-8809-4072-a10a-acb706ba8551",
     "source_hidden": false
    },
    "id": "jUvX7x4mLxKf",
    "jupyter": {
     "outputs_hidden": false
    }
   },
   "outputs": [],
   "source": [
    "#Defining trainer to train English model 3\n",
    "trainer_3 = Trainer(\n",
    "    model=eng_model_3,\n",
    "    args=args_3,\n",
    "    train_dataset=train_eng_ds,\n",
    "    eval_dataset=val_eng_ds,\n",
    "    compute_metrics=compute_metrics,\n",
    ")"
   ]
  },
  {
   "cell_type": "code",
   "execution_count": null,
   "metadata": {
    "collapsed": false,
    "gradient": {
     "editing": false,
     "id": "61713d58-00e1-438f-a943-a5394dba382d",
     "kernelId": "0c0438cc-8809-4072-a10a-acb706ba8551",
     "source_hidden": false
    },
    "id": "DsUzIQ-XLxKf",
    "jupyter": {
     "outputs_hidden": false
    },
    "outputId": "dac826da-9cd8-4493-ef27-9004bdb92fb4"
   },
   "outputs": [
    {
     "data": {
      "text/html": [
       "\n",
       "    <div>\n",
       "        <style>\n",
       "            /* Turns off some styling */\n",
       "            progress {\n",
       "                /* gets rid of default border in Firefox and Opera. */\n",
       "                border: none;\n",
       "                /* Needs to be in here for Safari polyfill so background images work as expected. */\n",
       "                background-size: auto;\n",
       "            }\n",
       "        </style>\n",
       "      \n",
       "      <progress value='1962' max='1962' style='width:300px; height:20px; vertical-align: middle;'></progress>\n",
       "      [1962/1962 03:09, Epoch 3/3]\n",
       "    </div>\n",
       "    <table border=\"1\" class=\"dataframe\">\n",
       "  <thead>\n",
       "    <tr style=\"text-align: left;\">\n",
       "      <th>Step</th>\n",
       "      <th>Training Loss</th>\n",
       "      <th>Validation Loss</th>\n",
       "      <th>Accuracy</th>\n",
       "      <th>Precision</th>\n",
       "      <th>Recall</th>\n",
       "      <th>F1</th>\n",
       "    </tr>\n",
       "  </thead>\n",
       "  <tbody>\n",
       "    <tr>\n",
       "      <td>500</td>\n",
       "      <td>0.263434</td>\n",
       "      <td>0.211101</td>\n",
       "      <td>0.933611</td>\n",
       "      <td>0.896938</td>\n",
       "      <td>0.902778</td>\n",
       "      <td>0.899849</td>\n",
       "    </tr>\n",
       "    <tr>\n",
       "      <td>1000</td>\n",
       "      <td>0.191424</td>\n",
       "      <td>0.194055</td>\n",
       "      <td>0.935905</td>\n",
       "      <td>0.901080</td>\n",
       "      <td>0.905382</td>\n",
       "      <td>0.903226</td>\n",
       "    </tr>\n",
       "    <tr>\n",
       "      <td>1500</td>\n",
       "      <td>0.163703</td>\n",
       "      <td>0.216040</td>\n",
       "      <td>0.932607</td>\n",
       "      <td>0.885943</td>\n",
       "      <td>0.913628</td>\n",
       "      <td>0.899573</td>\n",
       "    </tr>\n",
       "  </tbody>\n",
       "</table><p>"
      ],
      "text/plain": [
       "<IPython.core.display.HTML object>"
      ]
     },
     "metadata": {
      "display_id": "3dd51d2d0e73ddcdae2f119a345a6984"
     },
     "output_type": "display_data"
    },
    {
     "data": {
      "text/plain": [
       "TrainOutput(global_step=1962, training_loss=0.19093582511069698)"
      ]
     },
     "execution_count": 29,
     "metadata": {},
     "output_type": "execute_result"
    }
   ],
   "source": [
    "trainer_3.train()"
   ]
  },
  {
   "cell_type": "code",
   "execution_count": null,
   "metadata": {
    "collapsed": false,
    "gradient": {
     "editing": false,
     "id": "929e359b-232c-433e-9a35-fc7edacc0c7c",
     "kernelId": "0c0438cc-8809-4072-a10a-acb706ba8551",
     "source_hidden": false
    },
    "id": "b8gJ6vH0LxKf",
    "jupyter": {
     "outputs_hidden": false
    },
    "outputId": "fe96eabf-9f73-4a2e-8fe9-5d3aa60b324c"
   },
   "outputs": [
    {
     "data": {
      "text/html": [
       "\n",
       "    <div>\n",
       "        <style>\n",
       "            /* Turns off some styling */\n",
       "            progress {\n",
       "                /* gets rid of default border in Firefox and Opera. */\n",
       "                border: none;\n",
       "                /* Needs to be in here for Safari polyfill so background images work as expected. */\n",
       "                background-size: auto;\n",
       "            }\n",
       "        </style>\n",
       "      \n",
       "      <progress value='218' max='218' style='width:300px; height:20px; vertical-align: middle;'></progress>\n",
       "      [218/218 00:04]\n",
       "    </div>\n",
       "    "
      ],
      "text/plain": [
       "<IPython.core.display.HTML object>"
      ]
     },
     "metadata": {
      "display_id": "3183c750114c1401e498c92df206e129"
     },
     "output_type": "display_data"
    },
    {
     "data": {
      "text/plain": [
       "{'eval_loss': 0.20836052298545837,\n",
       " 'eval_accuracy': 0.9364783481502724,\n",
       " 'eval_precision': 0.9043893959148196,\n",
       " 'eval_recall': 0.9032118055555556,\n",
       " 'eval_f1': 0.9038002171552662,\n",
       " 'epoch': 3.0}"
      ]
     },
     "execution_count": 30,
     "metadata": {},
     "output_type": "execute_result"
    }
   ],
   "source": [
    "#Evaluate performance of English model 3\n",
    "trainer_3.evaluate()"
   ]
  },
  {
   "cell_type": "code",
   "execution_count": null,
   "metadata": {
    "collapsed": false,
    "gradient": {
     "editing": false,
     "id": "e17d14f1-b409-4faf-a401-0e3367d544f8",
     "kernelId": "0c0438cc-8809-4072-a10a-acb706ba8551",
     "source_hidden": false
    },
    "id": "Cwathr93LxKf",
    "jupyter": {
     "outputs_hidden": false
    }
   },
   "outputs": [],
   "source": [
    "#Saving English model 3\n",
    "model_path = \"Models/English Model 3\"\n",
    "eng_model_3.save_pretrained(model_path)"
   ]
  },
  {
   "cell_type": "markdown",
   "metadata": {
    "gradient": {
     "editing": false,
     "id": "b9154dc5-ac24-4127-a28a-4c29c0ef1ac8",
     "kernelId": "0c0438cc-8809-4072-a10a-acb706ba8551"
    },
    "id": "6qw7vatbLxKf"
   },
   "source": [
    "### English model 4 (learning rate = 3e-5, batch size = 16)"
   ]
  },
  {
   "cell_type": "code",
   "execution_count": null,
   "metadata": {
    "collapsed": false,
    "gradient": {
     "editing": false,
     "id": "df17eca9-b47b-4589-981a-f08390e07acc",
     "kernelId": "0c0438cc-8809-4072-a10a-acb706ba8551",
     "source_hidden": false
    },
    "id": "6EEnYUbRLxKf",
    "jupyter": {
     "outputs_hidden": false
    }
   },
   "outputs": [],
   "source": [
    "#Defining arguments for training English model 4 using learning rate = 3e-5 and batch size = 32\n",
    "args_4 = TrainingArguments(\n",
    "    output_dir=\"Checkpoints/eng_model_4\",\n",
    "    evaluation_strategy=\"steps\",\n",
    "    eval_steps=500,\n",
    "    per_device_train_batch_size=32,\n",
    "    per_device_eval_batch_size=32,\n",
    "    learning_rate=3e-5,\n",
    "    num_train_epochs=3,\n",
    "    seed=7,\n",
    ")"
   ]
  },
  {
   "cell_type": "code",
   "execution_count": null,
   "metadata": {
    "collapsed": false,
    "gradient": {
     "editing": false,
     "id": "04c23b5d-cd8a-43ea-82ea-973b0ae51226",
     "kernelId": "0c0438cc-8809-4072-a10a-acb706ba8551",
     "source_hidden": false
    },
    "id": "v0AxAHeoLxKf",
    "jupyter": {
     "outputs_hidden": false
    }
   },
   "outputs": [],
   "source": [
    "#Defining trainer to train English model 4\n",
    "trainer_4 = Trainer(\n",
    "    model=eng_model_4,\n",
    "    args=args_4,\n",
    "    train_dataset=train_eng_ds,\n",
    "    eval_dataset=val_eng_ds,\n",
    "    compute_metrics=compute_metrics,\n",
    ")"
   ]
  },
  {
   "cell_type": "code",
   "execution_count": null,
   "metadata": {
    "collapsed": false,
    "gradient": {
     "editing": false,
     "id": "0e7e87b3-9c7e-4c65-b3ee-cbd46985ffb9",
     "kernelId": "0c0438cc-8809-4072-a10a-acb706ba8551",
     "source_hidden": false
    },
    "id": "5WAiGQnfLxKf",
    "jupyter": {
     "outputs_hidden": false
    },
    "outputId": "dfd3fb16-683f-4cda-f37b-20d03e6e526b"
   },
   "outputs": [
    {
     "data": {
      "text/html": [
       "\n",
       "    <div>\n",
       "        <style>\n",
       "            /* Turns off some styling */\n",
       "            progress {\n",
       "                /* gets rid of default border in Firefox and Opera. */\n",
       "                border: none;\n",
       "                /* Needs to be in here for Safari polyfill so background images work as expected. */\n",
       "                background-size: auto;\n",
       "            }\n",
       "        </style>\n",
       "      \n",
       "      <progress value='1962' max='1962' style='width:300px; height:20px; vertical-align: middle;'></progress>\n",
       "      [1962/1962 03:29, Epoch 3/3]\n",
       "    </div>\n",
       "    <table border=\"1\" class=\"dataframe\">\n",
       "  <thead>\n",
       "    <tr style=\"text-align: left;\">\n",
       "      <th>Step</th>\n",
       "      <th>Training Loss</th>\n",
       "      <th>Validation Loss</th>\n",
       "      <th>Accuracy</th>\n",
       "      <th>Precision</th>\n",
       "      <th>Recall</th>\n",
       "      <th>F1</th>\n",
       "    </tr>\n",
       "  </thead>\n",
       "  <tbody>\n",
       "    <tr>\n",
       "      <td>500</td>\n",
       "      <td>0.254349</td>\n",
       "      <td>0.198567</td>\n",
       "      <td>0.933754</td>\n",
       "      <td>0.901132</td>\n",
       "      <td>0.898003</td>\n",
       "      <td>0.899565</td>\n",
       "    </tr>\n",
       "    <tr>\n",
       "      <td>1000</td>\n",
       "      <td>0.189649</td>\n",
       "      <td>0.195398</td>\n",
       "      <td>0.935331</td>\n",
       "      <td>0.901256</td>\n",
       "      <td>0.903212</td>\n",
       "      <td>0.902233</td>\n",
       "    </tr>\n",
       "    <tr>\n",
       "      <td>1500</td>\n",
       "      <td>0.155778</td>\n",
       "      <td>0.211337</td>\n",
       "      <td>0.935188</td>\n",
       "      <td>0.901561</td>\n",
       "      <td>0.902344</td>\n",
       "      <td>0.901952</td>\n",
       "    </tr>\n",
       "  </tbody>\n",
       "</table><p>"
      ],
      "text/plain": [
       "<IPython.core.display.HTML object>"
      ]
     },
     "metadata": {
      "display_id": "d123d2293367757d21df8d4cff5cd6aa"
     },
     "output_type": "display_data"
    },
    {
     "data": {
      "text/plain": [
       "TrainOutput(global_step=1962, training_loss=0.18290066500322535)"
      ]
     },
     "execution_count": 34,
     "metadata": {},
     "output_type": "execute_result"
    }
   ],
   "source": [
    "trainer_4.train()"
   ]
  },
  {
   "cell_type": "code",
   "execution_count": null,
   "metadata": {
    "collapsed": false,
    "gradient": {
     "editing": false,
     "id": "577e44ff-d2d3-4e16-a519-4e431fc9b55c",
     "kernelId": "0c0438cc-8809-4072-a10a-acb706ba8551",
     "source_hidden": false
    },
    "id": "WL4YIau9LxKf",
    "jupyter": {
     "outputs_hidden": false
    },
    "outputId": "a1826061-c66c-4ff9-eb62-dc07470f6356"
   },
   "outputs": [
    {
     "data": {
      "text/html": [
       "\n",
       "    <div>\n",
       "        <style>\n",
       "            /* Turns off some styling */\n",
       "            progress {\n",
       "                /* gets rid of default border in Firefox and Opera. */\n",
       "                border: none;\n",
       "                /* Needs to be in here for Safari polyfill so background images work as expected. */\n",
       "                background-size: auto;\n",
       "            }\n",
       "        </style>\n",
       "      \n",
       "      <progress value='218' max='218' style='width:300px; height:20px; vertical-align: middle;'></progress>\n",
       "      [218/218 00:03]\n",
       "    </div>\n",
       "    "
      ],
      "text/plain": [
       "<IPython.core.display.HTML object>"
      ]
     },
     "metadata": {
      "display_id": "14240d43685b5af7d5ce347426e1b15c"
     },
     "output_type": "display_data"
    },
    {
     "data": {
      "text/plain": [
       "{'eval_loss': 0.21482139825820923,\n",
       " 'eval_accuracy': 0.9350444508173215,\n",
       " 'eval_precision': 0.9046786182772191,\n",
       " 'eval_recall': 0.8980034722222222,\n",
       " 'eval_f1': 0.9013286865606622,\n",
       " 'epoch': 3.0}"
      ]
     },
     "execution_count": 35,
     "metadata": {},
     "output_type": "execute_result"
    }
   ],
   "source": [
    "#Evaluate performance of English model 4\n",
    "trainer_4.evaluate()"
   ]
  },
  {
   "cell_type": "code",
   "execution_count": null,
   "metadata": {
    "collapsed": false,
    "gradient": {
     "editing": false,
     "id": "8a4c3e03-8ae3-4ad8-a329-d498c6a5c5e6",
     "kernelId": "0c0438cc-8809-4072-a10a-acb706ba8551",
     "source_hidden": false
    },
    "id": "QO6y3FgSLxKg",
    "jupyter": {
     "outputs_hidden": false
    }
   },
   "outputs": [],
   "source": [
    "#Saving English model 4\n",
    "model_path = \"Models/English Model 4\"\n",
    "eng_model_4.save_pretrained(model_path)"
   ]
  },
  {
   "cell_type": "markdown",
   "metadata": {
    "gradient": {
     "editing": false,
     "id": "1a694f9b-4d11-41b1-b5e3-64b06bfc0bd1",
     "kernelId": "0c0438cc-8809-4072-a10a-acb706ba8551"
    },
    "id": "Mo5b6b9iLxKg"
   },
   "source": [
    "### Predicting test data"
   ]
  },
  {
   "cell_type": "code",
   "execution_count": null,
   "metadata": {
    "gradient": {
     "editing": false,
     "id": "1b07e4bb-a23d-46e6-8676-00d0f9b4b520",
     "kernelId": "0c0438cc-8809-4072-a10a-acb706ba8551"
    },
    "id": "yxoaG9jfgewQ"
   },
   "outputs": [],
   "source": [
    "#Tokenizing test data using predefined tokenizer\n",
    "x_test_eng = eng_tokenizer(x_test_eng, padding=True, truncation=True, max_length=20)"
   ]
  },
  {
   "cell_type": "code",
   "execution_count": null,
   "metadata": {
    "gradient": {
     "editing": false,
     "id": "aade80ab-740c-4846-91c1-34a5d9f43b2d",
     "kernelId": "0c0438cc-8809-4072-a10a-acb706ba8551"
    },
    "id": "x-g-W3K9IYuN"
   },
   "outputs": [],
   "source": [
    "#Converting test data into torch dataset\n",
    "test_eng_ds = Dataset(x_test_eng, y_test_eng)"
   ]
  },
  {
   "cell_type": "code",
   "execution_count": null,
   "metadata": {
    "gradient": {
     "editing": false,
     "id": "f6f03a7c-6188-40cd-9cfb-0c33ac29bdef",
     "kernelId": "0c0438cc-8809-4072-a10a-acb706ba8551"
    },
    "id": "6_oIbqnhInRB"
   },
   "outputs": [],
   "source": [
    "#Loading best performing model (English model 3)\n",
    "eng_model_path = \"Models/English Model 3\"\n",
    "model = BertForSequenceClassification.from_pretrained(eng_model_path) "
   ]
  },
  {
   "cell_type": "code",
   "execution_count": null,
   "metadata": {
    "colab": {
     "base_uri": "https://localhost:8080/",
     "height": 89
    },
    "executionInfo": {
     "elapsed": 301797,
     "status": "ok",
     "timestamp": 1640261797955,
     "user": {
      "displayName": "Moy Tian Xiang",
      "photoUrl": "https://lh3.googleusercontent.com/a/default-user=s64",
      "userId": "17517672150917689324"
     },
     "user_tz": -480
    },
    "gradient": {
     "editing": false,
     "id": "3c51e451-64ae-41b9-8ee6-03825bfe039a",
     "kernelId": "0c0438cc-8809-4072-a10a-acb706ba8551"
    },
    "id": "8C82h3BKI9nF",
    "outputId": "e00e5570-0ca8-4db1-e1ea-6eaf496a8711"
   },
   "outputs": [
    {
     "data": {
      "text/html": [
       "\n",
       "    <div>\n",
       "        <style>\n",
       "            /* Turns off some styling */\n",
       "            progress {\n",
       "                /* gets rid of default border in Firefox and Opera. */\n",
       "                border: none;\n",
       "                /* Needs to be in here for Safari polyfill so background images work as expected. */\n",
       "                background-size: auto;\n",
       "            }\n",
       "        </style>\n",
       "      \n",
       "      <progress value='872' max='872' style='width:300px; height:20px; vertical-align: middle;'></progress>\n",
       "      [872/872 00:10]\n",
       "    </div>\n",
       "    "
      ],
      "text/plain": [
       "<IPython.core.display.HTML object>"
      ]
     },
     "metadata": {
      "display_id": "dffa0f8825f2340f2c3e289a5a262968"
     },
     "output_type": "display_data"
    }
   ],
   "source": [
    "#Defining trainer for test data\n",
    "test_trainer = Trainer(model) \n",
    "\n",
    "#Predicting test data\n",
    "raw_pred, _, _ = test_trainer.predict(test_eng_ds) "
   ]
  },
  {
   "cell_type": "code",
   "execution_count": null,
   "metadata": {
    "gradient": {
     "editing": false,
     "id": "0b2c9cb6-be8b-42f3-9de7-7e7df887ff81",
     "kernelId": "0c0438cc-8809-4072-a10a-acb706ba8551"
    },
    "id": "_LpUhu7SJCcg"
   },
   "outputs": [],
   "source": [
    "#Changing shape of raw prediction\n",
    "y_pred = np.argmax(raw_pred, axis=1)"
   ]
  },
  {
   "cell_type": "code",
   "execution_count": null,
   "metadata": {
    "colab": {
     "base_uri": "https://localhost:8080/"
    },
    "executionInfo": {
     "elapsed": 7,
     "status": "ok",
     "timestamp": 1640261843911,
     "user": {
      "displayName": "Moy Tian Xiang",
      "photoUrl": "https://lh3.googleusercontent.com/a/default-user=s64",
      "userId": "17517672150917689324"
     },
     "user_tz": -480
    },
    "gradient": {
     "editing": false,
     "id": "0dcb53b1-62b8-451c-b203-0de5a79b9e1c",
     "kernelId": "0c0438cc-8809-4072-a10a-acb706ba8551"
    },
    "id": "HPKFv0LCKJ6g",
    "outputId": "348e3ad9-e62f-4943-d91e-bb1e5ea77173"
   },
   "outputs": [
    {
     "name": "stdout",
     "output_type": "stream",
     "text": [
      "Accuracy for English model is:  0.930752688172043\n",
      "Precision for English model is:  0.8902700385769395\n",
      "Recall for English model is:  0.9014756944444444\n",
      "F-1 score for English model is:  0.8958378261807203\n"
     ]
    }
   ],
   "source": [
    "#Generating evaluation metrics\n",
    "print('Accuracy for English model is: ',accuracy_score(y_test_eng, y_pred))\n",
    "print('Precision for English model is: ',precision_score(y_test_eng,y_pred))\n",
    "print('Recall for English model is: ',recall_score(y_test_eng,y_pred))\n",
    "print('F-1 score for English model is: ',f1_score(y_test_eng,y_pred))\n"
   ]
  },
  {
   "cell_type": "code",
   "execution_count": null,
   "metadata": {
    "gradient": {
     "editing": false,
     "id": "cb2577cc-fcab-432a-9d39-74a6bbf3e6ae",
     "kernelId": "0c0438cc-8809-4072-a10a-acb706ba8551",
     "source_hidden": false
    },
    "id": "5NcJirqyLxKg",
    "outputId": "d48143ea-fe2e-428c-d7bd-af8bf835bd14"
   },
   "outputs": [
    {
     "data": {
      "text/plain": [
       "array([[4415,  256],\n",
       "       [ 227, 2077]])"
      ]
     },
     "execution_count": 35,
     "metadata": {},
     "output_type": "execute_result"
    }
   ],
   "source": [
    "#Generating confusion matrix\n",
    "eng_matrix = confusion_matrix(y_test_eng, y_pred)\n",
    "\n",
    "#Displaying confusion matrix\n",
    "eng_matrix"
   ]
  },
  {
   "cell_type": "code",
   "execution_count": null,
   "metadata": {
    "gradient": {
     "editing": false,
     "id": "ef101613-7b2a-483c-b73a-5b3db5172424",
     "kernelId": "0c0438cc-8809-4072-a10a-acb706ba8551",
     "source_hidden": false
    },
    "id": "20_FNWEHLxKh",
    "outputId": "44cd22b2-f577-48d1-f038-e73dce747046"
   },
   "outputs": [
    {
     "data": {
      "image/png": "[encoded data removed]",
      "text/plain": [
       "<Figure size 432x288 with 2 Axes>"
      ]
     },
     "metadata": {
      "needs_background": "light"
     },
     "output_type": "display_data"
    }
   ],
   "source": [
    "#Plot confusion matrix\n",
    "eng_cm = sns.heatmap(eng_matrix, annot = True, cmap = 'Reds', fmt=\"d\")\n",
    "\n",
    "eng_cm.set_title('Confusion Matrix for English Model\\n')\n",
    "eng_cm.set_xlabel('\\nPredicted Values')\n",
    "eng_cm.set_ylabel('Actual Values\\n')\n",
    "eng_cm.xaxis.set_ticklabels(['False', 'True'])\n",
    "eng_cm.yaxis.set_ticklabels(['False', 'True'])\n",
    "plt.show()"
   ]
  },
  {
   "cell_type": "markdown",
   "metadata": {
    "gradient": {
     "editing": false,
     "id": "8b1beb58-bc2c-469b-b703-48e228da2a3d",
     "kernelId": "0c0438cc-8809-4072-a10a-acb706ba8551"
    },
    "id": "Tq4_vl7gLxKh"
   },
   "source": [
    "## Malay Model"
   ]
  },
  {
   "cell_type": "code",
   "execution_count": null,
   "metadata": {
    "collapsed": false,
    "gradient": {
     "editing": false,
     "id": "514e88f3-7d21-43f2-be4e-be351a6c4c03",
     "kernelId": "0c0438cc-8809-4072-a10a-acb706ba8551",
     "source_hidden": false
    },
    "id": "l3OQHrNiLxKh",
    "jupyter": {
     "outputs_hidden": false
    }
   },
   "outputs": [],
   "source": [
    "#Set seed to ensure reproducibility\n",
    "set_seed(7)"
   ]
  },
  {
   "cell_type": "code",
   "execution_count": null,
   "metadata": {
    "collapsed": false,
    "gradient": {
     "editing": false,
     "id": "8ec3cc3a-4645-4f81-86bf-5f958a492cd6",
     "kernelId": "0c0438cc-8809-4072-a10a-acb706ba8551",
     "source_hidden": false
    },
    "id": "dYXcol18LxKh",
    "jupyter": {
     "outputs_hidden": false
    },
    "outputId": "0311509d-76f4-4134-f2a5-2459970a0ddd"
   },
   "outputs": [
    {
     "name": "stdout",
     "output_type": "stream",
     "text": [
      "Average word length for the Malay train dataset is 19.\n",
      "Maximum word length for the Malay train dataset is 247.\n",
      "\n",
      "Average word length for the Malay validation dataset is 19.\n",
      "Maximum word length for the Malay validation dataset is 224.\n"
     ]
    }
   ],
   "source": [
    "#Finding out the average and max word length for train malay dataset\n",
    "print('Average word length for the Malay train dataset is {0:.0f}.'.format(np.mean(train_mal['text'].apply(lambda x: len(x.split())))))\n",
    "print('Maximum word length for the Malay train dataset is {0:.0f}.\\n'.format(np.max(train_mal['text'].apply(lambda x: len(x.split())))))\n",
    "\n",
    "#Finding out the average and max word length for validation malay dataset\n",
    "print('Average word length for the Malay validation dataset is {0:.0f}.'.format(np.mean(val_mal['text'].apply(lambda x: len(x.split())))))\n",
    "print('Maximum word length for the Malay validation dataset is {0:.0f}.'.format(np.max(val_mal['text'].apply(lambda x: len(x.split())))))"
   ]
  },
  {
   "cell_type": "code",
   "execution_count": null,
   "metadata": {
    "collapsed": false,
    "gradient": {
     "editing": false,
     "id": "76fbfe88-f062-4be4-af20-c2333dd76412",
     "kernelId": "0c0438cc-8809-4072-a10a-acb706ba8551",
     "source_hidden": false
    },
    "id": "IZmGL4UbLxKh",
    "jupyter": {
     "outputs_hidden": false
    },
    "outputId": "a9ff1051-1265-4bc5-b286-fc24442b3250"
   },
   "outputs": [
    {
     "data": {
      "text/plain": [
       "Text(0.5, 1.0, 'Distribution of text length in words (training dataset)')"
      ]
     },
     "execution_count": 85,
     "metadata": {},
     "output_type": "execute_result"
    },
    {
     "data": {
      "image/png": "[encoded data removed]",
      "text/plain": [
       "<Figure size 432x288 with 1 Axes>"
      ]
     },
     "metadata": {
      "needs_background": "light"
     },
     "output_type": "display_data"
    }
   ],
   "source": [
    "#Plotting distribution of text length in words in training dataset\n",
    "train_mal['text'].apply(lambda x: len(x.split())).plot(kind='hist')\n",
    "plt.title('Distribution of text length in words (training dataset)')"
   ]
  },
  {
   "cell_type": "code",
   "execution_count": null,
   "metadata": {
    "collapsed": false,
    "gradient": {
     "editing": false,
     "id": "711f99db-4f9c-492a-a2f7-e43f3e539cf7",
     "kernelId": "0c0438cc-8809-4072-a10a-acb706ba8551",
     "source_hidden": false
    },
    "id": "qYVvK8xILxKh",
    "jupyter": {
     "outputs_hidden": false
    },
    "outputId": "f6ead20f-8183-4d00-8a1a-c4db962cdd2d"
   },
   "outputs": [
    {
     "data": {
      "text/plain": [
       "Text(0.5, 1.0, 'Distribution of text length in words (validation dataset)')"
      ]
     },
     "execution_count": 86,
     "metadata": {},
     "output_type": "execute_result"
    },
    {
     "data": {
      "image/png": "[encoded data removed]",
      "text/plain": [
       "<Figure size 432x288 with 1 Axes>"
      ]
     },
     "metadata": {
      "needs_background": "light"
     },
     "output_type": "display_data"
    }
   ],
   "source": [
    "#Plotting distribution of text length in words in validation dataset\n",
    "val_mal['text'].apply(lambda x: len(x.split())).plot(kind='hist')\n",
    "plt.title('Distribution of text length in words (validation dataset)')"
   ]
  },
  {
   "cell_type": "code",
   "execution_count": null,
   "metadata": {
    "colab": {
     "referenced_widgets": [
      "a12383ceb66d42deac995cace5f11dc8",
      "32fe267638fe4c8eb6dfebae1a592366",
      "5b33990bbb14407ba9a9247384312685"
     ]
    },
    "collapsed": true,
    "gradient": {
     "editing": false,
     "id": "f7d68a73-0b93-47df-bc12-0b28403678f1",
     "kernelId": "0c0438cc-8809-4072-a10a-acb706ba8551",
     "source_hidden": false
    },
    "id": "Z8aUu_bkLxKh",
    "jupyter": {
     "outputs_hidden": true
    },
    "outputId": "b6523679-b663-4a91-a8a1-041a412c2096"
   },
   "outputs": [
    {
     "data": {
      "application/vnd.jupyter.widget-view+json": {
       "model_id": "a12383ceb66d42deac995cace5f11dc8",
       "version_major": 2,
       "version_minor": 0
      },
      "text/plain": [
       "HBox(children=(HTML(value='Downloading'), FloatProgress(value=0.0, max=224153.0), HTML(value='')))"
      ]
     },
     "metadata": {},
     "output_type": "display_data"
    },
    {
     "name": "stdout",
     "output_type": "stream",
     "text": [
      "\n"
     ]
    },
    {
     "data": {
      "application/vnd.jupyter.widget-view+json": {
       "model_id": "32fe267638fe4c8eb6dfebae1a592366",
       "version_major": 2,
       "version_minor": 0
      },
      "text/plain": [
       "HBox(children=(HTML(value='Downloading'), FloatProgress(value=0.0, max=112.0), HTML(value='')))"
      ]
     },
     "metadata": {},
     "output_type": "display_data"
    },
    {
     "name": "stdout",
     "output_type": "stream",
     "text": [
      "\n"
     ]
    },
    {
     "data": {
      "application/vnd.jupyter.widget-view+json": {
       "model_id": "5b33990bbb14407ba9a9247384312685",
       "version_major": 2,
       "version_minor": 0
      },
      "text/plain": [
       "HBox(children=(HTML(value='Downloading'), FloatProgress(value=0.0, max=275.0), HTML(value='')))"
      ]
     },
     "metadata": {},
     "output_type": "display_data"
    },
    {
     "name": "stdout",
     "output_type": "stream",
     "text": [
      "\n"
     ]
    }
   ],
   "source": [
    "#Choosing pre-trained language model \n",
    "mal_model_name = \"malay-huggingface/bert-base-bahasa-cased\"\n",
    "\n",
    "#Defining tokenizer \n",
    "mal_tokenizer = BertTokenizer.from_pretrained(mal_model_name)"
   ]
  },
  {
   "cell_type": "code",
   "execution_count": null,
   "metadata": {
    "collapsed": true,
    "gradient": {
     "editing": false,
     "id": "00c312a3-ab88-4033-81de-99a99e67d898",
     "kernelId": "0c0438cc-8809-4072-a10a-acb706ba8551",
     "source_hidden": false
    },
    "id": "Qa3OMAFtLxKi",
    "jupyter": {
     "outputs_hidden": true
    },
    "outputId": "a3268c6b-37d1-4be8-d325-6e973444e66b"
   },
   "outputs": [
    {
     "name": "stderr",
     "output_type": "stream",
     "text": [
      "Some weights of the model checkpoint at malay-huggingface/bert-base-bahasa-cased were not used when initializing BertForSequenceClassification: ['cls.predictions.bias', 'cls.predictions.transform.dense.weight', 'cls.predictions.transform.dense.bias', 'cls.predictions.transform.LayerNorm.weight', 'cls.predictions.transform.LayerNorm.bias', 'cls.predictions.decoder.weight', 'cls.predictions.decoder.bias']\n",
      "- This IS expected if you are initializing BertForSequenceClassification from the checkpoint of a model trained on another task or with another architecture (e.g. initializing a BertForSequenceClassification model from a BertForPreTraining model).\n",
      "- This IS NOT expected if you are initializing BertForSequenceClassification from the checkpoint of a model that you expect to be exactly identical (initializing a BertForSequenceClassification model from a BertForSequenceClassification model).\n",
      "Some weights of BertForSequenceClassification were not initialized from the model checkpoint at malay-huggingface/bert-base-bahasa-cased and are newly initialized: ['bert.pooler.dense.weight', 'bert.pooler.dense.bias', 'classifier.weight', 'classifier.bias']\n",
      "You should probably TRAIN this model on a down-stream task to be able to use it for predictions and inference.\n",
      "Some weights of the model checkpoint at malay-huggingface/bert-base-bahasa-cased were not used when initializing BertForSequenceClassification: ['cls.predictions.bias', 'cls.predictions.transform.dense.weight', 'cls.predictions.transform.dense.bias', 'cls.predictions.transform.LayerNorm.weight', 'cls.predictions.transform.LayerNorm.bias', 'cls.predictions.decoder.weight', 'cls.predictions.decoder.bias']\n",
      "- This IS expected if you are initializing BertForSequenceClassification from the checkpoint of a model trained on another task or with another architecture (e.g. initializing a BertForSequenceClassification model from a BertForPreTraining model).\n",
      "- This IS NOT expected if you are initializing BertForSequenceClassification from the checkpoint of a model that you expect to be exactly identical (initializing a BertForSequenceClassification model from a BertForSequenceClassification model).\n",
      "Some weights of BertForSequenceClassification were not initialized from the model checkpoint at malay-huggingface/bert-base-bahasa-cased and are newly initialized: ['bert.pooler.dense.weight', 'bert.pooler.dense.bias', 'classifier.weight', 'classifier.bias']\n",
      "You should probably TRAIN this model on a down-stream task to be able to use it for predictions and inference.\n",
      "Some weights of the model checkpoint at malay-huggingface/bert-base-bahasa-cased were not used when initializing BertForSequenceClassification: ['cls.predictions.bias', 'cls.predictions.transform.dense.weight', 'cls.predictions.transform.dense.bias', 'cls.predictions.transform.LayerNorm.weight', 'cls.predictions.transform.LayerNorm.bias', 'cls.predictions.decoder.weight', 'cls.predictions.decoder.bias']\n",
      "- This IS expected if you are initializing BertForSequenceClassification from the checkpoint of a model trained on another task or with another architecture (e.g. initializing a BertForSequenceClassification model from a BertForPreTraining model).\n",
      "- This IS NOT expected if you are initializing BertForSequenceClassification from the checkpoint of a model that you expect to be exactly identical (initializing a BertForSequenceClassification model from a BertForSequenceClassification model).\n",
      "Some weights of BertForSequenceClassification were not initialized from the model checkpoint at malay-huggingface/bert-base-bahasa-cased and are newly initialized: ['bert.pooler.dense.weight', 'bert.pooler.dense.bias', 'classifier.weight', 'classifier.bias']\n",
      "You should probably TRAIN this model on a down-stream task to be able to use it for predictions and inference.\n",
      "Some weights of the model checkpoint at malay-huggingface/bert-base-bahasa-cased were not used when initializing BertForSequenceClassification: ['cls.predictions.bias', 'cls.predictions.transform.dense.weight', 'cls.predictions.transform.dense.bias', 'cls.predictions.transform.LayerNorm.weight', 'cls.predictions.transform.LayerNorm.bias', 'cls.predictions.decoder.weight', 'cls.predictions.decoder.bias']\n",
      "- This IS expected if you are initializing BertForSequenceClassification from the checkpoint of a model trained on another task or with another architecture (e.g. initializing a BertForSequenceClassification model from a BertForPreTraining model).\n",
      "- This IS NOT expected if you are initializing BertForSequenceClassification from the checkpoint of a model that you expect to be exactly identical (initializing a BertForSequenceClassification model from a BertForSequenceClassification model).\n",
      "Some weights of BertForSequenceClassification were not initialized from the model checkpoint at malay-huggingface/bert-base-bahasa-cased and are newly initialized: ['bert.pooler.dense.weight', 'bert.pooler.dense.bias', 'classifier.weight', 'classifier.bias']\n",
      "You should probably TRAIN this model on a down-stream task to be able to use it for predictions and inference.\n"
     ]
    }
   ],
   "source": [
    "#Building the Malay models\n",
    "mal_model_1 = BertForSequenceClassification.from_pretrained(mal_model_name)\n",
    "mal_model_2 = BertForSequenceClassification.from_pretrained(mal_model_name)\n",
    "mal_model_3 = BertForSequenceClassification.from_pretrained(mal_model_name)\n",
    "mal_model_4 = BertForSequenceClassification.from_pretrained(mal_model_name)"
   ]
  },
  {
   "cell_type": "code",
   "execution_count": null,
   "metadata": {
    "collapsed": false,
    "gradient": {
     "editing": false,
     "id": "4aeebcc0-535e-42db-8352-6437413bb666",
     "kernelId": "0c0438cc-8809-4072-a10a-acb706ba8551",
     "source_hidden": false
    },
    "id": "pIteKUdmLxKi",
    "jupyter": {
     "outputs_hidden": false
    }
   },
   "outputs": [],
   "source": [
    "#Tokenizing text with defined bert tokenizer\n",
    "x_train_mal = mal_tokenizer(x_train_mal, padding=True, truncation=True, max_length=100)\n",
    "x_val_mal = mal_tokenizer(x_val_mal, padding=True, truncation=True, max_length=100)"
   ]
  },
  {
   "cell_type": "code",
   "execution_count": null,
   "metadata": {
    "collapsed": false,
    "gradient": {
     "editing": false,
     "id": "b82eace0-cf61-4fc6-8dc7-cc0992ab0588",
     "kernelId": "0c0438cc-8809-4072-a10a-acb706ba8551",
     "source_hidden": false
    },
    "id": "NF3ZTmtvLxKi",
    "jupyter": {
     "outputs_hidden": false
    }
   },
   "outputs": [],
   "source": [
    "#Converting train and validation dataset to torch dataset\n",
    "train_mal_ds = Dataset(x_train_mal, y_train_mal)\n",
    "val_mal_ds = Dataset(x_val_mal, y_val_mal)"
   ]
  },
  {
   "cell_type": "markdown",
   "metadata": {
    "gradient": {
     "editing": false,
     "id": "3e6240e0-d61c-410e-a1ed-509638927535",
     "kernelId": "0c0438cc-8809-4072-a10a-acb706ba8551"
    },
    "id": "E_StYXmeLxKi"
   },
   "source": [
    "### Malay Model 1 (learning rate = 2e-5, batch size = 16)"
   ]
  },
  {
   "cell_type": "code",
   "execution_count": null,
   "metadata": {
    "collapsed": false,
    "gradient": {
     "editing": false,
     "id": "7a1a9b36-c76e-48ce-abaf-adb6acc5ff2a",
     "kernelId": "0c0438cc-8809-4072-a10a-acb706ba8551",
     "source_hidden": false
    },
    "id": "0d06xGvyLxKi",
    "jupyter": {
     "outputs_hidden": false
    }
   },
   "outputs": [],
   "source": [
    "#Defining arguments for training Malay model 1 using learning rate = 2e-5 and batch size = 16\n",
    "args_1 = TrainingArguments(\n",
    "    output_dir=\"Checkpoints/mal_model_1\",\n",
    "    evaluation_strategy=\"steps\",\n",
    "    eval_steps=500,\n",
    "    per_device_train_batch_size=16,\n",
    "    per_device_eval_batch_size=16,\n",
    "    learning_rate=2e-5,\n",
    "    num_train_epochs=3,\n",
    "    seed=7,\n",
    ")"
   ]
  },
  {
   "cell_type": "code",
   "execution_count": null,
   "metadata": {
    "collapsed": false,
    "gradient": {
     "editing": false,
     "id": "e40ec897-d767-4314-94a5-fb2ba57a7bd3",
     "kernelId": "0c0438cc-8809-4072-a10a-acb706ba8551",
     "source_hidden": false
    },
    "id": "HF0wzBQhLxKi",
    "jupyter": {
     "outputs_hidden": false
    }
   },
   "outputs": [],
   "source": [
    "#Defining trainer to train Malay model 1\n",
    "trainer_1 = Trainer(\n",
    "    model=mal_model_1,\n",
    "    args=args_1,\n",
    "    train_dataset=train_mal_ds,\n",
    "    eval_dataset=val_mal_ds,\n",
    "    compute_metrics=compute_metrics,\n",
    ")"
   ]
  },
  {
   "cell_type": "code",
   "execution_count": null,
   "metadata": {
    "collapsed": false,
    "gradient": {
     "editing": false,
     "id": "95058805-cfeb-47ce-9e34-a4718fe327a3",
     "kernelId": "0c0438cc-8809-4072-a10a-acb706ba8551",
     "source_hidden": false
    },
    "id": "AKPmF2ITLxKi",
    "jupyter": {
     "outputs_hidden": false
    },
    "outputId": "5ddbedd2-24ea-4abb-d90a-91a8b7f43c98"
   },
   "outputs": [
    {
     "data": {
      "text/html": [
       "\n",
       "    <div>\n",
       "        <style>\n",
       "            /* Turns off some styling */\n",
       "            progress {\n",
       "                /* gets rid of default border in Firefox and Opera. */\n",
       "                border: none;\n",
       "                /* Needs to be in here for Safari polyfill so background images work as expected. */\n",
       "                background-size: auto;\n",
       "            }\n",
       "        </style>\n",
       "      \n",
       "      <progress value='3465' max='3465' style='width:300px; height:20px; vertical-align: middle;'></progress>\n",
       "      [3465/3465 14:41, Epoch 3/3]\n",
       "    </div>\n",
       "    <table border=\"1\" class=\"dataframe\">\n",
       "  <thead>\n",
       "    <tr style=\"text-align: left;\">\n",
       "      <th>Step</th>\n",
       "      <th>Training Loss</th>\n",
       "      <th>Validation Loss</th>\n",
       "      <th>Accuracy</th>\n",
       "      <th>Precision</th>\n",
       "      <th>Recall</th>\n",
       "      <th>F1</th>\n",
       "    </tr>\n",
       "  </thead>\n",
       "  <tbody>\n",
       "    <tr>\n",
       "      <td>500</td>\n",
       "      <td>0.384137</td>\n",
       "      <td>0.324334</td>\n",
       "      <td>0.867468</td>\n",
       "      <td>0.896842</td>\n",
       "      <td>0.830409</td>\n",
       "      <td>0.862348</td>\n",
       "    </tr>\n",
       "    <tr>\n",
       "      <td>1000</td>\n",
       "      <td>0.338949</td>\n",
       "      <td>0.338640</td>\n",
       "      <td>0.871528</td>\n",
       "      <td>0.864753</td>\n",
       "      <td>0.880767</td>\n",
       "      <td>0.872686</td>\n",
       "    </tr>\n",
       "    <tr>\n",
       "      <td>1500</td>\n",
       "      <td>0.287762</td>\n",
       "      <td>0.342992</td>\n",
       "      <td>0.865032</td>\n",
       "      <td>0.894626</td>\n",
       "      <td>0.827485</td>\n",
       "      <td>0.859747</td>\n",
       "    </tr>\n",
       "    <tr>\n",
       "      <td>2000</td>\n",
       "      <td>0.257734</td>\n",
       "      <td>0.339153</td>\n",
       "      <td>0.868605</td>\n",
       "      <td>0.921277</td>\n",
       "      <td>0.806043</td>\n",
       "      <td>0.859816</td>\n",
       "    </tr>\n",
       "    <tr>\n",
       "      <td>2500</td>\n",
       "      <td>0.229401</td>\n",
       "      <td>0.374896</td>\n",
       "      <td>0.873153</td>\n",
       "      <td>0.872527</td>\n",
       "      <td>0.873944</td>\n",
       "      <td>0.873235</td>\n",
       "    </tr>\n",
       "    <tr>\n",
       "      <td>3000</td>\n",
       "      <td>0.186618</td>\n",
       "      <td>0.413724</td>\n",
       "      <td>0.874452</td>\n",
       "      <td>0.900591</td>\n",
       "      <td>0.841780</td>\n",
       "      <td>0.870193</td>\n",
       "    </tr>\n",
       "  </tbody>\n",
       "</table><p>"
      ],
      "text/plain": [
       "<IPython.core.display.HTML object>"
      ]
     },
     "metadata": {
      "display_id": "c349c53949068170dcae9f6012775f76"
     },
     "output_type": "display_data"
    },
    {
     "data": {
      "text/plain": [
       "TrainOutput(global_step=3465, training_loss=0.26712160316896644)"
      ]
     },
     "execution_count": 93,
     "metadata": {},
     "output_type": "execute_result"
    }
   ],
   "source": [
    "trainer_1.train()"
   ]
  },
  {
   "cell_type": "code",
   "execution_count": null,
   "metadata": {
    "collapsed": false,
    "gradient": {
     "editing": false,
     "id": "8c09bed5-5a71-4526-87ea-0e01b6ee3cc2",
     "kernelId": "0c0438cc-8809-4072-a10a-acb706ba8551",
     "source_hidden": false
    },
    "id": "gUZKsDKkLxKi",
    "jupyter": {
     "outputs_hidden": false
    },
    "outputId": "9245a6c8-f1a1-481c-fbb5-cb06330a7419"
   },
   "outputs": [
    {
     "data": {
      "text/html": [
       "\n",
       "    <div>\n",
       "        <style>\n",
       "            /* Turns off some styling */\n",
       "            progress {\n",
       "                /* gets rid of default border in Firefox and Opera. */\n",
       "                border: none;\n",
       "                /* Needs to be in here for Safari polyfill so background images work as expected. */\n",
       "                background-size: auto;\n",
       "            }\n",
       "        </style>\n",
       "      \n",
       "      <progress value='385' max='385' style='width:300px; height:20px; vertical-align: middle;'></progress>\n",
       "      [385/385 00:24]\n",
       "    </div>\n",
       "    "
      ],
      "text/plain": [
       "<IPython.core.display.HTML object>"
      ]
     },
     "metadata": {
      "display_id": "08e2fd115e57532b061f3f7c8b6bbd2c"
     },
     "output_type": "display_data"
    },
    {
     "data": {
      "text/plain": [
       "{'eval_loss': 0.4163171947002411,\n",
       " 'eval_accuracy': 0.8755887607601105,\n",
       " 'eval_precision': 0.8810151615029663,\n",
       " 'eval_recall': 0.868421052631579,\n",
       " 'eval_f1': 0.8746727748691099,\n",
       " 'epoch': 3.0}"
      ]
     },
     "execution_count": 94,
     "metadata": {},
     "output_type": "execute_result"
    }
   ],
   "source": [
    "#Evaluate performance of Malay model 1\n",
    "trainer_1.evaluate()"
   ]
  },
  {
   "cell_type": "code",
   "execution_count": null,
   "metadata": {
    "collapsed": false,
    "gradient": {
     "editing": false,
     "id": "1af6585e-33c7-4b60-bc31-d85f6b087758",
     "kernelId": "0c0438cc-8809-4072-a10a-acb706ba8551",
     "source_hidden": false
    },
    "id": "SS2Y0AG9LxKi",
    "jupyter": {
     "outputs_hidden": false
    }
   },
   "outputs": [],
   "source": [
    "#Saving Malay model 1\n",
    "model_path = \"Models/Malay Model 1\"\n",
    "mal_model_1.save_pretrained(model_path)"
   ]
  },
  {
   "cell_type": "markdown",
   "metadata": {
    "gradient": {
     "editing": false,
     "id": "61c2d2d4-4fcd-49a3-b9fa-f5aa384b7f0e",
     "kernelId": "0c0438cc-8809-4072-a10a-acb706ba8551"
    },
    "id": "xgomoBBjLxKi"
   },
   "source": [
    "### Malay Model 2 (learning rate = 3e-5, batch size = 16)"
   ]
  },
  {
   "cell_type": "code",
   "execution_count": null,
   "metadata": {
    "collapsed": false,
    "gradient": {
     "editing": false,
     "id": "854cb978-88f7-43c3-9060-e9e89e0d3f4e",
     "kernelId": "0c0438cc-8809-4072-a10a-acb706ba8551",
     "source_hidden": false
    },
    "id": "p8TMFy2KLxKi",
    "jupyter": {
     "outputs_hidden": false
    }
   },
   "outputs": [],
   "source": [
    "#Defining arguments for training Malay model 2 using learning rate = 3e-5 and batch size = 16\n",
    "args_2 = TrainingArguments(\n",
    "    output_dir=\"Checkpoints/mal_model_2\",\n",
    "    evaluation_strategy=\"steps\",\n",
    "    eval_steps=500,\n",
    "    per_device_train_batch_size=16,\n",
    "    per_device_eval_batch_size=16,\n",
    "    learning_rate=3e-5,\n",
    "    num_train_epochs=3,\n",
    "    seed=7,\n",
    ")"
   ]
  },
  {
   "cell_type": "code",
   "execution_count": null,
   "metadata": {
    "collapsed": false,
    "gradient": {
     "editing": false,
     "id": "1337f8cf-693e-431b-8ff7-eb935524188a",
     "kernelId": "0c0438cc-8809-4072-a10a-acb706ba8551",
     "source_hidden": false
    },
    "id": "dBQeDBkKLxKi",
    "jupyter": {
     "outputs_hidden": false
    }
   },
   "outputs": [],
   "source": [
    "#Defining trainer to train Malay model 2\n",
    "trainer_2 = Trainer(\n",
    "    model=mal_model_2,\n",
    "    args=args_2,\n",
    "    train_dataset=train_mal_ds,\n",
    "    eval_dataset=val_mal_ds,\n",
    "    compute_metrics=compute_metrics,\n",
    ")"
   ]
  },
  {
   "cell_type": "code",
   "execution_count": null,
   "metadata": {
    "collapsed": false,
    "gradient": {
     "editing": false,
     "id": "ead6f39a-2248-437f-bc71-9a62220cc919",
     "kernelId": "0c0438cc-8809-4072-a10a-acb706ba8551",
     "source_hidden": false
    },
    "id": "cTdWJfZGLxKj",
    "jupyter": {
     "outputs_hidden": false
    },
    "outputId": "ca45932c-3541-40f7-d55d-703dffa6af1e"
   },
   "outputs": [
    {
     "data": {
      "text/html": [
       "\n",
       "    <div>\n",
       "        <style>\n",
       "            /* Turns off some styling */\n",
       "            progress {\n",
       "                /* gets rid of default border in Firefox and Opera. */\n",
       "                border: none;\n",
       "                /* Needs to be in here for Safari polyfill so background images work as expected. */\n",
       "                background-size: auto;\n",
       "            }\n",
       "        </style>\n",
       "      \n",
       "      <progress value='3465' max='3465' style='width:300px; height:20px; vertical-align: middle;'></progress>\n",
       "      [3465/3465 14:47, Epoch 3/3]\n",
       "    </div>\n",
       "    <table border=\"1\" class=\"dataframe\">\n",
       "  <thead>\n",
       "    <tr style=\"text-align: left;\">\n",
       "      <th>Step</th>\n",
       "      <th>Training Loss</th>\n",
       "      <th>Validation Loss</th>\n",
       "      <th>Accuracy</th>\n",
       "      <th>Precision</th>\n",
       "      <th>Recall</th>\n",
       "      <th>F1</th>\n",
       "    </tr>\n",
       "  </thead>\n",
       "  <tbody>\n",
       "    <tr>\n",
       "      <td>500</td>\n",
       "      <td>0.392326</td>\n",
       "      <td>0.320104</td>\n",
       "      <td>0.866169</td>\n",
       "      <td>0.879461</td>\n",
       "      <td>0.848603</td>\n",
       "      <td>0.863757</td>\n",
       "    </tr>\n",
       "    <tr>\n",
       "      <td>1000</td>\n",
       "      <td>0.345735</td>\n",
       "      <td>0.351590</td>\n",
       "      <td>0.870229</td>\n",
       "      <td>0.862321</td>\n",
       "      <td>0.881092</td>\n",
       "      <td>0.871605</td>\n",
       "    </tr>\n",
       "    <tr>\n",
       "      <td>1500</td>\n",
       "      <td>0.295622</td>\n",
       "      <td>0.335100</td>\n",
       "      <td>0.866493</td>\n",
       "      <td>0.891667</td>\n",
       "      <td>0.834308</td>\n",
       "      <td>0.862034</td>\n",
       "    </tr>\n",
       "    <tr>\n",
       "      <td>2000</td>\n",
       "      <td>0.260879</td>\n",
       "      <td>0.345664</td>\n",
       "      <td>0.868930</td>\n",
       "      <td>0.923220</td>\n",
       "      <td>0.804743</td>\n",
       "      <td>0.859920</td>\n",
       "    </tr>\n",
       "    <tr>\n",
       "      <td>2500</td>\n",
       "      <td>0.235811</td>\n",
       "      <td>0.367485</td>\n",
       "      <td>0.874127</td>\n",
       "      <td>0.868716</td>\n",
       "      <td>0.881417</td>\n",
       "      <td>0.875020</td>\n",
       "    </tr>\n",
       "    <tr>\n",
       "      <td>3000</td>\n",
       "      <td>0.194997</td>\n",
       "      <td>0.410506</td>\n",
       "      <td>0.876726</td>\n",
       "      <td>0.891855</td>\n",
       "      <td>0.857375</td>\n",
       "      <td>0.874275</td>\n",
       "    </tr>\n",
       "  </tbody>\n",
       "</table><p>"
      ],
      "text/plain": [
       "<IPython.core.display.HTML object>"
      ]
     },
     "metadata": {
      "display_id": "ad09731e0046b753717e3e1e7e694e7b"
     },
     "output_type": "display_data"
    },
    {
     "data": {
      "text/plain": [
       "TrainOutput(global_step=3465, training_loss=0.27367619766301404)"
      ]
     },
     "execution_count": 98,
     "metadata": {},
     "output_type": "execute_result"
    }
   ],
   "source": [
    "trainer_2.train()"
   ]
  },
  {
   "cell_type": "code",
   "execution_count": null,
   "metadata": {
    "collapsed": false,
    "gradient": {
     "editing": false,
     "id": "e1b2a85c-5b4d-4491-bd1a-d9fe4c4c1f0c",
     "kernelId": "0c0438cc-8809-4072-a10a-acb706ba8551",
     "source_hidden": false
    },
    "id": "0R1_gzswLxKj",
    "jupyter": {
     "outputs_hidden": false
    },
    "outputId": "2f103e12-cb77-4057-d7ac-c2047b7116d1"
   },
   "outputs": [
    {
     "data": {
      "text/html": [
       "\n",
       "    <div>\n",
       "        <style>\n",
       "            /* Turns off some styling */\n",
       "            progress {\n",
       "                /* gets rid of default border in Firefox and Opera. */\n",
       "                border: none;\n",
       "                /* Needs to be in here for Safari polyfill so background images work as expected. */\n",
       "                background-size: auto;\n",
       "            }\n",
       "        </style>\n",
       "      \n",
       "      <progress value='385' max='385' style='width:300px; height:20px; vertical-align: middle;'></progress>\n",
       "      [385/385 00:24]\n",
       "    </div>\n",
       "    "
      ],
      "text/plain": [
       "<IPython.core.display.HTML object>"
      ]
     },
     "metadata": {
      "display_id": "da5fac5a337e4cf3ea8d7643ec80222e"
     },
     "output_type": "display_data"
    },
    {
     "data": {
      "text/plain": [
       "{'eval_loss': 0.417342871427536,\n",
       " 'eval_accuracy': 0.8760760110443397,\n",
       " 'eval_precision': 0.8776508972267537,\n",
       " 'eval_recall': 0.8739441195581547,\n",
       " 'eval_f1': 0.8757935861956699,\n",
       " 'epoch': 3.0}"
      ]
     },
     "execution_count": 99,
     "metadata": {},
     "output_type": "execute_result"
    }
   ],
   "source": [
    "#Evaluate performance of Malay model 2\n",
    "trainer_2.evaluate()"
   ]
  },
  {
   "cell_type": "code",
   "execution_count": null,
   "metadata": {
    "collapsed": false,
    "gradient": {
     "editing": false,
     "id": "fe957dc6-baf3-4b39-b386-9cef903b2bc0",
     "kernelId": "0c0438cc-8809-4072-a10a-acb706ba8551",
     "source_hidden": false
    },
    "id": "94lVRsDbLxKj",
    "jupyter": {
     "outputs_hidden": false
    }
   },
   "outputs": [],
   "source": [
    "#Saving Malay model 2\n",
    "model_path = \"Models/Malay Model 2\"\n",
    "mal_model_2.save_pretrained(model_path)"
   ]
  },
  {
   "cell_type": "markdown",
   "metadata": {
    "gradient": {
     "editing": false,
     "id": "063a3f9c-1004-4e0a-8606-13a502d29fb7",
     "kernelId": "0c0438cc-8809-4072-a10a-acb706ba8551"
    },
    "id": "YbJXofI-LxKj"
   },
   "source": [
    "### Malay Model 3 (learning rate = 2e-5, batch size = 32)"
   ]
  },
  {
   "cell_type": "code",
   "execution_count": null,
   "metadata": {
    "collapsed": false,
    "gradient": {
     "editing": false,
     "id": "d57b610b-1465-44d8-93a3-05baec96b498",
     "kernelId": "0c0438cc-8809-4072-a10a-acb706ba8551",
     "source_hidden": false
    },
    "id": "uqhSG10VLxKj",
    "jupyter": {
     "outputs_hidden": false
    }
   },
   "outputs": [],
   "source": [
    "#Defining arguments for training Malay model 3 using learning rate = 2e-5 and batch size = 32\n",
    "args_3 = TrainingArguments(\n",
    "    output_dir=\"Checkpoints/mal_model_3\",\n",
    "    evaluation_strategy=\"steps\",\n",
    "    eval_steps=500,\n",
    "    per_device_train_batch_size=32,\n",
    "    per_device_eval_batch_size=32,\n",
    "    learning_rate=2e-5,\n",
    "    num_train_epochs=3,\n",
    "    seed=7,\n",
    ")"
   ]
  },
  {
   "cell_type": "code",
   "execution_count": null,
   "metadata": {
    "collapsed": false,
    "gradient": {
     "editing": false,
     "id": "fee8ebdc-62eb-4df7-bb43-7d878a0582df",
     "kernelId": "0c0438cc-8809-4072-a10a-acb706ba8551",
     "source_hidden": false
    },
    "id": "qHCXM38KLxKj",
    "jupyter": {
     "outputs_hidden": false
    }
   },
   "outputs": [],
   "source": [
    "#Defining trainer to train Malay model 3\n",
    "trainer_3 = Trainer(\n",
    "    model=mal_model_3,\n",
    "    args=args_3,\n",
    "    train_dataset=train_mal_ds,\n",
    "    eval_dataset=val_mal_ds,\n",
    "    compute_metrics=compute_metrics,\n",
    ")"
   ]
  },
  {
   "cell_type": "code",
   "execution_count": null,
   "metadata": {
    "collapsed": false,
    "gradient": {
     "editing": false,
     "id": "32d1e8f5-d5b2-4b85-a3e1-f75066ded3d8",
     "kernelId": "0c0438cc-8809-4072-a10a-acb706ba8551",
     "source_hidden": false
    },
    "id": "uutvBzgvLxKj",
    "jupyter": {
     "outputs_hidden": false
    },
    "outputId": "61708c52-8d38-4efa-de2b-f97663d8c2d6"
   },
   "outputs": [
    {
     "data": {
      "text/html": [
       "\n",
       "    <div>\n",
       "        <style>\n",
       "            /* Turns off some styling */\n",
       "            progress {\n",
       "                /* gets rid of default border in Firefox and Opera. */\n",
       "                border: none;\n",
       "                /* Needs to be in here for Safari polyfill so background images work as expected. */\n",
       "                background-size: auto;\n",
       "            }\n",
       "        </style>\n",
       "      \n",
       "      <progress value='1734' max='1734' style='width:300px; height:20px; vertical-align: middle;'></progress>\n",
       "      [1734/1734 11:43, Epoch 3/3]\n",
       "    </div>\n",
       "    <table border=\"1\" class=\"dataframe\">\n",
       "  <thead>\n",
       "    <tr style=\"text-align: left;\">\n",
       "      <th>Step</th>\n",
       "      <th>Training Loss</th>\n",
       "      <th>Validation Loss</th>\n",
       "      <th>Accuracy</th>\n",
       "      <th>Precision</th>\n",
       "      <th>Recall</th>\n",
       "      <th>F1</th>\n",
       "    </tr>\n",
       "  </thead>\n",
       "  <tbody>\n",
       "    <tr>\n",
       "      <td>500</td>\n",
       "      <td>0.362858</td>\n",
       "      <td>0.336633</td>\n",
       "      <td>0.869092</td>\n",
       "      <td>0.865744</td>\n",
       "      <td>0.873619</td>\n",
       "      <td>0.869664</td>\n",
       "    </tr>\n",
       "    <tr>\n",
       "      <td>1000</td>\n",
       "      <td>0.268692</td>\n",
       "      <td>0.325184</td>\n",
       "      <td>0.872665</td>\n",
       "      <td>0.906449</td>\n",
       "      <td>0.831059</td>\n",
       "      <td>0.867119</td>\n",
       "    </tr>\n",
       "    <tr>\n",
       "      <td>1500</td>\n",
       "      <td>0.211095</td>\n",
       "      <td>0.342608</td>\n",
       "      <td>0.872178</td>\n",
       "      <td>0.879682</td>\n",
       "      <td>0.862248</td>\n",
       "      <td>0.870878</td>\n",
       "    </tr>\n",
       "  </tbody>\n",
       "</table><p>"
      ],
      "text/plain": [
       "<IPython.core.display.HTML object>"
      ]
     },
     "metadata": {
      "display_id": "a2d7cda25b737a731010be5bd31a0e6e"
     },
     "output_type": "display_data"
    },
    {
     "data": {
      "text/plain": [
       "TrainOutput(global_step=1734, training_loss=0.2656593894738502)"
      ]
     },
     "execution_count": 30,
     "metadata": {},
     "output_type": "execute_result"
    }
   ],
   "source": [
    "trainer_3.train()"
   ]
  },
  {
   "cell_type": "code",
   "execution_count": null,
   "metadata": {
    "collapsed": false,
    "gradient": {
     "editing": false,
     "id": "a33531c7-fa68-4786-9c12-a4a0bb0b3b98",
     "kernelId": "0c0438cc-8809-4072-a10a-acb706ba8551",
     "source_hidden": false
    },
    "id": "osfIy_szLxKj",
    "jupyter": {
     "outputs_hidden": false
    },
    "outputId": "6a342b37-73aa-4975-9ff1-a536d3b71dab"
   },
   "outputs": [
    {
     "data": {
      "text/html": [
       "\n",
       "    <div>\n",
       "        <style>\n",
       "            /* Turns off some styling */\n",
       "            progress {\n",
       "                /* gets rid of default border in Firefox and Opera. */\n",
       "                border: none;\n",
       "                /* Needs to be in here for Safari polyfill so background images work as expected. */\n",
       "                background-size: auto;\n",
       "            }\n",
       "        </style>\n",
       "      \n",
       "      <progress value='193' max='193' style='width:300px; height:20px; vertical-align: middle;'></progress>\n",
       "      [193/193 00:22]\n",
       "    </div>\n",
       "    "
      ],
      "text/plain": [
       "<IPython.core.display.HTML object>"
      ]
     },
     "metadata": {
      "display_id": "ef684f3b139e6a46fa6a893566bc6bc8"
     },
     "output_type": "display_data"
    },
    {
     "data": {
      "text/plain": [
       "{'eval_loss': 0.3537110984325409,\n",
       " 'eval_accuracy': 0.8725028422933246,\n",
       " 'eval_precision': 0.8757784333005572,\n",
       " 'eval_recall': 0.8680961663417803,\n",
       " 'eval_f1': 0.8719203785283081,\n",
       " 'epoch': 3.0}"
      ]
     },
     "execution_count": 31,
     "metadata": {},
     "output_type": "execute_result"
    }
   ],
   "source": [
    "#Evaluate performance of Malay model 3\n",
    "trainer_3.evaluate()"
   ]
  },
  {
   "cell_type": "code",
   "execution_count": null,
   "metadata": {
    "collapsed": false,
    "gradient": {
     "editing": false,
     "id": "50c74825-e410-4598-8cc6-d41dc9f9249c",
     "kernelId": "0c0438cc-8809-4072-a10a-acb706ba8551",
     "source_hidden": false
    },
    "id": "HagZ2tcBLxKk",
    "jupyter": {
     "outputs_hidden": false
    }
   },
   "outputs": [],
   "source": [
    "#Saving Malay model 3\n",
    "model_path = \"Models/Malay Model 3\"\n",
    "mal_model_3.save_pretrained(model_path)"
   ]
  },
  {
   "cell_type": "markdown",
   "metadata": {
    "gradient": {
     "editing": false,
     "id": "e375d4ce-a072-465f-a8fe-da15834ebb73",
     "kernelId": "0c0438cc-8809-4072-a10a-acb706ba8551"
    },
    "id": "Y-b9nvC6LxKk"
   },
   "source": [
    "### Malay Model 4 (learning rate = 3e-5, batch size = 32)"
   ]
  },
  {
   "cell_type": "code",
   "execution_count": null,
   "metadata": {
    "collapsed": false,
    "gradient": {
     "editing": false,
     "id": "1ec413e7-678c-40f0-ae10-518167e461e3",
     "kernelId": "0c0438cc-8809-4072-a10a-acb706ba8551",
     "source_hidden": false
    },
    "id": "HjY4A5xRLxKk",
    "jupyter": {
     "outputs_hidden": false
    }
   },
   "outputs": [],
   "source": [
    "#Defining arguments for training Malay model 4 using learning rate = 3e-5 and batch size = 32\n",
    "args_4 = TrainingArguments(\n",
    "    output_dir=\"Checkpoints/mal_model_4\",\n",
    "    evaluation_strategy=\"steps\",\n",
    "    eval_steps=500,\n",
    "    per_device_train_batch_size=32,\n",
    "    per_device_eval_batch_size=32,\n",
    "    learning_rate=3e-5,\n",
    "    num_train_epochs=3,\n",
    "    seed=7,\n",
    ")"
   ]
  },
  {
   "cell_type": "code",
   "execution_count": null,
   "metadata": {
    "collapsed": false,
    "gradient": {
     "editing": false,
     "id": "43adad79-9ccd-4318-9c54-e781d702a1d0",
     "kernelId": "0c0438cc-8809-4072-a10a-acb706ba8551",
     "source_hidden": false
    },
    "id": "Usq_XfB4LxKk",
    "jupyter": {
     "outputs_hidden": false
    }
   },
   "outputs": [],
   "source": [
    "#Defining trainer to train Malay model 3\n",
    "trainer_4 = Trainer(\n",
    "    model=mal_model_4,\n",
    "    args=args_4,\n",
    "    train_dataset=train_mal_ds,\n",
    "    eval_dataset=val_mal_ds,\n",
    "    compute_metrics=compute_metrics,\n",
    ")"
   ]
  },
  {
   "cell_type": "code",
   "execution_count": null,
   "metadata": {
    "collapsed": false,
    "gradient": {
     "editing": false,
     "id": "e139148b-d355-45da-99e1-1969c5f088e4",
     "kernelId": "0c0438cc-8809-4072-a10a-acb706ba8551",
     "source_hidden": false
    },
    "id": "bkYkfkAkLxKk",
    "jupyter": {
     "outputs_hidden": false
    },
    "outputId": "03dbdb2a-9b47-42b4-a0cc-deb56546c704"
   },
   "outputs": [
    {
     "data": {
      "text/html": [
       "\n",
       "    <div>\n",
       "        <style>\n",
       "            /* Turns off some styling */\n",
       "            progress {\n",
       "                /* gets rid of default border in Firefox and Opera. */\n",
       "                border: none;\n",
       "                /* Needs to be in here for Safari polyfill so background images work as expected. */\n",
       "                background-size: auto;\n",
       "            }\n",
       "        </style>\n",
       "      \n",
       "      <progress value='1734' max='1734' style='width:300px; height:20px; vertical-align: middle;'></progress>\n",
       "      [1734/1734 11:45, Epoch 3/3]\n",
       "    </div>\n",
       "    <table border=\"1\" class=\"dataframe\">\n",
       "  <thead>\n",
       "    <tr style=\"text-align: left;\">\n",
       "      <th>Step</th>\n",
       "      <th>Training Loss</th>\n",
       "      <th>Validation Loss</th>\n",
       "      <th>Accuracy</th>\n",
       "      <th>Precision</th>\n",
       "      <th>Recall</th>\n",
       "      <th>F1</th>\n",
       "    </tr>\n",
       "  </thead>\n",
       "  <tbody>\n",
       "    <tr>\n",
       "      <td>500</td>\n",
       "      <td>0.363788</td>\n",
       "      <td>0.337190</td>\n",
       "      <td>0.863732</td>\n",
       "      <td>0.857097</td>\n",
       "      <td>0.872969</td>\n",
       "      <td>0.864961</td>\n",
       "    </tr>\n",
       "    <tr>\n",
       "      <td>1000</td>\n",
       "      <td>0.268060</td>\n",
       "      <td>0.329789</td>\n",
       "      <td>0.873153</td>\n",
       "      <td>0.905974</td>\n",
       "      <td>0.832684</td>\n",
       "      <td>0.867784</td>\n",
       "    </tr>\n",
       "    <tr>\n",
       "      <td>1500</td>\n",
       "      <td>0.201866</td>\n",
       "      <td>0.364093</td>\n",
       "      <td>0.871366</td>\n",
       "      <td>0.872798</td>\n",
       "      <td>0.869396</td>\n",
       "      <td>0.871094</td>\n",
       "    </tr>\n",
       "  </tbody>\n",
       "</table><p>"
      ],
      "text/plain": [
       "<IPython.core.display.HTML object>"
      ]
     },
     "metadata": {
      "display_id": "6cdc701a9fcbabbe360b993f3023f913"
     },
     "output_type": "display_data"
    },
    {
     "data": {
      "text/plain": [
       "TrainOutput(global_step=1734, training_loss=0.26180435409457903)"
      ]
     },
     "execution_count": 35,
     "metadata": {},
     "output_type": "execute_result"
    }
   ],
   "source": [
    "trainer_4.train()"
   ]
  },
  {
   "cell_type": "code",
   "execution_count": null,
   "metadata": {
    "collapsed": false,
    "gradient": {
     "editing": false,
     "id": "fe47f978-dabf-4487-9bab-52c00fc50963",
     "kernelId": "0c0438cc-8809-4072-a10a-acb706ba8551",
     "source_hidden": false
    },
    "id": "NuO007gHLxKk",
    "jupyter": {
     "outputs_hidden": false
    },
    "outputId": "816d354d-e1b3-46fe-b629-a2657670857b"
   },
   "outputs": [
    {
     "data": {
      "text/html": [
       "\n",
       "    <div>\n",
       "        <style>\n",
       "            /* Turns off some styling */\n",
       "            progress {\n",
       "                /* gets rid of default border in Firefox and Opera. */\n",
       "                border: none;\n",
       "                /* Needs to be in here for Safari polyfill so background images work as expected. */\n",
       "                background-size: auto;\n",
       "            }\n",
       "        </style>\n",
       "      \n",
       "      <progress value='193' max='193' style='width:300px; height:20px; vertical-align: middle;'></progress>\n",
       "      [193/193 00:22]\n",
       "    </div>\n",
       "    "
      ],
      "text/plain": [
       "<IPython.core.display.HTML object>"
      ]
     },
     "metadata": {
      "display_id": "ca005894932507be95e2f038472408c2"
     },
     "output_type": "display_data"
    },
    {
     "data": {
      "text/plain": [
       "{'eval_loss': 0.37207895517349243,\n",
       " 'eval_accuracy': 0.8721780087705051,\n",
       " 'eval_precision': 0.8759435510338037,\n",
       " 'eval_recall': 0.8671215074723847,\n",
       " 'eval_f1': 0.8715102040816327,\n",
       " 'epoch': 3.0}"
      ]
     },
     "execution_count": 36,
     "metadata": {},
     "output_type": "execute_result"
    }
   ],
   "source": [
    "#Evaluate performance of Malay model 4\n",
    "trainer_4.evaluate()"
   ]
  },
  {
   "cell_type": "code",
   "execution_count": null,
   "metadata": {
    "collapsed": false,
    "gradient": {
     "editing": false,
     "id": "3a700f76-0dd9-4204-b4cc-5b255d92216e",
     "kernelId": "0c0438cc-8809-4072-a10a-acb706ba8551",
     "source_hidden": false
    },
    "id": "emYAosM1LxKk",
    "jupyter": {
     "outputs_hidden": false
    }
   },
   "outputs": [],
   "source": [
    "#Saving Malay model 4\n",
    "model_path = \"Models/Malay Model 4\"\n",
    "mal_model_4.save_pretrained(model_path)"
   ]
  },
  {
   "cell_type": "markdown",
   "metadata": {
    "gradient": {
     "editing": false,
     "id": "6350de96-abcb-4228-a213-2aded43d93bd",
     "kernelId": "0c0438cc-8809-4072-a10a-acb706ba8551"
    },
    "id": "088V1Z8gLxKk"
   },
   "source": [
    "### Predicting test data"
   ]
  },
  {
   "cell_type": "code",
   "execution_count": null,
   "metadata": {
    "collapsed": false,
    "gradient": {
     "editing": false,
     "id": "1f19062c-47d4-4b39-81fe-4253b525e0b1",
     "kernelId": "0c0438cc-8809-4072-a10a-acb706ba8551",
     "source_hidden": false
    },
    "id": "gUr2-EQOLxKk",
    "jupyter": {
     "outputs_hidden": false
    }
   },
   "outputs": [],
   "source": [
    "#Tokenizing test data using predefined tokenizer\n",
    "x_test_mal = mal_tokenizer(x_test_mal, padding=True, truncation=True, max_length=100)"
   ]
  },
  {
   "cell_type": "code",
   "execution_count": null,
   "metadata": {
    "collapsed": false,
    "gradient": {
     "editing": false,
     "id": "43d53167-1fc0-4c86-a793-3106d3746e41",
     "kernelId": "0c0438cc-8809-4072-a10a-acb706ba8551",
     "source_hidden": false
    },
    "id": "QZC5Gaf0LxKk",
    "jupyter": {
     "outputs_hidden": false
    }
   },
   "outputs": [],
   "source": [
    "#Converting test data into torch dataset\n",
    "test_mal_ds = Dataset(x_test_mal, y_test_mal)"
   ]
  },
  {
   "cell_type": "code",
   "execution_count": null,
   "metadata": {
    "collapsed": false,
    "gradient": {
     "editing": false,
     "id": "f78672ba-283b-46f9-9130-92c2345ee7b4",
     "kernelId": "0c0438cc-8809-4072-a10a-acb706ba8551",
     "source_hidden": false
    },
    "id": "Ozr3eJsYLxKl",
    "jupyter": {
     "outputs_hidden": false
    }
   },
   "outputs": [],
   "source": [
    "#Loading best performing model (Malay model 3)\n",
    "malay_model_path = \"Models/Malay Model 3\"\n",
    "model = BertForSequenceClassification.from_pretrained(malay_model_path) "
   ]
  },
  {
   "cell_type": "code",
   "execution_count": null,
   "metadata": {
    "collapsed": false,
    "gradient": {
     "editing": true,
     "id": "8b27b2b5-48c9-4635-8d2a-017cd5dabfed",
     "kernelId": "0c0438cc-8809-4072-a10a-acb706ba8551",
     "source_hidden": false
    },
    "id": "S_5iM-uXLxKl",
    "jupyter": {
     "outputs_hidden": false
    }
   },
   "outputs": [],
   "source": [
    "#Defining trainer for test data\n",
    "test_trainer = Trainer(model) \n",
    "\n",
    "#Predicting test data\n",
    "raw_pred, _, _ = test_trainer.predict(test_mal_ds) "
   ]
  },
  {
   "cell_type": "code",
   "execution_count": null,
   "metadata": {
    "collapsed": false,
    "gradient": {
     "editing": false,
     "id": "825ab9f9-40f5-4f7e-9586-bc0f3a997508",
     "kernelId": "0c0438cc-8809-4072-a10a-acb706ba8551",
     "source_hidden": false
    },
    "id": "zm17he9vLxKl",
    "jupyter": {
     "outputs_hidden": false
    }
   },
   "outputs": [],
   "source": [
    "#Changing shape of raw prediction\n",
    "y_pred = np.argmax(raw_pred, axis=1)"
   ]
  },
  {
   "cell_type": "code",
   "execution_count": null,
   "metadata": {
    "collapsed": false,
    "gradient": {
     "editing": false,
     "id": "0fa3b75a-87c6-4092-ab62-001a51120fe5",
     "kernelId": "0c0438cc-8809-4072-a10a-acb706ba8551",
     "source_hidden": false
    },
    "id": "Oa9C-oCCLxKl",
    "jupyter": {
     "outputs_hidden": false
    },
    "outputId": "8e3b04cc-cdd7-4ead-f7ae-24bcc28fdb48"
   },
   "outputs": [
    {
     "name": "stdout",
     "output_type": "stream",
     "text": [
      "Accuracy for Malay model is:  0.8731525093389638\n",
      "Precision for Malay model is:  0.8742671009771987\n",
      "Recall for Malay model is:  0.8717115946735953\n",
      "F-1 score for Malay model is:  0.8729874776386405\n"
     ]
    }
   ],
   "source": [
    "#Generating evaluation metrics\n",
    "print('Accuracy for Malay model is: ',accuracy_score(y_test_mal, y_pred))\n",
    "print('Precision for Malay model is: ',precision_score(y_test_mal,y_pred))\n",
    "print('Recall for Malay model is: ',recall_score(y_test_mal,y_pred))\n",
    "print('F-1 score for Malay model is: ',f1_score(y_test_mal,y_pred))"
   ]
  },
  {
   "cell_type": "code",
   "execution_count": null,
   "metadata": {
    "colab": {
     "base_uri": "https://localhost:8080/",
     "height": 322
    },
    "executionInfo": {
     "elapsed": 709,
     "status": "ok",
     "timestamp": 1641385287052,
     "user": {
      "displayName": "Moy Tian Xiang",
      "photoUrl": "https://lh3.googleusercontent.com/a/default-user=s64",
      "userId": "17517672150917689324"
     },
     "user_tz": -480
    },
    "gradient": {
     "editing": false,
     "id": "a76ea99a-3f67-4033-9e04-f035edd4e42e",
     "kernelId": "0c0438cc-8809-4072-a10a-acb706ba8551",
     "source_hidden": false
    },
    "id": "5k_obc9nqZXu",
    "outputId": "8f0f93b6-b2b1-4c4a-81ee-a197fac12cbf"
   },
   "outputs": [
    {
     "data": {
      "image/png": "[encoded data removed]",
      "text/plain": [
       "<Figure size 432x288 with 2 Axes>"
      ]
     },
     "metadata": {
      "needs_background": "light"
     },
     "output_type": "display_data"
    }
   ],
   "source": [
    "#Plot confusion matrix\n",
    "mal_cm = sns.heatmap(mal_matrix, annot = True, cmap = 'Reds', fmt=\"d\")\n",
    "\n",
    "mal_cm.set_title('Confusion Matrix for Malay Model\\n')\n",
    "mal_cm.set_xlabel('\\nPredicted Values')\n",
    "mal_cm.set_ylabel('Actual Values\\n')\n",
    "mal_cm.xaxis.set_ticklabels(['False', 'True'])\n",
    "mal_cm.yaxis.set_ticklabels(['False', 'True'])\n",
    "plt.show()"
   ]
  },
  {
   "cell_type": "code",
   "execution_count": null,
   "metadata": {
    "colab": {
     "base_uri": "https://localhost:8080/"
    },
    "executionInfo": {
     "elapsed": 421,
     "status": "ok",
     "timestamp": 1641385284101,
     "user": {
      "displayName": "Moy Tian Xiang",
      "photoUrl": "https://lh3.googleusercontent.com/a/default-user=s64",
      "userId": "17517672150917689324"
     },
     "user_tz": -480
    },
    "gradient": {
     "id": "194f2223-0d33-4236-8a88-a555cfb517be",
     "kernelId": "0c0438cc-8809-4072-a10a-acb706ba8551"
    },
    "id": "7zNSId-lLSUL",
    "outputId": "6e073a98-588e-4285-e0c7-d7252367e475"
   },
   "outputs": [
    {
     "data": {
      "text/plain": [
       "array([[2692,  386],\n",
       "       [ 395, 2684]])"
      ]
     },
     "execution_count": 33,
     "metadata": {},
     "output_type": "execute_result"
    }
   ],
   "source": [
    "#Generating confusion matrix\n",
    "mal_matrix = confusion_matrix(y_test_mal, y_pred)\n",
    "\n",
    "#Displaying confusion matrix\n",
    "mal_matrix"
   ]
  },
  {
   "cell_type": "markdown",
   "metadata": {
    "gradient": {
     "editing": false,
     "id": "6b0e6f96-6a30-4b68-a3fb-bf5373b6ec0b",
     "kernelId": "0c0438cc-8809-4072-a10a-acb706ba8551"
    },
    "id": "i_2tD_LDLxKl"
   },
   "source": [
    "## Multilingual Model"
   ]
  },
  {
   "cell_type": "code",
   "execution_count": null,
   "metadata": {
    "collapsed": false,
    "gradient": {
     "editing": false,
     "id": "95f5d97c-0bf4-4f2b-9e91-f6638cc7c252",
     "kernelId": "0c0438cc-8809-4072-a10a-acb706ba8551",
     "source_hidden": false
    },
    "id": "pkZbqWAgLxKl",
    "jupyter": {
     "outputs_hidden": false
    }
   },
   "outputs": [],
   "source": [
    "#Combining English and Malay dataset\n",
    "train_multi = train_eng.append(train_mal)\n",
    "val_multi = val_eng.append(val_mal)\n",
    "test_multi = test_eng.append(test_mal)"
   ]
  },
  {
   "cell_type": "code",
   "execution_count": null,
   "metadata": {
    "collapsed": false,
    "gradient": {
     "editing": false,
     "id": "dd4118ab-ff34-44d9-bae2-65abf9bfc979",
     "kernelId": "0c0438cc-8809-4072-a10a-acb706ba8551",
     "source_hidden": false
    },
    "id": "d6xh9IElLxKl",
    "jupyter": {
     "outputs_hidden": false
    }
   },
   "outputs": [],
   "source": [
    "#Separating features and target variable in train, test and validation datasets\n",
    "x_train_multi = list(train_multi['text'])\n",
    "y_train_multi = list(train_multi['class'])\n",
    "\n",
    "x_val_multi = list(val_multi['text'])\n",
    "y_val_multi = list(val_multi['class'])\n",
    "\n",
    "x_test_multi = list(test_multi['text'])\n",
    "y_test_multi = list(test_multi['class'])"
   ]
  },
  {
   "cell_type": "code",
   "execution_count": null,
   "metadata": {
    "collapsed": false,
    "gradient": {
     "editing": false,
     "id": "1ee2e956-cf81-4ee0-ba6b-455ac5a4970b",
     "kernelId": "0c0438cc-8809-4072-a10a-acb706ba8551",
     "source_hidden": false
    },
    "id": "Nm1tLrG1LxKl",
    "jupyter": {
     "outputs_hidden": false
    }
   },
   "outputs": [],
   "source": [
    "#Set seed to ensure reproducibility\n",
    "set_seed(7)"
   ]
  },
  {
   "cell_type": "code",
   "execution_count": null,
   "metadata": {
    "collapsed": false,
    "gradient": {
     "editing": false,
     "id": "b46a5246-abbe-48a0-bdf7-faa54e577dbd",
     "kernelId": "0c0438cc-8809-4072-a10a-acb706ba8551",
     "source_hidden": false
    },
    "id": "zHtzzYOlLxKm",
    "jupyter": {
     "outputs_hidden": false
    },
    "outputId": "98257e3b-5042-4fa8-f519-4b42286a5274"
   },
   "outputs": [
    {
     "name": "stdout",
     "output_type": "stream",
     "text": [
      "Average word length for the multilingual train dataset is 13.\n",
      "Maximum word length for the multilingual train dataset is 247.\n",
      "\n",
      "Average word length for the multilingual validation dataset is 13.\n",
      "Maximum word length for the multilingual validation dataset is 224.\n"
     ]
    }
   ],
   "source": [
    "#Finding out the average and max word length for train multilingual dataset\n",
    "print('Average word length for the multilingual train dataset is {0:.0f}.'.format(np.mean(train_multi['text'].apply(lambda x: len(x.split())))))\n",
    "print('Maximum word length for the multilingual train dataset is {0:.0f}.\\n'.format(np.max(train_multi['text'].apply(lambda x: len(x.split())))))\n",
    "\n",
    "#Finding out the average and max word length for validation multilingual dataset\n",
    "print('Average word length for the multilingual validation dataset is {0:.0f}.'.format(np.mean(val_multi['text'].apply(lambda x: len(x.split())))))\n",
    "print('Maximum word length for the multilingual validation dataset is {0:.0f}.'.format(np.max(val_multi['text'].apply(lambda x: len(x.split())))))"
   ]
  },
  {
   "cell_type": "code",
   "execution_count": null,
   "metadata": {
    "collapsed": false,
    "gradient": {
     "editing": false,
     "id": "b635b042-85ac-456a-8b8d-b24dbd41afc1",
     "kernelId": "0c0438cc-8809-4072-a10a-acb706ba8551",
     "source_hidden": false
    },
    "id": "K5cvndKkLxKm",
    "jupyter": {
     "outputs_hidden": false
    },
    "outputId": "a4365203-1903-4a51-882a-043d938a759c"
   },
   "outputs": [
    {
     "data": {
      "text/plain": [
       "Text(0.5, 1.0, 'Distribution of text length in words (training dataset)')"
      ]
     },
     "execution_count": 27,
     "metadata": {},
     "output_type": "execute_result"
    },
    {
     "data": {
      "image/png": "[encoded data removed]",
      "text/plain": [
       "<Figure size 432x288 with 1 Axes>"
      ]
     },
     "metadata": {
      "needs_background": "light"
     },
     "output_type": "display_data"
    }
   ],
   "source": [
    "#Plotting distribution of text length in words in training dataset\n",
    "train_multi['text'].apply(lambda x: len(x.split())).plot(kind='hist')\n",
    "plt.title('Distribution of text length in words (training dataset)')"
   ]
  },
  {
   "cell_type": "code",
   "execution_count": null,
   "metadata": {
    "collapsed": false,
    "gradient": {
     "editing": false,
     "id": "6deea56a-a3ae-45ce-ac7b-c98f0dd05728",
     "kernelId": "0c0438cc-8809-4072-a10a-acb706ba8551",
     "source_hidden": false
    },
    "id": "qLRx6LzcLxKm",
    "jupyter": {
     "outputs_hidden": false
    },
    "outputId": "f2e165b6-d59b-46f9-d8b9-4316342d0041"
   },
   "outputs": [
    {
     "data": {
      "text/plain": [
       "Text(0.5, 1.0, 'Distribution of text length in words (validation dataset)')"
      ]
     },
     "execution_count": 28,
     "metadata": {},
     "output_type": "execute_result"
    },
    {
     "data": {
      "image/png": "[encoded data removed]",
      "text/plain": [
       "<Figure size 432x288 with 1 Axes>"
      ]
     },
     "metadata": {
      "needs_background": "light"
     },
     "output_type": "display_data"
    }
   ],
   "source": [
    "#Plotting distribution of text length in words in validation dataset\n",
    "val_multi['text'].apply(lambda x: len(x.split())).plot(kind='hist')\n",
    "plt.title('Distribution of text length in words (validation dataset)')"
   ]
  },
  {
   "cell_type": "code",
   "execution_count": null,
   "metadata": {
    "colab": {
     "referenced_widgets": [
      "8d61a8394d1242fe933c362e1f632dab"
     ]
    },
    "collapsed": true,
    "gradient": {
     "editing": false,
     "id": "9ec69fa5-f4d4-4816-be5a-581088d6999b",
     "kernelId": "0c0438cc-8809-4072-a10a-acb706ba8551",
     "source_hidden": false
    },
    "id": "A9L1nkByLxKm",
    "jupyter": {
     "outputs_hidden": true
    },
    "outputId": "b94641a9-6af0-4910-f57b-5d0cd52e2892"
   },
   "outputs": [
    {
     "data": {
      "application/vnd.jupyter.widget-view+json": {
       "model_id": "8d61a8394d1242fe933c362e1f632dab",
       "version_major": 2,
       "version_minor": 0
      },
      "text/plain": [
       "HBox(children=(HTML(value='Downloading'), FloatProgress(value=0.0, max=871891.0), HTML(value='')))"
      ]
     },
     "metadata": {},
     "output_type": "display_data"
    },
    {
     "name": "stdout",
     "output_type": "stream",
     "text": [
      "\n"
     ]
    }
   ],
   "source": [
    "#Choosing pre-trained language model \n",
    "multi_model_name = \"bert-base-multilingual-uncased\"\n",
    "\n",
    "#Defining tokenizer \n",
    "multi_tokenizer = BertTokenizer.from_pretrained(multi_model_name)"
   ]
  },
  {
   "cell_type": "code",
   "execution_count": null,
   "metadata": {
    "colab": {
     "referenced_widgets": [
      "876e53647fac45e790213a57b3e7e5ae",
      "2f464da5d20448fb9b1d5ec89af44ea3"
     ]
    },
    "collapsed": true,
    "gradient": {
     "editing": false,
     "id": "61bc647c-6c2b-40d1-bb4c-9bbed40e4bb5",
     "kernelId": "0c0438cc-8809-4072-a10a-acb706ba8551",
     "source_hidden": false
    },
    "id": "mJf8K8k9LxKm",
    "jupyter": {
     "outputs_hidden": true
    },
    "outputId": "a8338ee4-1ea8-4bdf-f079-5a99b68e3e21"
   },
   "outputs": [
    {
     "data": {
      "application/vnd.jupyter.widget-view+json": {
       "model_id": "876e53647fac45e790213a57b3e7e5ae",
       "version_major": 2,
       "version_minor": 0
      },
      "text/plain": [
       "HBox(children=(HTML(value='Downloading'), FloatProgress(value=0.0, max=625.0), HTML(value='')))"
      ]
     },
     "metadata": {},
     "output_type": "display_data"
    },
    {
     "name": "stdout",
     "output_type": "stream",
     "text": [
      "\n"
     ]
    },
    {
     "data": {
      "application/vnd.jupyter.widget-view+json": {
       "model_id": "2f464da5d20448fb9b1d5ec89af44ea3",
       "version_major": 2,
       "version_minor": 0
      },
      "text/plain": [
       "HBox(children=(HTML(value='Downloading'), FloatProgress(value=0.0, max=672271273.0), HTML(value='')))"
      ]
     },
     "metadata": {},
     "output_type": "display_data"
    },
    {
     "name": "stdout",
     "output_type": "stream",
     "text": [
      "\n"
     ]
    },
    {
     "name": "stderr",
     "output_type": "stream",
     "text": [
      "Some weights of the model checkpoint at bert-base-multilingual-uncased were not used when initializing BertForSequenceClassification: ['cls.predictions.bias', 'cls.predictions.transform.dense.weight', 'cls.predictions.transform.dense.bias', 'cls.predictions.decoder.weight', 'cls.seq_relationship.weight', 'cls.seq_relationship.bias', 'cls.predictions.transform.LayerNorm.weight', 'cls.predictions.transform.LayerNorm.bias']\n",
      "- This IS expected if you are initializing BertForSequenceClassification from the checkpoint of a model trained on another task or with another architecture (e.g. initializing a BertForSequenceClassification model from a BertForPreTraining model).\n",
      "- This IS NOT expected if you are initializing BertForSequenceClassification from the checkpoint of a model that you expect to be exactly identical (initializing a BertForSequenceClassification model from a BertForSequenceClassification model).\n",
      "Some weights of BertForSequenceClassification were not initialized from the model checkpoint at bert-base-multilingual-uncased and are newly initialized: ['classifier.weight', 'classifier.bias']\n",
      "You should probably TRAIN this model on a down-stream task to be able to use it for predictions and inference.\n",
      "Some weights of the model checkpoint at bert-base-multilingual-uncased were not used when initializing BertForSequenceClassification: ['cls.predictions.bias', 'cls.predictions.transform.dense.weight', 'cls.predictions.transform.dense.bias', 'cls.predictions.decoder.weight', 'cls.seq_relationship.weight', 'cls.seq_relationship.bias', 'cls.predictions.transform.LayerNorm.weight', 'cls.predictions.transform.LayerNorm.bias']\n",
      "- This IS expected if you are initializing BertForSequenceClassification from the checkpoint of a model trained on another task or with another architecture (e.g. initializing a BertForSequenceClassification model from a BertForPreTraining model).\n",
      "- This IS NOT expected if you are initializing BertForSequenceClassification from the checkpoint of a model that you expect to be exactly identical (initializing a BertForSequenceClassification model from a BertForSequenceClassification model).\n",
      "Some weights of BertForSequenceClassification were not initialized from the model checkpoint at bert-base-multilingual-uncased and are newly initialized: ['classifier.weight', 'classifier.bias']\n",
      "You should probably TRAIN this model on a down-stream task to be able to use it for predictions and inference.\n",
      "Some weights of the model checkpoint at bert-base-multilingual-uncased were not used when initializing BertForSequenceClassification: ['cls.predictions.bias', 'cls.predictions.transform.dense.weight', 'cls.predictions.transform.dense.bias', 'cls.predictions.decoder.weight', 'cls.seq_relationship.weight', 'cls.seq_relationship.bias', 'cls.predictions.transform.LayerNorm.weight', 'cls.predictions.transform.LayerNorm.bias']\n",
      "- This IS expected if you are initializing BertForSequenceClassification from the checkpoint of a model trained on another task or with another architecture (e.g. initializing a BertForSequenceClassification model from a BertForPreTraining model).\n",
      "- This IS NOT expected if you are initializing BertForSequenceClassification from the checkpoint of a model that you expect to be exactly identical (initializing a BertForSequenceClassification model from a BertForSequenceClassification model).\n",
      "Some weights of BertForSequenceClassification were not initialized from the model checkpoint at bert-base-multilingual-uncased and are newly initialized: ['classifier.weight', 'classifier.bias']\n",
      "You should probably TRAIN this model on a down-stream task to be able to use it for predictions and inference.\n",
      "Some weights of the model checkpoint at bert-base-multilingual-uncased were not used when initializing BertForSequenceClassification: ['cls.predictions.bias', 'cls.predictions.transform.dense.weight', 'cls.predictions.transform.dense.bias', 'cls.predictions.decoder.weight', 'cls.seq_relationship.weight', 'cls.seq_relationship.bias', 'cls.predictions.transform.LayerNorm.weight', 'cls.predictions.transform.LayerNorm.bias']\n",
      "- This IS expected if you are initializing BertForSequenceClassification from the checkpoint of a model trained on another task or with another architecture (e.g. initializing a BertForSequenceClassification model from a BertForPreTraining model).\n",
      "- This IS NOT expected if you are initializing BertForSequenceClassification from the checkpoint of a model that you expect to be exactly identical (initializing a BertForSequenceClassification model from a BertForSequenceClassification model).\n",
      "Some weights of BertForSequenceClassification were not initialized from the model checkpoint at bert-base-multilingual-uncased and are newly initialized: ['classifier.weight', 'classifier.bias']\n",
      "You should probably TRAIN this model on a down-stream task to be able to use it for predictions and inference.\n"
     ]
    }
   ],
   "source": [
    "#Building the Malay models\n",
    "multi_model_1 = BertForSequenceClassification.from_pretrained(multi_model_name)\n",
    "multi_model_2 = BertForSequenceClassification.from_pretrained(multi_model_name)\n",
    "multi_model_3 = BertForSequenceClassification.from_pretrained(multi_model_name)\n",
    "multi_model_4 = BertForSequenceClassification.from_pretrained(multi_model_name)"
   ]
  },
  {
   "cell_type": "code",
   "execution_count": null,
   "metadata": {
    "collapsed": false,
    "gradient": {
     "editing": false,
     "id": "d146b922-eae7-4b21-ad60-ddcda24a4121",
     "kernelId": "0c0438cc-8809-4072-a10a-acb706ba8551",
     "source_hidden": false
    },
    "id": "Wuxme9_TLxKm",
    "jupyter": {
     "outputs_hidden": false
    }
   },
   "outputs": [],
   "source": [
    "#Tokenizing text with defined bert tokenizer\n",
    "x_train_multi = multi_tokenizer(x_train_multi, padding=True, truncation=True, max_length=100)\n",
    "x_val_multi = multi_tokenizer(x_val_multi, padding=True, truncation=True, max_length=100)"
   ]
  },
  {
   "cell_type": "code",
   "execution_count": null,
   "metadata": {
    "collapsed": false,
    "gradient": {
     "editing": false,
     "id": "344d89a0-8feb-4749-9bb1-59a57d41ecbb",
     "kernelId": "0c0438cc-8809-4072-a10a-acb706ba8551",
     "source_hidden": false
    },
    "id": "YdP1jakZLxKm",
    "jupyter": {
     "outputs_hidden": false
    }
   },
   "outputs": [],
   "source": [
    "#Converting train and validation dataset to torch dataset\n",
    "train_multi_ds = Dataset(x_train_multi, y_train_multi)\n",
    "val_multi_ds = Dataset(x_val_multi, y_val_multi)"
   ]
  },
  {
   "cell_type": "markdown",
   "metadata": {
    "gradient": {
     "editing": false,
     "id": "adac9d1b-4898-4ea0-8c6e-42e8a2bcb0b5",
     "kernelId": "0c0438cc-8809-4072-a10a-acb706ba8551"
    },
    "id": "FRijkyyxLxKm"
   },
   "source": [
    "### Multilingual Model 1 (learning rate = 2e-5, batch size = 16)"
   ]
  },
  {
   "cell_type": "code",
   "execution_count": null,
   "metadata": {
    "collapsed": false,
    "gradient": {
     "editing": false,
     "id": "5b83d780-af28-42c8-8d56-be68945cf092",
     "kernelId": "0c0438cc-8809-4072-a10a-acb706ba8551",
     "source_hidden": false
    },
    "id": "hetll-UiLxKm",
    "jupyter": {
     "outputs_hidden": false
    }
   },
   "outputs": [],
   "source": [
    "#Defining arguments for training multilingual model 1 using learning rate = 2e-5 and batch size = 16\n",
    "args_1 = TrainingArguments(\n",
    "    output_dir=\"Checkpoints/multi_model_1\",\n",
    "    evaluation_strategy=\"steps\",\n",
    "    eval_steps=500,\n",
    "    per_device_train_batch_size=16,\n",
    "    per_device_eval_batch_size=16,\n",
    "    learning_rate=2e-5,\n",
    "    num_train_epochs=3,\n",
    "    seed=7,\n",
    ")"
   ]
  },
  {
   "cell_type": "code",
   "execution_count": null,
   "metadata": {
    "collapsed": false,
    "gradient": {
     "editing": false,
     "id": "5b5df3bc-e88e-4333-9740-1f0d3682c8e2",
     "kernelId": "0c0438cc-8809-4072-a10a-acb706ba8551",
     "source_hidden": false
    },
    "id": "YSlgCw7HLxKm",
    "jupyter": {
     "outputs_hidden": false
    }
   },
   "outputs": [],
   "source": [
    "#Defining trainer to train multilingual model 1\n",
    "trainer_1 = Trainer(\n",
    "    model=multi_model_1,\n",
    "    args=args_1,\n",
    "    train_dataset=train_multi_ds,\n",
    "    eval_dataset=val_multi_ds,\n",
    "    compute_metrics=compute_metrics,\n",
    ")"
   ]
  },
  {
   "cell_type": "code",
   "execution_count": null,
   "metadata": {
    "collapsed": false,
    "gradient": {
     "editing": false,
     "id": "58de8efa-d89b-431e-baac-b0281d6c36fa",
     "kernelId": "0c0438cc-8809-4072-a10a-acb706ba8551",
     "source_hidden": false
    },
    "id": "jvc5O-UyLxKm",
    "jupyter": {
     "outputs_hidden": false
    },
    "outputId": "91676f0c-f6c2-4a5a-9342-a359209a791e"
   },
   "outputs": [
    {
     "data": {
      "text/html": [
       "\n",
       "    <div>\n",
       "        <style>\n",
       "            /* Turns off some styling */\n",
       "            progress {\n",
       "                /* gets rid of default border in Firefox and Opera. */\n",
       "                border: none;\n",
       "                /* Needs to be in here for Safari polyfill so background images work as expected. */\n",
       "                background-size: auto;\n",
       "            }\n",
       "        </style>\n",
       "      \n",
       "      <progress value='7386' max='7386' style='width:300px; height:20px; vertical-align: middle;'></progress>\n",
       "      [7386/7386 40:41, Epoch 3/3]\n",
       "    </div>\n",
       "    <table border=\"1\" class=\"dataframe\">\n",
       "  <thead>\n",
       "    <tr style=\"text-align: left;\">\n",
       "      <th>Step</th>\n",
       "      <th>Training Loss</th>\n",
       "      <th>Validation Loss</th>\n",
       "      <th>Accuracy</th>\n",
       "      <th>Precision</th>\n",
       "      <th>Recall</th>\n",
       "      <th>F1</th>\n",
       "    </tr>\n",
       "  </thead>\n",
       "  <tbody>\n",
       "    <tr>\n",
       "      <td>500</td>\n",
       "      <td>0.400654</td>\n",
       "      <td>0.351180</td>\n",
       "      <td>0.856142</td>\n",
       "      <td>0.771238</td>\n",
       "      <td>0.922705</td>\n",
       "      <td>0.840200</td>\n",
       "    </tr>\n",
       "    <tr>\n",
       "      <td>1000</td>\n",
       "      <td>0.317854</td>\n",
       "      <td>0.294203</td>\n",
       "      <td>0.886223</td>\n",
       "      <td>0.890205</td>\n",
       "      <td>0.824043</td>\n",
       "      <td>0.855847</td>\n",
       "    </tr>\n",
       "    <tr>\n",
       "      <td>1500</td>\n",
       "      <td>0.300721</td>\n",
       "      <td>0.350275</td>\n",
       "      <td>0.891630</td>\n",
       "      <td>0.842771</td>\n",
       "      <td>0.904311</td>\n",
       "      <td>0.872457</td>\n",
       "    </tr>\n",
       "    <tr>\n",
       "      <td>2000</td>\n",
       "      <td>0.294148</td>\n",
       "      <td>0.256110</td>\n",
       "      <td>0.903130</td>\n",
       "      <td>0.880838</td>\n",
       "      <td>0.883129</td>\n",
       "      <td>0.881982</td>\n",
       "    </tr>\n",
       "    <tr>\n",
       "      <td>2500</td>\n",
       "      <td>0.277527</td>\n",
       "      <td>0.262808</td>\n",
       "      <td>0.903206</td>\n",
       "      <td>0.903752</td>\n",
       "      <td>0.854887</td>\n",
       "      <td>0.878640</td>\n",
       "    </tr>\n",
       "    <tr>\n",
       "      <td>3000</td>\n",
       "      <td>0.245446</td>\n",
       "      <td>0.312233</td>\n",
       "      <td>0.902749</td>\n",
       "      <td>0.872843</td>\n",
       "      <td>0.892791</td>\n",
       "      <td>0.882704</td>\n",
       "    </tr>\n",
       "    <tr>\n",
       "      <td>3500</td>\n",
       "      <td>0.245925</td>\n",
       "      <td>0.292149</td>\n",
       "      <td>0.906709</td>\n",
       "      <td>0.908912</td>\n",
       "      <td>0.858417</td>\n",
       "      <td>0.882943</td>\n",
       "    </tr>\n",
       "    <tr>\n",
       "      <td>4000</td>\n",
       "      <td>0.230172</td>\n",
       "      <td>0.303938</td>\n",
       "      <td>0.906329</td>\n",
       "      <td>0.879525</td>\n",
       "      <td>0.893906</td>\n",
       "      <td>0.886657</td>\n",
       "    </tr>\n",
       "    <tr>\n",
       "      <td>4500</td>\n",
       "      <td>0.235648</td>\n",
       "      <td>0.292493</td>\n",
       "      <td>0.905719</td>\n",
       "      <td>0.890501</td>\n",
       "      <td>0.877926</td>\n",
       "      <td>0.884169</td>\n",
       "    </tr>\n",
       "    <tr>\n",
       "      <td>5000</td>\n",
       "      <td>0.208555</td>\n",
       "      <td>0.308459</td>\n",
       "      <td>0.907547</td>\n",
       "      <td>0.881965</td>\n",
       "      <td>0.894091</td>\n",
       "      <td>0.887987</td>\n",
       "    </tr>\n",
       "    <tr>\n",
       "      <td>5500</td>\n",
       "      <td>0.193998</td>\n",
       "      <td>0.326490</td>\n",
       "      <td>0.905643</td>\n",
       "      <td>0.896156</td>\n",
       "      <td>0.870680</td>\n",
       "      <td>0.883234</td>\n",
       "    </tr>\n",
       "    <tr>\n",
       "      <td>6000</td>\n",
       "      <td>0.186956</td>\n",
       "      <td>0.311755</td>\n",
       "      <td>0.906405</td>\n",
       "      <td>0.887190</td>\n",
       "      <td>0.884058</td>\n",
       "      <td>0.885621</td>\n",
       "    </tr>\n",
       "    <tr>\n",
       "      <td>6500</td>\n",
       "      <td>0.186613</td>\n",
       "      <td>0.311689</td>\n",
       "      <td>0.906176</td>\n",
       "      <td>0.888722</td>\n",
       "      <td>0.881457</td>\n",
       "      <td>0.885075</td>\n",
       "    </tr>\n",
       "    <tr>\n",
       "      <td>7000</td>\n",
       "      <td>0.189087</td>\n",
       "      <td>0.316320</td>\n",
       "      <td>0.907166</td>\n",
       "      <td>0.888847</td>\n",
       "      <td>0.884058</td>\n",
       "      <td>0.886446</td>\n",
       "    </tr>\n",
       "  </tbody>\n",
       "</table><p>"
      ],
      "text/plain": [
       "<IPython.core.display.HTML object>"
      ]
     },
     "metadata": {
      "display_id": "8c7be11e99473d05ce79fcc2c8d93ab4"
     },
     "output_type": "display_data"
    },
    {
     "data": {
      "text/plain": [
       "TrainOutput(global_step=7386, training_loss=0.2476901672346754)"
      ]
     },
     "execution_count": 35,
     "metadata": {},
     "output_type": "execute_result"
    }
   ],
   "source": [
    "trainer_1.train()"
   ]
  },
  {
   "cell_type": "code",
   "execution_count": null,
   "metadata": {
    "collapsed": false,
    "gradient": {
     "editing": false,
     "id": "1166d015-2dca-43d9-a515-8ed212d70cea",
     "kernelId": "0c0438cc-8809-4072-a10a-acb706ba8551",
     "source_hidden": false
    },
    "id": "2ywp6bgFLxKn",
    "jupyter": {
     "outputs_hidden": false
    },
    "outputId": "1130e46c-01a6-4f2d-834a-cdde8472d5cf"
   },
   "outputs": [
    {
     "data": {
      "text/html": [
       "\n",
       "    <div>\n",
       "        <style>\n",
       "            /* Turns off some styling */\n",
       "            progress {\n",
       "                /* gets rid of default border in Firefox and Opera. */\n",
       "                border: none;\n",
       "                /* Needs to be in here for Safari polyfill so background images work as expected. */\n",
       "                background-size: auto;\n",
       "            }\n",
       "        </style>\n",
       "      \n",
       "      <progress value='821' max='821' style='width:300px; height:20px; vertical-align: middle;'></progress>\n",
       "      [821/821 00:51]\n",
       "    </div>\n",
       "    "
      ],
      "text/plain": [
       "<IPython.core.display.HTML object>"
      ]
     },
     "metadata": {
      "display_id": "2050cac8e5ee2a15c3a9f3806b76d5cd"
     },
     "output_type": "display_data"
    },
    {
     "data": {
      "text/plain": [
       "{'eval_loss': 0.3218161165714264,\n",
       " 'eval_accuracy': 0.9067854694996573,\n",
       " 'eval_precision': 0.8875838926174496,\n",
       " 'eval_recall': 0.8846153846153846,\n",
       " 'eval_f1': 0.8860971524288107,\n",
       " 'epoch': 3.0}"
      ]
     },
     "execution_count": 36,
     "metadata": {},
     "output_type": "execute_result"
    }
   ],
   "source": [
    "#Evaluate performance of multilingual model 1\n",
    "trainer_1.evaluate()"
   ]
  },
  {
   "cell_type": "code",
   "execution_count": null,
   "metadata": {
    "collapsed": false,
    "gradient": {
     "editing": false,
     "id": "8ccb828e-6e20-42b4-99e6-0fc68f33f4ab",
     "kernelId": "0c0438cc-8809-4072-a10a-acb706ba8551",
     "source_hidden": false
    },
    "id": "5KZlK4zvLxKn",
    "jupyter": {
     "outputs_hidden": false
    }
   },
   "outputs": [],
   "source": [
    "#Saving multilingual model 1\n",
    "model_path = \"Models/Multilingual Model 1\"\n",
    "multi_model_1.save_pretrained(model_path)"
   ]
  },
  {
   "cell_type": "markdown",
   "metadata": {
    "gradient": {
     "editing": false,
     "id": "915e7910-4b7a-41bb-ac23-42ea093ad941",
     "kernelId": "0c0438cc-8809-4072-a10a-acb706ba8551"
    },
    "id": "YPyDP--dLxKn"
   },
   "source": [
    "### Multilingual Model 2 (learning rate = 3e-5, batch size = 16)"
   ]
  },
  {
   "cell_type": "code",
   "execution_count": null,
   "metadata": {
    "collapsed": false,
    "gradient": {
     "editing": false,
     "id": "4971eb0f-3908-4fcc-8a74-26ae8452edb6",
     "kernelId": "0c0438cc-8809-4072-a10a-acb706ba8551",
     "source_hidden": false
    },
    "id": "12s49vmkLxKn",
    "jupyter": {
     "outputs_hidden": false
    }
   },
   "outputs": [],
   "source": [
    "#Defining arguments for training multilingual model 2 using learning rate = 3e-5 and batch size = 16\n",
    "args_2 = TrainingArguments(\n",
    "    output_dir=\"Checkpoints/multi_model_2\",\n",
    "    evaluation_strategy=\"steps\",\n",
    "    eval_steps=500,\n",
    "    per_device_train_batch_size=16,\n",
    "    per_device_eval_batch_size=16,\n",
    "    learning_rate=3e-5,\n",
    "    num_train_epochs=3,\n",
    "    seed=7,\n",
    ")"
   ]
  },
  {
   "cell_type": "code",
   "execution_count": null,
   "metadata": {
    "collapsed": false,
    "gradient": {
     "editing": false,
     "id": "dafe280c-ea73-4f06-803e-a626bc1845f4",
     "kernelId": "0c0438cc-8809-4072-a10a-acb706ba8551",
     "source_hidden": false
    },
    "id": "WkLC9D62LxKn",
    "jupyter": {
     "outputs_hidden": false
    }
   },
   "outputs": [],
   "source": [
    "#Defining trainer to train multilingual model 2\n",
    "trainer_2 = Trainer(\n",
    "    model=multi_model_2,\n",
    "    args=args_2,\n",
    "    train_dataset=train_multi_ds,\n",
    "    eval_dataset=val_multi_ds,\n",
    "    compute_metrics=compute_metrics,\n",
    ")"
   ]
  },
  {
   "cell_type": "code",
   "execution_count": null,
   "metadata": {
    "collapsed": false,
    "gradient": {
     "editing": false,
     "id": "3cb7d94f-cc45-48c7-84ae-28238f03e805",
     "kernelId": "0c0438cc-8809-4072-a10a-acb706ba8551",
     "source_hidden": false
    },
    "id": "W9uDsKKBLxKn",
    "jupyter": {
     "outputs_hidden": false
    },
    "outputId": "6a814333-4c9d-4db6-aa90-0394960e65ed"
   },
   "outputs": [
    {
     "data": {
      "text/html": [
       "\n",
       "    <div>\n",
       "        <style>\n",
       "            /* Turns off some styling */\n",
       "            progress {\n",
       "                /* gets rid of default border in Firefox and Opera. */\n",
       "                border: none;\n",
       "                /* Needs to be in here for Safari polyfill so background images work as expected. */\n",
       "                background-size: auto;\n",
       "            }\n",
       "        </style>\n",
       "      \n",
       "      <progress value='7386' max='7386' style='width:300px; height:20px; vertical-align: middle;'></progress>\n",
       "      [7386/7386 40:31, Epoch 3/3]\n",
       "    </div>\n",
       "    <table border=\"1\" class=\"dataframe\">\n",
       "  <thead>\n",
       "    <tr style=\"text-align: left;\">\n",
       "      <th>Step</th>\n",
       "      <th>Training Loss</th>\n",
       "      <th>Validation Loss</th>\n",
       "      <th>Accuracy</th>\n",
       "      <th>Precision</th>\n",
       "      <th>Recall</th>\n",
       "      <th>F1</th>\n",
       "    </tr>\n",
       "  </thead>\n",
       "  <tbody>\n",
       "    <tr>\n",
       "      <td>500</td>\n",
       "      <td>0.404459</td>\n",
       "      <td>0.363228</td>\n",
       "      <td>0.844642</td>\n",
       "      <td>0.760768</td>\n",
       "      <td>0.905797</td>\n",
       "      <td>0.826972</td>\n",
       "    </tr>\n",
       "    <tr>\n",
       "      <td>1000</td>\n",
       "      <td>0.323355</td>\n",
       "      <td>0.329817</td>\n",
       "      <td>0.881121</td>\n",
       "      <td>0.914156</td>\n",
       "      <td>0.783538</td>\n",
       "      <td>0.843822</td>\n",
       "    </tr>\n",
       "    <tr>\n",
       "      <td>1500</td>\n",
       "      <td>0.313009</td>\n",
       "      <td>0.334565</td>\n",
       "      <td>0.892849</td>\n",
       "      <td>0.860904</td>\n",
       "      <td>0.880899</td>\n",
       "      <td>0.870787</td>\n",
       "    </tr>\n",
       "    <tr>\n",
       "      <td>2000</td>\n",
       "      <td>0.304458</td>\n",
       "      <td>0.270338</td>\n",
       "      <td>0.900312</td>\n",
       "      <td>0.868998</td>\n",
       "      <td>0.891119</td>\n",
       "      <td>0.879919</td>\n",
       "    </tr>\n",
       "    <tr>\n",
       "      <td>2500</td>\n",
       "      <td>0.286137</td>\n",
       "      <td>0.258804</td>\n",
       "      <td>0.903815</td>\n",
       "      <td>0.905653</td>\n",
       "      <td>0.854329</td>\n",
       "      <td>0.879243</td>\n",
       "    </tr>\n",
       "    <tr>\n",
       "      <td>3000</td>\n",
       "      <td>0.247336</td>\n",
       "      <td>0.302972</td>\n",
       "      <td>0.904653</td>\n",
       "      <td>0.883259</td>\n",
       "      <td>0.884244</td>\n",
       "      <td>0.883751</td>\n",
       "    </tr>\n",
       "    <tr>\n",
       "      <td>3500</td>\n",
       "      <td>0.251114</td>\n",
       "      <td>0.289797</td>\n",
       "      <td>0.899855</td>\n",
       "      <td>0.918158</td>\n",
       "      <td>0.829617</td>\n",
       "      <td>0.871645</td>\n",
       "    </tr>\n",
       "    <tr>\n",
       "      <td>4000</td>\n",
       "      <td>0.231991</td>\n",
       "      <td>0.337294</td>\n",
       "      <td>0.897114</td>\n",
       "      <td>0.854280</td>\n",
       "      <td>0.903010</td>\n",
       "      <td>0.877969</td>\n",
       "    </tr>\n",
       "    <tr>\n",
       "      <td>4500</td>\n",
       "      <td>0.246526</td>\n",
       "      <td>0.274209</td>\n",
       "      <td>0.904729</td>\n",
       "      <td>0.897288</td>\n",
       "      <td>0.866778</td>\n",
       "      <td>0.881769</td>\n",
       "    </tr>\n",
       "    <tr>\n",
       "      <td>5000</td>\n",
       "      <td>0.215211</td>\n",
       "      <td>0.315979</td>\n",
       "      <td>0.906633</td>\n",
       "      <td>0.880307</td>\n",
       "      <td>0.893720</td>\n",
       "      <td>0.886963</td>\n",
       "    </tr>\n",
       "    <tr>\n",
       "      <td>5500</td>\n",
       "      <td>0.198140</td>\n",
       "      <td>0.318028</td>\n",
       "      <td>0.906329</td>\n",
       "      <td>0.895881</td>\n",
       "      <td>0.872910</td>\n",
       "      <td>0.884246</td>\n",
       "    </tr>\n",
       "    <tr>\n",
       "      <td>6000</td>\n",
       "      <td>0.187171</td>\n",
       "      <td>0.319813</td>\n",
       "      <td>0.906329</td>\n",
       "      <td>0.884018</td>\n",
       "      <td>0.887960</td>\n",
       "      <td>0.885984</td>\n",
       "    </tr>\n",
       "    <tr>\n",
       "      <td>6500</td>\n",
       "      <td>0.194649</td>\n",
       "      <td>0.308835</td>\n",
       "      <td>0.906938</td>\n",
       "      <td>0.888060</td>\n",
       "      <td>0.884430</td>\n",
       "      <td>0.886241</td>\n",
       "    </tr>\n",
       "    <tr>\n",
       "      <td>7000</td>\n",
       "      <td>0.190488</td>\n",
       "      <td>0.309110</td>\n",
       "      <td>0.905643</td>\n",
       "      <td>0.880022</td>\n",
       "      <td>0.891304</td>\n",
       "      <td>0.885627</td>\n",
       "    </tr>\n",
       "  </tbody>\n",
       "</table><p>"
      ],
      "text/plain": [
       "<IPython.core.display.HTML object>"
      ]
     },
     "metadata": {
      "display_id": "886dbeb24f54dcb4ebc450a4884bbfa8"
     },
     "output_type": "display_data"
    },
    {
     "data": {
      "text/plain": [
       "TrainOutput(global_step=7386, training_loss=0.2534934156734447)"
      ]
     },
     "execution_count": 40,
     "metadata": {},
     "output_type": "execute_result"
    }
   ],
   "source": [
    "trainer_2.train()"
   ]
  },
  {
   "cell_type": "code",
   "execution_count": null,
   "metadata": {
    "collapsed": false,
    "gradient": {
     "editing": false,
     "id": "b2ed2f24-6ac3-4576-ad03-e006b1e8f24b",
     "kernelId": "0c0438cc-8809-4072-a10a-acb706ba8551",
     "source_hidden": false
    },
    "id": "-UL0uSPPLxKn",
    "jupyter": {
     "outputs_hidden": false
    },
    "outputId": "567b4fe0-9c47-438a-a575-6f0f00ee3485"
   },
   "outputs": [
    {
     "data": {
      "text/html": [
       "\n",
       "    <div>\n",
       "        <style>\n",
       "            /* Turns off some styling */\n",
       "            progress {\n",
       "                /* gets rid of default border in Firefox and Opera. */\n",
       "                border: none;\n",
       "                /* Needs to be in here for Safari polyfill so background images work as expected. */\n",
       "                background-size: auto;\n",
       "            }\n",
       "        </style>\n",
       "      \n",
       "      <progress value='821' max='821' style='width:300px; height:20px; vertical-align: middle;'></progress>\n",
       "      [821/821 00:51]\n",
       "    </div>\n",
       "    "
      ],
      "text/plain": [
       "<IPython.core.display.HTML object>"
      ]
     },
     "metadata": {
      "display_id": "b85c34894984d8991a114f2d3ca4e8cf"
     },
     "output_type": "display_data"
    },
    {
     "data": {
      "text/plain": [
       "{'eval_loss': 0.3196714520454407,\n",
       " 'eval_accuracy': 0.9060239128779225,\n",
       " 'eval_precision': 0.8797143903332113,\n",
       " 'eval_recall': 0.8927907840951319,\n",
       " 'eval_f1': 0.8862043526374033,\n",
       " 'epoch': 3.0}"
      ]
     },
     "execution_count": 41,
     "metadata": {},
     "output_type": "execute_result"
    }
   ],
   "source": [
    "#Evaluate performance of multilingual model 2\n",
    "trainer_2.evaluate()"
   ]
  },
  {
   "cell_type": "code",
   "execution_count": null,
   "metadata": {
    "collapsed": false,
    "gradient": {
     "editing": false,
     "id": "2b5e8966-6fd1-45f1-8a02-84c7a60099bf",
     "kernelId": "0c0438cc-8809-4072-a10a-acb706ba8551",
     "source_hidden": false
    },
    "id": "hz0htjlzLxKn",
    "jupyter": {
     "outputs_hidden": false
    }
   },
   "outputs": [],
   "source": [
    "#Saving multilingual model 2\n",
    "model_path = \"Models/Multilingual Model 2\"\n",
    "multi_model_2.save_pretrained(model_path)"
   ]
  },
  {
   "cell_type": "markdown",
   "metadata": {
    "gradient": {
     "editing": false,
     "id": "a72f143f-49b5-4f0e-81c3-f55f2e06097e",
     "kernelId": "0c0438cc-8809-4072-a10a-acb706ba8551"
    },
    "id": "f3j0dIOBLxKn"
   },
   "source": [
    "### Multilingual Model 3 (learning rate = 2e-5, batch size = 32)"
   ]
  },
  {
   "cell_type": "code",
   "execution_count": null,
   "metadata": {
    "collapsed": false,
    "gradient": {
     "editing": false,
     "id": "bce7128c-4f6f-4520-a1ab-78da91f20770",
     "kernelId": "0c0438cc-8809-4072-a10a-acb706ba8551",
     "source_hidden": false
    },
    "id": "ZHm1oJfrLxKn",
    "jupyter": {
     "outputs_hidden": false
    }
   },
   "outputs": [],
   "source": [
    "#Defining arguments for training multilingual model 3 using learning rate = 2e-5 and batch size = 32\n",
    "args_3 = TrainingArguments(\n",
    "    output_dir=\"Checkpoints/multi_model_3\",\n",
    "    evaluation_strategy=\"steps\",\n",
    "    eval_steps=500,\n",
    "    per_device_train_batch_size=32,\n",
    "    per_device_eval_batch_size=32,\n",
    "    learning_rate=2e-5,\n",
    "    num_train_epochs=3,\n",
    "    seed=7,\n",
    ")"
   ]
  },
  {
   "cell_type": "code",
   "execution_count": null,
   "metadata": {
    "collapsed": false,
    "gradient": {
     "editing": false,
     "id": "910db7de-bd91-4aa4-9e6c-eb3e5c52083c",
     "kernelId": "0c0438cc-8809-4072-a10a-acb706ba8551",
     "source_hidden": false
    },
    "id": "2r68luIZLxKn",
    "jupyter": {
     "outputs_hidden": false
    }
   },
   "outputs": [],
   "source": [
    "#Defining trainer to train multilingual model 3\n",
    "trainer_3 = Trainer(\n",
    "    model=multi_model_3,\n",
    "    args=args_3,\n",
    "    train_dataset=train_multi_ds,\n",
    "    eval_dataset=val_multi_ds,\n",
    "    compute_metrics=compute_metrics,\n",
    ")"
   ]
  },
  {
   "cell_type": "code",
   "execution_count": null,
   "metadata": {
    "collapsed": false,
    "gradient": {
     "editing": false,
     "id": "95702cd8-b114-4391-9919-afef35f7e3c3",
     "kernelId": "0c0438cc-8809-4072-a10a-acb706ba8551",
     "source_hidden": false
    },
    "id": "S8OLnVSZLxKn",
    "jupyter": {
     "outputs_hidden": false
    },
    "outputId": "3761359f-1475-4853-82b7-0aa046599729"
   },
   "outputs": [
    {
     "data": {
      "text/html": [
       "\n",
       "    <div>\n",
       "        <style>\n",
       "            /* Turns off some styling */\n",
       "            progress {\n",
       "                /* gets rid of default border in Firefox and Opera. */\n",
       "                border: none;\n",
       "                /* Needs to be in here for Safari polyfill so background images work as expected. */\n",
       "                background-size: auto;\n",
       "            }\n",
       "        </style>\n",
       "      \n",
       "      <progress value='3693' max='3693' style='width:300px; height:20px; vertical-align: middle;'></progress>\n",
       "      [3693/3693 21:38, Epoch 3/3]\n",
       "    </div>\n",
       "    <table border=\"1\" class=\"dataframe\">\n",
       "  <thead>\n",
       "    <tr style=\"text-align: left;\">\n",
       "      <th>Step</th>\n",
       "      <th>Training Loss</th>\n",
       "      <th>Validation Loss</th>\n",
       "      <th>Accuracy</th>\n",
       "      <th>Precision</th>\n",
       "      <th>Recall</th>\n",
       "      <th>F1</th>\n",
       "    </tr>\n",
       "  </thead>\n",
       "  <tbody>\n",
       "    <tr>\n",
       "      <td>500</td>\n",
       "      <td>0.356135</td>\n",
       "      <td>0.288645</td>\n",
       "      <td>0.886757</td>\n",
       "      <td>0.874447</td>\n",
       "      <td>0.845039</td>\n",
       "      <td>0.859492</td>\n",
       "    </tr>\n",
       "    <tr>\n",
       "      <td>1000</td>\n",
       "      <td>0.290948</td>\n",
       "      <td>0.262994</td>\n",
       "      <td>0.900312</td>\n",
       "      <td>0.862689</td>\n",
       "      <td>0.900037</td>\n",
       "      <td>0.880968</td>\n",
       "    </tr>\n",
       "    <tr>\n",
       "      <td>1500</td>\n",
       "      <td>0.250307</td>\n",
       "      <td>0.268910</td>\n",
       "      <td>0.902597</td>\n",
       "      <td>0.861498</td>\n",
       "      <td>0.908398</td>\n",
       "      <td>0.884327</td>\n",
       "    </tr>\n",
       "    <tr>\n",
       "      <td>2000</td>\n",
       "      <td>0.230839</td>\n",
       "      <td>0.261222</td>\n",
       "      <td>0.901759</td>\n",
       "      <td>0.861996</td>\n",
       "      <td>0.905240</td>\n",
       "      <td>0.883089</td>\n",
       "    </tr>\n",
       "    <tr>\n",
       "      <td>2500</td>\n",
       "      <td>0.216821</td>\n",
       "      <td>0.259144</td>\n",
       "      <td>0.908385</td>\n",
       "      <td>0.881365</td>\n",
       "      <td>0.897250</td>\n",
       "      <td>0.889237</td>\n",
       "    </tr>\n",
       "    <tr>\n",
       "      <td>3000</td>\n",
       "      <td>0.182867</td>\n",
       "      <td>0.264902</td>\n",
       "      <td>0.908385</td>\n",
       "      <td>0.897319</td>\n",
       "      <td>0.876812</td>\n",
       "      <td>0.886947</td>\n",
       "    </tr>\n",
       "    <tr>\n",
       "      <td>3500</td>\n",
       "      <td>0.167112</td>\n",
       "      <td>0.282998</td>\n",
       "      <td>0.907319</td>\n",
       "      <td>0.881620</td>\n",
       "      <td>0.893906</td>\n",
       "      <td>0.887720</td>\n",
       "    </tr>\n",
       "  </tbody>\n",
       "</table><p>"
      ],
      "text/plain": [
       "<IPython.core.display.HTML object>"
      ]
     },
     "metadata": {
      "display_id": "84de89b3dfc837cc007b52a9f7c2de87"
     },
     "output_type": "display_data"
    },
    {
     "data": {
      "text/plain": [
       "TrainOutput(global_step=3693, training_loss=0.2388316902596551)"
      ]
     },
     "execution_count": 32,
     "metadata": {},
     "output_type": "execute_result"
    }
   ],
   "source": [
    "trainer_3.train()"
   ]
  },
  {
   "cell_type": "code",
   "execution_count": null,
   "metadata": {
    "collapsed": false,
    "gradient": {
     "editing": false,
     "id": "bb5e6801-5d00-4d08-9446-af8bc889a7bf",
     "kernelId": "0c0438cc-8809-4072-a10a-acb706ba8551",
     "source_hidden": false
    },
    "id": "nnvyG31JLxKo",
    "jupyter": {
     "outputs_hidden": false
    },
    "outputId": "e6910cc9-879a-4aaf-80c0-3f305deb33e8"
   },
   "outputs": [
    {
     "data": {
      "text/html": [
       "\n",
       "    <div>\n",
       "        <style>\n",
       "            /* Turns off some styling */\n",
       "            progress {\n",
       "                /* gets rid of default border in Firefox and Opera. */\n",
       "                border: none;\n",
       "                /* Needs to be in here for Safari polyfill so background images work as expected. */\n",
       "                background-size: auto;\n",
       "            }\n",
       "        </style>\n",
       "      \n",
       "      <progress value='411' max='411' style='width:300px; height:20px; vertical-align: middle;'></progress>\n",
       "      [411/411 00:33]\n",
       "    </div>\n",
       "    "
      ],
      "text/plain": [
       "<IPython.core.display.HTML object>"
      ]
     },
     "metadata": {
      "display_id": "1109deacb486eaf0b90b29dab7b92cd3"
     },
     "output_type": "display_data"
    },
    {
     "data": {
      "text/plain": [
       "{'eval_loss': 0.27520260214805603,\n",
       " 'eval_accuracy': 0.9080039600944331,\n",
       " 'eval_precision': 0.8864814814814815,\n",
       " 'eval_recall': 0.8894463024897807,\n",
       " 'eval_f1': 0.8879614171767761,\n",
       " 'epoch': 3.0}"
      ]
     },
     "execution_count": 33,
     "metadata": {},
     "output_type": "execute_result"
    }
   ],
   "source": [
    "#Evaluate performance of multilingual model 3\n",
    "trainer_3.evaluate()"
   ]
  },
  {
   "cell_type": "code",
   "execution_count": null,
   "metadata": {
    "collapsed": false,
    "gradient": {
     "editing": false,
     "id": "1b2ad9e3-f630-40b5-a9a8-2e0e98a2fc0e",
     "kernelId": "0c0438cc-8809-4072-a10a-acb706ba8551",
     "source_hidden": false
    },
    "id": "-r_lVK9nLxKo",
    "jupyter": {
     "outputs_hidden": false
    }
   },
   "outputs": [],
   "source": [
    "#Saving multilingual model 3\n",
    "model_path = \"Models/Multilingual Model 3\"\n",
    "multi_model_3.save_pretrained(model_path)"
   ]
  },
  {
   "cell_type": "markdown",
   "metadata": {
    "gradient": {
     "editing": false,
     "id": "9498789c-b461-493e-877a-b3112e6b54bf",
     "kernelId": "0c0438cc-8809-4072-a10a-acb706ba8551"
    },
    "id": "gpYsykAULxKo"
   },
   "source": [
    "### Multilingual Model 4 (learning rate = 3e-5, batch size = 32)"
   ]
  },
  {
   "cell_type": "code",
   "execution_count": null,
   "metadata": {
    "collapsed": false,
    "gradient": {
     "editing": false,
     "id": "da063373-9fb1-4a13-bc1d-82df19606587",
     "kernelId": "0c0438cc-8809-4072-a10a-acb706ba8551",
     "source_hidden": false
    },
    "id": "qE5rQI_0LxKo",
    "jupyter": {
     "outputs_hidden": false
    }
   },
   "outputs": [],
   "source": [
    "#Defining arguments for training multilingual model 4 using learning rate = 3e-5 and batch size = 32\n",
    "args_4 = TrainingArguments(\n",
    "    output_dir=\"Checkpoints/multi_model_4\",\n",
    "    evaluation_strategy=\"steps\",\n",
    "    eval_steps=500,\n",
    "    per_device_train_batch_size=32,\n",
    "    per_device_eval_batch_size=32,\n",
    "    learning_rate=3e-5,\n",
    "    num_train_epochs=3,\n",
    "    seed=7,\n",
    ")"
   ]
  },
  {
   "cell_type": "code",
   "execution_count": null,
   "metadata": {
    "collapsed": false,
    "gradient": {
     "editing": false,
     "id": "9d6972ce-2aeb-436f-b06b-54ca82867867",
     "kernelId": "0c0438cc-8809-4072-a10a-acb706ba8551",
     "source_hidden": false
    },
    "id": "USwvPrljLxKo",
    "jupyter": {
     "outputs_hidden": false
    }
   },
   "outputs": [],
   "source": [
    "#Defining trainer to train multilingual model 4\n",
    "trainer_4 = Trainer(\n",
    "    model=multi_model_4,\n",
    "    args=args_4,\n",
    "    train_dataset=train_multi_ds,\n",
    "    eval_dataset=val_multi_ds,\n",
    "    compute_metrics=compute_metrics,\n",
    ")"
   ]
  },
  {
   "cell_type": "code",
   "execution_count": null,
   "metadata": {
    "collapsed": false,
    "gradient": {
     "editing": false,
     "id": "e00d3223-3ea6-4cfa-a5aa-81bb59a2a93a",
     "kernelId": "0c0438cc-8809-4072-a10a-acb706ba8551",
     "source_hidden": false
    },
    "id": "_0qei-MvLxKo",
    "jupyter": {
     "outputs_hidden": false
    },
    "outputId": "605bcc08-1744-4d48-cad8-971e527696c4"
   },
   "outputs": [
    {
     "data": {
      "text/html": [
       "\n",
       "    <div>\n",
       "        <style>\n",
       "            /* Turns off some styling */\n",
       "            progress {\n",
       "                /* gets rid of default border in Firefox and Opera. */\n",
       "                border: none;\n",
       "                /* Needs to be in here for Safari polyfill so background images work as expected. */\n",
       "                background-size: auto;\n",
       "            }\n",
       "        </style>\n",
       "      \n",
       "      <progress value='3693' max='3693' style='width:300px; height:20px; vertical-align: middle;'></progress>\n",
       "      [3693/3693 21:41, Epoch 3/3]\n",
       "    </div>\n",
       "    <table border=\"1\" class=\"dataframe\">\n",
       "  <thead>\n",
       "    <tr style=\"text-align: left;\">\n",
       "      <th>Step</th>\n",
       "      <th>Training Loss</th>\n",
       "      <th>Validation Loss</th>\n",
       "      <th>Accuracy</th>\n",
       "      <th>Precision</th>\n",
       "      <th>Recall</th>\n",
       "      <th>F1</th>\n",
       "    </tr>\n",
       "  </thead>\n",
       "  <tbody>\n",
       "    <tr>\n",
       "      <td>500</td>\n",
       "      <td>0.351818</td>\n",
       "      <td>0.297987</td>\n",
       "      <td>0.882720</td>\n",
       "      <td>0.870849</td>\n",
       "      <td>0.838164</td>\n",
       "      <td>0.854194</td>\n",
       "    </tr>\n",
       "    <tr>\n",
       "      <td>1000</td>\n",
       "      <td>0.290968</td>\n",
       "      <td>0.265544</td>\n",
       "      <td>0.895971</td>\n",
       "      <td>0.851049</td>\n",
       "      <td>0.904496</td>\n",
       "      <td>0.876959</td>\n",
       "    </tr>\n",
       "    <tr>\n",
       "      <td>1500</td>\n",
       "      <td>0.250726</td>\n",
       "      <td>0.266486</td>\n",
       "      <td>0.902902</td>\n",
       "      <td>0.867550</td>\n",
       "      <td>0.900595</td>\n",
       "      <td>0.883763</td>\n",
       "    </tr>\n",
       "    <tr>\n",
       "      <td>2000</td>\n",
       "      <td>0.226801</td>\n",
       "      <td>0.258196</td>\n",
       "      <td>0.903663</td>\n",
       "      <td>0.871637</td>\n",
       "      <td>0.897064</td>\n",
       "      <td>0.884168</td>\n",
       "    </tr>\n",
       "    <tr>\n",
       "      <td>2500</td>\n",
       "      <td>0.212723</td>\n",
       "      <td>0.268659</td>\n",
       "      <td>0.906329</td>\n",
       "      <td>0.873247</td>\n",
       "      <td>0.902453</td>\n",
       "      <td>0.887610</td>\n",
       "    </tr>\n",
       "    <tr>\n",
       "      <td>3000</td>\n",
       "      <td>0.171318</td>\n",
       "      <td>0.278773</td>\n",
       "      <td>0.906557</td>\n",
       "      <td>0.890581</td>\n",
       "      <td>0.880156</td>\n",
       "      <td>0.885338</td>\n",
       "    </tr>\n",
       "    <tr>\n",
       "      <td>3500</td>\n",
       "      <td>0.157170</td>\n",
       "      <td>0.287895</td>\n",
       "      <td>0.906709</td>\n",
       "      <td>0.884836</td>\n",
       "      <td>0.887960</td>\n",
       "      <td>0.886395</td>\n",
       "    </tr>\n",
       "  </tbody>\n",
       "</table><p>"
      ],
      "text/plain": [
       "<IPython.core.display.HTML object>"
      ]
     },
     "metadata": {
      "display_id": "0b3ed480f76b0c8dbdd68e47bbe53b2c"
     },
     "output_type": "display_data"
    },
    {
     "data": {
      "text/plain": [
       "TrainOutput(global_step=3693, training_loss=0.23368187993966627)"
      ]
     },
     "execution_count": 37,
     "metadata": {},
     "output_type": "execute_result"
    }
   ],
   "source": [
    "trainer_4.train()"
   ]
  },
  {
   "cell_type": "code",
   "execution_count": null,
   "metadata": {
    "collapsed": false,
    "gradient": {
     "editing": false,
     "id": "50af650f-e8e5-4c43-ad91-a93209f7c757",
     "kernelId": "0c0438cc-8809-4072-a10a-acb706ba8551",
     "source_hidden": false
    },
    "id": "Z6ffdOPlLxKo",
    "jupyter": {
     "outputs_hidden": false
    },
    "outputId": "c28deea7-234b-44da-bd7d-0fd14e8a96e6"
   },
   "outputs": [
    {
     "data": {
      "text/html": [
       "\n",
       "    <div>\n",
       "        <style>\n",
       "            /* Turns off some styling */\n",
       "            progress {\n",
       "                /* gets rid of default border in Firefox and Opera. */\n",
       "                border: none;\n",
       "                /* Needs to be in here for Safari polyfill so background images work as expected. */\n",
       "                background-size: auto;\n",
       "            }\n",
       "        </style>\n",
       "      \n",
       "      <progress value='411' max='411' style='width:300px; height:20px; vertical-align: middle;'></progress>\n",
       "      [411/411 00:33]\n",
       "    </div>\n",
       "    "
      ],
      "text/plain": [
       "<IPython.core.display.HTML object>"
      ]
     },
     "metadata": {
      "display_id": "934a855918d2e327c57bd378e5ea9949"
     },
     "output_type": "display_data"
    },
    {
     "data": {
      "text/plain": [
       "{'eval_loss': 0.2789528965950012,\n",
       " 'eval_accuracy': 0.906252379864443,\n",
       " 'eval_precision': 0.8854224698235841,\n",
       " 'eval_recall': 0.885916016350799,\n",
       " 'eval_f1': 0.8856691743289682,\n",
       " 'epoch': 3.0}"
      ]
     },
     "execution_count": 38,
     "metadata": {},
     "output_type": "execute_result"
    }
   ],
   "source": [
    "#Evaluate performance of multilingual model 4\n",
    "trainer_4.evaluate()"
   ]
  },
  {
   "cell_type": "code",
   "execution_count": null,
   "metadata": {
    "collapsed": false,
    "gradient": {
     "editing": false,
     "id": "e3b0fcd5-215a-41c7-9417-463deb3a3240",
     "kernelId": "0c0438cc-8809-4072-a10a-acb706ba8551",
     "source_hidden": false
    },
    "id": "F7aWdMkzLxKo",
    "jupyter": {
     "outputs_hidden": false
    }
   },
   "outputs": [],
   "source": [
    "#Saving multilingual model 4\n",
    "model_path = \"Models/Multilingual Model 4\"\n",
    "multi_model_4.save_pretrained(model_path)"
   ]
  },
  {
   "cell_type": "markdown",
   "metadata": {
    "gradient": {
     "editing": false,
     "id": "bf5e5a56-c6a8-4145-86bc-f4573df2ce58",
     "kernelId": "0c0438cc-8809-4072-a10a-acb706ba8551"
    },
    "id": "DoH_JgwSLxKo"
   },
   "source": [
    "### Predicting test data"
   ]
  },
  {
   "cell_type": "code",
   "execution_count": null,
   "metadata": {
    "collapsed": false,
    "gradient": {
     "editing": false,
     "id": "fa24a36b-b308-4622-8232-5f643f527ba6",
     "kernelId": "0c0438cc-8809-4072-a10a-acb706ba8551",
     "source_hidden": false
    },
    "id": "83KdoIwDLxKo",
    "jupyter": {
     "outputs_hidden": false
    }
   },
   "outputs": [],
   "source": [
    "#Loading best performing model (multilingual model 3)\n",
    "multi_model_path = \"Models/Multilingual Model 3\"\n",
    "model = BertForSequenceClassification.from_pretrained(multi_model_path) "
   ]
  },
  {
   "cell_type": "code",
   "execution_count": null,
   "metadata": {
    "collapsed": false,
    "gradient": {
     "editing": false,
     "id": "908a5540-3b12-4c9d-98e9-34e5d9ee596a",
     "kernelId": "0c0438cc-8809-4072-a10a-acb706ba8551",
     "source_hidden": false
    },
    "id": "E_qCT41qLxKo",
    "jupyter": {
     "outputs_hidden": false
    }
   },
   "outputs": [],
   "source": [
    "#Defining trainer for test data\n",
    "test_trainer = Trainer(model) "
   ]
  },
  {
   "cell_type": "markdown",
   "metadata": {
    "gradient": {
     "editing": false,
     "id": "bdb6086f-1145-4fe1-bf80-280b74ad3986",
     "kernelId": "0c0438cc-8809-4072-a10a-acb706ba8551"
    },
    "id": "m1wgNJ0xLxKp"
   },
   "source": [
    "#### English test data"
   ]
  },
  {
   "cell_type": "code",
   "execution_count": null,
   "metadata": {
    "collapsed": false,
    "gradient": {
     "editing": false,
     "id": "7710646e-e5eb-4d39-ad85-0337ea1bc113",
     "kernelId": "0c0438cc-8809-4072-a10a-acb706ba8551",
     "source_hidden": false
    },
    "id": "sZbs6CKBLxKp",
    "jupyter": {
     "outputs_hidden": false
    }
   },
   "outputs": [],
   "source": [
    "#Tokenizing english text with multilingual bert tokenizer\n",
    "x_test_eng = multi_tokenizer(x_test_eng, padding=True, truncation=True, max_length=100)"
   ]
  },
  {
   "cell_type": "code",
   "execution_count": null,
   "metadata": {
    "collapsed": false,
    "gradient": {
     "editing": false,
     "id": "fb650eb4-cbc7-40fe-a0df-f232c321a9f7",
     "kernelId": "0c0438cc-8809-4072-a10a-acb706ba8551",
     "source_hidden": false
    },
    "id": "QNktkLLGLxKp",
    "jupyter": {
     "outputs_hidden": false
    }
   },
   "outputs": [],
   "source": [
    "#Converting english test dataset to torch dataset\n",
    "test_eng_ds = Dataset(x_test_eng, y_test_eng)"
   ]
  },
  {
   "cell_type": "code",
   "execution_count": null,
   "metadata": {
    "collapsed": false,
    "gradient": {
     "editing": false,
     "id": "e810778c-33d3-4a09-8bac-fef1a3043587",
     "kernelId": "0c0438cc-8809-4072-a10a-acb706ba8551",
     "source_hidden": false
    },
    "id": "4wugQUW4LxKp",
    "jupyter": {
     "outputs_hidden": false
    },
    "outputId": "1e0a9815-0dfc-439e-92dc-3e881367be50"
   },
   "outputs": [
    {
     "data": {
      "text/html": [
       "\n",
       "    <div>\n",
       "        <style>\n",
       "            /* Turns off some styling */\n",
       "            progress {\n",
       "                /* gets rid of default border in Firefox and Opera. */\n",
       "                border: none;\n",
       "                /* Needs to be in here for Safari polyfill so background images work as expected. */\n",
       "                background-size: auto;\n",
       "            }\n",
       "        </style>\n",
       "      \n",
       "      <progress value='872' max='872' style='width:300px; height:20px; vertical-align: middle;'></progress>\n",
       "      [872/872 00:19]\n",
       "    </div>\n",
       "    "
      ],
      "text/plain": [
       "<IPython.core.display.HTML object>"
      ]
     },
     "metadata": {
      "display_id": "68b29dfbcab2b406950d1d8632adb281"
     },
     "output_type": "display_data"
    }
   ],
   "source": [
    "#Predicting English test data\n",
    "raw_pred, _, _ = test_trainer.predict(test_eng_ds) "
   ]
  },
  {
   "cell_type": "code",
   "execution_count": null,
   "metadata": {
    "collapsed": false,
    "gradient": {
     "editing": false,
     "id": "3e1e2d5e-c856-4ae9-b92d-b60fca75c9f5",
     "kernelId": "0c0438cc-8809-4072-a10a-acb706ba8551",
     "source_hidden": false
    },
    "id": "hk4JHJ9eLxKp",
    "jupyter": {
     "outputs_hidden": false
    }
   },
   "outputs": [],
   "source": [
    "#Changing shape of raw prediction\n",
    "y_pred = np.argmax(raw_pred, axis=1)"
   ]
  },
  {
   "cell_type": "code",
   "execution_count": null,
   "metadata": {
    "collapsed": false,
    "gradient": {
     "editing": false,
     "id": "d73079c5-9b06-480f-ac37-db74e8d0a2a3",
     "kernelId": "0c0438cc-8809-4072-a10a-acb706ba8551",
     "source_hidden": false
    },
    "id": "7tOcPq-DLxKp",
    "jupyter": {
     "outputs_hidden": false
    },
    "outputId": "73cbf41a-c589-4e8c-928e-8b39b91b53e4"
   },
   "outputs": [
    {
     "name": "stdout",
     "output_type": "stream",
     "text": [
      "Accuracy of multilingual model for English test data is:  0.9314695340501792\n",
      "Precision for multilingual model for English test data is:  0.8772727272727273\n",
      "Recall for multilingual model for English test data is:  0.9214409722222222\n",
      "F-1 score for multilingual model for English test data is:  0.8988145639288738\n"
     ]
    }
   ],
   "source": [
    "#Generating evaluation metrics\n",
    "print('Accuracy of multilingual model for English test data is: ',accuracy_score(y_test_eng, y_pred))\n",
    "print('Precision for multilingual model for English test data is: ',precision_score(y_test_eng,y_pred))\n",
    "print('Recall for multilingual model for English test data is: ',recall_score(y_test_eng,y_pred))\n",
    "print('F-1 score for multilingual model for English test data is: ',f1_score(y_test_eng,y_pred))"
   ]
  },
  {
   "cell_type": "code",
   "execution_count": null,
   "metadata": {
    "colab": {
     "base_uri": "https://localhost:8080/"
    },
    "executionInfo": {
     "elapsed": 284,
     "status": "ok",
     "timestamp": 1641310332547,
     "user": {
      "displayName": "Moy Tian Xiang",
      "photoUrl": "https://lh3.googleusercontent.com/a/default-user=s64",
      "userId": "17517672150917689324"
     },
     "user_tz": -480
    },
    "gradient": {
     "editing": false,
     "id": "3a4acdf7-7ff2-4b28-9c8d-d1e7d893882d",
     "kernelId": "0c0438cc-8809-4072-a10a-acb706ba8551"
    },
    "id": "5Su_mwIktwUN",
    "outputId": "7026bd8f-938b-453a-ee5f-373a5a9f1edc"
   },
   "outputs": [
    {
     "data": {
      "text/plain": [
       "array([[4374,  297],\n",
       "       [ 181, 2123]])"
      ]
     },
     "execution_count": 39,
     "metadata": {},
     "output_type": "execute_result"
    }
   ],
   "source": [
    "#Generating confusion matrix\n",
    "multi_matrix_1 = confusion_matrix(y_test_eng, y_pred)\n",
    "\n",
    "#Displaying confusion matrix\n",
    "multi_matrix_1"
   ]
  },
  {
   "cell_type": "code",
   "execution_count": null,
   "metadata": {
    "colab": {
     "base_uri": "https://localhost:8080/",
     "height": 322
    },
    "executionInfo": {
     "elapsed": 925,
     "status": "ok",
     "timestamp": 1641310404433,
     "user": {
      "displayName": "Moy Tian Xiang",
      "photoUrl": "https://lh3.googleusercontent.com/a/default-user=s64",
      "userId": "17517672150917689324"
     },
     "user_tz": -480
    },
    "gradient": {
     "editing": true,
     "id": "3fb1d108-3855-4df8-a6f1-f8c2bc7befb6",
     "kernelId": "0c0438cc-8809-4072-a10a-acb706ba8551"
    },
    "id": "D1h125TWuDFI",
    "outputId": "830d9899-c660-45fa-ee70-7de915aa9eb9"
   },
   "outputs": [
    {
     "data": {
      "image/png": "[encoded data removed]",
      "text/plain": [
       "<Figure size 432x288 with 2 Axes>"
      ]
     },
     "metadata": {
      "needs_background": "light"
     },
     "output_type": "display_data"
    }
   ],
   "source": [
    "#Plot confusion matrix\n",
    "multi_cm_1 = sns.heatmap(multi_matrix_1, annot = True, cmap = 'Reds', fmt=\"d\")\n",
    "\n",
    "multi_cm_1.set_title('Confusion Matrix for Multilingual Model (English data)\\n')\n",
    "multi_cm_1.set_xlabel('\\nPredicted Values')\n",
    "multi_cm_1.set_ylabel('Actual Values\\n')\n",
    "multi_cm_1.xaxis.set_ticklabels(['False', 'True'])\n",
    "multi_cm_1.yaxis.set_ticklabels(['False', 'True'])\n",
    "plt.show()"
   ]
  },
  {
   "cell_type": "markdown",
   "metadata": {
    "gradient": {
     "editing": false,
     "id": "5ade08dd-640c-43fb-8bb6-1b5ed308b1e1",
     "kernelId": "0c0438cc-8809-4072-a10a-acb706ba8551"
    },
    "id": "J7V9ddJaLxKp"
   },
   "source": [
    "#### Malay test data"
   ]
  },
  {
   "cell_type": "code",
   "execution_count": null,
   "metadata": {
    "collapsed": false,
    "gradient": {
     "editing": false,
     "id": "f993cdfe-bbb1-4de9-bbfd-2468f06b7aa9",
     "kernelId": "0c0438cc-8809-4072-a10a-acb706ba8551",
     "source_hidden": false
    },
    "id": "YbE7SHnHLxKp",
    "jupyter": {
     "outputs_hidden": false
    }
   },
   "outputs": [],
   "source": [
    "#Tokenizing malay text with multilingual bert tokenizer\n",
    "x_test_mal = multi_tokenizer(x_test_mal, padding=True, truncation=True, max_length=100)"
   ]
  },
  {
   "cell_type": "code",
   "execution_count": null,
   "metadata": {
    "collapsed": false,
    "gradient": {
     "editing": false,
     "id": "f80dfda8-2c12-40dc-9be3-1d68749965ef",
     "kernelId": "0c0438cc-8809-4072-a10a-acb706ba8551",
     "source_hidden": false
    },
    "id": "yVcbxE3QLxKp",
    "jupyter": {
     "outputs_hidden": false
    }
   },
   "outputs": [],
   "source": [
    "#Converting malay test dataset to torch dataset\n",
    "test_mal_ds = Dataset(x_test_mal, y_test_mal)"
   ]
  },
  {
   "cell_type": "code",
   "execution_count": null,
   "metadata": {
    "collapsed": false,
    "gradient": {
     "editing": false,
     "id": "61bf2b11-7c79-45a5-81cd-c80ba342cae4",
     "kernelId": "0c0438cc-8809-4072-a10a-acb706ba8551",
     "source_hidden": false
    },
    "id": "vJIhh1EVLxKp",
    "jupyter": {
     "outputs_hidden": false
    }
   },
   "outputs": [],
   "source": [
    "#Predicting Malay test data\n",
    "raw_pred, _, _ = test_trainer.predict(test_mal_ds) "
   ]
  },
  {
   "cell_type": "code",
   "execution_count": null,
   "metadata": {
    "collapsed": false,
    "gradient": {
     "editing": false,
     "id": "594bf627-1791-4536-a607-ce584c8e6bc7",
     "kernelId": "0c0438cc-8809-4072-a10a-acb706ba8551",
     "source_hidden": false
    },
    "id": "w6_yM6ntLxKp",
    "jupyter": {
     "outputs_hidden": false
    }
   },
   "outputs": [],
   "source": [
    "#Changing shape of raw prediction\n",
    "y_pred = np.argmax(raw_pred, axis=1)"
   ]
  },
  {
   "cell_type": "code",
   "execution_count": null,
   "metadata": {
    "collapsed": false,
    "gradient": {
     "editing": false,
     "id": "346e11b5-3f9c-4155-8a1e-82be368ace1d",
     "kernelId": "0c0438cc-8809-4072-a10a-acb706ba8551",
     "source_hidden": false
    },
    "id": "5ryOHJ8-LxKp",
    "jupyter": {
     "outputs_hidden": false
    },
    "outputId": "0a71ecda-c40f-4b4c-f386-0479e3658f92"
   },
   "outputs": [
    {
     "name": "stdout",
     "output_type": "stream",
     "text": [
      "Accuracy of multilingual model for Malay test data is:  0.871528341724866\n",
      "Precision for multilingual model for Malay test data is:  0.8741007194244604\n",
      "Recall for multilingual model for Malay test data is:  0.8681390061708347\n",
      "F-1 score for multilingual model for Malay test data is:  0.8711096627016458\n"
     ]
    }
   ],
   "source": [
    "#Generating evaluation metrics\n",
    "print('Accuracy of multilingual model for Malay test data is: ',accuracy_score(y_test_mal, y_pred))\n",
    "print('Precision for multilingual model for Malay test data is: ',precision_score(y_test_mal,y_pred))\n",
    "print('Recall for multilingual model for Malay test data is: ',recall_score(y_test_mal,y_pred))\n",
    "print('F-1 score for multilingual model for Malay test data is: ',f1_score(y_test_mal,y_pred))"
   ]
  },
  {
   "cell_type": "code",
   "execution_count": null,
   "metadata": {
    "colab": {
     "base_uri": "https://localhost:8080/"
    },
    "executionInfo": {
     "elapsed": 308,
     "status": "ok",
     "timestamp": 1641310718471,
     "user": {
      "displayName": "Moy Tian Xiang",
      "photoUrl": "https://lh3.googleusercontent.com/a/default-user=s64",
      "userId": "17517672150917689324"
     },
     "user_tz": -480
    },
    "gradient": {
     "id": "f1aa06b9-84f6-443f-b08a-ecd6e29e2da8",
     "kernelId": "0c0438cc-8809-4072-a10a-acb706ba8551"
    },
    "id": "BX61whikvWeC",
    "outputId": "01786a70-4907-4dc6-9ade-ab372abfcb9d"
   },
   "outputs": [
    {
     "data": {
      "text/plain": [
       "array([[2693,  385],\n",
       "       [ 406, 2673]])"
      ]
     },
     "execution_count": 48,
     "metadata": {},
     "output_type": "execute_result"
    }
   ],
   "source": [
    "#Generating confusion matrix\n",
    "multi_matrix_2 = confusion_matrix(y_test_mal, y_pred)\n",
    "\n",
    "#Displaying confusion matrix\n",
    "multi_matrix_2"
   ]
  },
  {
   "cell_type": "code",
   "execution_count": null,
   "metadata": {
    "colab": {
     "base_uri": "https://localhost:8080/",
     "height": 322
    },
    "executionInfo": {
     "elapsed": 817,
     "status": "ok",
     "timestamp": 1641310779968,
     "user": {
      "displayName": "Moy Tian Xiang",
      "photoUrl": "https://lh3.googleusercontent.com/a/default-user=s64",
      "userId": "17517672150917689324"
     },
     "user_tz": -480
    },
    "gradient": {
     "id": "fe4ffcbc-0353-4212-a77f-012cd1c6034f",
     "kernelId": "0c0438cc-8809-4072-a10a-acb706ba8551"
    },
    "id": "4l9bJfYOvhcA",
    "outputId": "297678a2-26df-4a6c-f744-e05ba5d70bdc"
   },
   "outputs": [
    {
     "data": {
      "image/png": "[encoded data removed]",
      "text/plain": [
       "<Figure size 432x288 with 2 Axes>"
      ]
     },
     "metadata": {
      "needs_background": "light"
     },
     "output_type": "display_data"
    }
   ],
   "source": [
    "#Plot confusion matrix\n",
    "multi_cm_2 = sns.heatmap(multi_matrix_2, annot = True, cmap = 'Reds', fmt=\"d\")\n",
    "\n",
    "multi_cm_2.set_title('Confusion Matrix for Multilingual Model (Malay data)\\n')\n",
    "multi_cm_2.set_xlabel('\\nPredicted Values')\n",
    "multi_cm_2.set_ylabel('Actual Values\\n')\n",
    "multi_cm_2.xaxis.set_ticklabels(['False', 'True'])\n",
    "multi_cm_2.yaxis.set_ticklabels(['False', 'True'])\n",
    "plt.show()"
   ]
  },
  {
   "cell_type": "markdown",
   "metadata": {
    "gradient": {
     "editing": false,
     "id": "da592a75-f3ca-4e0c-8f2b-e8b7711c2a75",
     "kernelId": "0c0438cc-8809-4072-a10a-acb706ba8551"
    },
    "id": "loR-SEuCLxKp"
   },
   "source": [
    "# Evaluating the results "
   ]
  },
  {
   "cell_type": "markdown",
   "metadata": {
    "gradient": {
     "editing": false,
     "id": "0c9742cd-f0bb-4947-b982-f465b4f5dee0",
     "kernelId": "0c0438cc-8809-4072-a10a-acb706ba8551"
    },
    "id": "zivgrPmxLxKq"
   },
   "source": [
    "## Plotting loss data"
   ]
  },
  {
   "cell_type": "markdown",
   "metadata": {
    "gradient": {
     "editing": false,
     "id": "693893ba-5a7e-4314-9ddc-69fa7c1533b9",
     "kernelId": "0c0438cc-8809-4072-a10a-acb706ba8551"
    },
    "id": "tCTA--eILxKq"
   },
   "source": [
    "### English Model (model 3)"
   ]
  },
  {
   "cell_type": "code",
   "execution_count": null,
   "metadata": {
    "collapsed": false,
    "gradient": {
     "editing": false,
     "id": "b1832e51-057a-4f03-b3fb-0d58caff94f8",
     "kernelId": "0c0438cc-8809-4072-a10a-acb706ba8551",
     "source_hidden": false
    },
    "id": "dj2sUU7sLxKq",
    "jupyter": {
     "outputs_hidden": false
    }
   },
   "outputs": [],
   "source": [
    "#Initializing data with dictionary of lists\n",
    "data = {'Train Loss' :[0.263434, 0.191424, 0.163703], \n",
    "        'Validation Loss' :[0.211101, 0.194055, 0.216040]}\n",
    "\n",
    "#Converting dictionary to pandas dataframe\n",
    "eng_loss = pd.DataFrame(data, index = range(500, 1501, 500))"
   ]
  },
  {
   "cell_type": "code",
   "execution_count": null,
   "metadata": {
    "collapsed": false,
    "gradient": {
     "editing": false,
     "id": "f71c221e-fc6f-44aa-beb3-62fd8a459ee4",
     "kernelId": "0c0438cc-8809-4072-a10a-acb706ba8551",
     "source_hidden": false
    },
    "id": "a6zkEMtWLxKq",
    "jupyter": {
     "outputs_hidden": false
    },
    "outputId": "7ead2644-5876-4b61-9814-8f469541c4b0"
   },
   "outputs": [
    {
     "data": {
      "text/plain": [
       "([<matplotlib.axis.XTick at 0x7fe3a913ec50>,\n",
       "  <matplotlib.axis.XTick at 0x7fe3a913e828>,\n",
       "  <matplotlib.axis.XTick at 0x7fe3a916afd0>],\n",
       " [Text(0, 0, ''), Text(0, 0, ''), Text(0, 0, '')])"
      ]
     },
     "execution_count": 42,
     "metadata": {},
     "output_type": "execute_result"
    },
    {
     "data": {
      "image/png": "[encoded data removed]",
      "text/plain": [
       "<Figure size 432x288 with 1 Axes>"
      ]
     },
     "metadata": {
      "needs_background": "light"
     },
     "output_type": "display_data"
    }
   ],
   "source": [
    "eng_loss.plot()\n",
    "plt.title('Train and Validation Loss of English Model')\n",
    "plt.xlabel('Steps')\n",
    "plt.ylabel('Loss')\n",
    "plt.xticks(range(500, 1501, 500))"
   ]
  },
  {
   "cell_type": "markdown",
   "metadata": {
    "gradient": {
     "editing": false,
     "id": "c7a85eba-f95c-4100-ba70-c65b7e482e16",
     "kernelId": "0c0438cc-8809-4072-a10a-acb706ba8551"
    },
    "id": "KGf6waeNLxKq"
   },
   "source": [
    "### Malay Model (model 3)"
   ]
  },
  {
   "cell_type": "code",
   "execution_count": null,
   "metadata": {
    "collapsed": false,
    "gradient": {
     "editing": false,
     "id": "e1a96cc1-dc57-42da-a642-9859226795c5",
     "kernelId": "0c0438cc-8809-4072-a10a-acb706ba8551",
     "source_hidden": false
    },
    "id": "iOs8eGO5LxKq",
    "jupyter": {
     "outputs_hidden": false
    }
   },
   "outputs": [],
   "source": [
    "#Initializing data with dictionary of lists\n",
    "data = {'Train Loss' :[0.362858, 0.268692, 0.211095], \n",
    "        'Validation Loss' :[0.336633, 0.325184, 0.342608]}\n",
    "\n",
    "#Converting dictionary to pandas dataframe\n",
    "mal_loss = pd.DataFrame(data, index = range(500, 1501, 500))"
   ]
  },
  {
   "cell_type": "code",
   "execution_count": null,
   "metadata": {
    "collapsed": false,
    "gradient": {
     "editing": false,
     "id": "8b4fc0e0-cb07-4132-b353-bfcae4a7e96a",
     "kernelId": "0c0438cc-8809-4072-a10a-acb706ba8551",
     "source_hidden": false
    },
    "id": "7N9cDRvXLxKq",
    "jupyter": {
     "outputs_hidden": false
    },
    "outputId": "69c9c1c8-562c-4524-e6d3-6229ec753a56"
   },
   "outputs": [
    {
     "data": {
      "text/plain": [
       "([<matplotlib.axis.XTick at 0x7fe3a9096828>,\n",
       "  <matplotlib.axis.XTick at 0x7fe3a9096400>,\n",
       "  <matplotlib.axis.XTick at 0x7fe3a9043d30>],\n",
       " [Text(0, 0, ''), Text(0, 0, ''), Text(0, 0, '')])"
      ]
     },
     "execution_count": 45,
     "metadata": {},
     "output_type": "execute_result"
    },
    {
     "data": {
      "image/png": "[encoded data removed]",
      "text/plain": [
       "<Figure size 432x288 with 1 Axes>"
      ]
     },
     "metadata": {
      "needs_background": "light"
     },
     "output_type": "display_data"
    }
   ],
   "source": [
    "mal_loss.plot()\n",
    "plt.title('Train and Validation Loss of Malay Model')\n",
    "plt.xlabel('Steps')\n",
    "plt.ylabel('Loss')\n",
    "plt.xticks(range(500, 1501, 500))"
   ]
  },
  {
   "cell_type": "markdown",
   "metadata": {
    "gradient": {
     "editing": false,
     "id": "437e7c8e-cfdc-4c83-8eb2-f05f88a1813a",
     "kernelId": "0c0438cc-8809-4072-a10a-acb706ba8551"
    },
    "id": "DYpOKFz8LxKq"
   },
   "source": [
    "### Multilingual model (model 3)"
   ]
  },
  {
   "cell_type": "code",
   "execution_count": null,
   "metadata": {
    "collapsed": false,
    "gradient": {
     "editing": false,
     "id": "1024c18a-2dfa-4551-b65d-b1585e25d509",
     "kernelId": "0c0438cc-8809-4072-a10a-acb706ba8551",
     "source_hidden": false
    },
    "id": "gqk5FXICLxKq",
    "jupyter": {
     "outputs_hidden": false
    }
   },
   "outputs": [],
   "source": [
    "#Initializing data with dictionary of lists\n",
    "data = {'Train Loss' :[0.356135, 0.290948, 0.250307, 0.230839, 0.216821, 0.182867, 0.167112], \n",
    "        'Validation Loss' :[0.288645, 0.262994, 0.268910, 0.261222, 0.259144, 0.264902, 0.282998]}\n",
    "\n",
    "#Converting dictionary to pandas dataframe\n",
    "multi_loss = pd.DataFrame(data, index = range(500, 3501, 500))"
   ]
  },
  {
   "cell_type": "code",
   "execution_count": null,
   "metadata": {
    "collapsed": false,
    "gradient": {
     "editing": true,
     "id": "75b6f80b-bc71-4f46-acc4-171fad7430b9",
     "kernelId": "0c0438cc-8809-4072-a10a-acb706ba8551",
     "source_hidden": false
    },
    "id": "P3uzHI1BLxKq",
    "jupyter": {
     "outputs_hidden": false
    },
    "outputId": "b4e22d7b-03d7-4426-f49c-8fbbe66e62a3"
   },
   "outputs": [
    {
     "data": {
      "text/plain": [
       "([<matplotlib.axis.XTick at 0x7f99564e3080>,\n",
       "  <matplotlib.axis.XTick at 0x7f99564d4c18>,\n",
       "  <matplotlib.axis.XTick at 0x7f99564ac588>,\n",
       "  <matplotlib.axis.XTick at 0x7f99564ac9e8>,\n",
       "  <matplotlib.axis.XTick at 0x7f99564ace80>,\n",
       "  <matplotlib.axis.XTick at 0x7f9956444358>,\n",
       "  <matplotlib.axis.XTick at 0x7f99564447f0>],\n",
       " [Text(0, 0, ''),\n",
       "  Text(0, 0, ''),\n",
       "  Text(0, 0, ''),\n",
       "  Text(0, 0, ''),\n",
       "  Text(0, 0, ''),\n",
       "  Text(0, 0, ''),\n",
       "  Text(0, 0, '')])"
      ]
     },
     "execution_count": 7,
     "metadata": {},
     "output_type": "execute_result"
    },
    {
     "data": {
      "image/png": "[encoded data removed]",
      "text/plain": [
       "<Figure size 432x288 with 1 Axes>"
      ]
     },
     "metadata": {
      "needs_background": "light"
     },
     "output_type": "display_data"
    }
   ],
   "source": [
    "multi_loss.plot()\n",
    "plt.title('Train and Validation Loss of Multilingual Model')\n",
    "plt.xlabel('Steps')\n",
    "plt.ylabel('Loss')\n",
    "plt.xticks(range(500, 3501, 500))"
   ]
  }
 ],
 "metadata": {
  "accelerator": "GPU",
  "colab": {
   "collapsed_sections": [
    "iDs4r9Bi_UkD",
    "FLaoUMAGNLu2"
   ],
   "name": "CP2.ipynb",
   "provenance": [],
   "toc_visible": true
  },
  "kernelspec": {
   "display_name": "Python 3",
   "language": "python",
   "name": "python3"
  },
  "language_info": {
   "codemirror_mode": {
    "name": "ipython",
    "version": 3
   },
   "file_extension": ".py",
   "mimetype": "text/x-python",
   "name": "python",
   "nbconvert_exporter": "python",
   "pygments_lexer": "ipython3",
   "version": "3.6.9"
  },
  "widgets": {
   "application/vnd.jupyter.widget-state+json": {
    "0a7feee43c364d088f9abb274dc19f99": {
     "model_module": "@jupyter-widgets/controls",
     "model_module_version": "1.5.0",
     "model_name": "HTMLModel",
     "state": {
      "_dom_classes": [],
      "_model_module": "@jupyter-widgets/controls",
      "_model_module_version": "1.5.0",
      "_model_name": "HTMLModel",
      "_view_count": null,
      "_view_module": "@jupyter-widgets/controls",
      "_view_module_version": "1.5.0",
      "_view_name": "HTMLView",
      "description": "",
      "description_tooltip": null,
      "layout": "IPY_MODEL_0b281f9e867644ffaea00b91207b2028",
      "placeholder": "​",
      "style": "IPY_MODEL_dffc0adf19714692a2cb705a3c815b39",
      "value": "Downloading: 100%"
     }
    },
    "0b281f9e867644ffaea00b91207b2028": {
     "model_module": "@jupyter-widgets/base",
     "model_module_version": "1.2.0",
     "model_name": "LayoutModel",
     "state": {
      "_model_module": "@jupyter-widgets/base",
      "_model_module_version": "1.2.0",
      "_model_name": "LayoutModel",
      "_view_count": null,
      "_view_module": "@jupyter-widgets/base",
      "_view_module_version": "1.2.0",
      "_view_name": "LayoutView",
      "align_content": null,
      "align_items": null,
      "align_self": null,
      "border": null,
      "bottom": null,
      "display": null,
      "flex": null,
      "flex_flow": null,
      "grid_area": null,
      "grid_auto_columns": null,
      "grid_auto_flow": null,
      "grid_auto_rows": null,
      "grid_column": null,
      "grid_gap": null,
      "grid_row": null,
      "grid_template_areas": null,
      "grid_template_columns": null,
      "grid_template_rows": null,
      "height": null,
      "justify_content": null,
      "justify_items": null,
      "left": null,
      "margin": null,
      "max_height": null,
      "max_width": null,
      "min_height": null,
      "min_width": null,
      "object_fit": null,
      "object_position": null,
      "order": null,
      "overflow": null,
      "overflow_x": null,
      "overflow_y": null,
      "padding": null,
      "right": null,
      "top": null,
      "visibility": null,
      "width": null
     }
    },
    "0d7a14be0a8e4501a6c659a73208ef8f": {
     "model_module": "@jupyter-widgets/base",
     "model_module_version": "1.2.0",
     "model_name": "LayoutModel",
     "state": {
      "_model_module": "@jupyter-widgets/base",
      "_model_module_version": "1.2.0",
      "_model_name": "LayoutModel",
      "_view_count": null,
      "_view_module": "@jupyter-widgets/base",
      "_view_module_version": "1.2.0",
      "_view_name": "LayoutView",
      "align_content": null,
      "align_items": null,
      "align_self": null,
      "border": null,
      "bottom": null,
      "display": null,
      "flex": null,
      "flex_flow": null,
      "grid_area": null,
      "grid_auto_columns": null,
      "grid_auto_flow": null,
      "grid_auto_rows": null,
      "grid_column": null,
      "grid_gap": null,
      "grid_row": null,
      "grid_template_areas": null,
      "grid_template_columns": null,
      "grid_template_rows": null,
      "height": null,
      "justify_content": null,
      "justify_items": null,
      "left": null,
      "margin": null,
      "max_height": null,
      "max_width": null,
      "min_height": null,
      "min_width": null,
      "object_fit": null,
      "object_position": null,
      "order": null,
      "overflow": null,
      "overflow_x": null,
      "overflow_y": null,
      "padding": null,
      "right": null,
      "top": null,
      "visibility": null,
      "width": null
     }
    },
    "1c10bd8c990445289ee3085c9f418b0e": {
     "model_module": "@jupyter-widgets/controls",
     "model_module_version": "1.5.0",
     "model_name": "HBoxModel",
     "state": {
      "_dom_classes": [],
      "_model_module": "@jupyter-widgets/controls",
      "_model_module_version": "1.5.0",
      "_model_name": "HBoxModel",
      "_view_count": null,
      "_view_module": "@jupyter-widgets/controls",
      "_view_module_version": "1.5.0",
      "_view_name": "HBoxView",
      "box_style": "",
      "children": [
       "IPY_MODEL_d485fecc1f6c4b25ac59852f249a58b8",
       "IPY_MODEL_aa2d3672b3084a34a70bfdbbf24aae28",
       "IPY_MODEL_2f4534f16f7e4128af6765bd360eda91"
      ],
      "layout": "IPY_MODEL_57db8cceb9164532b57beff6cb452dd0"
     }
    },
    "21ca9ae37ff7429a85d8dfe41ced035c": {
     "model_module": "@jupyter-widgets/base",
     "model_module_version": "1.2.0",
     "model_name": "LayoutModel",
     "state": {
      "_model_module": "@jupyter-widgets/base",
      "_model_module_version": "1.2.0",
      "_model_name": "LayoutModel",
      "_view_count": null,
      "_view_module": "@jupyter-widgets/base",
      "_view_module_version": "1.2.0",
      "_view_name": "LayoutView",
      "align_content": null,
      "align_items": null,
      "align_self": null,
      "border": null,
      "bottom": null,
      "display": null,
      "flex": null,
      "flex_flow": null,
      "grid_area": null,
      "grid_auto_columns": null,
      "grid_auto_flow": null,
      "grid_auto_rows": null,
      "grid_column": null,
      "grid_gap": null,
      "grid_row": null,
      "grid_template_areas": null,
      "grid_template_columns": null,
      "grid_template_rows": null,
      "height": null,
      "justify_content": null,
      "justify_items": null,
      "left": null,
      "margin": null,
      "max_height": null,
      "max_width": null,
      "min_height": null,
      "min_width": null,
      "object_fit": null,
      "object_position": null,
      "order": null,
      "overflow": null,
      "overflow_x": null,
      "overflow_y": null,
      "padding": null,
      "right": null,
      "top": null,
      "visibility": null,
      "width": null
     }
    },
    "23ba22085f7a4fa3803db0b913655608": {
     "model_module": "@jupyter-widgets/controls",
     "model_module_version": "1.5.0",
     "model_name": "ProgressStyleModel",
     "state": {
      "_model_module": "@jupyter-widgets/controls",
      "_model_module_version": "1.5.0",
      "_model_name": "ProgressStyleModel",
      "_view_count": null,
      "_view_module": "@jupyter-widgets/base",
      "_view_module_version": "1.2.0",
      "_view_name": "StyleView",
      "bar_color": null,
      "description_width": ""
     }
    },
    "2447257908f24f51a4c42bf269436963": {
     "model_module": "@jupyter-widgets/base",
     "model_module_version": "1.2.0",
     "model_name": "LayoutModel",
     "state": {
      "_model_module": "@jupyter-widgets/base",
      "_model_module_version": "1.2.0",
      "_model_name": "LayoutModel",
      "_view_count": null,
      "_view_module": "@jupyter-widgets/base",
      "_view_module_version": "1.2.0",
      "_view_name": "LayoutView",
      "align_content": null,
      "align_items": null,
      "align_self": null,
      "border": null,
      "bottom": null,
      "display": null,
      "flex": null,
      "flex_flow": null,
      "grid_area": null,
      "grid_auto_columns": null,
      "grid_auto_flow": null,
      "grid_auto_rows": null,
      "grid_column": null,
      "grid_gap": null,
      "grid_row": null,
      "grid_template_areas": null,
      "grid_template_columns": null,
      "grid_template_rows": null,
      "height": null,
      "justify_content": null,
      "justify_items": null,
      "left": null,
      "margin": null,
      "max_height": null,
      "max_width": null,
      "min_height": null,
      "min_width": null,
      "object_fit": null,
      "object_position": null,
      "order": null,
      "overflow": null,
      "overflow_x": null,
      "overflow_y": null,
      "padding": null,
      "right": null,
      "top": null,
      "visibility": null,
      "width": null
     }
    },
    "2b26bca0caa34675af067759bccd7ffc": {
     "model_module": "@jupyter-widgets/base",
     "model_module_version": "1.2.0",
     "model_name": "LayoutModel",
     "state": {
      "_model_module": "@jupyter-widgets/base",
      "_model_module_version": "1.2.0",
      "_model_name": "LayoutModel",
      "_view_count": null,
      "_view_module": "@jupyter-widgets/base",
      "_view_module_version": "1.2.0",
      "_view_name": "LayoutView",
      "align_content": null,
      "align_items": null,
      "align_self": null,
      "border": null,
      "bottom": null,
      "display": null,
      "flex": null,
      "flex_flow": null,
      "grid_area": null,
      "grid_auto_columns": null,
      "grid_auto_flow": null,
      "grid_auto_rows": null,
      "grid_column": null,
      "grid_gap": null,
      "grid_row": null,
      "grid_template_areas": null,
      "grid_template_columns": null,
      "grid_template_rows": null,
      "height": null,
      "justify_content": null,
      "justify_items": null,
      "left": null,
      "margin": null,
      "max_height": null,
      "max_width": null,
      "min_height": null,
      "min_width": null,
      "object_fit": null,
      "object_position": null,
      "order": null,
      "overflow": null,
      "overflow_x": null,
      "overflow_y": null,
      "padding": null,
      "right": null,
      "top": null,
      "visibility": null,
      "width": null
     }
    },
    "2b7d8c7d103c4194b49c8b4522cb7538": {
     "model_module": "@jupyter-widgets/base",
     "model_module_version": "1.2.0",
     "model_name": "LayoutModel",
     "state": {
      "_model_module": "@jupyter-widgets/base",
      "_model_module_version": "1.2.0",
      "_model_name": "LayoutModel",
      "_view_count": null,
      "_view_module": "@jupyter-widgets/base",
      "_view_module_version": "1.2.0",
      "_view_name": "LayoutView",
      "align_content": null,
      "align_items": null,
      "align_self": null,
      "border": null,
      "bottom": null,
      "display": null,
      "flex": null,
      "flex_flow": null,
      "grid_area": null,
      "grid_auto_columns": null,
      "grid_auto_flow": null,
      "grid_auto_rows": null,
      "grid_column": null,
      "grid_gap": null,
      "grid_row": null,
      "grid_template_areas": null,
      "grid_template_columns": null,
      "grid_template_rows": null,
      "height": null,
      "justify_content": null,
      "justify_items": null,
      "left": null,
      "margin": null,
      "max_height": null,
      "max_width": null,
      "min_height": null,
      "min_width": null,
      "object_fit": null,
      "object_position": null,
      "order": null,
      "overflow": null,
      "overflow_x": null,
      "overflow_y": null,
      "padding": null,
      "right": null,
      "top": null,
      "visibility": null,
      "width": null
     }
    },
    "2bdc86cbf07143d2b4dce674b743c624": {
     "model_module": "@jupyter-widgets/controls",
     "model_module_version": "1.5.0",
     "model_name": "HTMLModel",
     "state": {
      "_dom_classes": [],
      "_model_module": "@jupyter-widgets/controls",
      "_model_module_version": "1.5.0",
      "_model_name": "HTMLModel",
      "_view_count": null,
      "_view_module": "@jupyter-widgets/controls",
      "_view_module_version": "1.5.0",
      "_view_name": "HTMLView",
      "description": "",
      "description_tooltip": null,
      "layout": "IPY_MODEL_3d29f3208c454dacbc171bfc7d630f70",
      "placeholder": "​",
      "style": "IPY_MODEL_731f7db9da0a4f2da266b7756169b1e6",
      "value": " 28.0/28.0 [00:00&lt;00:00, 288B/s]"
     }
    },
    "2ca5ebb99e1d4502aee95f9763c74edf": {
     "model_module": "@jupyter-widgets/controls",
     "model_module_version": "1.5.0",
     "model_name": "ProgressStyleModel",
     "state": {
      "_model_module": "@jupyter-widgets/controls",
      "_model_module_version": "1.5.0",
      "_model_name": "ProgressStyleModel",
      "_view_count": null,
      "_view_module": "@jupyter-widgets/base",
      "_view_module_version": "1.2.0",
      "_view_name": "StyleView",
      "bar_color": null,
      "description_width": ""
     }
    },
    "2f4534f16f7e4128af6765bd360eda91": {
     "model_module": "@jupyter-widgets/controls",
     "model_module_version": "1.5.0",
     "model_name": "HTMLModel",
     "state": {
      "_dom_classes": [],
      "_model_module": "@jupyter-widgets/controls",
      "_model_module_version": "1.5.0",
      "_model_name": "HTMLModel",
      "_view_count": null,
      "_view_module": "@jupyter-widgets/controls",
      "_view_module_version": "1.5.0",
      "_view_name": "HTMLView",
      "description": "",
      "description_tooltip": null,
      "layout": "IPY_MODEL_abca8d58a3dc4fd9b072fa7c521b0d0e",
      "placeholder": "​",
      "style": "IPY_MODEL_e23a5fd9245f40bfa0aae8ed803edef1",
      "value": " 420M/420M [00:17&lt;00:00, 34.8MB/s]"
     }
    },
    "3023f9f4150f4177b2495c2cb70d8e6e": {
     "model_module": "@jupyter-widgets/base",
     "model_module_version": "1.2.0",
     "model_name": "LayoutModel",
     "state": {
      "_model_module": "@jupyter-widgets/base",
      "_model_module_version": "1.2.0",
      "_model_name": "LayoutModel",
      "_view_count": null,
      "_view_module": "@jupyter-widgets/base",
      "_view_module_version": "1.2.0",
      "_view_name": "LayoutView",
      "align_content": null,
      "align_items": null,
      "align_self": null,
      "border": null,
      "bottom": null,
      "display": null,
      "flex": null,
      "flex_flow": null,
      "grid_area": null,
      "grid_auto_columns": null,
      "grid_auto_flow": null,
      "grid_auto_rows": null,
      "grid_column": null,
      "grid_gap": null,
      "grid_row": null,
      "grid_template_areas": null,
      "grid_template_columns": null,
      "grid_template_rows": null,
      "height": null,
      "justify_content": null,
      "justify_items": null,
      "left": null,
      "margin": null,
      "max_height": null,
      "max_width": null,
      "min_height": null,
      "min_width": null,
      "object_fit": null,
      "object_position": null,
      "order": null,
      "overflow": null,
      "overflow_x": null,
      "overflow_y": null,
      "padding": null,
      "right": null,
      "top": null,
      "visibility": null,
      "width": null
     }
    },
    "3793051877934987a8aeed7365613f91": {
     "model_module": "@jupyter-widgets/controls",
     "model_module_version": "1.5.0",
     "model_name": "HTMLModel",
     "state": {
      "_dom_classes": [],
      "_model_module": "@jupyter-widgets/controls",
      "_model_module_version": "1.5.0",
      "_model_name": "HTMLModel",
      "_view_count": null,
      "_view_module": "@jupyter-widgets/controls",
      "_view_module_version": "1.5.0",
      "_view_name": "HTMLView",
      "description": "",
      "description_tooltip": null,
      "layout": "IPY_MODEL_2b26bca0caa34675af067759bccd7ffc",
      "placeholder": "​",
      "style": "IPY_MODEL_f5840801697246feb4b8cb131cfa7ba7",
      "value": " 570/570 [00:00&lt;00:00, 5.29kB/s]"
     }
    },
    "3d29f3208c454dacbc171bfc7d630f70": {
     "model_module": "@jupyter-widgets/base",
     "model_module_version": "1.2.0",
     "model_name": "LayoutModel",
     "state": {
      "_model_module": "@jupyter-widgets/base",
      "_model_module_version": "1.2.0",
      "_model_name": "LayoutModel",
      "_view_count": null,
      "_view_module": "@jupyter-widgets/base",
      "_view_module_version": "1.2.0",
      "_view_name": "LayoutView",
      "align_content": null,
      "align_items": null,
      "align_self": null,
      "border": null,
      "bottom": null,
      "display": null,
      "flex": null,
      "flex_flow": null,
      "grid_area": null,
      "grid_auto_columns": null,
      "grid_auto_flow": null,
      "grid_auto_rows": null,
      "grid_column": null,
      "grid_gap": null,
      "grid_row": null,
      "grid_template_areas": null,
      "grid_template_columns": null,
      "grid_template_rows": null,
      "height": null,
      "justify_content": null,
      "justify_items": null,
      "left": null,
      "margin": null,
      "max_height": null,
      "max_width": null,
      "min_height": null,
      "min_width": null,
      "object_fit": null,
      "object_position": null,
      "order": null,
      "overflow": null,
      "overflow_x": null,
      "overflow_y": null,
      "padding": null,
      "right": null,
      "top": null,
      "visibility": null,
      "width": null
     }
    },
    "3e82f1e6c48d482598e747c5e6fa26a9": {
     "model_module": "@jupyter-widgets/base",
     "model_module_version": "1.2.0",
     "model_name": "LayoutModel",
     "state": {
      "_model_module": "@jupyter-widgets/base",
      "_model_module_version": "1.2.0",
      "_model_name": "LayoutModel",
      "_view_count": null,
      "_view_module": "@jupyter-widgets/base",
      "_view_module_version": "1.2.0",
      "_view_name": "LayoutView",
      "align_content": null,
      "align_items": null,
      "align_self": null,
      "border": null,
      "bottom": null,
      "display": null,
      "flex": null,
      "flex_flow": null,
      "grid_area": null,
      "grid_auto_columns": null,
      "grid_auto_flow": null,
      "grid_auto_rows": null,
      "grid_column": null,
      "grid_gap": null,
      "grid_row": null,
      "grid_template_areas": null,
      "grid_template_columns": null,
      "grid_template_rows": null,
      "height": null,
      "justify_content": null,
      "justify_items": null,
      "left": null,
      "margin": null,
      "max_height": null,
      "max_width": null,
      "min_height": null,
      "min_width": null,
      "object_fit": null,
      "object_position": null,
      "order": null,
      "overflow": null,
      "overflow_x": null,
      "overflow_y": null,
      "padding": null,
      "right": null,
      "top": null,
      "visibility": null,
      "width": null
     }
    },
    "450b9e21cf9d4b76b7e2e7b3e6ccb004": {
     "model_module": "@jupyter-widgets/controls",
     "model_module_version": "1.5.0",
     "model_name": "FloatProgressModel",
     "state": {
      "_dom_classes": [],
      "_model_module": "@jupyter-widgets/controls",
      "_model_module_version": "1.5.0",
      "_model_name": "FloatProgressModel",
      "_view_count": null,
      "_view_module": "@jupyter-widgets/controls",
      "_view_module_version": "1.5.0",
      "_view_name": "ProgressView",
      "bar_style": "success",
      "description": "",
      "description_tooltip": null,
      "layout": "IPY_MODEL_3e82f1e6c48d482598e747c5e6fa26a9",
      "max": 466062,
      "min": 0,
      "orientation": "horizontal",
      "style": "IPY_MODEL_4ef7869da047486697743c0600b94c45",
      "value": 466062
     }
    },
    "4bfe8e115fe5491693a25e48eb7669e8": {
     "model_module": "@jupyter-widgets/controls",
     "model_module_version": "1.5.0",
     "model_name": "HTMLModel",
     "state": {
      "_dom_classes": [],
      "_model_module": "@jupyter-widgets/controls",
      "_model_module_version": "1.5.0",
      "_model_name": "HTMLModel",
      "_view_count": null,
      "_view_module": "@jupyter-widgets/controls",
      "_view_module_version": "1.5.0",
      "_view_name": "HTMLView",
      "description": "",
      "description_tooltip": null,
      "layout": "IPY_MODEL_c2ac8506d0c242cab923f365645668a8",
      "placeholder": "​",
      "style": "IPY_MODEL_6a74f8fb69da43619c131f8cce42f6a9",
      "value": " 455k/455k [00:00&lt;00:00, 630kB/s]"
     }
    },
    "4ef7869da047486697743c0600b94c45": {
     "model_module": "@jupyter-widgets/controls",
     "model_module_version": "1.5.0",
     "model_name": "ProgressStyleModel",
     "state": {
      "_model_module": "@jupyter-widgets/controls",
      "_model_module_version": "1.5.0",
      "_model_name": "ProgressStyleModel",
      "_view_count": null,
      "_view_module": "@jupyter-widgets/base",
      "_view_module_version": "1.2.0",
      "_view_name": "StyleView",
      "bar_color": null,
      "description_width": ""
     }
    },
    "4fbe02aba63f4a2e98e9cb0779178b9b": {
     "model_module": "@jupyter-widgets/base",
     "model_module_version": "1.2.0",
     "model_name": "LayoutModel",
     "state": {
      "_model_module": "@jupyter-widgets/base",
      "_model_module_version": "1.2.0",
      "_model_name": "LayoutModel",
      "_view_count": null,
      "_view_module": "@jupyter-widgets/base",
      "_view_module_version": "1.2.0",
      "_view_name": "LayoutView",
      "align_content": null,
      "align_items": null,
      "align_self": null,
      "border": null,
      "bottom": null,
      "display": null,
      "flex": null,
      "flex_flow": null,
      "grid_area": null,
      "grid_auto_columns": null,
      "grid_auto_flow": null,
      "grid_auto_rows": null,
      "grid_column": null,
      "grid_gap": null,
      "grid_row": null,
      "grid_template_areas": null,
      "grid_template_columns": null,
      "grid_template_rows": null,
      "height": null,
      "justify_content": null,
      "justify_items": null,
      "left": null,
      "margin": null,
      "max_height": null,
      "max_width": null,
      "min_height": null,
      "min_width": null,
      "object_fit": null,
      "object_position": null,
      "order": null,
      "overflow": null,
      "overflow_x": null,
      "overflow_y": null,
      "padding": null,
      "right": null,
      "top": null,
      "visibility": null,
      "width": null
     }
    },
    "515416d4286142eaac169a55b5ca82e1": {
     "model_module": "@jupyter-widgets/base",
     "model_module_version": "1.2.0",
     "model_name": "LayoutModel",
     "state": {
      "_model_module": "@jupyter-widgets/base",
      "_model_module_version": "1.2.0",
      "_model_name": "LayoutModel",
      "_view_count": null,
      "_view_module": "@jupyter-widgets/base",
      "_view_module_version": "1.2.0",
      "_view_name": "LayoutView",
      "align_content": null,
      "align_items": null,
      "align_self": null,
      "border": null,
      "bottom": null,
      "display": null,
      "flex": null,
      "flex_flow": null,
      "grid_area": null,
      "grid_auto_columns": null,
      "grid_auto_flow": null,
      "grid_auto_rows": null,
      "grid_column": null,
      "grid_gap": null,
      "grid_row": null,
      "grid_template_areas": null,
      "grid_template_columns": null,
      "grid_template_rows": null,
      "height": null,
      "justify_content": null,
      "justify_items": null,
      "left": null,
      "margin": null,
      "max_height": null,
      "max_width": null,
      "min_height": null,
      "min_width": null,
      "object_fit": null,
      "object_position": null,
      "order": null,
      "overflow": null,
      "overflow_x": null,
      "overflow_y": null,
      "padding": null,
      "right": null,
      "top": null,
      "visibility": null,
      "width": null
     }
    },
    "5408a19bac71498ebf60e088555ebc87": {
     "model_module": "@jupyter-widgets/controls",
     "model_module_version": "1.5.0",
     "model_name": "HTMLModel",
     "state": {
      "_dom_classes": [],
      "_model_module": "@jupyter-widgets/controls",
      "_model_module_version": "1.5.0",
      "_model_name": "HTMLModel",
      "_view_count": null,
      "_view_module": "@jupyter-widgets/controls",
      "_view_module_version": "1.5.0",
      "_view_name": "HTMLView",
      "description": "",
      "description_tooltip": null,
      "layout": "IPY_MODEL_7a6cddfcc9a3410285d91da91a05550b",
      "placeholder": "​",
      "style": "IPY_MODEL_6cb4a57679d04499a0588bde64729a9e",
      "value": " 226k/226k [00:00&lt;00:00, 469kB/s]"
     }
    },
    "57db8cceb9164532b57beff6cb452dd0": {
     "model_module": "@jupyter-widgets/base",
     "model_module_version": "1.2.0",
     "model_name": "LayoutModel",
     "state": {
      "_model_module": "@jupyter-widgets/base",
      "_model_module_version": "1.2.0",
      "_model_name": "LayoutModel",
      "_view_count": null,
      "_view_module": "@jupyter-widgets/base",
      "_view_module_version": "1.2.0",
      "_view_name": "LayoutView",
      "align_content": null,
      "align_items": null,
      "align_self": null,
      "border": null,
      "bottom": null,
      "display": null,
      "flex": null,
      "flex_flow": null,
      "grid_area": null,
      "grid_auto_columns": null,
      "grid_auto_flow": null,
      "grid_auto_rows": null,
      "grid_column": null,
      "grid_gap": null,
      "grid_row": null,
      "grid_template_areas": null,
      "grid_template_columns": null,
      "grid_template_rows": null,
      "height": null,
      "justify_content": null,
      "justify_items": null,
      "left": null,
      "margin": null,
      "max_height": null,
      "max_width": null,
      "min_height": null,
      "min_width": null,
      "object_fit": null,
      "object_position": null,
      "order": null,
      "overflow": null,
      "overflow_x": null,
      "overflow_y": null,
      "padding": null,
      "right": null,
      "top": null,
      "visibility": null,
      "width": null
     }
    },
    "6302dd9a19794ea092e75f504f91661e": {
     "model_module": "@jupyter-widgets/controls",
     "model_module_version": "1.5.0",
     "model_name": "FloatProgressModel",
     "state": {
      "_dom_classes": [],
      "_model_module": "@jupyter-widgets/controls",
      "_model_module_version": "1.5.0",
      "_model_name": "FloatProgressModel",
      "_view_count": null,
      "_view_module": "@jupyter-widgets/controls",
      "_view_module_version": "1.5.0",
      "_view_name": "ProgressView",
      "bar_style": "success",
      "description": "",
      "description_tooltip": null,
      "layout": "IPY_MODEL_ac81640e092645d69f5fa7df45d348b3",
      "max": 570,
      "min": 0,
      "orientation": "horizontal",
      "style": "IPY_MODEL_f681c8ac0f444b91be973066292af4ff",
      "value": 570
     }
    },
    "655b0d555cea46169621791c6bea13c4": {
     "model_module": "@jupyter-widgets/base",
     "model_module_version": "1.2.0",
     "model_name": "LayoutModel",
     "state": {
      "_model_module": "@jupyter-widgets/base",
      "_model_module_version": "1.2.0",
      "_model_name": "LayoutModel",
      "_view_count": null,
      "_view_module": "@jupyter-widgets/base",
      "_view_module_version": "1.2.0",
      "_view_name": "LayoutView",
      "align_content": null,
      "align_items": null,
      "align_self": null,
      "border": null,
      "bottom": null,
      "display": null,
      "flex": null,
      "flex_flow": null,
      "grid_area": null,
      "grid_auto_columns": null,
      "grid_auto_flow": null,
      "grid_auto_rows": null,
      "grid_column": null,
      "grid_gap": null,
      "grid_row": null,
      "grid_template_areas": null,
      "grid_template_columns": null,
      "grid_template_rows": null,
      "height": null,
      "justify_content": null,
      "justify_items": null,
      "left": null,
      "margin": null,
      "max_height": null,
      "max_width": null,
      "min_height": null,
      "min_width": null,
      "object_fit": null,
      "object_position": null,
      "order": null,
      "overflow": null,
      "overflow_x": null,
      "overflow_y": null,
      "padding": null,
      "right": null,
      "top": null,
      "visibility": null,
      "width": null
     }
    },
    "6a74f8fb69da43619c131f8cce42f6a9": {
     "model_module": "@jupyter-widgets/controls",
     "model_module_version": "1.5.0",
     "model_name": "DescriptionStyleModel",
     "state": {
      "_model_module": "@jupyter-widgets/controls",
      "_model_module_version": "1.5.0",
      "_model_name": "DescriptionStyleModel",
      "_view_count": null,
      "_view_module": "@jupyter-widgets/base",
      "_view_module_version": "1.2.0",
      "_view_name": "StyleView",
      "description_width": ""
     }
    },
    "6cb4a57679d04499a0588bde64729a9e": {
     "model_module": "@jupyter-widgets/controls",
     "model_module_version": "1.5.0",
     "model_name": "DescriptionStyleModel",
     "state": {
      "_model_module": "@jupyter-widgets/controls",
      "_model_module_version": "1.5.0",
      "_model_name": "DescriptionStyleModel",
      "_view_count": null,
      "_view_module": "@jupyter-widgets/base",
      "_view_module_version": "1.2.0",
      "_view_name": "StyleView",
      "description_width": ""
     }
    },
    "731f7db9da0a4f2da266b7756169b1e6": {
     "model_module": "@jupyter-widgets/controls",
     "model_module_version": "1.5.0",
     "model_name": "DescriptionStyleModel",
     "state": {
      "_model_module": "@jupyter-widgets/controls",
      "_model_module_version": "1.5.0",
      "_model_name": "DescriptionStyleModel",
      "_view_count": null,
      "_view_module": "@jupyter-widgets/base",
      "_view_module_version": "1.2.0",
      "_view_name": "StyleView",
      "description_width": ""
     }
    },
    "75d613564afd40efb24bdeaff60d7651": {
     "model_module": "@jupyter-widgets/controls",
     "model_module_version": "1.5.0",
     "model_name": "HBoxModel",
     "state": {
      "_dom_classes": [],
      "_model_module": "@jupyter-widgets/controls",
      "_model_module_version": "1.5.0",
      "_model_name": "HBoxModel",
      "_view_count": null,
      "_view_module": "@jupyter-widgets/controls",
      "_view_module_version": "1.5.0",
      "_view_name": "HBoxView",
      "box_style": "",
      "children": [
       "IPY_MODEL_86239246301d4be28d9b674c7951cef8",
       "IPY_MODEL_6302dd9a19794ea092e75f504f91661e",
       "IPY_MODEL_3793051877934987a8aeed7365613f91"
      ],
      "layout": "IPY_MODEL_d0fcd606426846d4921d508b32781f1f"
     }
    },
    "7a6cddfcc9a3410285d91da91a05550b": {
     "model_module": "@jupyter-widgets/base",
     "model_module_version": "1.2.0",
     "model_name": "LayoutModel",
     "state": {
      "_model_module": "@jupyter-widgets/base",
      "_model_module_version": "1.2.0",
      "_model_name": "LayoutModel",
      "_view_count": null,
      "_view_module": "@jupyter-widgets/base",
      "_view_module_version": "1.2.0",
      "_view_name": "LayoutView",
      "align_content": null,
      "align_items": null,
      "align_self": null,
      "border": null,
      "bottom": null,
      "display": null,
      "flex": null,
      "flex_flow": null,
      "grid_area": null,
      "grid_auto_columns": null,
      "grid_auto_flow": null,
      "grid_auto_rows": null,
      "grid_column": null,
      "grid_gap": null,
      "grid_row": null,
      "grid_template_areas": null,
      "grid_template_columns": null,
      "grid_template_rows": null,
      "height": null,
      "justify_content": null,
      "justify_items": null,
      "left": null,
      "margin": null,
      "max_height": null,
      "max_width": null,
      "min_height": null,
      "min_width": null,
      "object_fit": null,
      "object_position": null,
      "order": null,
      "overflow": null,
      "overflow_x": null,
      "overflow_y": null,
      "padding": null,
      "right": null,
      "top": null,
      "visibility": null,
      "width": null
     }
    },
    "82c489a0b7fb4d72ae66e3d8d0fe7ad3": {
     "model_module": "@jupyter-widgets/controls",
     "model_module_version": "1.5.0",
     "model_name": "FloatProgressModel",
     "state": {
      "_dom_classes": [],
      "_model_module": "@jupyter-widgets/controls",
      "_model_module_version": "1.5.0",
      "_model_name": "FloatProgressModel",
      "_view_count": null,
      "_view_module": "@jupyter-widgets/controls",
      "_view_module_version": "1.5.0",
      "_view_name": "ProgressView",
      "bar_style": "success",
      "description": "",
      "description_tooltip": null,
      "layout": "IPY_MODEL_a4ff5112000c40a9861a73909579e27e",
      "max": 231508,
      "min": 0,
      "orientation": "horizontal",
      "style": "IPY_MODEL_23ba22085f7a4fa3803db0b913655608",
      "value": 231508
     }
    },
    "8456ef635c7d43d683a3bcda5e123279": {
     "model_module": "@jupyter-widgets/controls",
     "model_module_version": "1.5.0",
     "model_name": "HTMLModel",
     "state": {
      "_dom_classes": [],
      "_model_module": "@jupyter-widgets/controls",
      "_model_module_version": "1.5.0",
      "_model_name": "HTMLModel",
      "_view_count": null,
      "_view_module": "@jupyter-widgets/controls",
      "_view_module_version": "1.5.0",
      "_view_name": "HTMLView",
      "description": "",
      "description_tooltip": null,
      "layout": "IPY_MODEL_3023f9f4150f4177b2495c2cb70d8e6e",
      "placeholder": "​",
      "style": "IPY_MODEL_b34481abbe034566b9eaca4191d31b0b",
      "value": "Downloading: 100%"
     }
    },
    "86239246301d4be28d9b674c7951cef8": {
     "model_module": "@jupyter-widgets/controls",
     "model_module_version": "1.5.0",
     "model_name": "HTMLModel",
     "state": {
      "_dom_classes": [],
      "_model_module": "@jupyter-widgets/controls",
      "_model_module_version": "1.5.0",
      "_model_name": "HTMLModel",
      "_view_count": null,
      "_view_module": "@jupyter-widgets/controls",
      "_view_module_version": "1.5.0",
      "_view_name": "HTMLView",
      "description": "",
      "description_tooltip": null,
      "layout": "IPY_MODEL_21ca9ae37ff7429a85d8dfe41ced035c",
      "placeholder": "​",
      "style": "IPY_MODEL_c3b12a3240eb47ff9751e2d316d8b85d",
      "value": "Downloading: 100%"
     }
    },
    "8c6cb416f10e4df4b1b54f5d30d3149d": {
     "model_module": "@jupyter-widgets/base",
     "model_module_version": "1.2.0",
     "model_name": "LayoutModel",
     "state": {
      "_model_module": "@jupyter-widgets/base",
      "_model_module_version": "1.2.0",
      "_model_name": "LayoutModel",
      "_view_count": null,
      "_view_module": "@jupyter-widgets/base",
      "_view_module_version": "1.2.0",
      "_view_name": "LayoutView",
      "align_content": null,
      "align_items": null,
      "align_self": null,
      "border": null,
      "bottom": null,
      "display": null,
      "flex": null,
      "flex_flow": null,
      "grid_area": null,
      "grid_auto_columns": null,
      "grid_auto_flow": null,
      "grid_auto_rows": null,
      "grid_column": null,
      "grid_gap": null,
      "grid_row": null,
      "grid_template_areas": null,
      "grid_template_columns": null,
      "grid_template_rows": null,
      "height": null,
      "justify_content": null,
      "justify_items": null,
      "left": null,
      "margin": null,
      "max_height": null,
      "max_width": null,
      "min_height": null,
      "min_width": null,
      "object_fit": null,
      "object_position": null,
      "order": null,
      "overflow": null,
      "overflow_x": null,
      "overflow_y": null,
      "padding": null,
      "right": null,
      "top": null,
      "visibility": null,
      "width": null
     }
    },
    "8f07bc321fbb497abc9ace9167887d38": {
     "model_module": "@jupyter-widgets/controls",
     "model_module_version": "1.5.0",
     "model_name": "HBoxModel",
     "state": {
      "_dom_classes": [],
      "_model_module": "@jupyter-widgets/controls",
      "_model_module_version": "1.5.0",
      "_model_name": "HBoxModel",
      "_view_count": null,
      "_view_module": "@jupyter-widgets/controls",
      "_view_module_version": "1.5.0",
      "_view_name": "HBoxView",
      "box_style": "",
      "children": [
       "IPY_MODEL_8456ef635c7d43d683a3bcda5e123279",
       "IPY_MODEL_f689b32021a2485fa90005ca4bd1d179",
       "IPY_MODEL_2bdc86cbf07143d2b4dce674b743c624"
      ],
      "layout": "IPY_MODEL_0d7a14be0a8e4501a6c659a73208ef8f"
     }
    },
    "97ac6fe886c24ddcb7686915fbbe45d0": {
     "model_module": "@jupyter-widgets/controls",
     "model_module_version": "1.5.0",
     "model_name": "HBoxModel",
     "state": {
      "_dom_classes": [],
      "_model_module": "@jupyter-widgets/controls",
      "_model_module_version": "1.5.0",
      "_model_name": "HBoxModel",
      "_view_count": null,
      "_view_module": "@jupyter-widgets/controls",
      "_view_module_version": "1.5.0",
      "_view_name": "HBoxView",
      "box_style": "",
      "children": [
       "IPY_MODEL_eed5324233244cb59b28866afe4369e4",
       "IPY_MODEL_450b9e21cf9d4b76b7e2e7b3e6ccb004",
       "IPY_MODEL_4bfe8e115fe5491693a25e48eb7669e8"
      ],
      "layout": "IPY_MODEL_655b0d555cea46169621791c6bea13c4"
     }
    },
    "a4a73171c9724e2dac9b60e66b2578d9": {
     "model_module": "@jupyter-widgets/controls",
     "model_module_version": "1.5.0",
     "model_name": "DescriptionStyleModel",
     "state": {
      "_model_module": "@jupyter-widgets/controls",
      "_model_module_version": "1.5.0",
      "_model_name": "DescriptionStyleModel",
      "_view_count": null,
      "_view_module": "@jupyter-widgets/base",
      "_view_module_version": "1.2.0",
      "_view_name": "StyleView",
      "description_width": ""
     }
    },
    "a4ff5112000c40a9861a73909579e27e": {
     "model_module": "@jupyter-widgets/base",
     "model_module_version": "1.2.0",
     "model_name": "LayoutModel",
     "state": {
      "_model_module": "@jupyter-widgets/base",
      "_model_module_version": "1.2.0",
      "_model_name": "LayoutModel",
      "_view_count": null,
      "_view_module": "@jupyter-widgets/base",
      "_view_module_version": "1.2.0",
      "_view_name": "LayoutView",
      "align_content": null,
      "align_items": null,
      "align_self": null,
      "border": null,
      "bottom": null,
      "display": null,
      "flex": null,
      "flex_flow": null,
      "grid_area": null,
      "grid_auto_columns": null,
      "grid_auto_flow": null,
      "grid_auto_rows": null,
      "grid_column": null,
      "grid_gap": null,
      "grid_row": null,
      "grid_template_areas": null,
      "grid_template_columns": null,
      "grid_template_rows": null,
      "height": null,
      "justify_content": null,
      "justify_items": null,
      "left": null,
      "margin": null,
      "max_height": null,
      "max_width": null,
      "min_height": null,
      "min_width": null,
      "object_fit": null,
      "object_position": null,
      "order": null,
      "overflow": null,
      "overflow_x": null,
      "overflow_y": null,
      "padding": null,
      "right": null,
      "top": null,
      "visibility": null,
      "width": null
     }
    },
    "aa2d3672b3084a34a70bfdbbf24aae28": {
     "model_module": "@jupyter-widgets/controls",
     "model_module_version": "1.5.0",
     "model_name": "FloatProgressModel",
     "state": {
      "_dom_classes": [],
      "_model_module": "@jupyter-widgets/controls",
      "_model_module_version": "1.5.0",
      "_model_name": "FloatProgressModel",
      "_view_count": null,
      "_view_module": "@jupyter-widgets/controls",
      "_view_module_version": "1.5.0",
      "_view_name": "ProgressView",
      "bar_style": "success",
      "description": "",
      "description_tooltip": null,
      "layout": "IPY_MODEL_8c6cb416f10e4df4b1b54f5d30d3149d",
      "max": 440473133,
      "min": 0,
      "orientation": "horizontal",
      "style": "IPY_MODEL_2ca5ebb99e1d4502aee95f9763c74edf",
      "value": 440473133
     }
    },
    "aa7e29cda5c84291885174177bcfc31e": {
     "model_module": "@jupyter-widgets/controls",
     "model_module_version": "1.5.0",
     "model_name": "ProgressStyleModel",
     "state": {
      "_model_module": "@jupyter-widgets/controls",
      "_model_module_version": "1.5.0",
      "_model_name": "ProgressStyleModel",
      "_view_count": null,
      "_view_module": "@jupyter-widgets/base",
      "_view_module_version": "1.2.0",
      "_view_name": "StyleView",
      "bar_color": null,
      "description_width": ""
     }
    },
    "abca8d58a3dc4fd9b072fa7c521b0d0e": {
     "model_module": "@jupyter-widgets/base",
     "model_module_version": "1.2.0",
     "model_name": "LayoutModel",
     "state": {
      "_model_module": "@jupyter-widgets/base",
      "_model_module_version": "1.2.0",
      "_model_name": "LayoutModel",
      "_view_count": null,
      "_view_module": "@jupyter-widgets/base",
      "_view_module_version": "1.2.0",
      "_view_name": "LayoutView",
      "align_content": null,
      "align_items": null,
      "align_self": null,
      "border": null,
      "bottom": null,
      "display": null,
      "flex": null,
      "flex_flow": null,
      "grid_area": null,
      "grid_auto_columns": null,
      "grid_auto_flow": null,
      "grid_auto_rows": null,
      "grid_column": null,
      "grid_gap": null,
      "grid_row": null,
      "grid_template_areas": null,
      "grid_template_columns": null,
      "grid_template_rows": null,
      "height": null,
      "justify_content": null,
      "justify_items": null,
      "left": null,
      "margin": null,
      "max_height": null,
      "max_width": null,
      "min_height": null,
      "min_width": null,
      "object_fit": null,
      "object_position": null,
      "order": null,
      "overflow": null,
      "overflow_x": null,
      "overflow_y": null,
      "padding": null,
      "right": null,
      "top": null,
      "visibility": null,
      "width": null
     }
    },
    "ac81640e092645d69f5fa7df45d348b3": {
     "model_module": "@jupyter-widgets/base",
     "model_module_version": "1.2.0",
     "model_name": "LayoutModel",
     "state": {
      "_model_module": "@jupyter-widgets/base",
      "_model_module_version": "1.2.0",
      "_model_name": "LayoutModel",
      "_view_count": null,
      "_view_module": "@jupyter-widgets/base",
      "_view_module_version": "1.2.0",
      "_view_name": "LayoutView",
      "align_content": null,
      "align_items": null,
      "align_self": null,
      "border": null,
      "bottom": null,
      "display": null,
      "flex": null,
      "flex_flow": null,
      "grid_area": null,
      "grid_auto_columns": null,
      "grid_auto_flow": null,
      "grid_auto_rows": null,
      "grid_column": null,
      "grid_gap": null,
      "grid_row": null,
      "grid_template_areas": null,
      "grid_template_columns": null,
      "grid_template_rows": null,
      "height": null,
      "justify_content": null,
      "justify_items": null,
      "left": null,
      "margin": null,
      "max_height": null,
      "max_width": null,
      "min_height": null,
      "min_width": null,
      "object_fit": null,
      "object_position": null,
      "order": null,
      "overflow": null,
      "overflow_x": null,
      "overflow_y": null,
      "padding": null,
      "right": null,
      "top": null,
      "visibility": null,
      "width": null
     }
    },
    "ae8b58e48b324fd5a1e87a441a8ac725": {
     "model_module": "@jupyter-widgets/controls",
     "model_module_version": "1.5.0",
     "model_name": "DescriptionStyleModel",
     "state": {
      "_model_module": "@jupyter-widgets/controls",
      "_model_module_version": "1.5.0",
      "_model_name": "DescriptionStyleModel",
      "_view_count": null,
      "_view_module": "@jupyter-widgets/base",
      "_view_module_version": "1.2.0",
      "_view_name": "StyleView",
      "description_width": ""
     }
    },
    "b34481abbe034566b9eaca4191d31b0b": {
     "model_module": "@jupyter-widgets/controls",
     "model_module_version": "1.5.0",
     "model_name": "DescriptionStyleModel",
     "state": {
      "_model_module": "@jupyter-widgets/controls",
      "_model_module_version": "1.5.0",
      "_model_name": "DescriptionStyleModel",
      "_view_count": null,
      "_view_module": "@jupyter-widgets/base",
      "_view_module_version": "1.2.0",
      "_view_name": "StyleView",
      "description_width": ""
     }
    },
    "c2ac8506d0c242cab923f365645668a8": {
     "model_module": "@jupyter-widgets/base",
     "model_module_version": "1.2.0",
     "model_name": "LayoutModel",
     "state": {
      "_model_module": "@jupyter-widgets/base",
      "_model_module_version": "1.2.0",
      "_model_name": "LayoutModel",
      "_view_count": null,
      "_view_module": "@jupyter-widgets/base",
      "_view_module_version": "1.2.0",
      "_view_name": "LayoutView",
      "align_content": null,
      "align_items": null,
      "align_self": null,
      "border": null,
      "bottom": null,
      "display": null,
      "flex": null,
      "flex_flow": null,
      "grid_area": null,
      "grid_auto_columns": null,
      "grid_auto_flow": null,
      "grid_auto_rows": null,
      "grid_column": null,
      "grid_gap": null,
      "grid_row": null,
      "grid_template_areas": null,
      "grid_template_columns": null,
      "grid_template_rows": null,
      "height": null,
      "justify_content": null,
      "justify_items": null,
      "left": null,
      "margin": null,
      "max_height": null,
      "max_width": null,
      "min_height": null,
      "min_width": null,
      "object_fit": null,
      "object_position": null,
      "order": null,
      "overflow": null,
      "overflow_x": null,
      "overflow_y": null,
      "padding": null,
      "right": null,
      "top": null,
      "visibility": null,
      "width": null
     }
    },
    "c3b12a3240eb47ff9751e2d316d8b85d": {
     "model_module": "@jupyter-widgets/controls",
     "model_module_version": "1.5.0",
     "model_name": "DescriptionStyleModel",
     "state": {
      "_model_module": "@jupyter-widgets/controls",
      "_model_module_version": "1.5.0",
      "_model_name": "DescriptionStyleModel",
      "_view_count": null,
      "_view_module": "@jupyter-widgets/base",
      "_view_module_version": "1.2.0",
      "_view_name": "StyleView",
      "description_width": ""
     }
    },
    "d0fcd606426846d4921d508b32781f1f": {
     "model_module": "@jupyter-widgets/base",
     "model_module_version": "1.2.0",
     "model_name": "LayoutModel",
     "state": {
      "_model_module": "@jupyter-widgets/base",
      "_model_module_version": "1.2.0",
      "_model_name": "LayoutModel",
      "_view_count": null,
      "_view_module": "@jupyter-widgets/base",
      "_view_module_version": "1.2.0",
      "_view_name": "LayoutView",
      "align_content": null,
      "align_items": null,
      "align_self": null,
      "border": null,
      "bottom": null,
      "display": null,
      "flex": null,
      "flex_flow": null,
      "grid_area": null,
      "grid_auto_columns": null,
      "grid_auto_flow": null,
      "grid_auto_rows": null,
      "grid_column": null,
      "grid_gap": null,
      "grid_row": null,
      "grid_template_areas": null,
      "grid_template_columns": null,
      "grid_template_rows": null,
      "height": null,
      "justify_content": null,
      "justify_items": null,
      "left": null,
      "margin": null,
      "max_height": null,
      "max_width": null,
      "min_height": null,
      "min_width": null,
      "object_fit": null,
      "object_position": null,
      "order": null,
      "overflow": null,
      "overflow_x": null,
      "overflow_y": null,
      "padding": null,
      "right": null,
      "top": null,
      "visibility": null,
      "width": null
     }
    },
    "d485fecc1f6c4b25ac59852f249a58b8": {
     "model_module": "@jupyter-widgets/controls",
     "model_module_version": "1.5.0",
     "model_name": "HTMLModel",
     "state": {
      "_dom_classes": [],
      "_model_module": "@jupyter-widgets/controls",
      "_model_module_version": "1.5.0",
      "_model_name": "HTMLModel",
      "_view_count": null,
      "_view_module": "@jupyter-widgets/controls",
      "_view_module_version": "1.5.0",
      "_view_name": "HTMLView",
      "description": "",
      "description_tooltip": null,
      "layout": "IPY_MODEL_2b7d8c7d103c4194b49c8b4522cb7538",
      "placeholder": "​",
      "style": "IPY_MODEL_ae8b58e48b324fd5a1e87a441a8ac725",
      "value": "Downloading: 100%"
     }
    },
    "dffc0adf19714692a2cb705a3c815b39": {
     "model_module": "@jupyter-widgets/controls",
     "model_module_version": "1.5.0",
     "model_name": "DescriptionStyleModel",
     "state": {
      "_model_module": "@jupyter-widgets/controls",
      "_model_module_version": "1.5.0",
      "_model_name": "DescriptionStyleModel",
      "_view_count": null,
      "_view_module": "@jupyter-widgets/base",
      "_view_module_version": "1.2.0",
      "_view_name": "StyleView",
      "description_width": ""
     }
    },
    "e23a5fd9245f40bfa0aae8ed803edef1": {
     "model_module": "@jupyter-widgets/controls",
     "model_module_version": "1.5.0",
     "model_name": "DescriptionStyleModel",
     "state": {
      "_model_module": "@jupyter-widgets/controls",
      "_model_module_version": "1.5.0",
      "_model_name": "DescriptionStyleModel",
      "_view_count": null,
      "_view_module": "@jupyter-widgets/base",
      "_view_module_version": "1.2.0",
      "_view_name": "StyleView",
      "description_width": ""
     }
    },
    "eed5324233244cb59b28866afe4369e4": {
     "model_module": "@jupyter-widgets/controls",
     "model_module_version": "1.5.0",
     "model_name": "HTMLModel",
     "state": {
      "_dom_classes": [],
      "_model_module": "@jupyter-widgets/controls",
      "_model_module_version": "1.5.0",
      "_model_name": "HTMLModel",
      "_view_count": null,
      "_view_module": "@jupyter-widgets/controls",
      "_view_module_version": "1.5.0",
      "_view_name": "HTMLView",
      "description": "",
      "description_tooltip": null,
      "layout": "IPY_MODEL_4fbe02aba63f4a2e98e9cb0779178b9b",
      "placeholder": "​",
      "style": "IPY_MODEL_a4a73171c9724e2dac9b60e66b2578d9",
      "value": "Downloading: 100%"
     }
    },
    "f34a08768380470e9c0fbc94eb5be06f": {
     "model_module": "@jupyter-widgets/controls",
     "model_module_version": "1.5.0",
     "model_name": "HBoxModel",
     "state": {
      "_dom_classes": [],
      "_model_module": "@jupyter-widgets/controls",
      "_model_module_version": "1.5.0",
      "_model_name": "HBoxModel",
      "_view_count": null,
      "_view_module": "@jupyter-widgets/controls",
      "_view_module_version": "1.5.0",
      "_view_name": "HBoxView",
      "box_style": "",
      "children": [
       "IPY_MODEL_0a7feee43c364d088f9abb274dc19f99",
       "IPY_MODEL_82c489a0b7fb4d72ae66e3d8d0fe7ad3",
       "IPY_MODEL_5408a19bac71498ebf60e088555ebc87"
      ],
      "layout": "IPY_MODEL_515416d4286142eaac169a55b5ca82e1"
     }
    },
    "f5840801697246feb4b8cb131cfa7ba7": {
     "model_module": "@jupyter-widgets/controls",
     "model_module_version": "1.5.0",
     "model_name": "DescriptionStyleModel",
     "state": {
      "_model_module": "@jupyter-widgets/controls",
      "_model_module_version": "1.5.0",
      "_model_name": "DescriptionStyleModel",
      "_view_count": null,
      "_view_module": "@jupyter-widgets/base",
      "_view_module_version": "1.2.0",
      "_view_name": "StyleView",
      "description_width": ""
     }
    },
    "f681c8ac0f444b91be973066292af4ff": {
     "model_module": "@jupyter-widgets/controls",
     "model_module_version": "1.5.0",
     "model_name": "ProgressStyleModel",
     "state": {
      "_model_module": "@jupyter-widgets/controls",
      "_model_module_version": "1.5.0",
      "_model_name": "ProgressStyleModel",
      "_view_count": null,
      "_view_module": "@jupyter-widgets/base",
      "_view_module_version": "1.2.0",
      "_view_name": "StyleView",
      "bar_color": null,
      "description_width": ""
     }
    },
    "f689b32021a2485fa90005ca4bd1d179": {
     "model_module": "@jupyter-widgets/controls",
     "model_module_version": "1.5.0",
     "model_name": "FloatProgressModel",
     "state": {
      "_dom_classes": [],
      "_model_module": "@jupyter-widgets/controls",
      "_model_module_version": "1.5.0",
      "_model_name": "FloatProgressModel",
      "_view_count": null,
      "_view_module": "@jupyter-widgets/controls",
      "_view_module_version": "1.5.0",
      "_view_name": "ProgressView",
      "bar_style": "success",
      "description": "",
      "description_tooltip": null,
      "layout": "IPY_MODEL_2447257908f24f51a4c42bf269436963",
      "max": 28,
      "min": 0,
      "orientation": "horizontal",
      "style": "IPY_MODEL_aa7e29cda5c84291885174177bcfc31e",
      "value": 28
     }
    }
   }
  }
 },
 "nbformat": 4,
 "nbformat_minor": 4
}
